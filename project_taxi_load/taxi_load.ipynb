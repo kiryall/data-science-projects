{
 "cells": [
  {
   "cell_type": "markdown",
   "metadata": {},
   "source": [
    "# Проект Прогнозирование заказов такси: \n",
    "**Компания «Чётенькое такси» собрала исторические данные о заказах такси в аэропортах. Чтобы привлекать больше водителей в период пиковой нагрузки, нужно спрогнозировать количество заказов такси на следующий час.**\n",
    "\n",
    "### Цель проекта\n",
    "**Разработать модель для прогнозирования количества заказов такси на следующий час.**\n",
    "\n",
    "- **Важные критерии:**\n",
    "    - Значение метрики RMSE на тестовой выборке должно быть не больше 48.\n",
    "\n",
    "\n",
    "### Этапы:\n",
    "\n",
    "#### [1. Обзор данных](#load)\n",
    "- **Загрузить и проанализировать входные данные**\n",
    "\n",
    "#### [2. Предобработка](#data_preprocessing)\n",
    "- **Проверить на пропуски и дубликаты**\n",
    "- **Выявить другие проблемы с данными**\n",
    "\n",
    "#### [3. Исследовательский анализ данных (EDA)](#eda)\n",
    "- **Изучить распределение признаков**\n",
    "- **Провести корреляционный анализ признаков**\n",
    "\n",
    "#### [4. Моделирование](#model)\n",
    "- **Построить pipeline для выбора модели и гиперпарамиетров**\n",
    "- **Провести подбор гиперпараметров моделей ElasticNet, DecisionTree, KNeighbors, SVM**\n",
    "- **Оценить RMSE лучшей модели**\n",
    "- **Интерпретировать результаты**\n",
    "\n",
    "#### [8. Выводы](#conclusion)"
   ]
  },
  {
   "cell_type": "markdown",
   "metadata": {},
   "source": [
    "## Описание данных\n",
    "Файл `taxi.csv` содержит информацию о количестве заказов такси.  \n",
    "\n",
    "- **datetime** — дата и время заказа  \n",
    "- **num_orders** — количество заказов  "
   ]
  },
  {
   "cell_type": "markdown",
   "metadata": {},
   "source": [
    "## Импорт библиотек"
   ]
  },
  {
   "cell_type": "code",
   "execution_count": 1,
   "metadata": {},
   "outputs": [
    {
     "name": "stdout",
     "output_type": "stream",
     "text": [
      "Note: you may need to restart the kernel to use updated packages.\n",
      "Note: you may need to restart the kernel to use updated packages.\n",
      "Note: you may need to restart the kernel to use updated packages.\n",
      "Note: you may need to restart the kernel to use updated packages.\n"
     ]
    }
   ],
   "source": [
    "%pip install -U -q scikit-learn\n",
    "%pip install phik -q\n",
    "%pip install lightgbm -q\n",
    "%pip install shap -q"
   ]
  },
  {
   "cell_type": "code",
   "execution_count": 2,
   "metadata": {},
   "outputs": [],
   "source": [
    "import os\n",
    "import warnings\n",
    "\n",
    "import numpy as np\n",
    "import pandas as pd\n",
    "import matplotlib.pyplot as plt\n",
    "import seaborn as sns\n",
    "\n",
    "from IPython.display import display, HTML\n",
    "\n",
    "from sklearn import set_config\n",
    "from sklearn.linear_model import (\n",
    "    LinearRegression,\n",
    "    ElasticNet)\n",
    "from sklearn.tree import DecisionTreeRegressor\n",
    "from sklearn.compose import ColumnTransformer\n",
    "from sklearn.impute import SimpleImputer\n",
    "from sklearn.metrics import root_mean_squared_error\n",
    "from sklearn.model_selection import (\n",
    "    train_test_split,\n",
    "    TimeSeriesSplit,\n",
    "    RandomizedSearchCV)\n",
    "from sklearn.neighbors import KNeighborsRegressor\n",
    "from sklearn.svm import SVR\n",
    "from sklearn.pipeline import Pipeline\n",
    "from sklearn.preprocessing import (\n",
    "    OneHotEncoder,\n",
    "    StandardScaler,\n",
    "    MinMaxScaler,\n",
    "    RobustScaler\n",
    ")\n",
    "\n",
    "from statsmodels.tsa.seasonal import seasonal_decompose\n",
    "\n",
    "import lightgbm as lgb\n",
    "from lightgbm import early_stopping\n",
    "\n",
    "RANDOM_STATE = 42\n",
    "TEST_SIZE = 0.1"
   ]
  },
  {
   "cell_type": "code",
   "execution_count": 3,
   "metadata": {},
   "outputs": [],
   "source": [
    "# задаем настройки pandas\n",
    "pd.set_option('display.float_format', '{:.4f}'.format)\n",
    "\n",
    "# задаем настройки среды визуализации\n",
    "%config InlineBackend.figure_format = 'jpeg' \n",
    "%matplotlib inline\n",
    "\n",
    "sns.set(style=\"whitegrid\", font_scale=1, rc={\"figure.figsize\": (8, 6)})\n",
    "\n",
    "set_config(display=\"diagram\")\n",
    "\n",
    "warnings.filterwarnings('ignore')"
   ]
  },
  {
   "cell_type": "markdown",
   "metadata": {},
   "source": [
    "<a id=\"load\"></a>\n",
    "## Обзор данных"
   ]
  },
  {
   "cell_type": "code",
   "execution_count": 4,
   "metadata": {},
   "outputs": [
    {
     "data": {
      "text/plain": [
       "(26496, 1)"
      ]
     },
     "execution_count": 4,
     "metadata": {},
     "output_type": "execute_result"
    }
   ],
   "source": [
    "# загружаем датасеты\n",
    "pth = '/datasets/taxi.csv'\n",
    "pth_alt = r\"C:\\Users\\User\\da_practicum\\local_projects\\11 предсказание загруженности такси\\data\\taxi.csv\"\n",
    "\n",
    "if os.path.exists(pth):\n",
    "    data = pd.read_csv(pth, index_col=[0], parse_dates=[0])\n",
    "elif os.path.exists(pth_alt):\n",
    "    data = pd.read_csv(pth_alt, index_col=[0], parse_dates=[0])\n",
    "else:\n",
    "    print('Something is wrong')\n",
    "    data = None\n",
    "\n",
    "data.shape"
   ]
  },
  {
   "cell_type": "code",
   "execution_count": 5,
   "metadata": {},
   "outputs": [],
   "source": [
    "# определим функцию для вывода общей информации о датасете\n",
    "def displ(data, title='Обзорная информация', obj=True, discr=True):\n",
    "    \"\"\"\n",
    "    Функция для вывода общей информации о датасете\n",
    "    \"\"\"\n",
    "\n",
    "    print(f'----------{title}----------\\n')\n",
    "\n",
    "    display(data.info())\n",
    "    print(f'-------Датафрейм-------\\n')\n",
    "    display(data.head(5))\n",
    "    if discr:\n",
    "        print(f'-------Описательные статистики для количественных признаков-------\\n')\n",
    "        display(data.describe().T)\n",
    "    if obj:\n",
    "        print(f'-------Описательные статистики для категориальных признаков-------\\n')\n",
    "        display(data.describe(include='object').T)\n",
    "    \n",
    "    #определене пропусков\n",
    "    print(f'-------Количество и процент пропусков-------\\n')\n",
    "    print(data.isna().sum())\n",
    "\n",
    "    # монотонность индексов\n",
    "    print(f'-------Проверка монотонности индексов-------\\n')\n",
    "    print(data.index.is_monotonic)"
   ]
  },
  {
   "cell_type": "code",
   "execution_count": 6,
   "metadata": {},
   "outputs": [
    {
     "name": "stdout",
     "output_type": "stream",
     "text": [
      "----------Обзорная информация----------\n",
      "\n",
      "<class 'pandas.core.frame.DataFrame'>\n",
      "DatetimeIndex: 26496 entries, 2018-03-01 00:00:00 to 2018-08-31 23:50:00\n",
      "Data columns (total 1 columns):\n",
      " #   Column      Non-Null Count  Dtype\n",
      "---  ------      --------------  -----\n",
      " 0   num_orders  26496 non-null  int64\n",
      "dtypes: int64(1)\n",
      "memory usage: 414.0 KB\n"
     ]
    },
    {
     "data": {
      "text/plain": [
       "None"
      ]
     },
     "metadata": {},
     "output_type": "display_data"
    },
    {
     "name": "stdout",
     "output_type": "stream",
     "text": [
      "-------Датафрейм-------\n",
      "\n"
     ]
    },
    {
     "data": {
      "text/html": [
       "<div>\n",
       "<style scoped>\n",
       "    .dataframe tbody tr th:only-of-type {\n",
       "        vertical-align: middle;\n",
       "    }\n",
       "\n",
       "    .dataframe tbody tr th {\n",
       "        vertical-align: top;\n",
       "    }\n",
       "\n",
       "    .dataframe thead th {\n",
       "        text-align: right;\n",
       "    }\n",
       "</style>\n",
       "<table border=\"1\" class=\"dataframe\">\n",
       "  <thead>\n",
       "    <tr style=\"text-align: right;\">\n",
       "      <th></th>\n",
       "      <th>num_orders</th>\n",
       "    </tr>\n",
       "    <tr>\n",
       "      <th>datetime</th>\n",
       "      <th></th>\n",
       "    </tr>\n",
       "  </thead>\n",
       "  <tbody>\n",
       "    <tr>\n",
       "      <th>2018-03-01 00:00:00</th>\n",
       "      <td>9</td>\n",
       "    </tr>\n",
       "    <tr>\n",
       "      <th>2018-03-01 00:10:00</th>\n",
       "      <td>14</td>\n",
       "    </tr>\n",
       "    <tr>\n",
       "      <th>2018-03-01 00:20:00</th>\n",
       "      <td>28</td>\n",
       "    </tr>\n",
       "    <tr>\n",
       "      <th>2018-03-01 00:30:00</th>\n",
       "      <td>20</td>\n",
       "    </tr>\n",
       "    <tr>\n",
       "      <th>2018-03-01 00:40:00</th>\n",
       "      <td>32</td>\n",
       "    </tr>\n",
       "  </tbody>\n",
       "</table>\n",
       "</div>"
      ],
      "text/plain": [
       "                     num_orders\n",
       "datetime                       \n",
       "2018-03-01 00:00:00           9\n",
       "2018-03-01 00:10:00          14\n",
       "2018-03-01 00:20:00          28\n",
       "2018-03-01 00:30:00          20\n",
       "2018-03-01 00:40:00          32"
      ]
     },
     "metadata": {},
     "output_type": "display_data"
    },
    {
     "name": "stdout",
     "output_type": "stream",
     "text": [
      "-------Описательные статистики для количественных признаков-------\n",
      "\n"
     ]
    },
    {
     "data": {
      "text/html": [
       "<div>\n",
       "<style scoped>\n",
       "    .dataframe tbody tr th:only-of-type {\n",
       "        vertical-align: middle;\n",
       "    }\n",
       "\n",
       "    .dataframe tbody tr th {\n",
       "        vertical-align: top;\n",
       "    }\n",
       "\n",
       "    .dataframe thead th {\n",
       "        text-align: right;\n",
       "    }\n",
       "</style>\n",
       "<table border=\"1\" class=\"dataframe\">\n",
       "  <thead>\n",
       "    <tr style=\"text-align: right;\">\n",
       "      <th></th>\n",
       "      <th>count</th>\n",
       "      <th>mean</th>\n",
       "      <th>std</th>\n",
       "      <th>min</th>\n",
       "      <th>25%</th>\n",
       "      <th>50%</th>\n",
       "      <th>75%</th>\n",
       "      <th>max</th>\n",
       "    </tr>\n",
       "  </thead>\n",
       "  <tbody>\n",
       "    <tr>\n",
       "      <th>num_orders</th>\n",
       "      <td>26496.0000</td>\n",
       "      <td>14.0705</td>\n",
       "      <td>9.2113</td>\n",
       "      <td>0.0000</td>\n",
       "      <td>8.0000</td>\n",
       "      <td>13.0000</td>\n",
       "      <td>19.0000</td>\n",
       "      <td>119.0000</td>\n",
       "    </tr>\n",
       "  </tbody>\n",
       "</table>\n",
       "</div>"
      ],
      "text/plain": [
       "                count    mean    std    min    25%     50%     75%      max\n",
       "num_orders 26496.0000 14.0705 9.2113 0.0000 8.0000 13.0000 19.0000 119.0000"
      ]
     },
     "metadata": {},
     "output_type": "display_data"
    },
    {
     "name": "stdout",
     "output_type": "stream",
     "text": [
      "-------Количество и процент пропусков-------\n",
      "\n",
      "num_orders    0\n",
      "dtype: int64\n",
      "-------Проверка монотонности индексов-------\n",
      "\n",
      "True\n"
     ]
    }
   ],
   "source": [
    "displ(data, obj=False)"
   ]
  },
  {
   "cell_type": "markdown",
   "metadata": {},
   "source": [
    "- ***Пропусков в данных нет, индексы расположены по порядку, максимальное значение заказа выглядит подозрительным.***"
   ]
  },
  {
   "cell_type": "markdown",
   "metadata": {},
   "source": [
    "<a id=\"data_preprocessing\"></a>\n",
    "## Предобработка\n",
    "### Ресемплинг\n",
    "- **Выполним ресемплинг по 1 часу.**"
   ]
  },
  {
   "cell_type": "code",
   "execution_count": 7,
   "metadata": {},
   "outputs": [
    {
     "data": {
      "text/plain": [
       "(4416, 1)"
      ]
     },
     "execution_count": 7,
     "metadata": {},
     "output_type": "execute_result"
    }
   ],
   "source": [
    "data = data.resample('1H').sum()\n",
    "data.shape"
   ]
  },
  {
   "cell_type": "code",
   "execution_count": 8,
   "metadata": {},
   "outputs": [],
   "source": [
    "def show_title(title, x_label, y_label, ax=None, rot=False, file_name=None):\n",
    "    '''\n",
    "    Функция добавляет заголовок, подписи осей, вращение подписей осей.\n",
    "    '''\n",
    "    \n",
    "    # задаем название графика, названия осей\n",
    "    ax.set_title(title)    \n",
    "    ax.set_xlabel(x_label)\n",
    "    ax.set_ylabel(y_label)\n",
    "    \n",
    "    # поворот названий осей\n",
    "    if rot:\n",
    "        ax.set_xticklabels(ax.get_xticklabels(), rotation=45, ha='right')\n",
    "    # сохраним картинку\n",
    "    if file_name:\n",
    "        plt.savefig(file_name)"
   ]
  },
  {
   "cell_type": "markdown",
   "metadata": {},
   "source": [
    "### Аномалии"
   ]
  },
  {
   "cell_type": "code",
   "execution_count": 9,
   "metadata": {},
   "outputs": [
    {
     "data": {
      "image/jpeg": "[encoded data removed]",
      "text/plain": [
       "<Figure size 576x288 with 1 Axes>"
      ]
     },
     "metadata": {},
     "output_type": "display_data"
    }
   ],
   "source": [
    "plt.figure(figsize=(8, 4))\n",
    "ax = sns.boxplot(data=data,  x='num_orders')\n",
    "\n",
    "# подписи графиков\n",
    "show_title(title='Диаграмма размаха количества заказов',\n",
    "        x_label='Количество заказов',\n",
    "        y_label='',\n",
    "        ax=ax)"
   ]
  },
  {
   "cell_type": "markdown",
   "metadata": {},
   "source": [
    "- ***В данных присутствуют нетипично большие количества заказов такси. Однако такие заказы не выглядят невозможными, поэтому аномалии удалять не будем.***"
   ]
  },
  {
   "cell_type": "markdown",
   "metadata": {},
   "source": [
    "<a id=\"EDA\"></a>\n",
    "## EDA\n",
    "### Количество заказов, тренд\n",
    "- **Построим график зависимости количества заказов от времени и график тренда.**"
   ]
  },
  {
   "cell_type": "code",
   "execution_count": 10,
   "metadata": {},
   "outputs": [],
   "source": [
    "decomposed = seasonal_decompose(data['num_orders'])"
   ]
  },
  {
   "cell_type": "code",
   "execution_count": 11,
   "metadata": {},
   "outputs": [
    {
     "data": {
      "image/jpeg": "[encoded data removed]",
      "text/plain": [
       "<Figure size 576x432 with 1 Axes>"
      ]
     },
     "metadata": {},
     "output_type": "display_data"
    }
   ],
   "source": [
    "ax = sns.lineplot(data=data, x=data.index, y='num_orders', label='Количество заказов')\n",
    "ax = sns.lineplot(data=decomposed.trend, label='Тренд')\n",
    "show_title(title='Количество заказов по времени',\n",
    "        x_label='Время',\n",
    "        y_label='Количество зказов',\n",
    "        ax=ax)"
   ]
  },
  {
   "cell_type": "markdown",
   "metadata": {},
   "source": [
    "- ***Прослеживается общий тренд - с марта по август количество заказов увеличивается.***"
   ]
  },
  {
   "cell_type": "markdown",
   "metadata": {},
   "source": [
    "### Сезонность по часам"
   ]
  },
  {
   "cell_type": "code",
   "execution_count": 12,
   "metadata": {},
   "outputs": [
    {
     "data": {
      "image/jpeg": "[encoded data removed]",
      "text/plain": [
       "<Figure size 576x432 with 1 Axes>"
      ]
     },
     "metadata": {},
     "output_type": "display_data"
    }
   ],
   "source": [
    "ax = sns.lineplot(data=decomposed\n",
    "                  .seasonal['2018-03-01 00:00:00': '2018-03-02 00:00:00']\n",
    "                  .reset_index()\n",
    "                 )\n",
    "show_title(title='График сезонности заказов',\n",
    "        x_label='Время, час',\n",
    "        y_label='Количество зказов',\n",
    "        ax=ax)\n",
    "ax.xaxis.set_major_locator(plt.MaxNLocator(8))"
   ]
  },
  {
   "cell_type": "markdown",
   "metadata": {},
   "source": [
    "- ***По графику анализа сезонности заказов можно отметить, что наибольшее чесло заказов совершается ночью в районе 23:00 - 01:00 часов. Наименьшее число заказов в 5-6 утра.***"
   ]
  },
  {
   "cell_type": "markdown",
   "metadata": {},
   "source": [
    "### Количество заказов от дня недели"
   ]
  },
  {
   "cell_type": "markdown",
   "metadata": {},
   "source": [
    "- **Построим график зависимости количества заказов от дня недели**"
   ]
  },
  {
   "cell_type": "code",
   "execution_count": 13,
   "metadata": {},
   "outputs": [
    {
     "data": {
      "image/jpeg": "[encoded data removed]",
      "text/plain": [
       "<Figure size 576x432 with 1 Axes>"
      ]
     },
     "metadata": {},
     "output_type": "display_data"
    }
   ],
   "source": [
    "decomposed_day = seasonal_decompose(data.resample('1D').sum()['num_orders'])\n",
    "\n",
    "ax = sns.lineplot(data=decomposed_day\n",
    "                  .seasonal['2018-04-01 00:00:00': '2018-04-15 00:00:00'].reset_index()\n",
    "                 )\n",
    "\n",
    "show_title(title='График сезонности заказов по дням',\n",
    "        x_label='Время, день',\n",
    "        y_label='Количество зказов',\n",
    "        ax=ax)"
   ]
  },
  {
   "cell_type": "markdown",
   "metadata": {},
   "source": [
    "- ***Максимальные заказы наблюдаются с воскресенья на понедельник, так же есть рост в пятницу.***"
   ]
  },
  {
   "cell_type": "markdown",
   "metadata": {},
   "source": [
    "### Cреднее количество поездок по каждому часу внутри недели"
   ]
  },
  {
   "cell_type": "markdown",
   "metadata": {},
   "source": [
    "- **Построим график среднего количества поездок по каждому часу внутри недели**"
   ]
  },
  {
   "cell_type": "code",
   "execution_count": 14,
   "metadata": {},
   "outputs": [
    {
     "data": {
      "image/jpeg": "[encoded data removed]",
      "text/plain": [
       "<Figure size 576x432 with 1 Axes>"
      ]
     },
     "metadata": {},
     "output_type": "display_data"
    }
   ],
   "source": [
    "decomposed_hour = seasonal_decompose(data['num_orders'],\n",
    "                                    period=168)\n",
    "\n",
    "ax = sns.lineplot(data=decomposed_hour\n",
    "                  .seasonal['2018-04-01 00:00:00': '2018-04-08 00:00:00'].reset_index()\n",
    "                 )\n",
    "\n",
    "show_title(title='График среднего количества поездок по каждому часу внутри недели',\n",
    "        x_label='Время, час',\n",
    "        y_label='Количество зказов',\n",
    "        ax=ax)"
   ]
  },
  {
   "cell_type": "markdown",
   "metadata": {},
   "source": [
    "- ***Максимальное количество заказов наблюдается ночью в 00 часов. Минимальное в 5 - 7 утра. В пятницу пик активности начинается раньше в 22 часа. В ночь с воскресенья на понедельник так же наблюдается пик заказов.***"
   ]
  },
  {
   "cell_type": "markdown",
   "metadata": {},
   "source": [
    "### Выводы по EDA\n",
    "- ***Прослеживается общий тренд - с марта по август количество заказов увеличивается.***\n",
    "- ***Данные имеют суточную сезонность. По графику анализа сезонности заказов можно отметить, что наибольшее чесло заказов совершается ночью в районе 23:00 - 01:00 часов. Наименьшее число заказов в 5-6 утра.***\n",
    "- ***Так же есть недельная сезонность. В пятницу и в ночь с воскресенья на понедельник заказов больше, чем в остальные дни.***\n",
    "- ***Временной ряд не является стационарным, т.к. имеет восходящий тренд.***\n"
   ]
  },
  {
   "cell_type": "markdown",
   "metadata": {},
   "source": [
    "<a id=\"model\"></a>\n",
    "## Моделирование\n",
    "- **Введем новые признаки.**\n",
    "- **Постоим модель для предсказания количества заказов такси на следующий час.**\n",
    "- **Выберем лучшую модель из ElasticNet, DecisionTree, KNeighbors, SVM.**\n",
    "- **В качестве метрики выберем RMSE. Критерий успеха RMSE < 48.**"
   ]
  },
  {
   "cell_type": "markdown",
   "metadata": {},
   "source": [
    "### Создание прзнаков\n",
    "- **В данных присутствует суточная и недельная сезонность. Ведем дополнительные признаки с учетом этого: `day_of_week, hour, lag, rolling_mean`**"
   ]
  },
  {
   "cell_type": "code",
   "execution_count": 15,
   "metadata": {},
   "outputs": [],
   "source": [
    "def make_features(data, max_lag, rolling_mean_size):\n",
    "\n",
    "    \"\"\"\n",
    "    Функция добавляет новые признаки на основе данных о времени\n",
    "    \"\"\"\n",
    "    data = data.copy()\n",
    "    # календарные признаки\n",
    "    data['day_of_week'] = data.index.dayofweek\n",
    "    data['hour'] = data.index.hour\n",
    "    # отстающие значения\n",
    "    for lag in range(1, max_lag + 1):\n",
    "        data[f'lag_{lag}'] = data['num_orders'].shift(lag)\n",
    "    # скользящее среднее\n",
    "    data['rolling_mean'] = (data['num_orders']\n",
    "                            .shift()\n",
    "                            .rolling(rolling_mean_size)\n",
    "                            .mean())\n",
    "\n",
    "    return data.dropna()"
   ]
  },
  {
   "cell_type": "code",
   "execution_count": 16,
   "metadata": {},
   "outputs": [
    {
     "data": {
      "text/html": [
       "<div>\n",
       "<style scoped>\n",
       "    .dataframe tbody tr th:only-of-type {\n",
       "        vertical-align: middle;\n",
       "    }\n",
       "\n",
       "    .dataframe tbody tr th {\n",
       "        vertical-align: top;\n",
       "    }\n",
       "\n",
       "    .dataframe thead th {\n",
       "        text-align: right;\n",
       "    }\n",
       "</style>\n",
       "<table border=\"1\" class=\"dataframe\">\n",
       "  <thead>\n",
       "    <tr style=\"text-align: right;\">\n",
       "      <th></th>\n",
       "      <th>num_orders</th>\n",
       "      <th>day_of_week</th>\n",
       "      <th>hour</th>\n",
       "      <th>lag_1</th>\n",
       "      <th>lag_2</th>\n",
       "      <th>lag_3</th>\n",
       "      <th>lag_4</th>\n",
       "      <th>lag_5</th>\n",
       "      <th>lag_6</th>\n",
       "      <th>lag_7</th>\n",
       "      <th>...</th>\n",
       "      <th>lag_160</th>\n",
       "      <th>lag_161</th>\n",
       "      <th>lag_162</th>\n",
       "      <th>lag_163</th>\n",
       "      <th>lag_164</th>\n",
       "      <th>lag_165</th>\n",
       "      <th>lag_166</th>\n",
       "      <th>lag_167</th>\n",
       "      <th>lag_168</th>\n",
       "      <th>rolling_mean</th>\n",
       "    </tr>\n",
       "    <tr>\n",
       "      <th>datetime</th>\n",
       "      <th></th>\n",
       "      <th></th>\n",
       "      <th></th>\n",
       "      <th></th>\n",
       "      <th></th>\n",
       "      <th></th>\n",
       "      <th></th>\n",
       "      <th></th>\n",
       "      <th></th>\n",
       "      <th></th>\n",
       "      <th></th>\n",
       "      <th></th>\n",
       "      <th></th>\n",
       "      <th></th>\n",
       "      <th></th>\n",
       "      <th></th>\n",
       "      <th></th>\n",
       "      <th></th>\n",
       "      <th></th>\n",
       "      <th></th>\n",
       "      <th></th>\n",
       "    </tr>\n",
       "  </thead>\n",
       "  <tbody>\n",
       "    <tr>\n",
       "      <th>2018-03-08 00:00:00</th>\n",
       "      <td>143</td>\n",
       "      <td>3</td>\n",
       "      <td>0</td>\n",
       "      <td>94.0000</td>\n",
       "      <td>127.0000</td>\n",
       "      <td>108.0000</td>\n",
       "      <td>76.0000</td>\n",
       "      <td>50.0000</td>\n",
       "      <td>99.0000</td>\n",
       "      <td>48.0000</td>\n",
       "      <td>...</td>\n",
       "      <td>34.0000</td>\n",
       "      <td>15.0000</td>\n",
       "      <td>12.0000</td>\n",
       "      <td>6.0000</td>\n",
       "      <td>43.0000</td>\n",
       "      <td>66.0000</td>\n",
       "      <td>71.0000</td>\n",
       "      <td>85.0000</td>\n",
       "      <td>124.0000</td>\n",
       "      <td>54.2262</td>\n",
       "    </tr>\n",
       "    <tr>\n",
       "      <th>2018-03-08 01:00:00</th>\n",
       "      <td>78</td>\n",
       "      <td>3</td>\n",
       "      <td>1</td>\n",
       "      <td>143.0000</td>\n",
       "      <td>94.0000</td>\n",
       "      <td>127.0000</td>\n",
       "      <td>108.0000</td>\n",
       "      <td>76.0000</td>\n",
       "      <td>50.0000</td>\n",
       "      <td>99.0000</td>\n",
       "      <td>...</td>\n",
       "      <td>69.0000</td>\n",
       "      <td>34.0000</td>\n",
       "      <td>15.0000</td>\n",
       "      <td>12.0000</td>\n",
       "      <td>6.0000</td>\n",
       "      <td>43.0000</td>\n",
       "      <td>66.0000</td>\n",
       "      <td>71.0000</td>\n",
       "      <td>85.0000</td>\n",
       "      <td>54.3393</td>\n",
       "    </tr>\n",
       "    <tr>\n",
       "      <th>2018-03-08 02:00:00</th>\n",
       "      <td>65</td>\n",
       "      <td>3</td>\n",
       "      <td>2</td>\n",
       "      <td>78.0000</td>\n",
       "      <td>143.0000</td>\n",
       "      <td>94.0000</td>\n",
       "      <td>127.0000</td>\n",
       "      <td>108.0000</td>\n",
       "      <td>76.0000</td>\n",
       "      <td>50.0000</td>\n",
       "      <td>...</td>\n",
       "      <td>64.0000</td>\n",
       "      <td>69.0000</td>\n",
       "      <td>34.0000</td>\n",
       "      <td>15.0000</td>\n",
       "      <td>12.0000</td>\n",
       "      <td>6.0000</td>\n",
       "      <td>43.0000</td>\n",
       "      <td>66.0000</td>\n",
       "      <td>71.0000</td>\n",
       "      <td>54.2976</td>\n",
       "    </tr>\n",
       "    <tr>\n",
       "      <th>2018-03-08 03:00:00</th>\n",
       "      <td>68</td>\n",
       "      <td>3</td>\n",
       "      <td>3</td>\n",
       "      <td>65.0000</td>\n",
       "      <td>78.0000</td>\n",
       "      <td>143.0000</td>\n",
       "      <td>94.0000</td>\n",
       "      <td>127.0000</td>\n",
       "      <td>108.0000</td>\n",
       "      <td>76.0000</td>\n",
       "      <td>...</td>\n",
       "      <td>96.0000</td>\n",
       "      <td>64.0000</td>\n",
       "      <td>69.0000</td>\n",
       "      <td>34.0000</td>\n",
       "      <td>15.0000</td>\n",
       "      <td>12.0000</td>\n",
       "      <td>6.0000</td>\n",
       "      <td>43.0000</td>\n",
       "      <td>66.0000</td>\n",
       "      <td>54.2619</td>\n",
       "    </tr>\n",
       "    <tr>\n",
       "      <th>2018-03-08 04:00:00</th>\n",
       "      <td>60</td>\n",
       "      <td>3</td>\n",
       "      <td>4</td>\n",
       "      <td>68.0000</td>\n",
       "      <td>65.0000</td>\n",
       "      <td>78.0000</td>\n",
       "      <td>143.0000</td>\n",
       "      <td>94.0000</td>\n",
       "      <td>127.0000</td>\n",
       "      <td>108.0000</td>\n",
       "      <td>...</td>\n",
       "      <td>30.0000</td>\n",
       "      <td>96.0000</td>\n",
       "      <td>64.0000</td>\n",
       "      <td>69.0000</td>\n",
       "      <td>34.0000</td>\n",
       "      <td>15.0000</td>\n",
       "      <td>12.0000</td>\n",
       "      <td>6.0000</td>\n",
       "      <td>43.0000</td>\n",
       "      <td>54.2738</td>\n",
       "    </tr>\n",
       "  </tbody>\n",
       "</table>\n",
       "<p>5 rows × 172 columns</p>\n",
       "</div>"
      ],
      "text/plain": [
       "                     num_orders  day_of_week  hour    lag_1    lag_2    lag_3  \\\n",
       "datetime                                                                        \n",
       "2018-03-08 00:00:00         143            3     0  94.0000 127.0000 108.0000   \n",
       "2018-03-08 01:00:00          78            3     1 143.0000  94.0000 127.0000   \n",
       "2018-03-08 02:00:00          65            3     2  78.0000 143.0000  94.0000   \n",
       "2018-03-08 03:00:00          68            3     3  65.0000  78.0000 143.0000   \n",
       "2018-03-08 04:00:00          60            3     4  68.0000  65.0000  78.0000   \n",
       "\n",
       "                       lag_4    lag_5    lag_6    lag_7  ...  lag_160  \\\n",
       "datetime                                                 ...            \n",
       "2018-03-08 00:00:00  76.0000  50.0000  99.0000  48.0000  ...  34.0000   \n",
       "2018-03-08 01:00:00 108.0000  76.0000  50.0000  99.0000  ...  69.0000   \n",
       "2018-03-08 02:00:00 127.0000 108.0000  76.0000  50.0000  ...  64.0000   \n",
       "2018-03-08 03:00:00  94.0000 127.0000 108.0000  76.0000  ...  96.0000   \n",
       "2018-03-08 04:00:00 143.0000  94.0000 127.0000 108.0000  ...  30.0000   \n",
       "\n",
       "                     lag_161  lag_162  lag_163  lag_164  lag_165  lag_166  \\\n",
       "datetime                                                                    \n",
       "2018-03-08 00:00:00  15.0000  12.0000   6.0000  43.0000  66.0000  71.0000   \n",
       "2018-03-08 01:00:00  34.0000  15.0000  12.0000   6.0000  43.0000  66.0000   \n",
       "2018-03-08 02:00:00  69.0000  34.0000  15.0000  12.0000   6.0000  43.0000   \n",
       "2018-03-08 03:00:00  64.0000  69.0000  34.0000  15.0000  12.0000   6.0000   \n",
       "2018-03-08 04:00:00  96.0000  64.0000  69.0000  34.0000  15.0000  12.0000   \n",
       "\n",
       "                     lag_167  lag_168  rolling_mean  \n",
       "datetime                                             \n",
       "2018-03-08 00:00:00  85.0000 124.0000       54.2262  \n",
       "2018-03-08 01:00:00  71.0000  85.0000       54.3393  \n",
       "2018-03-08 02:00:00  66.0000  71.0000       54.2976  \n",
       "2018-03-08 03:00:00  43.0000  66.0000       54.2619  \n",
       "2018-03-08 04:00:00   6.0000  43.0000       54.2738  \n",
       "\n",
       "[5 rows x 172 columns]"
      ]
     },
     "execution_count": 16,
     "metadata": {},
     "output_type": "execute_result"
    }
   ],
   "source": [
    "data = make_features(data, 168, 168)\n",
    "data.head(5)"
   ]
  },
  {
   "cell_type": "markdown",
   "metadata": {},
   "source": [
    "### Pipeline"
   ]
  },
  {
   "cell_type": "code",
   "execution_count": 17,
   "metadata": {},
   "outputs": [],
   "source": [
    "def make_pipeline(df, target):\n",
    "\n",
    "    '''\n",
    "    Функция готовит пайплпйн\n",
    "    '''\n",
    "\n",
    "    X = df.drop(target, axis=1)\n",
    "    y = df[target]\n",
    "\n",
    "    X_train, X_test, y_train, y_test = train_test_split(\n",
    "        X, y, test_size=TEST_SIZE, shuffle=False\n",
    "    )\n",
    "    \n",
    "    ohe_columns = ['day_of_week', 'hour']\n",
    "    num_columns = X_train.drop(ohe_columns, axis=1).columns.tolist()\n",
    "    \n",
    "    ohe_pipe = Pipeline(\n",
    "        [('SimpleImputer_before_ohe', SimpleImputer(strategy='most_frequent')),\n",
    "        ('ohe', OneHotEncoder(drop='first', handle_unknown='ignore', sparse_output=False))\n",
    "        ]\n",
    "    )\n",
    "    \n",
    "    # для количественных признаков\n",
    "    num_pipe = Pipeline(\n",
    "        [('imputer', SimpleImputer(strategy='mean')),\n",
    "        ('num', MinMaxScaler())\n",
    "        ]\n",
    "    )\n",
    "\n",
    "    # для обработки всех признаков\n",
    "    preprocessor = ColumnTransformer(\n",
    "        [('ohe', ohe_pipe, ohe_columns),\n",
    "        ('num', num_pipe, num_columns)\n",
    "        ],\n",
    "        remainder='passthrough'\n",
    "    )\n",
    "\n",
    "    # финальный пайплайн\n",
    "    pipe_final = Pipeline(\n",
    "        [('preprocessor', preprocessor),\n",
    "        ('models', LinearRegression())]\n",
    "    )\n",
    "\n",
    "    return pipe_final, X_train, y_train, X_test, y_test"
   ]
  },
  {
   "cell_type": "code",
   "execution_count": 18,
   "metadata": {},
   "outputs": [],
   "source": [
    "param_grid = [\n",
    "    {\n",
    "        'models': [DecisionTreeRegressor(random_state=RANDOM_STATE)],\n",
    "        'models__max_depth': range(5, 15),\n",
    "        'models__min_samples_leaf': range(1, 10),\n",
    "        'preprocessor__ohe': ['passthrough']\n",
    "    },\n",
    "\n",
    "    {\n",
    "        'models': [ElasticNet()],\n",
    "        'models__alpha': np.linspace(0.1, 1, num=5)\n",
    "    },\n",
    "    \n",
    "    {\n",
    "        'models': [KNeighborsRegressor()],\n",
    "        'models__n_neighbors': range(7, 9)\n",
    "    },\n",
    "    \n",
    "    {\n",
    "        'models': [SVR()],\n",
    "        'models__kernel': ['poly', 'rbf', 'sigmoid'],\n",
    "        'models__C': range(15, 25)\n",
    "    }\n",
    "]"
   ]
  },
  {
   "cell_type": "markdown",
   "metadata": {},
   "source": [
    "### Подбор гиперпараметров и обучение"
   ]
  },
  {
   "cell_type": "code",
   "execution_count": 19,
   "metadata": {
    "scrolled": true
   },
   "outputs": [
    {
     "name": "stdout",
     "output_type": "stream",
     "text": [
      "Fitting 5 folds for each of 100 candidates, totalling 500 fits\n",
      "[CV] END models=DecisionTreeRegressor(random_state=42), models__max_depth=7, models__min_samples_leaf=9, preprocessor__ohe=passthrough; total time=   0.1s\n",
      "[CV] END models=DecisionTreeRegressor(random_state=42), models__max_depth=7, models__min_samples_leaf=9, preprocessor__ohe=passthrough; total time=   0.2s\n",
      "[CV] END models=DecisionTreeRegressor(random_state=42), models__max_depth=7, models__min_samples_leaf=9, preprocessor__ohe=passthrough; total time=   0.2s\n",
      "[CV] END models=DecisionTreeRegressor(random_state=42), models__max_depth=7, models__min_samples_leaf=9, preprocessor__ohe=passthrough; total time=   0.2s\n",
      "[CV] END models=DecisionTreeRegressor(random_state=42), models__max_depth=7, models__min_samples_leaf=9, preprocessor__ohe=passthrough; total time=   0.3s\n",
      "[CV] END .models=SVR(), models__C=19, models__kernel=sigmoid; total time=   0.2s\n",
      "[CV] END .models=SVR(), models__C=19, models__kernel=sigmoid; total time=   0.4s\n",
      "[CV] END .models=SVR(), models__C=19, models__kernel=sigmoid; total time=   0.8s\n",
      "[CV] END .models=SVR(), models__C=19, models__kernel=sigmoid; total time=   1.3s\n",
      "[CV] END .models=SVR(), models__C=19, models__kernel=sigmoid; total time=   2.0s\n",
      "[CV] END models=DecisionTreeRegressor(random_state=42), models__max_depth=14, models__min_samples_leaf=1, preprocessor__ohe=passthrough; total time=   0.1s\n",
      "[CV] END models=DecisionTreeRegressor(random_state=42), models__max_depth=14, models__min_samples_leaf=1, preprocessor__ohe=passthrough; total time=   0.2s\n",
      "[CV] END models=DecisionTreeRegressor(random_state=42), models__max_depth=14, models__min_samples_leaf=1, preprocessor__ohe=passthrough; total time=   0.3s\n",
      "[CV] END models=DecisionTreeRegressor(random_state=42), models__max_depth=14, models__min_samples_leaf=1, preprocessor__ohe=passthrough; total time=   0.4s\n",
      "[CV] END models=DecisionTreeRegressor(random_state=42), models__max_depth=14, models__min_samples_leaf=1, preprocessor__ohe=passthrough; total time=   0.5s\n",
      "[CV] END models=DecisionTreeRegressor(random_state=42), models__max_depth=11, models__min_samples_leaf=2, preprocessor__ohe=passthrough; total time=   0.1s\n",
      "[CV] END models=DecisionTreeRegressor(random_state=42), models__max_depth=11, models__min_samples_leaf=2, preprocessor__ohe=passthrough; total time=   0.2s\n",
      "[CV] END models=DecisionTreeRegressor(random_state=42), models__max_depth=11, models__min_samples_leaf=2, preprocessor__ohe=passthrough; total time=   0.3s\n",
      "[CV] END models=DecisionTreeRegressor(random_state=42), models__max_depth=11, models__min_samples_leaf=2, preprocessor__ohe=passthrough; total time=   0.3s\n",
      "[CV] END models=DecisionTreeRegressor(random_state=42), models__max_depth=11, models__min_samples_leaf=2, preprocessor__ohe=passthrough; total time=   0.4s\n",
      "[CV] END models=DecisionTreeRegressor(random_state=42), models__max_depth=9, models__min_samples_leaf=9, preprocessor__ohe=passthrough; total time=   0.1s\n",
      "[CV] END models=DecisionTreeRegressor(random_state=42), models__max_depth=9, models__min_samples_leaf=9, preprocessor__ohe=passthrough; total time=   0.1s\n",
      "[CV] END models=DecisionTreeRegressor(random_state=42), models__max_depth=9, models__min_samples_leaf=9, preprocessor__ohe=passthrough; total time=   0.2s\n",
      "[CV] END models=DecisionTreeRegressor(random_state=42), models__max_depth=9, models__min_samples_leaf=9, preprocessor__ohe=passthrough; total time=   0.3s\n",
      "[CV] END models=DecisionTreeRegressor(random_state=42), models__max_depth=9, models__min_samples_leaf=9, preprocessor__ohe=passthrough; total time=   0.3s\n",
      "[CV] END models=KNeighborsRegressor(), models__n_neighbors=8; total time=   0.1s\n",
      "[CV] END models=KNeighborsRegressor(), models__n_neighbors=8; total time=   0.2s\n",
      "[CV] END models=KNeighborsRegressor(), models__n_neighbors=8; total time=   0.1s\n",
      "[CV] END models=KNeighborsRegressor(), models__n_neighbors=8; total time=   0.1s\n",
      "[CV] END models=KNeighborsRegressor(), models__n_neighbors=8; total time=   0.1s\n",
      "[CV] END models=DecisionTreeRegressor(random_state=42), models__max_depth=13, models__min_samples_leaf=9, preprocessor__ohe=passthrough; total time=   0.1s\n",
      "[CV] END models=DecisionTreeRegressor(random_state=42), models__max_depth=13, models__min_samples_leaf=9, preprocessor__ohe=passthrough; total time=   0.2s\n",
      "[CV] END models=DecisionTreeRegressor(random_state=42), models__max_depth=13, models__min_samples_leaf=9, preprocessor__ohe=passthrough; total time=   0.2s\n",
      "[CV] END models=DecisionTreeRegressor(random_state=42), models__max_depth=13, models__min_samples_leaf=9, preprocessor__ohe=passthrough; total time=   0.3s\n",
      "[CV] END models=DecisionTreeRegressor(random_state=42), models__max_depth=13, models__min_samples_leaf=9, preprocessor__ohe=passthrough; total time=   0.4s\n",
      "[CV] END .....models=SVR(), models__C=24, models__kernel=rbf; total time=   0.2s\n",
      "[CV] END .....models=SVR(), models__C=24, models__kernel=rbf; total time=   0.5s\n",
      "[CV] END .....models=SVR(), models__C=24, models__kernel=rbf; total time=   0.9s\n",
      "[CV] END .....models=SVR(), models__C=24, models__kernel=rbf; total time=   1.4s\n",
      "[CV] END .....models=SVR(), models__C=24, models__kernel=rbf; total time=   2.2s\n",
      "[CV] END .models=SVR(), models__C=20, models__kernel=sigmoid; total time=   0.2s\n",
      "[CV] END .models=SVR(), models__C=20, models__kernel=sigmoid; total time=   0.4s\n",
      "[CV] END .models=SVR(), models__C=20, models__kernel=sigmoid; total time=   0.8s\n",
      "[CV] END .models=SVR(), models__C=20, models__kernel=sigmoid; total time=   1.4s\n",
      "[CV] END .models=SVR(), models__C=20, models__kernel=sigmoid; total time=   2.1s\n",
      "[CV] END models=DecisionTreeRegressor(random_state=42), models__max_depth=11, models__min_samples_leaf=9, preprocessor__ohe=passthrough; total time=   0.1s\n",
      "[CV] END models=DecisionTreeRegressor(random_state=42), models__max_depth=11, models__min_samples_leaf=9, preprocessor__ohe=passthrough; total time=   0.2s\n",
      "[CV] END models=DecisionTreeRegressor(random_state=42), models__max_depth=11, models__min_samples_leaf=9, preprocessor__ohe=passthrough; total time=   0.2s\n",
      "[CV] END models=DecisionTreeRegressor(random_state=42), models__max_depth=11, models__min_samples_leaf=9, preprocessor__ohe=passthrough; total time=   0.3s\n",
      "[CV] END models=DecisionTreeRegressor(random_state=42), models__max_depth=11, models__min_samples_leaf=9, preprocessor__ohe=passthrough; total time=   0.4s\n",
      "[CV] END models=DecisionTreeRegressor(random_state=42), models__max_depth=10, models__min_samples_leaf=1, preprocessor__ohe=passthrough; total time=   0.1s\n",
      "[CV] END models=DecisionTreeRegressor(random_state=42), models__max_depth=10, models__min_samples_leaf=1, preprocessor__ohe=passthrough; total time=   0.2s\n",
      "[CV] END models=DecisionTreeRegressor(random_state=42), models__max_depth=10, models__min_samples_leaf=1, preprocessor__ohe=passthrough; total time=   0.3s\n",
      "[CV] END models=DecisionTreeRegressor(random_state=42), models__max_depth=10, models__min_samples_leaf=1, preprocessor__ohe=passthrough; total time=   0.4s\n",
      "[CV] END models=DecisionTreeRegressor(random_state=42), models__max_depth=10, models__min_samples_leaf=1, preprocessor__ohe=passthrough; total time=   0.5s\n",
      "[CV] END models=DecisionTreeRegressor(random_state=42), models__max_depth=5, models__min_samples_leaf=5, preprocessor__ohe=passthrough; total time=   0.1s\n",
      "[CV] END models=DecisionTreeRegressor(random_state=42), models__max_depth=5, models__min_samples_leaf=5, preprocessor__ohe=passthrough; total time=   0.1s\n",
      "[CV] END models=DecisionTreeRegressor(random_state=42), models__max_depth=5, models__min_samples_leaf=5, preprocessor__ohe=passthrough; total time=   0.1s\n",
      "[CV] END models=DecisionTreeRegressor(random_state=42), models__max_depth=5, models__min_samples_leaf=5, preprocessor__ohe=passthrough; total time=   0.2s\n",
      "[CV] END models=DecisionTreeRegressor(random_state=42), models__max_depth=5, models__min_samples_leaf=5, preprocessor__ohe=passthrough; total time=   0.2s\n",
      "[CV] END models=DecisionTreeRegressor(random_state=42), models__max_depth=7, models__min_samples_leaf=1, preprocessor__ohe=passthrough; total time=   0.1s\n",
      "[CV] END models=DecisionTreeRegressor(random_state=42), models__max_depth=7, models__min_samples_leaf=1, preprocessor__ohe=passthrough; total time=   0.1s\n",
      "[CV] END models=DecisionTreeRegressor(random_state=42), models__max_depth=7, models__min_samples_leaf=1, preprocessor__ohe=passthrough; total time=   0.2s\n",
      "[CV] END models=DecisionTreeRegressor(random_state=42), models__max_depth=7, models__min_samples_leaf=1, preprocessor__ohe=passthrough; total time=   0.3s\n",
      "[CV] END models=DecisionTreeRegressor(random_state=42), models__max_depth=7, models__min_samples_leaf=1, preprocessor__ohe=passthrough; total time=   0.3s\n",
      "[CV] END models=KNeighborsRegressor(), models__n_neighbors=7; total time=   0.1s\n",
      "[CV] END models=KNeighborsRegressor(), models__n_neighbors=7; total time=   0.1s\n",
      "[CV] END models=KNeighborsRegressor(), models__n_neighbors=7; total time=   0.1s\n",
      "[CV] END models=KNeighborsRegressor(), models__n_neighbors=7; total time=   0.1s\n",
      "[CV] END models=KNeighborsRegressor(), models__n_neighbors=7; total time=   0.1s\n",
      "[CV] END models=DecisionTreeRegressor(random_state=42), models__max_depth=9, models__min_samples_leaf=1, preprocessor__ohe=passthrough; total time=   0.1s\n",
      "[CV] END models=DecisionTreeRegressor(random_state=42), models__max_depth=9, models__min_samples_leaf=1, preprocessor__ohe=passthrough; total time=   0.2s\n",
      "[CV] END models=DecisionTreeRegressor(random_state=42), models__max_depth=9, models__min_samples_leaf=1, preprocessor__ohe=passthrough; total time=   0.3s\n",
      "[CV] END models=DecisionTreeRegressor(random_state=42), models__max_depth=9, models__min_samples_leaf=1, preprocessor__ohe=passthrough; total time=   0.3s\n",
      "[CV] END models=DecisionTreeRegressor(random_state=42), models__max_depth=9, models__min_samples_leaf=1, preprocessor__ohe=passthrough; total time=   0.4s\n",
      "[CV] END .............models=ElasticNet(), models__alpha=1.0; total time=   0.1s\n",
      "[CV] END .............models=ElasticNet(), models__alpha=1.0; total time=   0.4s\n",
      "[CV] END .............models=ElasticNet(), models__alpha=1.0; total time=   0.4s\n",
      "[CV] END .............models=ElasticNet(), models__alpha=1.0; total time=   0.4s\n",
      "[CV] END .............models=ElasticNet(), models__alpha=1.0; total time=   0.3s\n",
      "[CV] END models=DecisionTreeRegressor(random_state=42), models__max_depth=7, models__min_samples_leaf=2, preprocessor__ohe=passthrough; total time=   0.2s\n",
      "[CV] END models=DecisionTreeRegressor(random_state=42), models__max_depth=7, models__min_samples_leaf=2, preprocessor__ohe=passthrough; total time=   0.1s\n",
      "[CV] END models=DecisionTreeRegressor(random_state=42), models__max_depth=7, models__min_samples_leaf=2, preprocessor__ohe=passthrough; total time=   0.2s\n",
      "[CV] END models=DecisionTreeRegressor(random_state=42), models__max_depth=7, models__min_samples_leaf=2, preprocessor__ohe=passthrough; total time=   0.2s\n",
      "[CV] END models=DecisionTreeRegressor(random_state=42), models__max_depth=7, models__min_samples_leaf=2, preprocessor__ohe=passthrough; total time=   0.3s\n",
      "[CV] END .models=SVR(), models__C=22, models__kernel=sigmoid; total time=   0.2s\n",
      "[CV] END .models=SVR(), models__C=22, models__kernel=sigmoid; total time=   0.5s\n",
      "[CV] END .models=SVR(), models__C=22, models__kernel=sigmoid; total time=   0.8s\n",
      "[CV] END .models=SVR(), models__C=22, models__kernel=sigmoid; total time=   1.3s\n",
      "[CV] END .models=SVR(), models__C=22, models__kernel=sigmoid; total time=   2.1s\n",
      "[CV] END models=DecisionTreeRegressor(random_state=42), models__max_depth=6, models__min_samples_leaf=2, preprocessor__ohe=passthrough; total time=   0.1s\n",
      "[CV] END models=DecisionTreeRegressor(random_state=42), models__max_depth=6, models__min_samples_leaf=2, preprocessor__ohe=passthrough; total time=   0.1s\n",
      "[CV] END models=DecisionTreeRegressor(random_state=42), models__max_depth=6, models__min_samples_leaf=2, preprocessor__ohe=passthrough; total time=   0.2s\n",
      "[CV] END models=DecisionTreeRegressor(random_state=42), models__max_depth=6, models__min_samples_leaf=2, preprocessor__ohe=passthrough; total time=   0.2s\n",
      "[CV] END models=DecisionTreeRegressor(random_state=42), models__max_depth=6, models__min_samples_leaf=2, preprocessor__ohe=passthrough; total time=   0.3s\n",
      "[CV] END models=DecisionTreeRegressor(random_state=42), models__max_depth=9, models__min_samples_leaf=5, preprocessor__ohe=passthrough; total time=   0.1s\n",
      "[CV] END models=DecisionTreeRegressor(random_state=42), models__max_depth=9, models__min_samples_leaf=5, preprocessor__ohe=passthrough; total time=   0.1s\n",
      "[CV] END models=DecisionTreeRegressor(random_state=42), models__max_depth=9, models__min_samples_leaf=5, preprocessor__ohe=passthrough; total time=   0.2s\n",
      "[CV] END models=DecisionTreeRegressor(random_state=42), models__max_depth=9, models__min_samples_leaf=5, preprocessor__ohe=passthrough; total time=   0.3s\n",
      "[CV] END models=DecisionTreeRegressor(random_state=42), models__max_depth=9, models__min_samples_leaf=5, preprocessor__ohe=passthrough; total time=   0.3s\n",
      "[CV] END models=DecisionTreeRegressor(random_state=42), models__max_depth=6, models__min_samples_leaf=3, preprocessor__ohe=passthrough; total time=   0.1s\n",
      "[CV] END models=DecisionTreeRegressor(random_state=42), models__max_depth=6, models__min_samples_leaf=3, preprocessor__ohe=passthrough; total time=   0.1s\n",
      "[CV] END models=DecisionTreeRegressor(random_state=42), models__max_depth=6, models__min_samples_leaf=3, preprocessor__ohe=passthrough; total time=   0.2s\n",
      "[CV] END models=DecisionTreeRegressor(random_state=42), models__max_depth=6, models__min_samples_leaf=3, preprocessor__ohe=passthrough; total time=   0.2s\n",
      "[CV] END models=DecisionTreeRegressor(random_state=42), models__max_depth=6, models__min_samples_leaf=3, preprocessor__ohe=passthrough; total time=   0.2s\n",
      "[CV] END .....models=SVR(), models__C=15, models__kernel=rbf; total time=   0.2s\n",
      "[CV] END .....models=SVR(), models__C=15, models__kernel=rbf; total time=   0.5s\n",
      "[CV] END .....models=SVR(), models__C=15, models__kernel=rbf; total time=   0.8s\n",
      "[CV] END .....models=SVR(), models__C=15, models__kernel=rbf; total time=   1.3s\n",
      "[CV] END .....models=SVR(), models__C=15, models__kernel=rbf; total time=   1.9s\n",
      "[CV] END .....models=SVR(), models__C=17, models__kernel=rbf; total time=   0.2s\n",
      "[CV] END .....models=SVR(), models__C=17, models__kernel=rbf; total time=   0.5s\n",
      "[CV] END .....models=SVR(), models__C=17, models__kernel=rbf; total time=   0.8s\n",
      "[CV] END .....models=SVR(), models__C=17, models__kernel=rbf; total time=   1.3s\n",
      "[CV] END .....models=SVR(), models__C=17, models__kernel=rbf; total time=   2.0s\n",
      "[CV] END models=DecisionTreeRegressor(random_state=42), models__max_depth=13, models__min_samples_leaf=6, preprocessor__ohe=passthrough; total time=   0.1s\n",
      "[CV] END models=DecisionTreeRegressor(random_state=42), models__max_depth=13, models__min_samples_leaf=6, preprocessor__ohe=passthrough; total time=   0.2s\n",
      "[CV] END models=DecisionTreeRegressor(random_state=42), models__max_depth=13, models__min_samples_leaf=6, preprocessor__ohe=passthrough; total time=   0.2s\n",
      "[CV] END models=DecisionTreeRegressor(random_state=42), models__max_depth=13, models__min_samples_leaf=6, preprocessor__ohe=passthrough; total time=   0.3s\n",
      "[CV] END models=DecisionTreeRegressor(random_state=42), models__max_depth=13, models__min_samples_leaf=6, preprocessor__ohe=passthrough; total time=   0.4s\n",
      "[CV] END models=DecisionTreeRegressor(random_state=42), models__max_depth=5, models__min_samples_leaf=1, preprocessor__ohe=passthrough; total time=   0.1s\n",
      "[CV] END models=DecisionTreeRegressor(random_state=42), models__max_depth=5, models__min_samples_leaf=1, preprocessor__ohe=passthrough; total time=   0.1s\n",
      "[CV] END models=DecisionTreeRegressor(random_state=42), models__max_depth=5, models__min_samples_leaf=1, preprocessor__ohe=passthrough; total time=   0.1s\n",
      "[CV] END models=DecisionTreeRegressor(random_state=42), models__max_depth=5, models__min_samples_leaf=1, preprocessor__ohe=passthrough; total time=   0.2s\n",
      "[CV] END models=DecisionTreeRegressor(random_state=42), models__max_depth=5, models__min_samples_leaf=1, preprocessor__ohe=passthrough; total time=   0.2s\n",
      "[CV] END models=DecisionTreeRegressor(random_state=42), models__max_depth=13, models__min_samples_leaf=7, preprocessor__ohe=passthrough; total time=   0.1s\n",
      "[CV] END models=DecisionTreeRegressor(random_state=42), models__max_depth=13, models__min_samples_leaf=7, preprocessor__ohe=passthrough; total time=   0.2s\n",
      "[CV] END models=DecisionTreeRegressor(random_state=42), models__max_depth=13, models__min_samples_leaf=7, preprocessor__ohe=passthrough; total time=   0.2s\n",
      "[CV] END models=DecisionTreeRegressor(random_state=42), models__max_depth=13, models__min_samples_leaf=7, preprocessor__ohe=passthrough; total time=   0.3s\n",
      "[CV] END models=DecisionTreeRegressor(random_state=42), models__max_depth=13, models__min_samples_leaf=7, preprocessor__ohe=passthrough; total time=   0.4s\n",
      "[CV] END models=DecisionTreeRegressor(random_state=42), models__max_depth=12, models__min_samples_leaf=6, preprocessor__ohe=passthrough; total time=   0.1s\n",
      "[CV] END models=DecisionTreeRegressor(random_state=42), models__max_depth=12, models__min_samples_leaf=6, preprocessor__ohe=passthrough; total time=   0.2s\n",
      "[CV] END models=DecisionTreeRegressor(random_state=42), models__max_depth=12, models__min_samples_leaf=6, preprocessor__ohe=passthrough; total time=   0.2s\n",
      "[CV] END models=DecisionTreeRegressor(random_state=42), models__max_depth=12, models__min_samples_leaf=6, preprocessor__ohe=passthrough; total time=   0.3s\n",
      "[CV] END models=DecisionTreeRegressor(random_state=42), models__max_depth=12, models__min_samples_leaf=6, preprocessor__ohe=passthrough; total time=   0.4s\n",
      "[CV] END models=DecisionTreeRegressor(random_state=42), models__max_depth=12, models__min_samples_leaf=7, preprocessor__ohe=passthrough; total time=   0.1s\n",
      "[CV] END models=DecisionTreeRegressor(random_state=42), models__max_depth=12, models__min_samples_leaf=7, preprocessor__ohe=passthrough; total time=   0.2s\n",
      "[CV] END models=DecisionTreeRegressor(random_state=42), models__max_depth=12, models__min_samples_leaf=7, preprocessor__ohe=passthrough; total time=   0.2s\n",
      "[CV] END models=DecisionTreeRegressor(random_state=42), models__max_depth=12, models__min_samples_leaf=7, preprocessor__ohe=passthrough; total time=   0.3s\n",
      "[CV] END models=DecisionTreeRegressor(random_state=42), models__max_depth=12, models__min_samples_leaf=7, preprocessor__ohe=passthrough; total time=   0.4s\n",
      "[CV] END models=DecisionTreeRegressor(random_state=42), models__max_depth=6, models__min_samples_leaf=4, preprocessor__ohe=passthrough; total time=   0.1s\n",
      "[CV] END models=DecisionTreeRegressor(random_state=42), models__max_depth=6, models__min_samples_leaf=4, preprocessor__ohe=passthrough; total time=   0.1s\n",
      "[CV] END models=DecisionTreeRegressor(random_state=42), models__max_depth=6, models__min_samples_leaf=4, preprocessor__ohe=passthrough; total time=   0.2s\n",
      "[CV] END models=DecisionTreeRegressor(random_state=42), models__max_depth=6, models__min_samples_leaf=4, preprocessor__ohe=passthrough; total time=   0.2s\n",
      "[CV] END models=DecisionTreeRegressor(random_state=42), models__max_depth=6, models__min_samples_leaf=4, preprocessor__ohe=passthrough; total time=   0.3s\n",
      "[CV] END models=DecisionTreeRegressor(random_state=42), models__max_depth=9, models__min_samples_leaf=7, preprocessor__ohe=passthrough; total time=   0.1s\n",
      "[CV] END models=DecisionTreeRegressor(random_state=42), models__max_depth=9, models__min_samples_leaf=7, preprocessor__ohe=passthrough; total time=   0.1s\n",
      "[CV] END models=DecisionTreeRegressor(random_state=42), models__max_depth=9, models__min_samples_leaf=7, preprocessor__ohe=passthrough; total time=   0.2s\n",
      "[CV] END models=DecisionTreeRegressor(random_state=42), models__max_depth=9, models__min_samples_leaf=7, preprocessor__ohe=passthrough; total time=   0.3s\n",
      "[CV] END models=DecisionTreeRegressor(random_state=42), models__max_depth=9, models__min_samples_leaf=7, preprocessor__ohe=passthrough; total time=   0.3s\n",
      "[CV] END models=DecisionTreeRegressor(random_state=42), models__max_depth=8, models__min_samples_leaf=5, preprocessor__ohe=passthrough; total time=   0.1s\n",
      "[CV] END models=DecisionTreeRegressor(random_state=42), models__max_depth=8, models__min_samples_leaf=5, preprocessor__ohe=passthrough; total time=   0.1s\n",
      "[CV] END models=DecisionTreeRegressor(random_state=42), models__max_depth=8, models__min_samples_leaf=5, preprocessor__ohe=passthrough; total time=   0.2s\n",
      "[CV] END models=DecisionTreeRegressor(random_state=42), models__max_depth=8, models__min_samples_leaf=5, preprocessor__ohe=passthrough; total time=   0.3s\n",
      "[CV] END models=DecisionTreeRegressor(random_state=42), models__max_depth=8, models__min_samples_leaf=5, preprocessor__ohe=passthrough; total time=   0.3s\n",
      "[CV] END models=DecisionTreeRegressor(random_state=42), models__max_depth=8, models__min_samples_leaf=1, preprocessor__ohe=passthrough; total time=   0.1s\n",
      "[CV] END models=DecisionTreeRegressor(random_state=42), models__max_depth=8, models__min_samples_leaf=1, preprocessor__ohe=passthrough; total time=   0.2s\n",
      "[CV] END models=DecisionTreeRegressor(random_state=42), models__max_depth=8, models__min_samples_leaf=1, preprocessor__ohe=passthrough; total time=   0.2s\n",
      "[CV] END models=DecisionTreeRegressor(random_state=42), models__max_depth=8, models__min_samples_leaf=1, preprocessor__ohe=passthrough; total time=   0.3s\n",
      "[CV] END models=DecisionTreeRegressor(random_state=42), models__max_depth=8, models__min_samples_leaf=1, preprocessor__ohe=passthrough; total time=   0.3s\n",
      "[CV] END models=DecisionTreeRegressor(random_state=42), models__max_depth=7, models__min_samples_leaf=7, preprocessor__ohe=passthrough; total time=   0.1s\n",
      "[CV] END models=DecisionTreeRegressor(random_state=42), models__max_depth=7, models__min_samples_leaf=7, preprocessor__ohe=passthrough; total time=   0.1s\n",
      "[CV] END models=DecisionTreeRegressor(random_state=42), models__max_depth=7, models__min_samples_leaf=7, preprocessor__ohe=passthrough; total time=   0.2s\n",
      "[CV] END models=DecisionTreeRegressor(random_state=42), models__max_depth=7, models__min_samples_leaf=7, preprocessor__ohe=passthrough; total time=   0.2s\n",
      "[CV] END models=DecisionTreeRegressor(random_state=42), models__max_depth=7, models__min_samples_leaf=7, preprocessor__ohe=passthrough; total time=   0.3s\n",
      "[CV] END ...........models=ElasticNet(), models__alpha=0.775; total time=   0.2s\n",
      "[CV] END ...........models=ElasticNet(), models__alpha=0.775; total time=   0.4s\n",
      "[CV] END ...........models=ElasticNet(), models__alpha=0.775; total time=   0.3s\n",
      "[CV] END ...........models=ElasticNet(), models__alpha=0.775; total time=   0.4s\n",
      "[CV] END ...........models=ElasticNet(), models__alpha=0.775; total time=   0.3s\n",
      "[CV] END .....models=SVR(), models__C=19, models__kernel=rbf; total time=   0.3s\n",
      "[CV] END .....models=SVR(), models__C=19, models__kernel=rbf; total time=   0.5s\n",
      "[CV] END .....models=SVR(), models__C=19, models__kernel=rbf; total time=   0.9s\n",
      "[CV] END .....models=SVR(), models__C=19, models__kernel=rbf; total time=   1.3s\n",
      "[CV] END .....models=SVR(), models__C=19, models__kernel=rbf; total time=   2.0s\n",
      "[CV] END ...........models=ElasticNet(), models__alpha=0.325; total time=   0.1s\n",
      "[CV] END ...........models=ElasticNet(), models__alpha=0.325; total time=   0.3s\n",
      "[CV] END ...........models=ElasticNet(), models__alpha=0.325; total time=   0.3s\n",
      "[CV] END ...........models=ElasticNet(), models__alpha=0.325; total time=   0.2s\n",
      "[CV] END ...........models=ElasticNet(), models__alpha=0.325; total time=   0.4s\n",
      "[CV] END models=DecisionTreeRegressor(random_state=42), models__max_depth=6, models__min_samples_leaf=7, preprocessor__ohe=passthrough; total time=   0.2s\n",
      "[CV] END models=DecisionTreeRegressor(random_state=42), models__max_depth=6, models__min_samples_leaf=7, preprocessor__ohe=passthrough; total time=   0.1s\n",
      "[CV] END models=DecisionTreeRegressor(random_state=42), models__max_depth=6, models__min_samples_leaf=7, preprocessor__ohe=passthrough; total time=   0.2s\n",
      "[CV] END models=DecisionTreeRegressor(random_state=42), models__max_depth=6, models__min_samples_leaf=7, preprocessor__ohe=passthrough; total time=   0.2s\n",
      "[CV] END models=DecisionTreeRegressor(random_state=42), models__max_depth=6, models__min_samples_leaf=7, preprocessor__ohe=passthrough; total time=   0.3s\n",
      "[CV] END models=DecisionTreeRegressor(random_state=42), models__max_depth=13, models__min_samples_leaf=5, preprocessor__ohe=passthrough; total time=   0.1s\n",
      "[CV] END models=DecisionTreeRegressor(random_state=42), models__max_depth=13, models__min_samples_leaf=5, preprocessor__ohe=passthrough; total time=   0.2s\n",
      "[CV] END models=DecisionTreeRegressor(random_state=42), models__max_depth=13, models__min_samples_leaf=5, preprocessor__ohe=passthrough; total time=   0.2s\n",
      "[CV] END models=DecisionTreeRegressor(random_state=42), models__max_depth=13, models__min_samples_leaf=5, preprocessor__ohe=passthrough; total time=   0.3s\n",
      "[CV] END models=DecisionTreeRegressor(random_state=42), models__max_depth=13, models__min_samples_leaf=5, preprocessor__ohe=passthrough; total time=   0.4s\n",
      "[CV] END models=DecisionTreeRegressor(random_state=42), models__max_depth=7, models__min_samples_leaf=5, preprocessor__ohe=passthrough; total time=   0.1s\n",
      "[CV] END models=DecisionTreeRegressor(random_state=42), models__max_depth=7, models__min_samples_leaf=5, preprocessor__ohe=passthrough; total time=   0.1s\n",
      "[CV] END models=DecisionTreeRegressor(random_state=42), models__max_depth=7, models__min_samples_leaf=5, preprocessor__ohe=passthrough; total time=   0.2s\n",
      "[CV] END models=DecisionTreeRegressor(random_state=42), models__max_depth=7, models__min_samples_leaf=5, preprocessor__ohe=passthrough; total time=   0.2s\n",
      "[CV] END models=DecisionTreeRegressor(random_state=42), models__max_depth=7, models__min_samples_leaf=5, preprocessor__ohe=passthrough; total time=   0.3s\n",
      "[CV] END models=DecisionTreeRegressor(random_state=42), models__max_depth=10, models__min_samples_leaf=3, preprocessor__ohe=passthrough; total time=   0.1s\n",
      "[CV] END models=DecisionTreeRegressor(random_state=42), models__max_depth=10, models__min_samples_leaf=3, preprocessor__ohe=passthrough; total time=   0.2s\n",
      "[CV] END models=DecisionTreeRegressor(random_state=42), models__max_depth=10, models__min_samples_leaf=3, preprocessor__ohe=passthrough; total time=   0.2s\n",
      "[CV] END models=DecisionTreeRegressor(random_state=42), models__max_depth=10, models__min_samples_leaf=3, preprocessor__ohe=passthrough; total time=   0.3s\n",
      "[CV] END models=DecisionTreeRegressor(random_state=42), models__max_depth=10, models__min_samples_leaf=3, preprocessor__ohe=passthrough; total time=   0.4s\n",
      "[CV] END models=DecisionTreeRegressor(random_state=42), models__max_depth=12, models__min_samples_leaf=2, preprocessor__ohe=passthrough; total time=   0.1s\n",
      "[CV] END models=DecisionTreeRegressor(random_state=42), models__max_depth=12, models__min_samples_leaf=2, preprocessor__ohe=passthrough; total time=   0.2s\n",
      "[CV] END models=DecisionTreeRegressor(random_state=42), models__max_depth=12, models__min_samples_leaf=2, preprocessor__ohe=passthrough; total time=   0.3s\n",
      "[CV] END models=DecisionTreeRegressor(random_state=42), models__max_depth=12, models__min_samples_leaf=2, preprocessor__ohe=passthrough; total time=   0.4s\n",
      "[CV] END models=DecisionTreeRegressor(random_state=42), models__max_depth=12, models__min_samples_leaf=2, preprocessor__ohe=passthrough; total time=   0.5s\n",
      "[CV] END .models=SVR(), models__C=17, models__kernel=sigmoid; total time=   0.2s\n",
      "[CV] END .models=SVR(), models__C=17, models__kernel=sigmoid; total time=   0.4s\n",
      "[CV] END .models=SVR(), models__C=17, models__kernel=sigmoid; total time=   0.8s\n",
      "[CV] END .models=SVR(), models__C=17, models__kernel=sigmoid; total time=   1.3s\n",
      "[CV] END .models=SVR(), models__C=17, models__kernel=sigmoid; total time=   2.0s\n",
      "[CV] END models=DecisionTreeRegressor(random_state=42), models__max_depth=8, models__min_samples_leaf=4, preprocessor__ohe=passthrough; total time=   0.1s\n",
      "[CV] END models=DecisionTreeRegressor(random_state=42), models__max_depth=8, models__min_samples_leaf=4, preprocessor__ohe=passthrough; total time=   0.1s\n",
      "[CV] END models=DecisionTreeRegressor(random_state=42), models__max_depth=8, models__min_samples_leaf=4, preprocessor__ohe=passthrough; total time=   0.2s\n",
      "[CV] END models=DecisionTreeRegressor(random_state=42), models__max_depth=8, models__min_samples_leaf=4, preprocessor__ohe=passthrough; total time=   0.3s\n",
      "[CV] END models=DecisionTreeRegressor(random_state=42), models__max_depth=8, models__min_samples_leaf=4, preprocessor__ohe=passthrough; total time=   0.3s\n",
      "[CV] END models=DecisionTreeRegressor(random_state=42), models__max_depth=14, models__min_samples_leaf=3, preprocessor__ohe=passthrough; total time=   0.1s\n",
      "[CV] END models=DecisionTreeRegressor(random_state=42), models__max_depth=14, models__min_samples_leaf=3, preprocessor__ohe=passthrough; total time=   0.2s\n",
      "[CV] END models=DecisionTreeRegressor(random_state=42), models__max_depth=14, models__min_samples_leaf=3, preprocessor__ohe=passthrough; total time=   0.3s\n",
      "[CV] END models=DecisionTreeRegressor(random_state=42), models__max_depth=14, models__min_samples_leaf=3, preprocessor__ohe=passthrough; total time=   0.4s\n",
      "[CV] END models=DecisionTreeRegressor(random_state=42), models__max_depth=14, models__min_samples_leaf=3, preprocessor__ohe=passthrough; total time=   0.5s\n",
      "[CV] END models=DecisionTreeRegressor(random_state=42), models__max_depth=12, models__min_samples_leaf=4, preprocessor__ohe=passthrough; total time=   0.1s\n",
      "[CV] END models=DecisionTreeRegressor(random_state=42), models__max_depth=12, models__min_samples_leaf=4, preprocessor__ohe=passthrough; total time=   0.2s\n",
      "[CV] END models=DecisionTreeRegressor(random_state=42), models__max_depth=12, models__min_samples_leaf=4, preprocessor__ohe=passthrough; total time=   0.3s\n",
      "[CV] END models=DecisionTreeRegressor(random_state=42), models__max_depth=12, models__min_samples_leaf=4, preprocessor__ohe=passthrough; total time=   0.3s\n",
      "[CV] END models=DecisionTreeRegressor(random_state=42), models__max_depth=12, models__min_samples_leaf=4, preprocessor__ohe=passthrough; total time=   0.4s\n",
      "[CV] END models=DecisionTreeRegressor(random_state=42), models__max_depth=6, models__min_samples_leaf=1, preprocessor__ohe=passthrough; total time=   0.1s\n",
      "[CV] END models=DecisionTreeRegressor(random_state=42), models__max_depth=6, models__min_samples_leaf=1, preprocessor__ohe=passthrough; total time=   0.1s\n",
      "[CV] END models=DecisionTreeRegressor(random_state=42), models__max_depth=6, models__min_samples_leaf=1, preprocessor__ohe=passthrough; total time=   0.2s\n",
      "[CV] END models=DecisionTreeRegressor(random_state=42), models__max_depth=6, models__min_samples_leaf=1, preprocessor__ohe=passthrough; total time=   0.2s\n",
      "[CV] END models=DecisionTreeRegressor(random_state=42), models__max_depth=6, models__min_samples_leaf=1, preprocessor__ohe=passthrough; total time=   0.2s\n",
      "[CV] END models=DecisionTreeRegressor(random_state=42), models__max_depth=8, models__min_samples_leaf=7, preprocessor__ohe=passthrough; total time=   0.1s\n",
      "[CV] END models=DecisionTreeRegressor(random_state=42), models__max_depth=8, models__min_samples_leaf=7, preprocessor__ohe=passthrough; total time=   0.1s\n",
      "[CV] END models=DecisionTreeRegressor(random_state=42), models__max_depth=8, models__min_samples_leaf=7, preprocessor__ohe=passthrough; total time=   0.2s\n",
      "[CV] END models=DecisionTreeRegressor(random_state=42), models__max_depth=8, models__min_samples_leaf=7, preprocessor__ohe=passthrough; total time=   0.3s\n",
      "[CV] END models=DecisionTreeRegressor(random_state=42), models__max_depth=8, models__min_samples_leaf=7, preprocessor__ohe=passthrough; total time=   0.3s\n",
      "[CV] END models=DecisionTreeRegressor(random_state=42), models__max_depth=12, models__min_samples_leaf=3, preprocessor__ohe=passthrough; total time=   0.1s\n",
      "[CV] END models=DecisionTreeRegressor(random_state=42), models__max_depth=12, models__min_samples_leaf=3, preprocessor__ohe=passthrough; total time=   0.2s\n",
      "[CV] END models=DecisionTreeRegressor(random_state=42), models__max_depth=12, models__min_samples_leaf=3, preprocessor__ohe=passthrough; total time=   0.3s\n",
      "[CV] END models=DecisionTreeRegressor(random_state=42), models__max_depth=12, models__min_samples_leaf=3, preprocessor__ohe=passthrough; total time=   0.4s\n",
      "[CV] END models=DecisionTreeRegressor(random_state=42), models__max_depth=12, models__min_samples_leaf=3, preprocessor__ohe=passthrough; total time=   0.5s\n",
      "[CV] END models=DecisionTreeRegressor(random_state=42), models__max_depth=7, models__min_samples_leaf=8, preprocessor__ohe=passthrough; total time=   0.1s\n",
      "[CV] END models=DecisionTreeRegressor(random_state=42), models__max_depth=7, models__min_samples_leaf=8, preprocessor__ohe=passthrough; total time=   0.1s\n",
      "[CV] END models=DecisionTreeRegressor(random_state=42), models__max_depth=7, models__min_samples_leaf=8, preprocessor__ohe=passthrough; total time=   0.2s\n",
      "[CV] END models=DecisionTreeRegressor(random_state=42), models__max_depth=7, models__min_samples_leaf=8, preprocessor__ohe=passthrough; total time=   0.2s\n",
      "[CV] END models=DecisionTreeRegressor(random_state=42), models__max_depth=7, models__min_samples_leaf=8, preprocessor__ohe=passthrough; total time=   0.3s\n",
      "[CV] END models=DecisionTreeRegressor(random_state=42), models__max_depth=13, models__min_samples_leaf=2, preprocessor__ohe=passthrough; total time=   0.1s\n",
      "[CV] END models=DecisionTreeRegressor(random_state=42), models__max_depth=13, models__min_samples_leaf=2, preprocessor__ohe=passthrough; total time=   0.2s\n",
      "[CV] END models=DecisionTreeRegressor(random_state=42), models__max_depth=13, models__min_samples_leaf=2, preprocessor__ohe=passthrough; total time=   0.3s\n",
      "[CV] END models=DecisionTreeRegressor(random_state=42), models__max_depth=13, models__min_samples_leaf=2, preprocessor__ohe=passthrough; total time=   0.4s\n",
      "[CV] END models=DecisionTreeRegressor(random_state=42), models__max_depth=13, models__min_samples_leaf=2, preprocessor__ohe=passthrough; total time=   0.5s\n",
      "[CV] END models=DecisionTreeRegressor(random_state=42), models__max_depth=8, models__min_samples_leaf=2, preprocessor__ohe=passthrough; total time=   0.1s\n",
      "[CV] END models=DecisionTreeRegressor(random_state=42), models__max_depth=8, models__min_samples_leaf=2, preprocessor__ohe=passthrough; total time=   0.2s\n",
      "[CV] END models=DecisionTreeRegressor(random_state=42), models__max_depth=8, models__min_samples_leaf=2, preprocessor__ohe=passthrough; total time=   0.2s\n",
      "[CV] END models=DecisionTreeRegressor(random_state=42), models__max_depth=8, models__min_samples_leaf=2, preprocessor__ohe=passthrough; total time=   0.3s\n",
      "[CV] END models=DecisionTreeRegressor(random_state=42), models__max_depth=8, models__min_samples_leaf=2, preprocessor__ohe=passthrough; total time=   0.3s\n",
      "[CV] END models=DecisionTreeRegressor(random_state=42), models__max_depth=11, models__min_samples_leaf=3, preprocessor__ohe=passthrough; total time=   0.1s\n",
      "[CV] END models=DecisionTreeRegressor(random_state=42), models__max_depth=11, models__min_samples_leaf=3, preprocessor__ohe=passthrough; total time=   0.2s\n",
      "[CV] END models=DecisionTreeRegressor(random_state=42), models__max_depth=11, models__min_samples_leaf=3, preprocessor__ohe=passthrough; total time=   0.3s\n",
      "[CV] END models=DecisionTreeRegressor(random_state=42), models__max_depth=11, models__min_samples_leaf=3, preprocessor__ohe=passthrough; total time=   0.4s\n",
      "[CV] END models=DecisionTreeRegressor(random_state=42), models__max_depth=11, models__min_samples_leaf=3, preprocessor__ohe=passthrough; total time=   0.4s\n",
      "[CV] END ....models=SVR(), models__C=24, models__kernel=poly; total time=   0.2s\n",
      "[CV] END ....models=SVR(), models__C=24, models__kernel=poly; total time=   0.8s\n",
      "[CV] END ....models=SVR(), models__C=24, models__kernel=poly; total time=   1.9s\n",
      "[CV] END ....models=SVR(), models__C=24, models__kernel=poly; total time=   3.6s\n",
      "[CV] END ....models=SVR(), models__C=24, models__kernel=poly; total time=   5.9s\n",
      "[CV] END models=DecisionTreeRegressor(random_state=42), models__max_depth=10, models__min_samples_leaf=9, preprocessor__ohe=passthrough; total time=   0.1s\n",
      "[CV] END models=DecisionTreeRegressor(random_state=42), models__max_depth=10, models__min_samples_leaf=9, preprocessor__ohe=passthrough; total time=   0.1s\n",
      "[CV] END models=DecisionTreeRegressor(random_state=42), models__max_depth=10, models__min_samples_leaf=9, preprocessor__ohe=passthrough; total time=   0.2s\n",
      "[CV] END models=DecisionTreeRegressor(random_state=42), models__max_depth=10, models__min_samples_leaf=9, preprocessor__ohe=passthrough; total time=   0.3s\n",
      "[CV] END models=DecisionTreeRegressor(random_state=42), models__max_depth=10, models__min_samples_leaf=9, preprocessor__ohe=passthrough; total time=   0.4s\n",
      "[CV] END models=DecisionTreeRegressor(random_state=42), models__max_depth=5, models__min_samples_leaf=6, preprocessor__ohe=passthrough; total time=   0.1s\n",
      "[CV] END models=DecisionTreeRegressor(random_state=42), models__max_depth=5, models__min_samples_leaf=6, preprocessor__ohe=passthrough; total time=   0.1s\n",
      "[CV] END models=DecisionTreeRegressor(random_state=42), models__max_depth=5, models__min_samples_leaf=6, preprocessor__ohe=passthrough; total time=   0.1s\n",
      "[CV] END models=DecisionTreeRegressor(random_state=42), models__max_depth=5, models__min_samples_leaf=6, preprocessor__ohe=passthrough; total time=   0.2s\n",
      "[CV] END models=DecisionTreeRegressor(random_state=42), models__max_depth=5, models__min_samples_leaf=6, preprocessor__ohe=passthrough; total time=   0.2s\n",
      "[CV] END models=DecisionTreeRegressor(random_state=42), models__max_depth=12, models__min_samples_leaf=5, preprocessor__ohe=passthrough; total time=   0.1s\n",
      "[CV] END models=DecisionTreeRegressor(random_state=42), models__max_depth=12, models__min_samples_leaf=5, preprocessor__ohe=passthrough; total time=   0.2s\n",
      "[CV] END models=DecisionTreeRegressor(random_state=42), models__max_depth=12, models__min_samples_leaf=5, preprocessor__ohe=passthrough; total time=   0.3s\n",
      "[CV] END models=DecisionTreeRegressor(random_state=42), models__max_depth=12, models__min_samples_leaf=5, preprocessor__ohe=passthrough; total time=   0.3s\n",
      "[CV] END models=DecisionTreeRegressor(random_state=42), models__max_depth=12, models__min_samples_leaf=5, preprocessor__ohe=passthrough; total time=   0.4s\n",
      "[CV] END ....models=SVR(), models__C=15, models__kernel=poly; total time=   0.2s\n",
      "[CV] END ....models=SVR(), models__C=15, models__kernel=poly; total time=   0.6s\n",
      "[CV] END ....models=SVR(), models__C=15, models__kernel=poly; total time=   1.4s\n",
      "[CV] END ....models=SVR(), models__C=15, models__kernel=poly; total time=   2.7s\n",
      "[CV] END ....models=SVR(), models__C=15, models__kernel=poly; total time=   4.3s\n",
      "[CV] END models=DecisionTreeRegressor(random_state=42), models__max_depth=9, models__min_samples_leaf=4, preprocessor__ohe=passthrough; total time=   0.1s\n",
      "[CV] END models=DecisionTreeRegressor(random_state=42), models__max_depth=9, models__min_samples_leaf=4, preprocessor__ohe=passthrough; total time=   0.1s\n",
      "[CV] END models=DecisionTreeRegressor(random_state=42), models__max_depth=9, models__min_samples_leaf=4, preprocessor__ohe=passthrough; total time=   0.2s\n",
      "[CV] END models=DecisionTreeRegressor(random_state=42), models__max_depth=9, models__min_samples_leaf=4, preprocessor__ohe=passthrough; total time=   0.3s\n",
      "[CV] END models=DecisionTreeRegressor(random_state=42), models__max_depth=9, models__min_samples_leaf=4, preprocessor__ohe=passthrough; total time=   0.4s\n",
      "[CV] END models=DecisionTreeRegressor(random_state=42), models__max_depth=10, models__min_samples_leaf=5, preprocessor__ohe=passthrough; total time=   0.1s\n",
      "[CV] END models=DecisionTreeRegressor(random_state=42), models__max_depth=10, models__min_samples_leaf=5, preprocessor__ohe=passthrough; total time=   0.2s\n",
      "[CV] END models=DecisionTreeRegressor(random_state=42), models__max_depth=10, models__min_samples_leaf=5, preprocessor__ohe=passthrough; total time=   0.2s\n",
      "[CV] END models=DecisionTreeRegressor(random_state=42), models__max_depth=10, models__min_samples_leaf=5, preprocessor__ohe=passthrough; total time=   0.3s\n",
      "[CV] END models=DecisionTreeRegressor(random_state=42), models__max_depth=10, models__min_samples_leaf=5, preprocessor__ohe=passthrough; total time=   0.4s\n",
      "[CV] END models=DecisionTreeRegressor(random_state=42), models__max_depth=8, models__min_samples_leaf=9, preprocessor__ohe=passthrough; total time=   0.1s\n",
      "[CV] END models=DecisionTreeRegressor(random_state=42), models__max_depth=8, models__min_samples_leaf=9, preprocessor__ohe=passthrough; total time=   0.1s\n",
      "[CV] END models=DecisionTreeRegressor(random_state=42), models__max_depth=8, models__min_samples_leaf=9, preprocessor__ohe=passthrough; total time=   0.2s\n",
      "[CV] END models=DecisionTreeRegressor(random_state=42), models__max_depth=8, models__min_samples_leaf=9, preprocessor__ohe=passthrough; total time=   0.2s\n",
      "[CV] END models=DecisionTreeRegressor(random_state=42), models__max_depth=8, models__min_samples_leaf=9, preprocessor__ohe=passthrough; total time=   0.4s\n",
      "[CV] END models=DecisionTreeRegressor(random_state=42), models__max_depth=6, models__min_samples_leaf=8, preprocessor__ohe=passthrough; total time=   0.1s\n",
      "[CV] END models=DecisionTreeRegressor(random_state=42), models__max_depth=6, models__min_samples_leaf=8, preprocessor__ohe=passthrough; total time=   0.1s\n",
      "[CV] END models=DecisionTreeRegressor(random_state=42), models__max_depth=6, models__min_samples_leaf=8, preprocessor__ohe=passthrough; total time=   0.2s\n",
      "[CV] END models=DecisionTreeRegressor(random_state=42), models__max_depth=6, models__min_samples_leaf=8, preprocessor__ohe=passthrough; total time=   0.2s\n",
      "[CV] END models=DecisionTreeRegressor(random_state=42), models__max_depth=6, models__min_samples_leaf=8, preprocessor__ohe=passthrough; total time=   0.3s\n",
      "[CV] END models=DecisionTreeRegressor(random_state=42), models__max_depth=12, models__min_samples_leaf=8, preprocessor__ohe=passthrough; total time=   0.1s\n",
      "[CV] END models=DecisionTreeRegressor(random_state=42), models__max_depth=12, models__min_samples_leaf=8, preprocessor__ohe=passthrough; total time=   0.2s\n",
      "[CV] END models=DecisionTreeRegressor(random_state=42), models__max_depth=12, models__min_samples_leaf=8, preprocessor__ohe=passthrough; total time=   0.2s\n",
      "[CV] END models=DecisionTreeRegressor(random_state=42), models__max_depth=12, models__min_samples_leaf=8, preprocessor__ohe=passthrough; total time=   0.3s\n",
      "[CV] END models=DecisionTreeRegressor(random_state=42), models__max_depth=12, models__min_samples_leaf=8, preprocessor__ohe=passthrough; total time=   0.4s\n",
      "[CV] END models=DecisionTreeRegressor(random_state=42), models__max_depth=8, models__min_samples_leaf=8, preprocessor__ohe=passthrough; total time=   0.1s\n",
      "[CV] END models=DecisionTreeRegressor(random_state=42), models__max_depth=8, models__min_samples_leaf=8, preprocessor__ohe=passthrough; total time=   0.1s\n",
      "[CV] END models=DecisionTreeRegressor(random_state=42), models__max_depth=8, models__min_samples_leaf=8, preprocessor__ohe=passthrough; total time=   0.2s\n",
      "[CV] END models=DecisionTreeRegressor(random_state=42), models__max_depth=8, models__min_samples_leaf=8, preprocessor__ohe=passthrough; total time=   0.2s\n",
      "[CV] END models=DecisionTreeRegressor(random_state=42), models__max_depth=8, models__min_samples_leaf=8, preprocessor__ohe=passthrough; total time=   0.3s\n",
      "[CV] END models=DecisionTreeRegressor(random_state=42), models__max_depth=14, models__min_samples_leaf=4, preprocessor__ohe=passthrough; total time=   0.1s\n",
      "[CV] END models=DecisionTreeRegressor(random_state=42), models__max_depth=14, models__min_samples_leaf=4, preprocessor__ohe=passthrough; total time=   0.2s\n",
      "[CV] END models=DecisionTreeRegressor(random_state=42), models__max_depth=14, models__min_samples_leaf=4, preprocessor__ohe=passthrough; total time=   0.3s\n",
      "[CV] END models=DecisionTreeRegressor(random_state=42), models__max_depth=14, models__min_samples_leaf=4, preprocessor__ohe=passthrough; total time=   0.4s\n",
      "[CV] END models=DecisionTreeRegressor(random_state=42), models__max_depth=14, models__min_samples_leaf=4, preprocessor__ohe=passthrough; total time=   0.5s\n",
      "[CV] END models=DecisionTreeRegressor(random_state=42), models__max_depth=5, models__min_samples_leaf=8, preprocessor__ohe=passthrough; total time=   0.1s\n",
      "[CV] END models=DecisionTreeRegressor(random_state=42), models__max_depth=5, models__min_samples_leaf=8, preprocessor__ohe=passthrough; total time=   0.1s\n",
      "[CV] END models=DecisionTreeRegressor(random_state=42), models__max_depth=5, models__min_samples_leaf=8, preprocessor__ohe=passthrough; total time=   0.1s\n",
      "[CV] END models=DecisionTreeRegressor(random_state=42), models__max_depth=5, models__min_samples_leaf=8, preprocessor__ohe=passthrough; total time=   0.2s\n",
      "[CV] END models=DecisionTreeRegressor(random_state=42), models__max_depth=5, models__min_samples_leaf=8, preprocessor__ohe=passthrough; total time=   0.2s\n",
      "[CV] END models=DecisionTreeRegressor(random_state=42), models__max_depth=9, models__min_samples_leaf=8, preprocessor__ohe=passthrough; total time=   0.1s\n",
      "[CV] END models=DecisionTreeRegressor(random_state=42), models__max_depth=9, models__min_samples_leaf=8, preprocessor__ohe=passthrough; total time=   0.1s\n",
      "[CV] END models=DecisionTreeRegressor(random_state=42), models__max_depth=9, models__min_samples_leaf=8, preprocessor__ohe=passthrough; total time=   0.2s\n",
      "[CV] END models=DecisionTreeRegressor(random_state=42), models__max_depth=9, models__min_samples_leaf=8, preprocessor__ohe=passthrough; total time=   0.3s\n",
      "[CV] END models=DecisionTreeRegressor(random_state=42), models__max_depth=9, models__min_samples_leaf=8, preprocessor__ohe=passthrough; total time=   0.3s\n",
      "[CV] END ....models=SVR(), models__C=23, models__kernel=poly; total time=   0.2s\n",
      "[CV] END ....models=SVR(), models__C=23, models__kernel=poly; total time=   0.7s\n",
      "[CV] END ....models=SVR(), models__C=23, models__kernel=poly; total time=   1.8s\n",
      "[CV] END ....models=SVR(), models__C=23, models__kernel=poly; total time=   3.4s\n",
      "[CV] END ....models=SVR(), models__C=23, models__kernel=poly; total time=   5.6s\n",
      "[CV] END ....models=SVR(), models__C=22, models__kernel=poly; total time=   0.2s\n",
      "[CV] END ....models=SVR(), models__C=22, models__kernel=poly; total time=   0.7s\n",
      "[CV] END ....models=SVR(), models__C=22, models__kernel=poly; total time=   1.7s\n",
      "[CV] END ....models=SVR(), models__C=22, models__kernel=poly; total time=   3.3s\n",
      "[CV] END ....models=SVR(), models__C=22, models__kernel=poly; total time=   5.5s\n",
      "[CV] END .....models=SVR(), models__C=18, models__kernel=rbf; total time=   0.2s\n",
      "[CV] END .....models=SVR(), models__C=18, models__kernel=rbf; total time=   0.5s\n",
      "[CV] END .....models=SVR(), models__C=18, models__kernel=rbf; total time=   0.8s\n",
      "[CV] END .....models=SVR(), models__C=18, models__kernel=rbf; total time=   1.3s\n",
      "[CV] END .....models=SVR(), models__C=18, models__kernel=rbf; total time=   1.9s\n",
      "[CV] END models=DecisionTreeRegressor(random_state=42), models__max_depth=5, models__min_samples_leaf=9, preprocessor__ohe=passthrough; total time=   0.1s\n",
      "[CV] END models=DecisionTreeRegressor(random_state=42), models__max_depth=5, models__min_samples_leaf=9, preprocessor__ohe=passthrough; total time=   0.1s\n",
      "[CV] END models=DecisionTreeRegressor(random_state=42), models__max_depth=5, models__min_samples_leaf=9, preprocessor__ohe=passthrough; total time=   0.1s\n",
      "[CV] END models=DecisionTreeRegressor(random_state=42), models__max_depth=5, models__min_samples_leaf=9, preprocessor__ohe=passthrough; total time=   0.2s\n",
      "[CV] END models=DecisionTreeRegressor(random_state=42), models__max_depth=5, models__min_samples_leaf=9, preprocessor__ohe=passthrough; total time=   0.2s\n",
      "[CV] END models=DecisionTreeRegressor(random_state=42), models__max_depth=6, models__min_samples_leaf=5, preprocessor__ohe=passthrough; total time=   0.1s\n",
      "[CV] END models=DecisionTreeRegressor(random_state=42), models__max_depth=6, models__min_samples_leaf=5, preprocessor__ohe=passthrough; total time=   0.1s\n",
      "[CV] END models=DecisionTreeRegressor(random_state=42), models__max_depth=6, models__min_samples_leaf=5, preprocessor__ohe=passthrough; total time=   0.2s\n",
      "[CV] END models=DecisionTreeRegressor(random_state=42), models__max_depth=6, models__min_samples_leaf=5, preprocessor__ohe=passthrough; total time=   0.2s\n",
      "[CV] END models=DecisionTreeRegressor(random_state=42), models__max_depth=6, models__min_samples_leaf=5, preprocessor__ohe=passthrough; total time=   0.2s\n",
      "[CV] END models=DecisionTreeRegressor(random_state=42), models__max_depth=14, models__min_samples_leaf=9, preprocessor__ohe=passthrough; total time=   0.1s\n",
      "[CV] END models=DecisionTreeRegressor(random_state=42), models__max_depth=14, models__min_samples_leaf=9, preprocessor__ohe=passthrough; total time=   0.2s\n",
      "[CV] END models=DecisionTreeRegressor(random_state=42), models__max_depth=14, models__min_samples_leaf=9, preprocessor__ohe=passthrough; total time=   0.2s\n",
      "[CV] END models=DecisionTreeRegressor(random_state=42), models__max_depth=14, models__min_samples_leaf=9, preprocessor__ohe=passthrough; total time=   0.3s\n",
      "[CV] END models=DecisionTreeRegressor(random_state=42), models__max_depth=14, models__min_samples_leaf=9, preprocessor__ohe=passthrough; total time=   0.4s\n",
      "[CV] END models=DecisionTreeRegressor(random_state=42), models__max_depth=5, models__min_samples_leaf=4, preprocessor__ohe=passthrough; total time=   0.1s\n",
      "[CV] END models=DecisionTreeRegressor(random_state=42), models__max_depth=5, models__min_samples_leaf=4, preprocessor__ohe=passthrough; total time=   0.1s\n",
      "[CV] END models=DecisionTreeRegressor(random_state=42), models__max_depth=5, models__min_samples_leaf=4, preprocessor__ohe=passthrough; total time=   0.1s\n",
      "[CV] END models=DecisionTreeRegressor(random_state=42), models__max_depth=5, models__min_samples_leaf=4, preprocessor__ohe=passthrough; total time=   0.2s\n",
      "[CV] END models=DecisionTreeRegressor(random_state=42), models__max_depth=5, models__min_samples_leaf=4, preprocessor__ohe=passthrough; total time=   0.2s\n",
      "[CV] END models=DecisionTreeRegressor(random_state=42), models__max_depth=6, models__min_samples_leaf=9, preprocessor__ohe=passthrough; total time=   0.1s\n",
      "[CV] END models=DecisionTreeRegressor(random_state=42), models__max_depth=6, models__min_samples_leaf=9, preprocessor__ohe=passthrough; total time=   0.1s\n",
      "[CV] END models=DecisionTreeRegressor(random_state=42), models__max_depth=6, models__min_samples_leaf=9, preprocessor__ohe=passthrough; total time=   0.2s\n",
      "[CV] END models=DecisionTreeRegressor(random_state=42), models__max_depth=6, models__min_samples_leaf=9, preprocessor__ohe=passthrough; total time=   0.2s\n",
      "[CV] END models=DecisionTreeRegressor(random_state=42), models__max_depth=6, models__min_samples_leaf=9, preprocessor__ohe=passthrough; total time=   0.2s\n",
      "[CV] END models=DecisionTreeRegressor(random_state=42), models__max_depth=9, models__min_samples_leaf=3, preprocessor__ohe=passthrough; total time=   0.1s\n",
      "[CV] END models=DecisionTreeRegressor(random_state=42), models__max_depth=9, models__min_samples_leaf=3, preprocessor__ohe=passthrough; total time=   0.1s\n",
      "[CV] END models=DecisionTreeRegressor(random_state=42), models__max_depth=9, models__min_samples_leaf=3, preprocessor__ohe=passthrough; total time=   0.2s\n",
      "[CV] END models=DecisionTreeRegressor(random_state=42), models__max_depth=9, models__min_samples_leaf=3, preprocessor__ohe=passthrough; total time=   0.3s\n",
      "[CV] END models=DecisionTreeRegressor(random_state=42), models__max_depth=9, models__min_samples_leaf=3, preprocessor__ohe=passthrough; total time=   0.4s\n",
      "[CV] END models=DecisionTreeRegressor(random_state=42), models__max_depth=13, models__min_samples_leaf=1, preprocessor__ohe=passthrough; total time=   0.1s\n",
      "[CV] END models=DecisionTreeRegressor(random_state=42), models__max_depth=13, models__min_samples_leaf=1, preprocessor__ohe=passthrough; total time=   0.2s\n",
      "[CV] END models=DecisionTreeRegressor(random_state=42), models__max_depth=13, models__min_samples_leaf=1, preprocessor__ohe=passthrough; total time=   0.3s\n",
      "[CV] END models=DecisionTreeRegressor(random_state=42), models__max_depth=13, models__min_samples_leaf=1, preprocessor__ohe=passthrough; total time=   0.4s\n",
      "[CV] END models=DecisionTreeRegressor(random_state=42), models__max_depth=13, models__min_samples_leaf=1, preprocessor__ohe=passthrough; total time=   0.5s\n",
      "[CV] END ....models=SVR(), models__C=20, models__kernel=poly; total time=   0.2s\n",
      "[CV] END ....models=SVR(), models__C=20, models__kernel=poly; total time=   0.7s\n",
      "[CV] END ....models=SVR(), models__C=20, models__kernel=poly; total time=   1.7s\n",
      "[CV] END ....models=SVR(), models__C=20, models__kernel=poly; total time=   3.1s\n",
      "[CV] END ....models=SVR(), models__C=20, models__kernel=poly; total time=   5.2s\n",
      "[CV] END models=DecisionTreeRegressor(random_state=42), models__max_depth=5, models__min_samples_leaf=7, preprocessor__ohe=passthrough; total time=   0.1s\n",
      "[CV] END models=DecisionTreeRegressor(random_state=42), models__max_depth=5, models__min_samples_leaf=7, preprocessor__ohe=passthrough; total time=   0.1s\n",
      "[CV] END models=DecisionTreeRegressor(random_state=42), models__max_depth=5, models__min_samples_leaf=7, preprocessor__ohe=passthrough; total time=   0.1s\n",
      "[CV] END models=DecisionTreeRegressor(random_state=42), models__max_depth=5, models__min_samples_leaf=7, preprocessor__ohe=passthrough; total time=   0.2s\n",
      "[CV] END models=DecisionTreeRegressor(random_state=42), models__max_depth=5, models__min_samples_leaf=7, preprocessor__ohe=passthrough; total time=   0.2s\n",
      "[CV] END .models=SVR(), models__C=21, models__kernel=sigmoid; total time=   0.2s\n",
      "[CV] END .models=SVR(), models__C=21, models__kernel=sigmoid; total time=   0.4s\n",
      "[CV] END .models=SVR(), models__C=21, models__kernel=sigmoid; total time=   0.8s\n",
      "[CV] END .models=SVR(), models__C=21, models__kernel=sigmoid; total time=   1.3s\n",
      "[CV] END .models=SVR(), models__C=21, models__kernel=sigmoid; total time=   1.9s\n",
      "[CV] END ....models=SVR(), models__C=19, models__kernel=poly; total time=   0.2s\n",
      "[CV] END ....models=SVR(), models__C=19, models__kernel=poly; total time=   0.7s\n",
      "[CV] END ....models=SVR(), models__C=19, models__kernel=poly; total time=   1.6s\n",
      "[CV] END ....models=SVR(), models__C=19, models__kernel=poly; total time=   3.0s\n",
      "[CV] END ....models=SVR(), models__C=19, models__kernel=poly; total time=   5.0s\n",
      "[CV] END .....models=SVR(), models__C=16, models__kernel=rbf; total time=   0.2s\n",
      "[CV] END .....models=SVR(), models__C=16, models__kernel=rbf; total time=   0.5s\n",
      "[CV] END .....models=SVR(), models__C=16, models__kernel=rbf; total time=   0.8s\n",
      "[CV] END .....models=SVR(), models__C=16, models__kernel=rbf; total time=   1.3s\n",
      "[CV] END .....models=SVR(), models__C=16, models__kernel=rbf; total time=   1.9s\n",
      "[CV] END models=DecisionTreeRegressor(random_state=42), models__max_depth=11, models__min_samples_leaf=1, preprocessor__ohe=passthrough; total time=   0.1s\n",
      "[CV] END models=DecisionTreeRegressor(random_state=42), models__max_depth=11, models__min_samples_leaf=1, preprocessor__ohe=passthrough; total time=   0.2s\n",
      "[CV] END models=DecisionTreeRegressor(random_state=42), models__max_depth=11, models__min_samples_leaf=1, preprocessor__ohe=passthrough; total time=   0.3s\n",
      "[CV] END models=DecisionTreeRegressor(random_state=42), models__max_depth=11, models__min_samples_leaf=1, preprocessor__ohe=passthrough; total time=   0.4s\n",
      "[CV] END models=DecisionTreeRegressor(random_state=42), models__max_depth=11, models__min_samples_leaf=1, preprocessor__ohe=passthrough; total time=   0.4s\n",
      "[CV] END models=DecisionTreeRegressor(random_state=42), models__max_depth=10, models__min_samples_leaf=6, preprocessor__ohe=passthrough; total time=   0.1s\n",
      "[CV] END models=DecisionTreeRegressor(random_state=42), models__max_depth=10, models__min_samples_leaf=6, preprocessor__ohe=passthrough; total time=   0.2s\n",
      "[CV] END models=DecisionTreeRegressor(random_state=42), models__max_depth=10, models__min_samples_leaf=6, preprocessor__ohe=passthrough; total time=   0.2s\n",
      "[CV] END models=DecisionTreeRegressor(random_state=42), models__max_depth=10, models__min_samples_leaf=6, preprocessor__ohe=passthrough; total time=   0.3s\n",
      "[CV] END models=DecisionTreeRegressor(random_state=42), models__max_depth=10, models__min_samples_leaf=6, preprocessor__ohe=passthrough; total time=   0.4s\n",
      "[CV] END models=DecisionTreeRegressor(random_state=42), models__max_depth=14, models__min_samples_leaf=5, preprocessor__ohe=passthrough; total time=   0.1s\n",
      "[CV] END models=DecisionTreeRegressor(random_state=42), models__max_depth=14, models__min_samples_leaf=5, preprocessor__ohe=passthrough; total time=   0.2s\n",
      "[CV] END models=DecisionTreeRegressor(random_state=42), models__max_depth=14, models__min_samples_leaf=5, preprocessor__ohe=passthrough; total time=   0.2s\n",
      "[CV] END models=DecisionTreeRegressor(random_state=42), models__max_depth=14, models__min_samples_leaf=5, preprocessor__ohe=passthrough; total time=   0.3s\n",
      "[CV] END models=DecisionTreeRegressor(random_state=42), models__max_depth=14, models__min_samples_leaf=5, preprocessor__ohe=passthrough; total time=   0.4s\n",
      "[CV] END models=DecisionTreeRegressor(random_state=42), models__max_depth=10, models__min_samples_leaf=2, preprocessor__ohe=passthrough; total time=   0.1s\n",
      "[CV] END models=DecisionTreeRegressor(random_state=42), models__max_depth=10, models__min_samples_leaf=2, preprocessor__ohe=passthrough; total time=   0.2s\n",
      "[CV] END models=DecisionTreeRegressor(random_state=42), models__max_depth=10, models__min_samples_leaf=2, preprocessor__ohe=passthrough; total time=   0.2s\n",
      "[CV] END models=DecisionTreeRegressor(random_state=42), models__max_depth=10, models__min_samples_leaf=2, preprocessor__ohe=passthrough; total time=   0.3s\n",
      "[CV] END models=DecisionTreeRegressor(random_state=42), models__max_depth=10, models__min_samples_leaf=2, preprocessor__ohe=passthrough; total time=   0.4s\n",
      "[CV] END .....models=SVR(), models__C=21, models__kernel=rbf; total time=   0.2s\n",
      "[CV] END .....models=SVR(), models__C=21, models__kernel=rbf; total time=   0.5s\n",
      "[CV] END .....models=SVR(), models__C=21, models__kernel=rbf; total time=   0.8s\n",
      "[CV] END .....models=SVR(), models__C=21, models__kernel=rbf; total time=   1.4s\n",
      "[CV] END .....models=SVR(), models__C=21, models__kernel=rbf; total time=   2.0s\n",
      "[CV] END models=DecisionTreeRegressor(random_state=42), models__max_depth=11, models__min_samples_leaf=8, preprocessor__ohe=passthrough; total time=   0.1s\n",
      "[CV] END models=DecisionTreeRegressor(random_state=42), models__max_depth=11, models__min_samples_leaf=8, preprocessor__ohe=passthrough; total time=   0.1s\n",
      "[CV] END models=DecisionTreeRegressor(random_state=42), models__max_depth=11, models__min_samples_leaf=8, preprocessor__ohe=passthrough; total time=   0.2s\n",
      "[CV] END models=DecisionTreeRegressor(random_state=42), models__max_depth=11, models__min_samples_leaf=8, preprocessor__ohe=passthrough; total time=   0.3s\n",
      "[CV] END models=DecisionTreeRegressor(random_state=42), models__max_depth=11, models__min_samples_leaf=8, preprocessor__ohe=passthrough; total time=   0.4s\n",
      "[CV] END .models=SVR(), models__C=23, models__kernel=sigmoid; total time=   0.2s\n",
      "[CV] END .models=SVR(), models__C=23, models__kernel=sigmoid; total time=   0.4s\n",
      "[CV] END .models=SVR(), models__C=23, models__kernel=sigmoid; total time=   0.8s\n",
      "[CV] END .models=SVR(), models__C=23, models__kernel=sigmoid; total time=   1.3s\n",
      "[CV] END .models=SVR(), models__C=23, models__kernel=sigmoid; total time=   1.9s\n",
      "[CV] END models=DecisionTreeRegressor(random_state=42), models__max_depth=13, models__min_samples_leaf=8, preprocessor__ohe=passthrough; total time=   0.1s\n",
      "[CV] END models=DecisionTreeRegressor(random_state=42), models__max_depth=13, models__min_samples_leaf=8, preprocessor__ohe=passthrough; total time=   0.2s\n",
      "[CV] END models=DecisionTreeRegressor(random_state=42), models__max_depth=13, models__min_samples_leaf=8, preprocessor__ohe=passthrough; total time=   0.2s\n",
      "[CV] END models=DecisionTreeRegressor(random_state=42), models__max_depth=13, models__min_samples_leaf=8, preprocessor__ohe=passthrough; total time=   0.3s\n",
      "[CV] END models=DecisionTreeRegressor(random_state=42), models__max_depth=13, models__min_samples_leaf=8, preprocessor__ohe=passthrough; total time=   0.4s\n",
      "[CV] END ....models=SVR(), models__C=16, models__kernel=poly; total time=   0.2s\n",
      "[CV] END ....models=SVR(), models__C=16, models__kernel=poly; total time=   0.6s\n",
      "[CV] END ....models=SVR(), models__C=16, models__kernel=poly; total time=   1.5s\n",
      "[CV] END ....models=SVR(), models__C=16, models__kernel=poly; total time=   2.8s\n",
      "[CV] END ....models=SVR(), models__C=16, models__kernel=poly; total time=   4.6s\n",
      "[CV] END models=DecisionTreeRegressor(random_state=42), models__max_depth=9, models__min_samples_leaf=6, preprocessor__ohe=passthrough; total time=   0.1s\n",
      "[CV] END models=DecisionTreeRegressor(random_state=42), models__max_depth=9, models__min_samples_leaf=6, preprocessor__ohe=passthrough; total time=   0.1s\n",
      "[CV] END models=DecisionTreeRegressor(random_state=42), models__max_depth=9, models__min_samples_leaf=6, preprocessor__ohe=passthrough; total time=   0.2s\n",
      "[CV] END models=DecisionTreeRegressor(random_state=42), models__max_depth=9, models__min_samples_leaf=6, preprocessor__ohe=passthrough; total time=   0.3s\n",
      "[CV] END models=DecisionTreeRegressor(random_state=42), models__max_depth=9, models__min_samples_leaf=6, preprocessor__ohe=passthrough; total time=   0.3s\n",
      "[CV] END models=DecisionTreeRegressor(random_state=42), models__max_depth=11, models__min_samples_leaf=5, preprocessor__ohe=passthrough; total time=   0.1s\n",
      "[CV] END models=DecisionTreeRegressor(random_state=42), models__max_depth=11, models__min_samples_leaf=5, preprocessor__ohe=passthrough; total time=   0.2s\n",
      "[CV] END models=DecisionTreeRegressor(random_state=42), models__max_depth=11, models__min_samples_leaf=5, preprocessor__ohe=passthrough; total time=   0.2s\n",
      "[CV] END models=DecisionTreeRegressor(random_state=42), models__max_depth=11, models__min_samples_leaf=5, preprocessor__ohe=passthrough; total time=   0.3s\n",
      "[CV] END models=DecisionTreeRegressor(random_state=42), models__max_depth=11, models__min_samples_leaf=5, preprocessor__ohe=passthrough; total time=   0.4s\n",
      "[CV] END .............models=ElasticNet(), models__alpha=0.1; total time=   0.2s\n",
      "[CV] END .............models=ElasticNet(), models__alpha=0.1; total time=   0.4s\n",
      "[CV] END .............models=ElasticNet(), models__alpha=0.1; total time=   0.4s\n",
      "[CV] END .............models=ElasticNet(), models__alpha=0.1; total time=   0.4s\n",
      "[CV] END .............models=ElasticNet(), models__alpha=0.1; total time=   0.5s\n",
      "[CV] END models=DecisionTreeRegressor(random_state=42), models__max_depth=10, models__min_samples_leaf=4, preprocessor__ohe=passthrough; total time=   0.3s\n",
      "[CV] END models=DecisionTreeRegressor(random_state=42), models__max_depth=10, models__min_samples_leaf=4, preprocessor__ohe=passthrough; total time=   0.2s\n",
      "[CV] END models=DecisionTreeRegressor(random_state=42), models__max_depth=10, models__min_samples_leaf=4, preprocessor__ohe=passthrough; total time=   0.3s\n",
      "[CV] END models=DecisionTreeRegressor(random_state=42), models__max_depth=10, models__min_samples_leaf=4, preprocessor__ohe=passthrough; total time=   0.3s\n",
      "[CV] END models=DecisionTreeRegressor(random_state=42), models__max_depth=10, models__min_samples_leaf=4, preprocessor__ohe=passthrough; total time=   0.4s\n",
      "[CV] END models=DecisionTreeRegressor(random_state=42), models__max_depth=14, models__min_samples_leaf=8, preprocessor__ohe=passthrough; total time=   0.1s\n",
      "[CV] END models=DecisionTreeRegressor(random_state=42), models__max_depth=14, models__min_samples_leaf=8, preprocessor__ohe=passthrough; total time=   0.2s\n",
      "[CV] END models=DecisionTreeRegressor(random_state=42), models__max_depth=14, models__min_samples_leaf=8, preprocessor__ohe=passthrough; total time=   0.2s\n",
      "[CV] END models=DecisionTreeRegressor(random_state=42), models__max_depth=14, models__min_samples_leaf=8, preprocessor__ohe=passthrough; total time=   0.3s\n",
      "[CV] END models=DecisionTreeRegressor(random_state=42), models__max_depth=14, models__min_samples_leaf=8, preprocessor__ohe=passthrough; total time=   0.4s\n",
      "[CV] END .models=SVR(), models__C=18, models__kernel=sigmoid; total time=   0.2s\n",
      "[CV] END .models=SVR(), models__C=18, models__kernel=sigmoid; total time=   0.4s\n",
      "[CV] END .models=SVR(), models__C=18, models__kernel=sigmoid; total time=   0.8s\n",
      "[CV] END .models=SVR(), models__C=18, models__kernel=sigmoid; total time=   1.3s\n",
      "[CV] END .models=SVR(), models__C=18, models__kernel=sigmoid; total time=   1.9s\n",
      "[CV] END models=DecisionTreeRegressor(random_state=42), models__max_depth=11, models__min_samples_leaf=4, preprocessor__ohe=passthrough; total time=   0.1s\n",
      "[CV] END models=DecisionTreeRegressor(random_state=42), models__max_depth=11, models__min_samples_leaf=4, preprocessor__ohe=passthrough; total time=   0.2s\n",
      "[CV] END models=DecisionTreeRegressor(random_state=42), models__max_depth=11, models__min_samples_leaf=4, preprocessor__ohe=passthrough; total time=   0.2s\n",
      "[CV] END models=DecisionTreeRegressor(random_state=42), models__max_depth=11, models__min_samples_leaf=4, preprocessor__ohe=passthrough; total time=   0.3s\n",
      "[CV] END models=DecisionTreeRegressor(random_state=42), models__max_depth=11, models__min_samples_leaf=4, preprocessor__ohe=passthrough; total time=   0.4s\n",
      "[CV] END models=DecisionTreeRegressor(random_state=42), models__max_depth=13, models__min_samples_leaf=4, preprocessor__ohe=passthrough; total time=   0.1s\n",
      "[CV] END models=DecisionTreeRegressor(random_state=42), models__max_depth=13, models__min_samples_leaf=4, preprocessor__ohe=passthrough; total time=   0.2s\n",
      "[CV] END models=DecisionTreeRegressor(random_state=42), models__max_depth=13, models__min_samples_leaf=4, preprocessor__ohe=passthrough; total time=   0.3s\n",
      "[CV] END models=DecisionTreeRegressor(random_state=42), models__max_depth=13, models__min_samples_leaf=4, preprocessor__ohe=passthrough; total time=   0.3s\n",
      "[CV] END models=DecisionTreeRegressor(random_state=42), models__max_depth=13, models__min_samples_leaf=4, preprocessor__ohe=passthrough; total time=   0.4s\n",
      "[CV] END models=DecisionTreeRegressor(random_state=42), models__max_depth=8, models__min_samples_leaf=6, preprocessor__ohe=passthrough; total time=   0.1s\n",
      "[CV] END models=DecisionTreeRegressor(random_state=42), models__max_depth=8, models__min_samples_leaf=6, preprocessor__ohe=passthrough; total time=   0.1s\n",
      "[CV] END models=DecisionTreeRegressor(random_state=42), models__max_depth=8, models__min_samples_leaf=6, preprocessor__ohe=passthrough; total time=   0.2s\n",
      "[CV] END models=DecisionTreeRegressor(random_state=42), models__max_depth=8, models__min_samples_leaf=6, preprocessor__ohe=passthrough; total time=   0.3s\n",
      "[CV] END models=DecisionTreeRegressor(random_state=42), models__max_depth=8, models__min_samples_leaf=6, preprocessor__ohe=passthrough; total time=   0.3s\n",
      "[CV] END .....models=SVR(), models__C=22, models__kernel=rbf; total time=   0.2s\n",
      "[CV] END .....models=SVR(), models__C=22, models__kernel=rbf; total time=   0.4s\n",
      "[CV] END .....models=SVR(), models__C=22, models__kernel=rbf; total time=   0.9s\n",
      "[CV] END .....models=SVR(), models__C=22, models__kernel=rbf; total time=   1.3s\n",
      "[CV] END .....models=SVR(), models__C=22, models__kernel=rbf; total time=   1.9s\n"
     ]
    },
    {
     "data": {
      "text/html": [
       "<style>#sk-container-id-1 {\n",
       "  /* Definition of color scheme common for light and dark mode */\n",
       "  --sklearn-color-text: #000;\n",
       "  --sklearn-color-text-muted: #666;\n",
       "  --sklearn-color-line: gray;\n",
       "  /* Definition of color scheme for unfitted estimators */\n",
       "  --sklearn-color-unfitted-level-0: #fff5e6;\n",
       "  --sklearn-color-unfitted-level-1: #f6e4d2;\n",
       "  --sklearn-color-unfitted-level-2: #ffe0b3;\n",
       "  --sklearn-color-unfitted-level-3: chocolate;\n",
       "  /* Definition of color scheme for fitted estimators */\n",
       "  --sklearn-color-fitted-level-0: #f0f8ff;\n",
       "  --sklearn-color-fitted-level-1: #d4ebff;\n",
       "  --sklearn-color-fitted-level-2: #b3dbfd;\n",
       "  --sklearn-color-fitted-level-3: cornflowerblue;\n",
       "\n",
       "  /* Specific color for light theme */\n",
       "  --sklearn-color-text-on-default-background: var(--sg-text-color, var(--theme-code-foreground, var(--jp-content-font-color1, black)));\n",
       "  --sklearn-color-background: var(--sg-background-color, var(--theme-background, var(--jp-layout-color0, white)));\n",
       "  --sklearn-color-border-box: var(--sg-text-color, var(--theme-code-foreground, var(--jp-content-font-color1, black)));\n",
       "  --sklearn-color-icon: #696969;\n",
       "\n",
       "  @media (prefers-color-scheme: dark) {\n",
       "    /* Redefinition of color scheme for dark theme */\n",
       "    --sklearn-color-text-on-default-background: var(--sg-text-color, var(--theme-code-foreground, var(--jp-content-font-color1, white)));\n",
       "    --sklearn-color-background: var(--sg-background-color, var(--theme-background, var(--jp-layout-color0, #111)));\n",
       "    --sklearn-color-border-box: var(--sg-text-color, var(--theme-code-foreground, var(--jp-content-font-color1, white)));\n",
       "    --sklearn-color-icon: #878787;\n",
       "  }\n",
       "}\n",
       "\n",
       "#sk-container-id-1 {\n",
       "  color: var(--sklearn-color-text);\n",
       "}\n",
       "\n",
       "#sk-container-id-1 pre {\n",
       "  padding: 0;\n",
       "}\n",
       "\n",
       "#sk-container-id-1 input.sk-hidden--visually {\n",
       "  border: 0;\n",
       "  clip: rect(1px 1px 1px 1px);\n",
       "  clip: rect(1px, 1px, 1px, 1px);\n",
       "  height: 1px;\n",
       "  margin: -1px;\n",
       "  overflow: hidden;\n",
       "  padding: 0;\n",
       "  position: absolute;\n",
       "  width: 1px;\n",
       "}\n",
       "\n",
       "#sk-container-id-1 div.sk-dashed-wrapped {\n",
       "  border: 1px dashed var(--sklearn-color-line);\n",
       "  margin: 0 0.4em 0.5em 0.4em;\n",
       "  box-sizing: border-box;\n",
       "  padding-bottom: 0.4em;\n",
       "  background-color: var(--sklearn-color-background);\n",
       "}\n",
       "\n",
       "#sk-container-id-1 div.sk-container {\n",
       "  /* jupyter's `normalize.less` sets `[hidden] { display: none; }`\n",
       "     but bootstrap.min.css set `[hidden] { display: none !important; }`\n",
       "     so we also need the `!important` here to be able to override the\n",
       "     default hidden behavior on the sphinx rendered scikit-learn.org.\n",
       "     See: https://github.com/scikit-learn/scikit-learn/issues/21755 */\n",
       "  display: inline-block !important;\n",
       "  position: relative;\n",
       "}\n",
       "\n",
       "#sk-container-id-1 div.sk-text-repr-fallback {\n",
       "  display: none;\n",
       "}\n",
       "\n",
       "div.sk-parallel-item,\n",
       "div.sk-serial,\n",
       "div.sk-item {\n",
       "  /* draw centered vertical line to link estimators */\n",
       "  background-image: linear-gradient(var(--sklearn-color-text-on-default-background), var(--sklearn-color-text-on-default-background));\n",
       "  background-size: 2px 100%;\n",
       "  background-repeat: no-repeat;\n",
       "  background-position: center center;\n",
       "}\n",
       "\n",
       "/* Parallel-specific style estimator block */\n",
       "\n",
       "#sk-container-id-1 div.sk-parallel-item::after {\n",
       "  content: \"\";\n",
       "  width: 100%;\n",
       "  border-bottom: 2px solid var(--sklearn-color-text-on-default-background);\n",
       "  flex-grow: 1;\n",
       "}\n",
       "\n",
       "#sk-container-id-1 div.sk-parallel {\n",
       "  display: flex;\n",
       "  align-items: stretch;\n",
       "  justify-content: center;\n",
       "  background-color: var(--sklearn-color-background);\n",
       "  position: relative;\n",
       "}\n",
       "\n",
       "#sk-container-id-1 div.sk-parallel-item {\n",
       "  display: flex;\n",
       "  flex-direction: column;\n",
       "}\n",
       "\n",
       "#sk-container-id-1 div.sk-parallel-item:first-child::after {\n",
       "  align-self: flex-end;\n",
       "  width: 50%;\n",
       "}\n",
       "\n",
       "#sk-container-id-1 div.sk-parallel-item:last-child::after {\n",
       "  align-self: flex-start;\n",
       "  width: 50%;\n",
       "}\n",
       "\n",
       "#sk-container-id-1 div.sk-parallel-item:only-child::after {\n",
       "  width: 0;\n",
       "}\n",
       "\n",
       "/* Serial-specific style estimator block */\n",
       "\n",
       "#sk-container-id-1 div.sk-serial {\n",
       "  display: flex;\n",
       "  flex-direction: column;\n",
       "  align-items: center;\n",
       "  background-color: var(--sklearn-color-background);\n",
       "  padding-right: 1em;\n",
       "  padding-left: 1em;\n",
       "}\n",
       "\n",
       "\n",
       "/* Toggleable style: style used for estimator/Pipeline/ColumnTransformer box that is\n",
       "clickable and can be expanded/collapsed.\n",
       "- Pipeline and ColumnTransformer use this feature and define the default style\n",
       "- Estimators will overwrite some part of the style using the `sk-estimator` class\n",
       "*/\n",
       "\n",
       "/* Pipeline and ColumnTransformer style (default) */\n",
       "\n",
       "#sk-container-id-1 div.sk-toggleable {\n",
       "  /* Default theme specific background. It is overwritten whether we have a\n",
       "  specific estimator or a Pipeline/ColumnTransformer */\n",
       "  background-color: var(--sklearn-color-background);\n",
       "}\n",
       "\n",
       "/* Toggleable label */\n",
       "#sk-container-id-1 label.sk-toggleable__label {\n",
       "  cursor: pointer;\n",
       "  display: flex;\n",
       "  width: 100%;\n",
       "  margin-bottom: 0;\n",
       "  padding: 0.5em;\n",
       "  box-sizing: border-box;\n",
       "  text-align: center;\n",
       "  align-items: start;\n",
       "  justify-content: space-between;\n",
       "  gap: 0.5em;\n",
       "}\n",
       "\n",
       "#sk-container-id-1 label.sk-toggleable__label .caption {\n",
       "  font-size: 0.6rem;\n",
       "  font-weight: lighter;\n",
       "  color: var(--sklearn-color-text-muted);\n",
       "}\n",
       "\n",
       "#sk-container-id-1 label.sk-toggleable__label-arrow:before {\n",
       "  /* Arrow on the left of the label */\n",
       "  content: \"▸\";\n",
       "  float: left;\n",
       "  margin-right: 0.25em;\n",
       "  color: var(--sklearn-color-icon);\n",
       "}\n",
       "\n",
       "#sk-container-id-1 label.sk-toggleable__label-arrow:hover:before {\n",
       "  color: var(--sklearn-color-text);\n",
       "}\n",
       "\n",
       "/* Toggleable content - dropdown */\n",
       "\n",
       "#sk-container-id-1 div.sk-toggleable__content {\n",
       "  max-height: 0;\n",
       "  max-width: 0;\n",
       "  overflow: hidden;\n",
       "  text-align: left;\n",
       "  /* unfitted */\n",
       "  background-color: var(--sklearn-color-unfitted-level-0);\n",
       "}\n",
       "\n",
       "#sk-container-id-1 div.sk-toggleable__content.fitted {\n",
       "  /* fitted */\n",
       "  background-color: var(--sklearn-color-fitted-level-0);\n",
       "}\n",
       "\n",
       "#sk-container-id-1 div.sk-toggleable__content pre {\n",
       "  margin: 0.2em;\n",
       "  border-radius: 0.25em;\n",
       "  color: var(--sklearn-color-text);\n",
       "  /* unfitted */\n",
       "  background-color: var(--sklearn-color-unfitted-level-0);\n",
       "}\n",
       "\n",
       "#sk-container-id-1 div.sk-toggleable__content.fitted pre {\n",
       "  /* unfitted */\n",
       "  background-color: var(--sklearn-color-fitted-level-0);\n",
       "}\n",
       "\n",
       "#sk-container-id-1 input.sk-toggleable__control:checked~div.sk-toggleable__content {\n",
       "  /* Expand drop-down */\n",
       "  max-height: 200px;\n",
       "  max-width: 100%;\n",
       "  overflow: auto;\n",
       "}\n",
       "\n",
       "#sk-container-id-1 input.sk-toggleable__control:checked~label.sk-toggleable__label-arrow:before {\n",
       "  content: \"▾\";\n",
       "}\n",
       "\n",
       "/* Pipeline/ColumnTransformer-specific style */\n",
       "\n",
       "#sk-container-id-1 div.sk-label input.sk-toggleable__control:checked~label.sk-toggleable__label {\n",
       "  color: var(--sklearn-color-text);\n",
       "  background-color: var(--sklearn-color-unfitted-level-2);\n",
       "}\n",
       "\n",
       "#sk-container-id-1 div.sk-label.fitted input.sk-toggleable__control:checked~label.sk-toggleable__label {\n",
       "  background-color: var(--sklearn-color-fitted-level-2);\n",
       "}\n",
       "\n",
       "/* Estimator-specific style */\n",
       "\n",
       "/* Colorize estimator box */\n",
       "#sk-container-id-1 div.sk-estimator input.sk-toggleable__control:checked~label.sk-toggleable__label {\n",
       "  /* unfitted */\n",
       "  background-color: var(--sklearn-color-unfitted-level-2);\n",
       "}\n",
       "\n",
       "#sk-container-id-1 div.sk-estimator.fitted input.sk-toggleable__control:checked~label.sk-toggleable__label {\n",
       "  /* fitted */\n",
       "  background-color: var(--sklearn-color-fitted-level-2);\n",
       "}\n",
       "\n",
       "#sk-container-id-1 div.sk-label label.sk-toggleable__label,\n",
       "#sk-container-id-1 div.sk-label label {\n",
       "  /* The background is the default theme color */\n",
       "  color: var(--sklearn-color-text-on-default-background);\n",
       "}\n",
       "\n",
       "/* On hover, darken the color of the background */\n",
       "#sk-container-id-1 div.sk-label:hover label.sk-toggleable__label {\n",
       "  color: var(--sklearn-color-text);\n",
       "  background-color: var(--sklearn-color-unfitted-level-2);\n",
       "}\n",
       "\n",
       "/* Label box, darken color on hover, fitted */\n",
       "#sk-container-id-1 div.sk-label.fitted:hover label.sk-toggleable__label.fitted {\n",
       "  color: var(--sklearn-color-text);\n",
       "  background-color: var(--sklearn-color-fitted-level-2);\n",
       "}\n",
       "\n",
       "/* Estimator label */\n",
       "\n",
       "#sk-container-id-1 div.sk-label label {\n",
       "  font-family: monospace;\n",
       "  font-weight: bold;\n",
       "  display: inline-block;\n",
       "  line-height: 1.2em;\n",
       "}\n",
       "\n",
       "#sk-container-id-1 div.sk-label-container {\n",
       "  text-align: center;\n",
       "}\n",
       "\n",
       "/* Estimator-specific */\n",
       "#sk-container-id-1 div.sk-estimator {\n",
       "  font-family: monospace;\n",
       "  border: 1px dotted var(--sklearn-color-border-box);\n",
       "  border-radius: 0.25em;\n",
       "  box-sizing: border-box;\n",
       "  margin-bottom: 0.5em;\n",
       "  /* unfitted */\n",
       "  background-color: var(--sklearn-color-unfitted-level-0);\n",
       "}\n",
       "\n",
       "#sk-container-id-1 div.sk-estimator.fitted {\n",
       "  /* fitted */\n",
       "  background-color: var(--sklearn-color-fitted-level-0);\n",
       "}\n",
       "\n",
       "/* on hover */\n",
       "#sk-container-id-1 div.sk-estimator:hover {\n",
       "  /* unfitted */\n",
       "  background-color: var(--sklearn-color-unfitted-level-2);\n",
       "}\n",
       "\n",
       "#sk-container-id-1 div.sk-estimator.fitted:hover {\n",
       "  /* fitted */\n",
       "  background-color: var(--sklearn-color-fitted-level-2);\n",
       "}\n",
       "\n",
       "/* Specification for estimator info (e.g. \"i\" and \"?\") */\n",
       "\n",
       "/* Common style for \"i\" and \"?\" */\n",
       "\n",
       ".sk-estimator-doc-link,\n",
       "a:link.sk-estimator-doc-link,\n",
       "a:visited.sk-estimator-doc-link {\n",
       "  float: right;\n",
       "  font-size: smaller;\n",
       "  line-height: 1em;\n",
       "  font-family: monospace;\n",
       "  background-color: var(--sklearn-color-background);\n",
       "  border-radius: 1em;\n",
       "  height: 1em;\n",
       "  width: 1em;\n",
       "  text-decoration: none !important;\n",
       "  margin-left: 0.5em;\n",
       "  text-align: center;\n",
       "  /* unfitted */\n",
       "  border: var(--sklearn-color-unfitted-level-1) 1pt solid;\n",
       "  color: var(--sklearn-color-unfitted-level-1);\n",
       "}\n",
       "\n",
       ".sk-estimator-doc-link.fitted,\n",
       "a:link.sk-estimator-doc-link.fitted,\n",
       "a:visited.sk-estimator-doc-link.fitted {\n",
       "  /* fitted */\n",
       "  border: var(--sklearn-color-fitted-level-1) 1pt solid;\n",
       "  color: var(--sklearn-color-fitted-level-1);\n",
       "}\n",
       "\n",
       "/* On hover */\n",
       "div.sk-estimator:hover .sk-estimator-doc-link:hover,\n",
       ".sk-estimator-doc-link:hover,\n",
       "div.sk-label-container:hover .sk-estimator-doc-link:hover,\n",
       ".sk-estimator-doc-link:hover {\n",
       "  /* unfitted */\n",
       "  background-color: var(--sklearn-color-unfitted-level-3);\n",
       "  color: var(--sklearn-color-background);\n",
       "  text-decoration: none;\n",
       "}\n",
       "\n",
       "div.sk-estimator.fitted:hover .sk-estimator-doc-link.fitted:hover,\n",
       ".sk-estimator-doc-link.fitted:hover,\n",
       "div.sk-label-container:hover .sk-estimator-doc-link.fitted:hover,\n",
       ".sk-estimator-doc-link.fitted:hover {\n",
       "  /* fitted */\n",
       "  background-color: var(--sklearn-color-fitted-level-3);\n",
       "  color: var(--sklearn-color-background);\n",
       "  text-decoration: none;\n",
       "}\n",
       "\n",
       "/* Span, style for the box shown on hovering the info icon */\n",
       ".sk-estimator-doc-link span {\n",
       "  display: none;\n",
       "  z-index: 9999;\n",
       "  position: relative;\n",
       "  font-weight: normal;\n",
       "  right: .2ex;\n",
       "  padding: .5ex;\n",
       "  margin: .5ex;\n",
       "  width: min-content;\n",
       "  min-width: 20ex;\n",
       "  max-width: 50ex;\n",
       "  color: var(--sklearn-color-text);\n",
       "  box-shadow: 2pt 2pt 4pt #999;\n",
       "  /* unfitted */\n",
       "  background: var(--sklearn-color-unfitted-level-0);\n",
       "  border: .5pt solid var(--sklearn-color-unfitted-level-3);\n",
       "}\n",
       "\n",
       ".sk-estimator-doc-link.fitted span {\n",
       "  /* fitted */\n",
       "  background: var(--sklearn-color-fitted-level-0);\n",
       "  border: var(--sklearn-color-fitted-level-3);\n",
       "}\n",
       "\n",
       ".sk-estimator-doc-link:hover span {\n",
       "  display: block;\n",
       "}\n",
       "\n",
       "/* \"?\"-specific style due to the `<a>` HTML tag */\n",
       "\n",
       "#sk-container-id-1 a.estimator_doc_link {\n",
       "  float: right;\n",
       "  font-size: 1rem;\n",
       "  line-height: 1em;\n",
       "  font-family: monospace;\n",
       "  background-color: var(--sklearn-color-background);\n",
       "  border-radius: 1rem;\n",
       "  height: 1rem;\n",
       "  width: 1rem;\n",
       "  text-decoration: none;\n",
       "  /* unfitted */\n",
       "  color: var(--sklearn-color-unfitted-level-1);\n",
       "  border: var(--sklearn-color-unfitted-level-1) 1pt solid;\n",
       "}\n",
       "\n",
       "#sk-container-id-1 a.estimator_doc_link.fitted {\n",
       "  /* fitted */\n",
       "  border: var(--sklearn-color-fitted-level-1) 1pt solid;\n",
       "  color: var(--sklearn-color-fitted-level-1);\n",
       "}\n",
       "\n",
       "/* On hover */\n",
       "#sk-container-id-1 a.estimator_doc_link:hover {\n",
       "  /* unfitted */\n",
       "  background-color: var(--sklearn-color-unfitted-level-3);\n",
       "  color: var(--sklearn-color-background);\n",
       "  text-decoration: none;\n",
       "}\n",
       "\n",
       "#sk-container-id-1 a.estimator_doc_link.fitted:hover {\n",
       "  /* fitted */\n",
       "  background-color: var(--sklearn-color-fitted-level-3);\n",
       "}\n",
       "</style><div id=\"sk-container-id-1\" class=\"sk-top-container\"><div class=\"sk-text-repr-fallback\"><pre>RandomizedSearchCV(cv=TimeSeriesSplit(gap=0, max_train_size=None, n_splits=5, test_size=None),\n",
       "                   estimator=Pipeline(steps=[(&#x27;preprocessor&#x27;,\n",
       "                                              ColumnTransformer(remainder=&#x27;passthrough&#x27;,\n",
       "                                                                transformers=[(&#x27;ohe&#x27;,\n",
       "                                                                               Pipeline(steps=[(&#x27;SimpleImputer_before_ohe&#x27;,\n",
       "                                                                                                SimpleImputer(strategy=&#x27;most_frequent&#x27;)),\n",
       "                                                                                               (&#x27;ohe&#x27;,\n",
       "                                                                                                OneHotEncoder(drop=&#x27;first&#x27;,\n",
       "                                                                                                              handle_unknown=&#x27;ignore&#x27;,\n",
       "                                                                                                              sparse_outp...\n",
       "                                         &#x27;models__min_samples_leaf&#x27;: range(1, 10),\n",
       "                                         &#x27;preprocessor__ohe&#x27;: [&#x27;passthrough&#x27;]},\n",
       "                                        {&#x27;models&#x27;: [ElasticNet()],\n",
       "                                         &#x27;models__alpha&#x27;: array([0.1  , 0.325, 0.55 , 0.775, 1.   ])},\n",
       "                                        {&#x27;models&#x27;: [KNeighborsRegressor()],\n",
       "                                         &#x27;models__n_neighbors&#x27;: range(7, 9)},\n",
       "                                        {&#x27;models&#x27;: [SVR()],\n",
       "                                         &#x27;models__C&#x27;: range(15, 25),\n",
       "                                         &#x27;models__kernel&#x27;: [&#x27;poly&#x27;, &#x27;rbf&#x27;,\n",
       "                                                            &#x27;sigmoid&#x27;]}],\n",
       "                   random_state=42, scoring=&#x27;neg_root_mean_squared_error&#x27;,\n",
       "                   verbose=2)</pre><b>In a Jupyter environment, please rerun this cell to show the HTML representation or trust the notebook. <br />On GitHub, the HTML representation is unable to render, please try loading this page with nbviewer.org.</b></div><div class=\"sk-container\" hidden><div class=\"sk-item sk-dashed-wrapped\"><div class=\"sk-label-container\"><div class=\"sk-label fitted sk-toggleable\"><input class=\"sk-toggleable__control sk-hidden--visually\" id=\"sk-estimator-id-1\" type=\"checkbox\" ><label for=\"sk-estimator-id-1\" class=\"sk-toggleable__label fitted sk-toggleable__label-arrow\"><div><div>RandomizedSearchCV</div></div><div><a class=\"sk-estimator-doc-link fitted\" rel=\"noreferrer\" target=\"_blank\" href=\"https://scikit-learn.org/1.6/modules/generated/sklearn.model_selection.RandomizedSearchCV.html\">?<span>Documentation for RandomizedSearchCV</span></a><span class=\"sk-estimator-doc-link fitted\">i<span>Fitted</span></span></div></label><div class=\"sk-toggleable__content fitted\"><pre>RandomizedSearchCV(cv=TimeSeriesSplit(gap=0, max_train_size=None, n_splits=5, test_size=None),\n",
       "                   estimator=Pipeline(steps=[(&#x27;preprocessor&#x27;,\n",
       "                                              ColumnTransformer(remainder=&#x27;passthrough&#x27;,\n",
       "                                                                transformers=[(&#x27;ohe&#x27;,\n",
       "                                                                               Pipeline(steps=[(&#x27;SimpleImputer_before_ohe&#x27;,\n",
       "                                                                                                SimpleImputer(strategy=&#x27;most_frequent&#x27;)),\n",
       "                                                                                               (&#x27;ohe&#x27;,\n",
       "                                                                                                OneHotEncoder(drop=&#x27;first&#x27;,\n",
       "                                                                                                              handle_unknown=&#x27;ignore&#x27;,\n",
       "                                                                                                              sparse_outp...\n",
       "                                         &#x27;models__min_samples_leaf&#x27;: range(1, 10),\n",
       "                                         &#x27;preprocessor__ohe&#x27;: [&#x27;passthrough&#x27;]},\n",
       "                                        {&#x27;models&#x27;: [ElasticNet()],\n",
       "                                         &#x27;models__alpha&#x27;: array([0.1  , 0.325, 0.55 , 0.775, 1.   ])},\n",
       "                                        {&#x27;models&#x27;: [KNeighborsRegressor()],\n",
       "                                         &#x27;models__n_neighbors&#x27;: range(7, 9)},\n",
       "                                        {&#x27;models&#x27;: [SVR()],\n",
       "                                         &#x27;models__C&#x27;: range(15, 25),\n",
       "                                         &#x27;models__kernel&#x27;: [&#x27;poly&#x27;, &#x27;rbf&#x27;,\n",
       "                                                            &#x27;sigmoid&#x27;]}],\n",
       "                   random_state=42, scoring=&#x27;neg_root_mean_squared_error&#x27;,\n",
       "                   verbose=2)</pre></div> </div></div><div class=\"sk-parallel\"><div class=\"sk-parallel-item\"><div class=\"sk-item\"><div class=\"sk-label-container\"><div class=\"sk-label fitted sk-toggleable\"><input class=\"sk-toggleable__control sk-hidden--visually\" id=\"sk-estimator-id-2\" type=\"checkbox\" ><label for=\"sk-estimator-id-2\" class=\"sk-toggleable__label fitted sk-toggleable__label-arrow\"><div><div>best_estimator_: Pipeline</div></div></label><div class=\"sk-toggleable__content fitted\"><pre>Pipeline(steps=[(&#x27;preprocessor&#x27;,\n",
       "                 ColumnTransformer(remainder=&#x27;passthrough&#x27;,\n",
       "                                   transformers=[(&#x27;ohe&#x27;,\n",
       "                                                  Pipeline(steps=[(&#x27;SimpleImputer_before_ohe&#x27;,\n",
       "                                                                   SimpleImputer(strategy=&#x27;most_frequent&#x27;)),\n",
       "                                                                  (&#x27;ohe&#x27;,\n",
       "                                                                   OneHotEncoder(drop=&#x27;first&#x27;,\n",
       "                                                                                 handle_unknown=&#x27;ignore&#x27;,\n",
       "                                                                                 sparse_output=False))]),\n",
       "                                                  [&#x27;day_of_week&#x27;, &#x27;hour&#x27;]),\n",
       "                                                 (&#x27;num&#x27;,\n",
       "                                                  Pipeline(steps=[(&#x27;imputer&#x27;,\n",
       "                                                                   SimpleImputer()),\n",
       "                                                                  (&#x27;num&#x27;,\n",
       "                                                                   MinMaxScaler())]),\n",
       "                                                  [&#x27;lag_1&#x27;, &#x27;lag_2&#x27;, &#x27;lag_3&#x27;,\n",
       "                                                   &#x27;lag_4&#x27;, &#x27;lag_5&#x27;, &#x27;lag_6&#x27;,\n",
       "                                                   &#x27;lag_7&#x27;, &#x27;lag_8&#x27;, &#x27;lag_9&#x27;,\n",
       "                                                   &#x27;lag_10&#x27;, &#x27;lag_11&#x27;, &#x27;lag_12&#x27;,\n",
       "                                                   &#x27;lag_13&#x27;, &#x27;lag_14&#x27;, &#x27;lag_15&#x27;,\n",
       "                                                   &#x27;lag_16&#x27;, &#x27;lag_17&#x27;, &#x27;lag_18&#x27;,\n",
       "                                                   &#x27;lag_19&#x27;, &#x27;lag_20&#x27;, &#x27;lag_21&#x27;,\n",
       "                                                   &#x27;lag_22&#x27;, &#x27;lag_23&#x27;, &#x27;lag_24&#x27;,\n",
       "                                                   &#x27;lag_25&#x27;, &#x27;lag_26&#x27;, &#x27;lag_27&#x27;,\n",
       "                                                   &#x27;lag_28&#x27;, &#x27;lag_29&#x27;, &#x27;lag_30&#x27;, ...])])),\n",
       "                (&#x27;models&#x27;, ElasticNet(alpha=0.1))])</pre></div> </div></div><div class=\"sk-serial\"><div class=\"sk-item\"><div class=\"sk-serial\"><div class=\"sk-item sk-dashed-wrapped\"><div class=\"sk-label-container\"><div class=\"sk-label fitted sk-toggleable\"><input class=\"sk-toggleable__control sk-hidden--visually\" id=\"sk-estimator-id-3\" type=\"checkbox\" ><label for=\"sk-estimator-id-3\" class=\"sk-toggleable__label fitted sk-toggleable__label-arrow\"><div><div>preprocessor: ColumnTransformer</div></div><div><a class=\"sk-estimator-doc-link fitted\" rel=\"noreferrer\" target=\"_blank\" href=\"https://scikit-learn.org/1.6/modules/generated/sklearn.compose.ColumnTransformer.html\">?<span>Documentation for preprocessor: ColumnTransformer</span></a></div></label><div class=\"sk-toggleable__content fitted\"><pre>ColumnTransformer(remainder=&#x27;passthrough&#x27;,\n",
       "                  transformers=[(&#x27;ohe&#x27;,\n",
       "                                 Pipeline(steps=[(&#x27;SimpleImputer_before_ohe&#x27;,\n",
       "                                                  SimpleImputer(strategy=&#x27;most_frequent&#x27;)),\n",
       "                                                 (&#x27;ohe&#x27;,\n",
       "                                                  OneHotEncoder(drop=&#x27;first&#x27;,\n",
       "                                                                handle_unknown=&#x27;ignore&#x27;,\n",
       "                                                                sparse_output=False))]),\n",
       "                                 [&#x27;day_of_week&#x27;, &#x27;hour&#x27;]),\n",
       "                                (&#x27;num&#x27;,\n",
       "                                 Pipeline(steps=[(&#x27;imputer&#x27;, SimpleImputer()),\n",
       "                                                 (&#x27;num&#x27;, MinMaxScaler())]),\n",
       "                                 [&#x27;lag_1&#x27;, &#x27;lag_2&#x27;, &#x27;lag_3&#x27;, &#x27;lag_4&#x27;, &#x27;lag_5&#x27;,\n",
       "                                  &#x27;lag_6&#x27;, &#x27;lag_7&#x27;, &#x27;lag_8&#x27;, &#x27;lag_9&#x27;, &#x27;lag_10&#x27;,\n",
       "                                  &#x27;lag_11&#x27;, &#x27;lag_12&#x27;, &#x27;lag_13&#x27;, &#x27;lag_14&#x27;,\n",
       "                                  &#x27;lag_15&#x27;, &#x27;lag_16&#x27;, &#x27;lag_17&#x27;, &#x27;lag_18&#x27;,\n",
       "                                  &#x27;lag_19&#x27;, &#x27;lag_20&#x27;, &#x27;lag_21&#x27;, &#x27;lag_22&#x27;,\n",
       "                                  &#x27;lag_23&#x27;, &#x27;lag_24&#x27;, &#x27;lag_25&#x27;, &#x27;lag_26&#x27;,\n",
       "                                  &#x27;lag_27&#x27;, &#x27;lag_28&#x27;, &#x27;lag_29&#x27;, &#x27;lag_30&#x27;, ...])])</pre></div> </div></div><div class=\"sk-parallel\"><div class=\"sk-parallel-item\"><div class=\"sk-item\"><div class=\"sk-label-container\"><div class=\"sk-label fitted sk-toggleable\"><input class=\"sk-toggleable__control sk-hidden--visually\" id=\"sk-estimator-id-4\" type=\"checkbox\" ><label for=\"sk-estimator-id-4\" class=\"sk-toggleable__label fitted sk-toggleable__label-arrow\"><div><div>ohe</div></div></label><div class=\"sk-toggleable__content fitted\"><pre>[&#x27;day_of_week&#x27;, &#x27;hour&#x27;]</pre></div> </div></div><div class=\"sk-serial\"><div class=\"sk-item\"><div class=\"sk-serial\"><div class=\"sk-item\"><div class=\"sk-estimator fitted sk-toggleable\"><input class=\"sk-toggleable__control sk-hidden--visually\" id=\"sk-estimator-id-5\" type=\"checkbox\" ><label for=\"sk-estimator-id-5\" class=\"sk-toggleable__label fitted sk-toggleable__label-arrow\"><div><div>SimpleImputer</div></div><div><a class=\"sk-estimator-doc-link fitted\" rel=\"noreferrer\" target=\"_blank\" href=\"https://scikit-learn.org/1.6/modules/generated/sklearn.impute.SimpleImputer.html\">?<span>Documentation for SimpleImputer</span></a></div></label><div class=\"sk-toggleable__content fitted\"><pre>SimpleImputer(strategy=&#x27;most_frequent&#x27;)</pre></div> </div></div><div class=\"sk-item\"><div class=\"sk-estimator fitted sk-toggleable\"><input class=\"sk-toggleable__control sk-hidden--visually\" id=\"sk-estimator-id-6\" type=\"checkbox\" ><label for=\"sk-estimator-id-6\" class=\"sk-toggleable__label fitted sk-toggleable__label-arrow\"><div><div>OneHotEncoder</div></div><div><a class=\"sk-estimator-doc-link fitted\" rel=\"noreferrer\" target=\"_blank\" href=\"https://scikit-learn.org/1.6/modules/generated/sklearn.preprocessing.OneHotEncoder.html\">?<span>Documentation for OneHotEncoder</span></a></div></label><div class=\"sk-toggleable__content fitted\"><pre>OneHotEncoder(drop=&#x27;first&#x27;, handle_unknown=&#x27;ignore&#x27;, sparse_output=False)</pre></div> </div></div></div></div></div></div></div><div class=\"sk-parallel-item\"><div class=\"sk-item\"><div class=\"sk-label-container\"><div class=\"sk-label fitted sk-toggleable\"><input class=\"sk-toggleable__control sk-hidden--visually\" id=\"sk-estimator-id-7\" type=\"checkbox\" ><label for=\"sk-estimator-id-7\" class=\"sk-toggleable__label fitted sk-toggleable__label-arrow\"><div><div>num</div></div></label><div class=\"sk-toggleable__content fitted\"><pre>[&#x27;lag_1&#x27;, &#x27;lag_2&#x27;, &#x27;lag_3&#x27;, &#x27;lag_4&#x27;, &#x27;lag_5&#x27;, &#x27;lag_6&#x27;, &#x27;lag_7&#x27;, &#x27;lag_8&#x27;, &#x27;lag_9&#x27;, &#x27;lag_10&#x27;, &#x27;lag_11&#x27;, &#x27;lag_12&#x27;, &#x27;lag_13&#x27;, &#x27;lag_14&#x27;, &#x27;lag_15&#x27;, &#x27;lag_16&#x27;, &#x27;lag_17&#x27;, &#x27;lag_18&#x27;, &#x27;lag_19&#x27;, &#x27;lag_20&#x27;, &#x27;lag_21&#x27;, &#x27;lag_22&#x27;, &#x27;lag_23&#x27;, &#x27;lag_24&#x27;, &#x27;lag_25&#x27;, &#x27;lag_26&#x27;, &#x27;lag_27&#x27;, &#x27;lag_28&#x27;, &#x27;lag_29&#x27;, &#x27;lag_30&#x27;, &#x27;lag_31&#x27;, &#x27;lag_32&#x27;, &#x27;lag_33&#x27;, &#x27;lag_34&#x27;, &#x27;lag_35&#x27;, &#x27;lag_36&#x27;, &#x27;lag_37&#x27;, &#x27;lag_38&#x27;, &#x27;lag_39&#x27;, &#x27;lag_40&#x27;, &#x27;lag_41&#x27;, &#x27;lag_42&#x27;, &#x27;lag_43&#x27;, &#x27;lag_44&#x27;, &#x27;lag_45&#x27;, &#x27;lag_46&#x27;, &#x27;lag_47&#x27;, &#x27;lag_48&#x27;, &#x27;lag_49&#x27;, &#x27;lag_50&#x27;, &#x27;lag_51&#x27;, &#x27;lag_52&#x27;, &#x27;lag_53&#x27;, &#x27;lag_54&#x27;, &#x27;lag_55&#x27;, &#x27;lag_56&#x27;, &#x27;lag_57&#x27;, &#x27;lag_58&#x27;, &#x27;lag_59&#x27;, &#x27;lag_60&#x27;, &#x27;lag_61&#x27;, &#x27;lag_62&#x27;, &#x27;lag_63&#x27;, &#x27;lag_64&#x27;, &#x27;lag_65&#x27;, &#x27;lag_66&#x27;, &#x27;lag_67&#x27;, &#x27;lag_68&#x27;, &#x27;lag_69&#x27;, &#x27;lag_70&#x27;, &#x27;lag_71&#x27;, &#x27;lag_72&#x27;, &#x27;lag_73&#x27;, &#x27;lag_74&#x27;, &#x27;lag_75&#x27;, &#x27;lag_76&#x27;, &#x27;lag_77&#x27;, &#x27;lag_78&#x27;, &#x27;lag_79&#x27;, &#x27;lag_80&#x27;, &#x27;lag_81&#x27;, &#x27;lag_82&#x27;, &#x27;lag_83&#x27;, &#x27;lag_84&#x27;, &#x27;lag_85&#x27;, &#x27;lag_86&#x27;, &#x27;lag_87&#x27;, &#x27;lag_88&#x27;, &#x27;lag_89&#x27;, &#x27;lag_90&#x27;, &#x27;lag_91&#x27;, &#x27;lag_92&#x27;, &#x27;lag_93&#x27;, &#x27;lag_94&#x27;, &#x27;lag_95&#x27;, &#x27;lag_96&#x27;, &#x27;lag_97&#x27;, &#x27;lag_98&#x27;, &#x27;lag_99&#x27;, &#x27;lag_100&#x27;, &#x27;lag_101&#x27;, &#x27;lag_102&#x27;, &#x27;lag_103&#x27;, &#x27;lag_104&#x27;, &#x27;lag_105&#x27;, &#x27;lag_106&#x27;, &#x27;lag_107&#x27;, &#x27;lag_108&#x27;, &#x27;lag_109&#x27;, &#x27;lag_110&#x27;, &#x27;lag_111&#x27;, &#x27;lag_112&#x27;, &#x27;lag_113&#x27;, &#x27;lag_114&#x27;, &#x27;lag_115&#x27;, &#x27;lag_116&#x27;, &#x27;lag_117&#x27;, &#x27;lag_118&#x27;, &#x27;lag_119&#x27;, &#x27;lag_120&#x27;, &#x27;lag_121&#x27;, &#x27;lag_122&#x27;, &#x27;lag_123&#x27;, &#x27;lag_124&#x27;, &#x27;lag_125&#x27;, &#x27;lag_126&#x27;, &#x27;lag_127&#x27;, &#x27;lag_128&#x27;, &#x27;lag_129&#x27;, &#x27;lag_130&#x27;, &#x27;lag_131&#x27;, &#x27;lag_132&#x27;, &#x27;lag_133&#x27;, &#x27;lag_134&#x27;, &#x27;lag_135&#x27;, &#x27;lag_136&#x27;, &#x27;lag_137&#x27;, &#x27;lag_138&#x27;, &#x27;lag_139&#x27;, &#x27;lag_140&#x27;, &#x27;lag_141&#x27;, &#x27;lag_142&#x27;, &#x27;lag_143&#x27;, &#x27;lag_144&#x27;, &#x27;lag_145&#x27;, &#x27;lag_146&#x27;, &#x27;lag_147&#x27;, &#x27;lag_148&#x27;, &#x27;lag_149&#x27;, &#x27;lag_150&#x27;, &#x27;lag_151&#x27;, &#x27;lag_152&#x27;, &#x27;lag_153&#x27;, &#x27;lag_154&#x27;, &#x27;lag_155&#x27;, &#x27;lag_156&#x27;, &#x27;lag_157&#x27;, &#x27;lag_158&#x27;, &#x27;lag_159&#x27;, &#x27;lag_160&#x27;, &#x27;lag_161&#x27;, &#x27;lag_162&#x27;, &#x27;lag_163&#x27;, &#x27;lag_164&#x27;, &#x27;lag_165&#x27;, &#x27;lag_166&#x27;, &#x27;lag_167&#x27;, &#x27;lag_168&#x27;, &#x27;rolling_mean&#x27;]</pre></div> </div></div><div class=\"sk-serial\"><div class=\"sk-item\"><div class=\"sk-serial\"><div class=\"sk-item\"><div class=\"sk-estimator fitted sk-toggleable\"><input class=\"sk-toggleable__control sk-hidden--visually\" id=\"sk-estimator-id-8\" type=\"checkbox\" ><label for=\"sk-estimator-id-8\" class=\"sk-toggleable__label fitted sk-toggleable__label-arrow\"><div><div>SimpleImputer</div></div><div><a class=\"sk-estimator-doc-link fitted\" rel=\"noreferrer\" target=\"_blank\" href=\"https://scikit-learn.org/1.6/modules/generated/sklearn.impute.SimpleImputer.html\">?<span>Documentation for SimpleImputer</span></a></div></label><div class=\"sk-toggleable__content fitted\"><pre>SimpleImputer()</pre></div> </div></div><div class=\"sk-item\"><div class=\"sk-estimator fitted sk-toggleable\"><input class=\"sk-toggleable__control sk-hidden--visually\" id=\"sk-estimator-id-9\" type=\"checkbox\" ><label for=\"sk-estimator-id-9\" class=\"sk-toggleable__label fitted sk-toggleable__label-arrow\"><div><div>MinMaxScaler</div></div><div><a class=\"sk-estimator-doc-link fitted\" rel=\"noreferrer\" target=\"_blank\" href=\"https://scikit-learn.org/1.6/modules/generated/sklearn.preprocessing.MinMaxScaler.html\">?<span>Documentation for MinMaxScaler</span></a></div></label><div class=\"sk-toggleable__content fitted\"><pre>MinMaxScaler()</pre></div> </div></div></div></div></div></div></div><div class=\"sk-parallel-item\"><div class=\"sk-item\"><div class=\"sk-label-container\"><div class=\"sk-label fitted sk-toggleable\"><input class=\"sk-toggleable__control sk-hidden--visually\" id=\"sk-estimator-id-10\" type=\"checkbox\" ><label for=\"sk-estimator-id-10\" class=\"sk-toggleable__label fitted sk-toggleable__label-arrow\"><div><div>remainder</div></div></label><div class=\"sk-toggleable__content fitted\"><pre>[]</pre></div> </div></div><div class=\"sk-serial\"><div class=\"sk-item\"><div class=\"sk-estimator fitted sk-toggleable\"><input class=\"sk-toggleable__control sk-hidden--visually\" id=\"sk-estimator-id-11\" type=\"checkbox\" ><label for=\"sk-estimator-id-11\" class=\"sk-toggleable__label fitted sk-toggleable__label-arrow\"><div><div>passthrough</div></div></label><div class=\"sk-toggleable__content fitted\"><pre>passthrough</pre></div> </div></div></div></div></div></div></div><div class=\"sk-item\"><div class=\"sk-estimator fitted sk-toggleable\"><input class=\"sk-toggleable__control sk-hidden--visually\" id=\"sk-estimator-id-12\" type=\"checkbox\" ><label for=\"sk-estimator-id-12\" class=\"sk-toggleable__label fitted sk-toggleable__label-arrow\"><div><div>ElasticNet</div></div><div><a class=\"sk-estimator-doc-link fitted\" rel=\"noreferrer\" target=\"_blank\" href=\"https://scikit-learn.org/1.6/modules/generated/sklearn.linear_model.ElasticNet.html\">?<span>Documentation for ElasticNet</span></a></div></label><div class=\"sk-toggleable__content fitted\"><pre>ElasticNet(alpha=0.1)</pre></div> </div></div></div></div></div></div></div></div></div></div></div>"
      ],
      "text/plain": [
       "RandomizedSearchCV(cv=TimeSeriesSplit(gap=0, max_train_size=None, n_splits=5, test_size=None),\n",
       "                   estimator=Pipeline(steps=[('preprocessor',\n",
       "                                              ColumnTransformer(remainder='passthrough',\n",
       "                                                                transformers=[('ohe',\n",
       "                                                                               Pipeline(steps=[('SimpleImputer_before_ohe',\n",
       "                                                                                                SimpleImputer(strategy='most_frequent')),\n",
       "                                                                                               ('ohe',\n",
       "                                                                                                OneHotEncoder(drop='first',\n",
       "                                                                                                              handle_unknown='ignore',\n",
       "                                                                                                              sparse_outp...\n",
       "                                         'models__min_samples_leaf': range(1, 10),\n",
       "                                         'preprocessor__ohe': ['passthrough']},\n",
       "                                        {'models': [ElasticNet()],\n",
       "                                         'models__alpha': array([0.1  , 0.325, 0.55 , 0.775, 1.   ])},\n",
       "                                        {'models': [KNeighborsRegressor()],\n",
       "                                         'models__n_neighbors': range(7, 9)},\n",
       "                                        {'models': [SVR()],\n",
       "                                         'models__C': range(15, 25),\n",
       "                                         'models__kernel': ['poly', 'rbf',\n",
       "                                                            'sigmoid']}],\n",
       "                   random_state=42, scoring='neg_root_mean_squared_error',\n",
       "                   verbose=2)"
      ]
     },
     "execution_count": 19,
     "metadata": {},
     "output_type": "execute_result"
    }
   ],
   "source": [
    "pipe_final, X_train, y_train, X_test, y_test = make_pipeline(data, 'num_orders')\n",
    "\n",
    "tscv = TimeSeriesSplit(n_splits=5)\n",
    "\n",
    "search = RandomizedSearchCV(\n",
    "    pipe_final,\n",
    "    param_grid,\n",
    "    cv=tscv,\n",
    "    scoring='neg_root_mean_squared_error',\n",
    "    n_jobs=-1,\n",
    "    n_iter=100,\n",
    "    verbose=2,\n",
    "    random_state=RANDOM_STATE\n",
    ")\n",
    "\n",
    "search.fit(X_train, y_train)"
   ]
  },
  {
   "cell_type": "code",
   "execution_count": 20,
   "metadata": {},
   "outputs": [
    {
     "data": {
      "text/html": [
       "<div>\n",
       "<style scoped>\n",
       "    .dataframe tbody tr th:only-of-type {\n",
       "        vertical-align: middle;\n",
       "    }\n",
       "\n",
       "    .dataframe tbody tr th {\n",
       "        vertical-align: top;\n",
       "    }\n",
       "\n",
       "    .dataframe thead th {\n",
       "        text-align: right;\n",
       "    }\n",
       "</style>\n",
       "<table border=\"1\" class=\"dataframe\">\n",
       "  <thead>\n",
       "    <tr style=\"text-align: right;\">\n",
       "      <th></th>\n",
       "      <th>RMSE</th>\n",
       "    </tr>\n",
       "    <tr>\n",
       "      <th>model_name</th>\n",
       "      <th></th>\n",
       "    </tr>\n",
       "  </thead>\n",
       "  <tbody>\n",
       "    <tr>\n",
       "      <th>ElasticNet</th>\n",
       "      <td>24.3745</td>\n",
       "    </tr>\n",
       "    <tr>\n",
       "      <th>SVR</th>\n",
       "      <td>24.5660</td>\n",
       "    </tr>\n",
       "    <tr>\n",
       "      <th>KNeighborsRegressor</th>\n",
       "      <td>26.0117</td>\n",
       "    </tr>\n",
       "    <tr>\n",
       "      <th>DecisionTreeRegressor</th>\n",
       "      <td>26.9371</td>\n",
       "    </tr>\n",
       "  </tbody>\n",
       "</table>\n",
       "</div>"
      ],
      "text/plain": [
       "                         RMSE\n",
       "model_name                   \n",
       "ElasticNet            24.3745\n",
       "SVR                   24.5660\n",
       "KNeighborsRegressor   26.0117\n",
       "DecisionTreeRegressor 26.9371"
      ]
     },
     "execution_count": 20,
     "metadata": {},
     "output_type": "execute_result"
    }
   ],
   "source": [
    "result = pd.DataFrame(search.cv_results_)\n",
    "\n",
    "result['model_name'] = result['param_models'].apply(lambda x: str(x).split('(')[0])\n",
    "\n",
    "best_results = result[\n",
    "    ['model_name', 'mean_test_score']\n",
    "].groupby('model_name').agg('max').sort_values('mean_test_score', ascending=False)\n",
    "\n",
    "best_results = best_results.rename(columns={\n",
    "    'mean_test_score': 'RMSE'\n",
    "})\n",
    "\n",
    "best_results.abs()"
   ]
  },
  {
   "cell_type": "code",
   "execution_count": 21,
   "metadata": {},
   "outputs": [
    {
     "name": "stdout",
     "output_type": "stream",
     "text": [
      "По результатам подбора гиперпараметров на кросс валидации выбрана модель: ElasticNet\n"
     ]
    }
   ],
   "source": [
    "pipe_final_best = Pipeline(\n",
    "                [('models', search.best_estimator_['models'])]\n",
    ")\n",
    "\n",
    "best_model_name = str(search.best_estimator_[\"models\"]).split(\"(\")[0]\n",
    "\n",
    "pipe_final_best.fit(X_train, y_train)\n",
    "print(f'По результатам подбора гиперпараметров на кросс валидации выбрана модель: {best_model_name}')"
   ]
  },
  {
   "cell_type": "markdown",
   "metadata": {},
   "source": [
    "### RMSE лучшей модели на тестовой выборке"
   ]
  },
  {
   "cell_type": "code",
   "execution_count": 22,
   "metadata": {},
   "outputs": [
    {
     "name": "stdout",
     "output_type": "stream",
     "text": [
      "RMSE модели ElasticNet на тестовой выборке: 34.26\n"
     ]
    }
   ],
   "source": [
    "y_pred = pipe_final_best.predict(X_test)\n",
    "rmse = root_mean_squared_error(y_test, y_pred)\n",
    "\n",
    "print(f'RMSE модели {best_model_name} на тестовой выборке: {round(rmse, 2)}')"
   ]
  },
  {
   "cell_type": "markdown",
   "metadata": {},
   "source": [
    "### Анализ результатов моделирования"
   ]
  },
  {
   "cell_type": "code",
   "execution_count": 23,
   "metadata": {},
   "outputs": [
    {
     "data": {
      "image/jpeg": "[encoded data removed]",
      "text/plain": [
       "<Figure size 576x432 with 1 Axes>"
      ]
     },
     "metadata": {},
     "output_type": "display_data"
    }
   ],
   "source": [
    "orders = y_test.reset_index().join(pd.DataFrame(y_pred)).set_index('datetime')\n",
    "orders.columns = ['Количество заказов', 'Предсказанное количество заказов']\n",
    "\n",
    "ax = sns.lineplot(data=orders,\n",
    "                  x=orders.index,\n",
    "                  y='Количество заказов',\n",
    "                  label='Количество заказов')\n",
    "ax = sns.lineplot(data=orders,\n",
    "                  x=orders.index,\n",
    "                  y='Предсказанное количество заказов',\n",
    "                  label='Предсказанное количество заказов',\n",
    "                  linewidth=1)\n",
    "\n",
    "ax.xaxis.set_major_locator(plt.MaxNLocator(4))\n",
    "\n",
    "show_title(title='Количество заказов по времени',\n",
    "        x_label='Время',\n",
    "        y_label='Количество зказов',\n",
    "        ax=ax)"
   ]
  },
  {
   "cell_type": "markdown",
   "metadata": {},
   "source": [
    "- ***По графикам действительных и предсказанных значений видно, что модель довольно точно предсказывала количество заказов до 2018-08-27. Модель уловила восходящий тренд.***\n",
    "- ***Модель не предсказала случайные аномально большие значения количества заказов.***"
   ]
  },
  {
   "cell_type": "markdown",
   "metadata": {},
   "source": [
    "- **Сравним RMSE модели со средним значением и сезонными эвристиками.**"
   ]
  },
  {
   "cell_type": "code",
   "execution_count": 35,
   "metadata": {},
   "outputs": [
    {
     "name": "stdout",
     "output_type": "stream",
     "text": [
      "RMSE среднего значения: 84.451\n",
      "RMSE lag_1: 58.82\n",
      "RMSE lag_24: 55.862\n",
      "RMSE lag_168: 39.287\n"
     ]
    }
   ],
   "source": [
    "dummy_mean = np.ones_like(y_test) * y_train.mean()\n",
    "print(f\"RMSE среднего значения: {round(root_mean_squared_error(y_test, dummy_mean), 3)}\")\n",
    "\n",
    "for lag in ['lag_1', 'lag_24', 'lag_168']:\n",
    "    pred_previous = X_test[lag]\n",
    "    print(f\"RMSE {lag}: {round(root_mean_squared_error(y_test, pred_previous), 3)}\")"
   ]
  },
  {
   "cell_type": "markdown",
   "metadata": {},
   "source": [
    "- ***RMSE выбранной модели лучше, чем RMSE среднего и сезонных эвристик. Значит модель работает адекватно.***"
   ]
  },
  {
   "cell_type": "markdown",
   "metadata": {},
   "source": [
    "<a id=\"conclusion\"></a>\n",
    "## Выводы:\n",
    "### Предобработка\n",
    "- ***В результате предобработки критичных аномалий и ошибок в данных не выявлено.***\n",
    "- ***Проведен ресемплинг по 1 часу.***\n",
    "\n",
    "---\n",
    "\n",
    "### EDA\n",
    "- ***Прослеживается общий тренд - с марта по август количество заказов увеличивается.***\n",
    "- ***Данные имеют суточную сезонность. По графику анализа сезонности заказов можно отметить, что наибольшее чесло заказов совершается ночью в районе 23:00 - 01:00 часов. Наименьшее число заказов в 5-6 утра.***\n",
    "- ***Так же есть недельная сезонность. В пятницу и в ночь с воскресенья на понедельник заказов больше, чем в остальные дни.***\n",
    "- ***Временной ряд не является стационарным, т.к. имеет восходящий тренд.***\n",
    "\n",
    "---\n",
    "\n",
    "### Моделирование\n",
    "- ***Созданы новые признаки `day_of_week, hour, lag, rolling_mean`.***\n",
    "- ***Рассмотрены 4 модели ElasticNet, DecisionTree, KNeighbors, SVM.***"
   ]
  },
  {
   "cell_type": "code",
   "execution_count": 26,
   "metadata": {},
   "outputs": [
    {
     "data": {
      "text/html": [
       "<div>\n",
       "<style scoped>\n",
       "    .dataframe tbody tr th:only-of-type {\n",
       "        vertical-align: middle;\n",
       "    }\n",
       "\n",
       "    .dataframe tbody tr th {\n",
       "        vertical-align: top;\n",
       "    }\n",
       "\n",
       "    .dataframe thead th {\n",
       "        text-align: right;\n",
       "    }\n",
       "</style>\n",
       "<table border=\"1\" class=\"dataframe\">\n",
       "  <thead>\n",
       "    <tr style=\"text-align: right;\">\n",
       "      <th></th>\n",
       "      <th>RMSE</th>\n",
       "    </tr>\n",
       "    <tr>\n",
       "      <th>model_name</th>\n",
       "      <th></th>\n",
       "    </tr>\n",
       "  </thead>\n",
       "  <tbody>\n",
       "    <tr>\n",
       "      <th>ElasticNet</th>\n",
       "      <td>24.3745</td>\n",
       "    </tr>\n",
       "    <tr>\n",
       "      <th>SVR</th>\n",
       "      <td>24.5660</td>\n",
       "    </tr>\n",
       "    <tr>\n",
       "      <th>KNeighborsRegressor</th>\n",
       "      <td>26.0117</td>\n",
       "    </tr>\n",
       "    <tr>\n",
       "      <th>DecisionTreeRegressor</th>\n",
       "      <td>26.9371</td>\n",
       "    </tr>\n",
       "  </tbody>\n",
       "</table>\n",
       "</div>"
      ],
      "text/plain": [
       "                         RMSE\n",
       "model_name                   \n",
       "ElasticNet            24.3745\n",
       "SVR                   24.5660\n",
       "KNeighborsRegressor   26.0117\n",
       "DecisionTreeRegressor 26.9371"
      ]
     },
     "execution_count": 26,
     "metadata": {},
     "output_type": "execute_result"
    }
   ],
   "source": [
    "best_results.abs()"
   ]
  },
  {
   "cell_type": "code",
   "execution_count": 27,
   "metadata": {},
   "outputs": [
    {
     "data": {
      "text/html": [
       "<strong>По результатам подбора гиперпараметров\n",
       "на кросс валидации выбрана модель: ElasticNet</strong>"
      ],
      "text/plain": [
       "<IPython.core.display.HTML object>"
      ]
     },
     "metadata": {},
     "output_type": "display_data"
    }
   ],
   "source": [
    "display(HTML(f\"\"\"<strong>По результатам подбора гиперпараметров\n",
    "на кросс валидации выбрана модель: {best_model_name}</strong>\"\"\"))"
   ]
  },
  {
   "cell_type": "code",
   "execution_count": 28,
   "metadata": {},
   "outputs": [
    {
     "data": {
      "text/html": [
       "<strong>RMSE модели ElasticNet\n",
       "              на тестовой выборке: 34.26</strong>"
      ],
      "text/plain": [
       "<IPython.core.display.HTML object>"
      ]
     },
     "metadata": {},
     "output_type": "display_data"
    }
   ],
   "source": [
    "display(HTML(f\"\"\"<strong>RMSE модели {best_model_name}\n",
    "              на тестовой выборке: {round(rmse, 2)}</strong>\"\"\"))"
   ]
  },
  {
   "cell_type": "markdown",
   "metadata": {},
   "source": [
    "- ***По графикам действительных и предсказанных значений видно, что модель довольно точно предсказывала количество заказов до 2018-08-27. Модель уловила восходящий тренд.***\n",
    "- ***Модель не предсказала случайные аномально большие значения количества заказов.***\n",
    "- ***RMSE выбранной модели лучше, чем RMSE среднего и сезонных эвристик. Значит модель работает адекватно.***\n",
    "\n",
    "---\n",
    "\n",
    "### Рекомендации\n",
    "- ***Сбор дополнительных данных, которые помогут точнее определить спрос на такси, например:***\n",
    "    - ***в какой аэропорт заказывают такси;***\n",
    "    - ***расписание рейсов (прилеты/вылеты - так же будут влиять на пасажиропоток);***\n",
    "    - ***погода;***\n",
    "    - ***массовые мероприятия (возможно всплески заказов такси в данном датасете были вызваны некоторыми единичными массовыми событиями).***\n",
    "- ***Периодически необходимо дообучать модель на новых данных.***\n",
    "- ***Рассмотреть более сложные и специализированные для временных рядов модели, использовать нейросети.***\n",
    "- ***Ввести штрафы в модели за занижение количества заказов.***"
   ]
  },
  {
   "cell_type": "markdown",
   "metadata": {},
   "source": []
  }
 ],
 "metadata": {
  "ExecuteTimeLog": [
   {
    "duration": 20873,
    "start_time": "2025-06-04T21:06:06.095Z"
   },
   {
    "duration": 1719,
    "start_time": "2025-06-04T21:06:26.971Z"
   },
   {
    "duration": 14,
    "start_time": "2025-06-04T21:06:28.692Z"
   },
   {
    "duration": 77,
    "start_time": "2025-06-04T21:06:28.708Z"
   },
   {
    "duration": 6,
    "start_time": "2025-06-04T21:06:28.787Z"
   },
   {
    "duration": 36,
    "start_time": "2025-06-04T21:06:28.794Z"
   },
   {
    "duration": 43,
    "start_time": "2025-06-04T21:06:28.832Z"
   },
   {
    "duration": 5,
    "start_time": "2025-06-04T21:06:28.878Z"
   },
   {
    "duration": 203,
    "start_time": "2025-06-04T21:06:28.885Z"
   },
   {
    "duration": 4,
    "start_time": "2025-06-04T21:06:29.092Z"
   },
   {
    "duration": 109,
    "start_time": "2025-06-04T21:06:29.098Z"
   },
   {
    "duration": 6,
    "start_time": "2025-06-04T21:06:29.209Z"
   },
   {
    "duration": 1397,
    "start_time": "2025-06-04T21:06:29.217Z"
   },
   {
    "duration": 4,
    "start_time": "2025-06-04T21:06:30.616Z"
   },
   {
    "duration": 1678,
    "start_time": "2025-06-04T21:06:30.621Z"
   },
   {
    "duration": 1481,
    "start_time": "2025-06-04T21:06:32.301Z"
   },
   {
    "duration": 5,
    "start_time": "2025-06-04T21:06:33.784Z"
   },
   {
    "duration": 25,
    "start_time": "2025-06-04T21:06:33.792Z"
   },
   {
    "duration": 12260,
    "start_time": "2025-06-04T21:17:18.719Z"
   },
   {
    "duration": 7,
    "start_time": "2025-06-04T21:17:30.982Z"
   },
   {
    "duration": 42,
    "start_time": "2025-06-04T21:17:30.991Z"
   },
   {
    "duration": 70,
    "start_time": "2025-06-04T21:17:31.036Z"
   },
   {
    "duration": 5,
    "start_time": "2025-06-04T21:17:31.108Z"
   },
   {
    "duration": 80,
    "start_time": "2025-06-04T21:17:31.115Z"
   },
   {
    "duration": 10,
    "start_time": "2025-06-04T21:17:31.197Z"
   },
   {
    "duration": 26,
    "start_time": "2025-06-04T21:17:31.209Z"
   },
   {
    "duration": 234,
    "start_time": "2025-06-04T21:17:31.237Z"
   },
   {
    "duration": 5,
    "start_time": "2025-06-04T21:17:31.477Z"
   },
   {
    "duration": 30,
    "start_time": "2025-06-04T21:17:31.484Z"
   },
   {
    "duration": 35,
    "start_time": "2025-06-04T21:17:31.516Z"
   },
   {
    "duration": 1431,
    "start_time": "2025-06-04T21:17:31.553Z"
   },
   {
    "duration": 5,
    "start_time": "2025-06-04T21:17:32.988Z"
   },
   {
    "duration": 1612,
    "start_time": "2025-06-04T21:17:32.995Z"
   },
   {
    "duration": 1484,
    "start_time": "2025-06-04T21:17:34.609Z"
   },
   {
    "duration": 4,
    "start_time": "2025-06-04T21:17:36.095Z"
   },
   {
    "duration": 28,
    "start_time": "2025-06-04T21:17:36.100Z"
   },
   {
    "duration": 1045452,
    "start_time": "2025-06-04T21:17:36.130Z"
   },
   {
    "duration": 0,
    "start_time": "2025-06-04T21:35:01.585Z"
   },
   {
    "duration": 0,
    "start_time": "2025-06-04T21:35:01.587Z"
   },
   {
    "duration": 0,
    "start_time": "2025-06-04T21:35:01.591Z"
   },
   {
    "duration": 0,
    "start_time": "2025-06-04T21:35:01.592Z"
   },
   {
    "duration": 0,
    "start_time": "2025-06-04T21:35:01.594Z"
   },
   {
    "duration": 0,
    "start_time": "2025-06-04T21:35:01.596Z"
   },
   {
    "duration": 12128,
    "start_time": "2025-06-04T21:35:08.921Z"
   },
   {
    "duration": 1538,
    "start_time": "2025-06-04T21:35:21.052Z"
   },
   {
    "duration": 15,
    "start_time": "2025-06-04T21:35:22.591Z"
   },
   {
    "duration": 55,
    "start_time": "2025-06-04T21:35:22.608Z"
   },
   {
    "duration": 8,
    "start_time": "2025-06-04T21:35:22.673Z"
   },
   {
    "duration": 39,
    "start_time": "2025-06-04T21:35:22.683Z"
   },
   {
    "duration": 38,
    "start_time": "2025-06-04T21:35:22.724Z"
   },
   {
    "duration": 12,
    "start_time": "2025-06-04T21:35:22.764Z"
   },
   {
    "duration": 181,
    "start_time": "2025-06-04T21:35:22.777Z"
   },
   {
    "duration": 16,
    "start_time": "2025-06-04T21:35:22.961Z"
   },
   {
    "duration": 25,
    "start_time": "2025-06-04T21:35:22.980Z"
   },
   {
    "duration": 9,
    "start_time": "2025-06-04T21:35:23.008Z"
   },
   {
    "duration": 1418,
    "start_time": "2025-06-04T21:35:23.019Z"
   },
   {
    "duration": 5,
    "start_time": "2025-06-04T21:35:24.440Z"
   },
   {
    "duration": 1568,
    "start_time": "2025-06-04T21:35:24.447Z"
   },
   {
    "duration": 1470,
    "start_time": "2025-06-04T21:35:26.016Z"
   },
   {
    "duration": 4,
    "start_time": "2025-06-04T21:35:27.487Z"
   },
   {
    "duration": 10,
    "start_time": "2025-06-04T21:35:27.493Z"
   },
   {
    "duration": 92609,
    "start_time": "2025-06-04T21:35:27.504Z"
   },
   {
    "duration": 25,
    "start_time": "2025-06-04T21:37:00.115Z"
   },
   {
    "duration": 49,
    "start_time": "2025-06-04T21:37:00.142Z"
   },
   {
    "duration": 8,
    "start_time": "2025-06-04T21:37:00.193Z"
   },
   {
    "duration": 351,
    "start_time": "2025-06-04T21:37:00.203Z"
   },
   {
    "duration": 14,
    "start_time": "2025-06-04T21:37:00.560Z"
   },
   {
    "duration": 46,
    "start_time": "2025-06-04T21:37:00.576Z"
   },
   {
    "duration": 84,
    "start_time": "2025-06-04T21:37:59.939Z"
   },
   {
    "duration": 194,
    "start_time": "2025-06-04T21:38:07.481Z"
   },
   {
    "duration": 38,
    "start_time": "2025-06-04T21:38:19.411Z"
   },
   {
    "duration": 18003,
    "start_time": "2025-06-04T22:48:40.555Z"
   },
   {
    "duration": 1389,
    "start_time": "2025-06-04T22:48:58.560Z"
   },
   {
    "duration": 22,
    "start_time": "2025-06-04T22:48:59.950Z"
   },
   {
    "duration": 47,
    "start_time": "2025-06-04T22:48:59.975Z"
   },
   {
    "duration": 5,
    "start_time": "2025-06-04T22:49:00.024Z"
   },
   {
    "duration": 101,
    "start_time": "2025-06-04T22:49:00.032Z"
   },
   {
    "duration": 32,
    "start_time": "2025-06-04T22:49:00.135Z"
   },
   {
    "duration": 50,
    "start_time": "2025-06-04T22:49:00.169Z"
   },
   {
    "duration": 272,
    "start_time": "2025-06-04T22:49:00.221Z"
   },
   {
    "duration": 5,
    "start_time": "2025-06-04T22:49:00.497Z"
   },
   {
    "duration": 39,
    "start_time": "2025-06-04T22:49:00.503Z"
   },
   {
    "duration": 6,
    "start_time": "2025-06-04T22:49:00.544Z"
   },
   {
    "duration": 1254,
    "start_time": "2025-06-04T22:49:00.551Z"
   },
   {
    "duration": 3,
    "start_time": "2025-06-04T22:49:01.807Z"
   },
   {
    "duration": 1415,
    "start_time": "2025-06-04T22:49:01.812Z"
   },
   {
    "duration": 1281,
    "start_time": "2025-06-04T22:49:03.229Z"
   },
   {
    "duration": 3,
    "start_time": "2025-06-04T22:49:04.512Z"
   },
   {
    "duration": 23,
    "start_time": "2025-06-04T22:49:04.517Z"
   },
   {
    "duration": 81996,
    "start_time": "2025-06-04T22:49:04.542Z"
   },
   {
    "duration": 30,
    "start_time": "2025-06-04T22:50:26.539Z"
   },
   {
    "duration": 22,
    "start_time": "2025-06-04T22:50:26.570Z"
   },
   {
    "duration": 7,
    "start_time": "2025-06-04T22:50:26.593Z"
   },
   {
    "duration": 340,
    "start_time": "2025-06-04T22:50:26.602Z"
   },
   {
    "duration": 6,
    "start_time": "2025-06-04T22:50:26.944Z"
   },
   {
    "duration": 39,
    "start_time": "2025-06-04T22:50:26.960Z"
   },
   {
    "duration": 40,
    "start_time": "2025-06-04T22:50:27.001Z"
   },
   {
    "duration": 32924,
    "start_time": "2025-06-05T11:02:19.240Z"
   },
   {
    "duration": 1556,
    "start_time": "2025-06-05T11:02:52.167Z"
   },
   {
    "duration": 14,
    "start_time": "2025-06-05T11:02:53.725Z"
   },
   {
    "duration": 60,
    "start_time": "2025-06-05T11:02:53.741Z"
   },
   {
    "duration": 5,
    "start_time": "2025-06-05T11:02:53.803Z"
   },
   {
    "duration": 55,
    "start_time": "2025-06-05T11:02:53.810Z"
   },
   {
    "duration": 10,
    "start_time": "2025-06-05T11:02:53.868Z"
   },
   {
    "duration": 10,
    "start_time": "2025-06-05T11:02:53.880Z"
   },
   {
    "duration": 173,
    "start_time": "2025-06-05T11:02:53.892Z"
   },
   {
    "duration": 5,
    "start_time": "2025-06-05T11:02:54.068Z"
   },
   {
    "duration": 36,
    "start_time": "2025-06-05T11:02:54.074Z"
   },
   {
    "duration": 6,
    "start_time": "2025-06-05T11:02:54.112Z"
   },
   {
    "duration": 1306,
    "start_time": "2025-06-05T11:02:54.120Z"
   },
   {
    "duration": 4,
    "start_time": "2025-06-05T11:02:55.427Z"
   },
   {
    "duration": 1587,
    "start_time": "2025-06-05T11:02:55.432Z"
   },
   {
    "duration": 1347,
    "start_time": "2025-06-05T11:02:57.021Z"
   },
   {
    "duration": 4,
    "start_time": "2025-06-05T11:02:58.369Z"
   },
   {
    "duration": 128,
    "start_time": "2025-06-05T11:02:58.375Z"
   },
   {
    "duration": 40142,
    "start_time": "2025-06-05T11:02:58.505Z"
   },
   {
    "duration": 0,
    "start_time": "2025-06-05T11:03:38.649Z"
   },
   {
    "duration": 0,
    "start_time": "2025-06-05T11:03:38.651Z"
   },
   {
    "duration": 0,
    "start_time": "2025-06-05T11:03:38.653Z"
   },
   {
    "duration": 0,
    "start_time": "2025-06-05T11:03:38.654Z"
   },
   {
    "duration": 0,
    "start_time": "2025-06-05T11:03:38.656Z"
   },
   {
    "duration": 0,
    "start_time": "2025-06-05T11:03:38.658Z"
   },
   {
    "duration": 0,
    "start_time": "2025-06-05T11:03:38.659Z"
   },
   {
    "duration": 92,
    "start_time": "2025-06-05T11:09:18.435Z"
   },
   {
    "duration": 11372,
    "start_time": "2025-06-05T11:09:27.806Z"
   },
   {
    "duration": 1476,
    "start_time": "2025-06-05T11:09:52.653Z"
   },
   {
    "duration": 14,
    "start_time": "2025-06-05T11:15:40.529Z"
   },
   {
    "duration": 46,
    "start_time": "2025-06-05T11:15:42.549Z"
   },
   {
    "duration": 5,
    "start_time": "2025-06-05T11:15:44.658Z"
   },
   {
    "duration": 32,
    "start_time": "2025-06-05T11:15:45.498Z"
   },
   {
    "duration": 11,
    "start_time": "2025-06-05T11:17:52.913Z"
   },
   {
    "duration": 4,
    "start_time": "2025-06-05T11:24:41.694Z"
   },
   {
    "duration": 137,
    "start_time": "2025-06-05T11:24:49.204Z"
   },
   {
    "duration": 7,
    "start_time": "2025-06-05T11:34:29.029Z"
   },
   {
    "duration": 962,
    "start_time": "2025-06-05T11:34:41.900Z"
   },
   {
    "duration": 423,
    "start_time": "2025-06-05T11:38:37.447Z"
   },
   {
    "duration": 301,
    "start_time": "2025-06-05T11:39:31.035Z"
   },
   {
    "duration": 1711,
    "start_time": "2025-06-05T11:41:11.355Z"
   },
   {
    "duration": 298,
    "start_time": "2025-06-05T11:41:19.809Z"
   },
   {
    "duration": 294,
    "start_time": "2025-06-05T11:41:28.750Z"
   },
   {
    "duration": 217,
    "start_time": "2025-06-05T11:42:37.308Z"
   },
   {
    "duration": 230,
    "start_time": "2025-06-05T11:47:29.466Z"
   },
   {
    "duration": 219,
    "start_time": "2025-06-05T11:48:18.722Z"
   },
   {
    "duration": 260,
    "start_time": "2025-06-05T11:48:38.079Z"
   },
   {
    "duration": 212,
    "start_time": "2025-06-05T11:48:50.508Z"
   },
   {
    "duration": 245,
    "start_time": "2025-06-05T11:52:27.638Z"
   },
   {
    "duration": 258,
    "start_time": "2025-06-05T11:53:15.767Z"
   },
   {
    "duration": 372,
    "start_time": "2025-06-05T11:53:47.561Z"
   },
   {
    "duration": 290,
    "start_time": "2025-06-05T11:54:06.052Z"
   },
   {
    "duration": 270,
    "start_time": "2025-06-05T11:54:30.398Z"
   },
   {
    "duration": 247,
    "start_time": "2025-06-05T11:54:51.393Z"
   },
   {
    "duration": 241,
    "start_time": "2025-06-05T11:55:13.756Z"
   },
   {
    "duration": 258,
    "start_time": "2025-06-05T11:55:41.301Z"
   },
   {
    "duration": 296,
    "start_time": "2025-06-05T11:55:55.164Z"
   },
   {
    "duration": 253,
    "start_time": "2025-06-05T11:56:30.657Z"
   },
   {
    "duration": 259,
    "start_time": "2025-06-05T11:58:03.717Z"
   },
   {
    "duration": 248,
    "start_time": "2025-06-05T11:58:25.332Z"
   },
   {
    "duration": 21,
    "start_time": "2025-06-05T12:02:14.563Z"
   },
   {
    "duration": 264,
    "start_time": "2025-06-05T12:04:51.433Z"
   },
   {
    "duration": 273,
    "start_time": "2025-06-05T12:06:12.789Z"
   },
   {
    "duration": 29,
    "start_time": "2025-06-05T12:16:28.131Z"
   },
   {
    "duration": 866,
    "start_time": "2025-06-05T12:17:16.942Z"
   },
   {
    "duration": 5,
    "start_time": "2025-06-05T12:21:10.965Z"
   },
   {
    "duration": 4,
    "start_time": "2025-06-05T12:24:27.861Z"
   },
   {
    "duration": 5,
    "start_time": "2025-06-05T12:26:52.609Z"
   },
   {
    "duration": 39,
    "start_time": "2025-06-05T12:28:04.638Z"
   },
   {
    "duration": 5,
    "start_time": "2025-06-05T12:39:25.583Z"
   },
   {
    "duration": 6,
    "start_time": "2025-06-05T12:41:03.966Z"
   },
   {
    "duration": 11,
    "start_time": "2025-06-05T12:43:21.604Z"
   },
   {
    "duration": 27,
    "start_time": "2025-06-05T12:43:46.283Z"
   },
   {
    "duration": 8,
    "start_time": "2025-06-05T12:44:21.494Z"
   },
   {
    "duration": 20,
    "start_time": "2025-06-05T12:44:26.563Z"
   },
   {
    "duration": 8,
    "start_time": "2025-06-05T12:44:55.131Z"
   },
   {
    "duration": 25,
    "start_time": "2025-06-05T12:45:00.767Z"
   },
   {
    "duration": 5,
    "start_time": "2025-06-05T12:47:25.080Z"
   },
   {
    "duration": 2435,
    "start_time": "2025-06-05T12:47:27.443Z"
   },
   {
    "duration": 11,
    "start_time": "2025-06-05T12:47:50.667Z"
   },
   {
    "duration": 10,
    "start_time": "2025-06-05T12:49:50.376Z"
   },
   {
    "duration": 4,
    "start_time": "2025-06-05T12:50:08.248Z"
   },
   {
    "duration": 26,
    "start_time": "2025-06-05T12:50:33.924Z"
   },
   {
    "duration": 12,
    "start_time": "2025-06-05T12:50:49.583Z"
   },
   {
    "duration": 6,
    "start_time": "2025-06-05T12:51:03.665Z"
   },
   {
    "duration": 6,
    "start_time": "2025-06-05T12:51:23.779Z"
   },
   {
    "duration": 5,
    "start_time": "2025-06-05T12:51:25.548Z"
   },
   {
    "duration": 164943,
    "start_time": "2025-06-05T12:51:28.348Z"
   },
   {
    "duration": 30,
    "start_time": "2025-06-05T12:55:48.209Z"
   },
   {
    "duration": 7437,
    "start_time": "2025-06-05T12:55:54.625Z"
   },
   {
    "duration": 60,
    "start_time": "2025-06-05T12:56:05.516Z"
   },
   {
    "duration": 60,
    "start_time": "2025-06-05T12:59:54.751Z"
   },
   {
    "duration": 22,
    "start_time": "2025-06-05T13:00:12.012Z"
   },
   {
    "duration": 24,
    "start_time": "2025-06-05T13:01:50.606Z"
   },
   {
    "duration": 20,
    "start_time": "2025-06-05T13:05:16.507Z"
   },
   {
    "duration": 35,
    "start_time": "2025-06-05T13:05:24.691Z"
   },
   {
    "duration": 304,
    "start_time": "2025-06-05T13:06:10.483Z"
   },
   {
    "duration": 12060,
    "start_time": "2025-06-05T13:08:15.046Z"
   },
   {
    "duration": 1419,
    "start_time": "2025-06-05T13:08:27.108Z"
   },
   {
    "duration": 14,
    "start_time": "2025-06-05T13:08:28.529Z"
   },
   {
    "duration": 85,
    "start_time": "2025-06-05T13:08:28.545Z"
   },
   {
    "duration": 5,
    "start_time": "2025-06-05T13:08:28.633Z"
   },
   {
    "duration": 62,
    "start_time": "2025-06-05T13:08:28.640Z"
   },
   {
    "duration": 12,
    "start_time": "2025-06-05T13:08:28.703Z"
   },
   {
    "duration": 20,
    "start_time": "2025-06-05T13:08:28.717Z"
   },
   {
    "duration": 175,
    "start_time": "2025-06-05T13:08:28.739Z"
   },
   {
    "duration": 7,
    "start_time": "2025-06-05T13:08:28.915Z"
   },
   {
    "duration": 975,
    "start_time": "2025-06-05T13:08:28.923Z"
   },
   {
    "duration": 211,
    "start_time": "2025-06-05T13:08:29.900Z"
   },
   {
    "duration": 233,
    "start_time": "2025-06-05T13:08:30.113Z"
   },
   {
    "duration": 255,
    "start_time": "2025-06-05T13:08:30.350Z"
   },
   {
    "duration": 5,
    "start_time": "2025-06-05T13:08:30.607Z"
   },
   {
    "duration": 103,
    "start_time": "2025-06-05T13:08:30.613Z"
   },
   {
    "duration": 6,
    "start_time": "2025-06-05T13:08:30.718Z"
   },
   {
    "duration": 37,
    "start_time": "2025-06-05T13:08:30.726Z"
   },
   {
    "duration": 121231,
    "start_time": "2025-06-05T13:08:30.765Z"
   },
   {
    "duration": 30,
    "start_time": "2025-06-05T13:10:32.005Z"
   },
   {
    "duration": 6873,
    "start_time": "2025-06-05T13:10:32.036Z"
   },
   {
    "duration": 61,
    "start_time": "2025-06-05T13:10:38.910Z"
   },
   {
    "duration": 326,
    "start_time": "2025-06-05T13:10:38.972Z"
   },
   {
    "duration": 10,
    "start_time": "2025-06-05T13:10:39.300Z"
   },
   {
    "duration": 51,
    "start_time": "2025-06-05T13:10:39.313Z"
   },
   {
    "duration": 54,
    "start_time": "2025-06-05T13:10:39.366Z"
   },
   {
    "duration": 27,
    "start_time": "2025-06-05T13:12:45.870Z"
   },
   {
    "duration": 7,
    "start_time": "2025-06-05T13:12:47.976Z"
   },
   {
    "duration": 3,
    "start_time": "2025-06-05T13:12:50.040Z"
   },
   {
    "duration": 255509,
    "start_time": "2025-06-05T13:12:52.442Z"
   },
   {
    "duration": 27,
    "start_time": "2025-06-05T13:17:27.575Z"
   },
   {
    "duration": 980,
    "start_time": "2025-06-05T13:17:33.340Z"
   },
   {
    "duration": 104,
    "start_time": "2025-06-05T13:17:35.928Z"
   },
   {
    "duration": 316,
    "start_time": "2025-06-05T13:18:35.487Z"
   },
   {
    "duration": 289,
    "start_time": "2025-06-05T13:18:56.401Z"
   },
   {
    "duration": 141,
    "start_time": "2025-06-05T13:19:33.270Z"
   },
   {
    "duration": 6,
    "start_time": "2025-06-05T13:19:39.160Z"
   },
   {
    "duration": 3,
    "start_time": "2025-06-05T13:19:41.001Z"
   },
   {
    "duration": 4,
    "start_time": "2025-06-05T13:21:09.518Z"
   },
   {
    "duration": 5634,
    "start_time": "2025-06-05T13:21:11.897Z"
   },
   {
    "duration": 18,
    "start_time": "2025-06-05T13:21:30.006Z"
   },
   {
    "duration": 12,
    "start_time": "2025-06-05T13:21:31.733Z"
   },
   {
    "duration": 30,
    "start_time": "2025-06-05T13:21:33.511Z"
   },
   {
    "duration": 4,
    "start_time": "2025-06-05T13:23:59.879Z"
   },
   {
    "duration": 11246,
    "start_time": "2025-06-05T13:24:06.005Z"
   },
   {
    "duration": 18,
    "start_time": "2025-06-05T13:24:28.370Z"
   },
   {
    "duration": 14,
    "start_time": "2025-06-05T13:24:30.168Z"
   },
   {
    "duration": 29,
    "start_time": "2025-06-05T13:24:31.726Z"
   },
   {
    "duration": 4,
    "start_time": "2025-06-05T13:26:18.020Z"
   },
   {
    "duration": 212648,
    "start_time": "2025-06-05T13:26:26.385Z"
   },
   {
    "duration": 27,
    "start_time": "2025-06-05T13:30:05.302Z"
   },
   {
    "duration": 1755,
    "start_time": "2025-06-05T13:30:07.556Z"
   },
   {
    "duration": 195,
    "start_time": "2025-06-05T13:30:09.313Z"
   },
   {
    "duration": 276,
    "start_time": "2025-06-05T13:30:19.527Z"
   },
   {
    "duration": 278,
    "start_time": "2025-06-05T13:34:45.287Z"
   },
   {
    "duration": 7,
    "start_time": "2025-06-05T13:39:47.420Z"
   },
   {
    "duration": 43,
    "start_time": "2025-06-05T13:39:52.410Z"
   },
   {
    "duration": 35,
    "start_time": "2025-06-05T13:39:54.002Z"
   },
   {
    "duration": 147,
    "start_time": "2025-06-05T13:52:06.985Z"
   },
   {
    "duration": 6,
    "start_time": "2025-06-05T13:52:26.469Z"
   },
   {
    "duration": 87,
    "start_time": "2025-06-05T13:52:47.125Z"
   },
   {
    "duration": 6,
    "start_time": "2025-06-05T13:52:55.550Z"
   },
   {
    "duration": 5,
    "start_time": "2025-06-05T14:45:37.921Z"
   },
   {
    "duration": 6,
    "start_time": "2025-06-05T14:45:46.221Z"
   },
   {
    "duration": 7,
    "start_time": "2025-06-05T14:46:31.307Z"
   },
   {
    "duration": 5,
    "start_time": "2025-06-05T14:46:40.793Z"
   },
   {
    "duration": 6,
    "start_time": "2025-06-05T14:46:49.338Z"
   },
   {
    "duration": 10,
    "start_time": "2025-06-05T14:51:48.218Z"
   },
   {
    "duration": 8,
    "start_time": "2025-06-05T14:52:07.864Z"
   },
   {
    "duration": 11,
    "start_time": "2025-06-05T14:53:07.306Z"
   },
   {
    "duration": 6,
    "start_time": "2025-06-05T14:53:48.945Z"
   },
   {
    "duration": 10,
    "start_time": "2025-06-05T15:04:07.287Z"
   },
   {
    "duration": 9,
    "start_time": "2025-06-05T15:04:18.702Z"
   },
   {
    "duration": 85,
    "start_time": "2025-06-05T16:29:16.712Z"
   },
   {
    "duration": 111,
    "start_time": "2025-06-05T16:29:30.919Z"
   },
   {
    "duration": 51,
    "start_time": "2025-06-05T16:29:39.185Z"
   },
   {
    "duration": 18184,
    "start_time": "2025-06-05T16:30:00.416Z"
   },
   {
    "duration": 1694,
    "start_time": "2025-06-05T16:30:18.603Z"
   },
   {
    "duration": 17,
    "start_time": "2025-06-05T16:30:20.299Z"
   },
   {
    "duration": 77,
    "start_time": "2025-06-05T16:30:20.318Z"
   },
   {
    "duration": 7,
    "start_time": "2025-06-05T16:30:20.398Z"
   },
   {
    "duration": 51,
    "start_time": "2025-06-05T16:30:20.406Z"
   },
   {
    "duration": 19,
    "start_time": "2025-06-05T16:30:20.458Z"
   },
   {
    "duration": 17,
    "start_time": "2025-06-05T16:30:20.480Z"
   },
   {
    "duration": 134,
    "start_time": "2025-06-05T16:30:20.499Z"
   },
   {
    "duration": 8,
    "start_time": "2025-06-05T16:30:20.635Z"
   },
   {
    "duration": 1056,
    "start_time": "2025-06-05T16:30:20.645Z"
   },
   {
    "duration": 215,
    "start_time": "2025-06-05T16:30:21.703Z"
   },
   {
    "duration": 269,
    "start_time": "2025-06-05T16:30:21.920Z"
   },
   {
    "duration": 261,
    "start_time": "2025-06-05T16:30:22.193Z"
   },
   {
    "duration": 5,
    "start_time": "2025-06-05T16:30:22.456Z"
   },
   {
    "duration": 185,
    "start_time": "2025-06-05T16:30:22.462Z"
   },
   {
    "duration": 6,
    "start_time": "2025-06-05T16:30:22.649Z"
   },
   {
    "duration": 24,
    "start_time": "2025-06-05T16:30:22.657Z"
   },
   {
    "duration": 234045,
    "start_time": "2025-06-05T16:30:22.683Z"
   },
   {
    "duration": 28,
    "start_time": "2025-06-05T16:34:16.731Z"
   },
   {
    "duration": 809,
    "start_time": "2025-06-05T16:34:16.779Z"
   },
   {
    "duration": 201,
    "start_time": "2025-06-05T16:34:17.676Z"
   },
   {
    "duration": 381,
    "start_time": "2025-06-05T16:34:17.886Z"
   },
   {
    "duration": 17,
    "start_time": "2025-06-05T16:34:18.277Z"
   },
   {
    "duration": 9,
    "start_time": "2025-06-05T16:34:18.296Z"
   },
   {
    "duration": 74,
    "start_time": "2025-06-05T16:34:18.306Z"
   },
   {
    "duration": 45,
    "start_time": "2025-06-05T16:34:18.383Z"
   },
   {
    "duration": 82,
    "start_time": "2025-06-05T21:30:49.571Z"
   },
   {
    "duration": 17521,
    "start_time": "2025-06-05T21:30:57.066Z"
   },
   {
    "duration": 1705,
    "start_time": "2025-06-05T21:31:14.590Z"
   },
   {
    "duration": 16,
    "start_time": "2025-06-05T21:31:16.300Z"
   },
   {
    "duration": 77,
    "start_time": "2025-06-05T21:31:16.318Z"
   },
   {
    "duration": 5,
    "start_time": "2025-06-05T21:31:16.397Z"
   },
   {
    "duration": 114,
    "start_time": "2025-06-05T21:31:16.404Z"
   },
   {
    "duration": 10,
    "start_time": "2025-06-05T21:31:16.520Z"
   },
   {
    "duration": 18,
    "start_time": "2025-06-05T21:31:16.531Z"
   },
   {
    "duration": 195,
    "start_time": "2025-06-05T21:31:16.552Z"
   },
   {
    "duration": 9,
    "start_time": "2025-06-05T21:31:16.751Z"
   },
   {
    "duration": 988,
    "start_time": "2025-06-05T21:31:16.761Z"
   },
   {
    "duration": 218,
    "start_time": "2025-06-05T21:31:17.751Z"
   },
   {
    "duration": 277,
    "start_time": "2025-06-05T21:31:17.972Z"
   },
   {
    "duration": 245,
    "start_time": "2025-06-05T21:31:18.255Z"
   },
   {
    "duration": 5,
    "start_time": "2025-06-05T21:31:18.502Z"
   },
   {
    "duration": 171,
    "start_time": "2025-06-05T21:31:18.508Z"
   },
   {
    "duration": 6,
    "start_time": "2025-06-05T21:31:18.680Z"
   },
   {
    "duration": 28,
    "start_time": "2025-06-05T21:31:18.688Z"
   },
   {
    "duration": 234333,
    "start_time": "2025-06-05T21:31:18.736Z"
   },
   {
    "duration": 29,
    "start_time": "2025-06-05T21:35:13.071Z"
   },
   {
    "duration": 947,
    "start_time": "2025-06-05T21:35:13.101Z"
   },
   {
    "duration": 113,
    "start_time": "2025-06-05T21:35:14.051Z"
   },
   {
    "duration": 485,
    "start_time": "2025-06-05T21:35:14.166Z"
   },
   {
    "duration": 12,
    "start_time": "2025-06-05T21:35:14.653Z"
   },
   {
    "duration": 10,
    "start_time": "2025-06-05T21:35:14.667Z"
   },
   {
    "duration": 31,
    "start_time": "2025-06-05T21:35:14.679Z"
   },
   {
    "duration": 42,
    "start_time": "2025-06-05T21:35:14.713Z"
   },
   {
    "duration": 53,
    "start_time": "2025-06-05T21:35:14.757Z"
   },
   {
    "duration": 160,
    "start_time": "2025-06-05T21:37:48.349Z"
   },
   {
    "duration": 8,
    "start_time": "2025-06-05T21:37:56.547Z"
   },
   {
    "duration": 16,
    "start_time": "2025-06-05T21:39:52.034Z"
   },
   {
    "duration": 8,
    "start_time": "2025-06-05T21:40:11.622Z"
   },
   {
    "duration": 7,
    "start_time": "2025-06-05T21:40:18.503Z"
   },
   {
    "duration": 7,
    "start_time": "2025-06-05T21:40:41.799Z"
   },
   {
    "duration": 10,
    "start_time": "2025-06-05T21:48:49.995Z"
   }
  ],
  "kernelspec": {
   "display_name": "Python 3 (ipykernel)",
   "language": "python",
   "name": "python3"
  },
  "language_info": {
   "codemirror_mode": {
    "name": "ipython",
    "version": 3
   },
   "file_extension": ".py",
   "mimetype": "text/x-python",
   "name": "python",
   "nbconvert_exporter": "python",
   "pygments_lexer": "ipython3",
   "version": "3.9.5"
  },
  "toc": {
   "base_numbering": 1,
   "nav_menu": {},
   "number_sections": true,
   "sideBar": true,
   "skip_h1_title": true,
   "title_cell": "Table of Contents",
   "title_sidebar": "Contents",
   "toc_cell": false,
   "toc_position": {},
   "toc_section_display": true,
   "toc_window_display": true
  }
 },
 "nbformat": 4,
 "nbformat_minor": 2
}
