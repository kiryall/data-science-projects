{
 "cells": [
  {
   "cell_type": "markdown",
   "metadata": {
    "id": "lYR7ecHOjNMt"
   },
   "source": [
    "# Project Sentiment analysis\n",
    "\n",
    "Интернет-магазин запускает новый сервис. Теперь пользователи могут редактировать и дополнять описания товаров, как в вики-сообществах. То есть клиенты предлагают свои правки и комментируют изменения других. Магазину нужен инструмент, который будет искать токсичные комментарии и отправлять их на модерацию.\n",
    "\n",
    "### Цель проекта\n",
    "- **Обучить модель классифицировать комментарии на позитивные и негативные. Имеется набор данных с разметкой о токсичности правок.**\n",
    "\n",
    "- **Важные критерии:**\n",
    "    - Метрика качества *F1* не меньше 0.75.\n",
    "\n",
    "### Этапы:\n",
    "\n",
    "#### [1. Обзор данных](#load)\n",
    "- **Загрузить и проанализировать входные данные**\n",
    "\n",
    "#### [2. Предобработка](#data_preprocessing)\n",
    "- **Выявить проблемы с данными**\n",
    "\n",
    "#### [3. Моделирование](#model)\n",
    "- **Векторизовать текст с помощью TF-IDF**\n",
    "- **Создать эмбеддинг с помощью BERT**\n",
    "- **Построить pipeline для выбора модели и гиперпарамиетров**\n",
    "- **Провести подбор гиперпараметров моделей LogisticRegression, RandomForestClassifier, MultinomialNB, LinearSVC**\n",
    "- **Оценить F1 лучшей модели**\n",
    "- **Интерпретировать результаты**\n",
    "\n",
    "#### [4. Выводы](#conclusion)\n",
    "\n",
    "## Описание данных\n",
    "\n",
    "Данные находятся в файле `toxic_comments.csv`. Столбец *text* в нём содержит текст комментария, а *toxic* — целевой признак."
   ]
  },
  {
   "cell_type": "markdown",
   "metadata": {
    "id": "hUz-3VOrjNMv"
   },
   "source": [
    "## Импорт библиотек"
   ]
  },
  {
   "cell_type": "code",
   "execution_count": 1,
   "metadata": {
    "colab": {
     "base_uri": "https://localhost:8080/"
    },
    "id": "BAUjux9njNMw",
    "outputId": "11429d93-ac86-4300-dfce-7d710b83d564"
   },
   "outputs": [
    {
     "name": "stdout",
     "output_type": "stream",
     "text": [
      "\u001b[33mWARNING: Error parsing dependencies of ipykernel: Expected matching RIGHT_PARENTHESIS for LEFT_PARENTHESIS, after version specifier\n",
      "    matplotlib-inline (<0.2.0appnope,>=0.1.0) ; platform_system == \"Darwin\"\n",
      "                      ~~~~~~~~^\u001b[0m\u001b[33m\n",
      "\u001b[0mNote: you may need to restart the kernel to use updated packages.\n",
      "\u001b[33mWARNING: Error parsing dependencies of ipykernel: Expected matching RIGHT_PARENTHESIS for LEFT_PARENTHESIS, after version specifier\n",
      "    matplotlib-inline (<0.2.0appnope,>=0.1.0) ; platform_system == \"Darwin\"\n",
      "                      ~~~~~~~~^\u001b[0m\u001b[33m\n",
      "\u001b[0mNote: you may need to restart the kernel to use updated packages.\n",
      "\u001b[33mWARNING: Error parsing dependencies of ipykernel: Expected matching RIGHT_PARENTHESIS for LEFT_PARENTHESIS, after version specifier\n",
      "    matplotlib-inline (<0.2.0appnope,>=0.1.0) ; platform_system == \"Darwin\"\n",
      "                      ~~~~~~~~^\u001b[0m\u001b[33m\n",
      "\u001b[0mNote: you may need to restart the kernel to use updated packages.\n",
      "\u001b[33mWARNING: Error parsing dependencies of ipykernel: Expected matching RIGHT_PARENTHESIS for LEFT_PARENTHESIS, after version specifier\n",
      "    matplotlib-inline (<0.2.0appnope,>=0.1.0) ; platform_system == \"Darwin\"\n",
      "                      ~~~~~~~~^\u001b[0m\u001b[33m\n",
      "\u001b[0mNote: you may need to restart the kernel to use updated packages.\n"
     ]
    }
   ],
   "source": [
    "%pip install -U -q scikit-learn\n",
    "%pip install -q torch\n",
    "%pip install -q transformers\n",
    "%pip install -q datasets"
   ]
  },
  {
   "cell_type": "code",
   "execution_count": 2,
   "metadata": {},
   "outputs": [
    {
     "name": "stdout",
     "output_type": "stream",
     "text": [
      "Requirement already satisfied: wordcloud==1.8.2.2 in /opt/conda/lib/python3.9/site-packages (1.8.2.2)\n",
      "Requirement already satisfied: numpy>=1.6.1 in /opt/conda/lib/python3.9/site-packages (from wordcloud==1.8.2.2) (1.20.1)\n",
      "Requirement already satisfied: pillow in /opt/conda/lib/python3.9/site-packages (from wordcloud==1.8.2.2) (8.0.0)\n",
      "Requirement already satisfied: matplotlib in /opt/conda/lib/python3.9/site-packages (from wordcloud==1.8.2.2) (3.3.4)\n",
      "Requirement already satisfied: cycler>=0.10 in /opt/conda/lib/python3.9/site-packages (from matplotlib->wordcloud==1.8.2.2) (0.11.0)\n",
      "Requirement already satisfied: kiwisolver>=1.0.1 in /opt/conda/lib/python3.9/site-packages (from matplotlib->wordcloud==1.8.2.2) (1.4.4)\n",
      "Requirement already satisfied: pyparsing!=2.0.4,!=2.1.2,!=2.1.6,>=2.0.3 in /opt/conda/lib/python3.9/site-packages (from matplotlib->wordcloud==1.8.2.2) (2.4.7)\n",
      "Requirement already satisfied: python-dateutil>=2.1 in /opt/conda/lib/python3.9/site-packages (from matplotlib->wordcloud==1.8.2.2) (2.8.1)\n",
      "Requirement already satisfied: six>=1.5 in /opt/conda/lib/python3.9/site-packages (from python-dateutil>=2.1->matplotlib->wordcloud==1.8.2.2) (1.16.0)\n",
      "\u001b[33mWARNING: Error parsing dependencies of ipykernel: Expected matching RIGHT_PARENTHESIS for LEFT_PARENTHESIS, after version specifier\n",
      "    matplotlib-inline (<0.2.0appnope,>=0.1.0) ; platform_system == \"Darwin\"\n",
      "                      ~~~~~~~~^\u001b[0m\u001b[33m\n",
      "\u001b[0mRequirement already satisfied: Pillow==8.0.0 in /opt/conda/lib/python3.9/site-packages (8.0.0)\n",
      "\u001b[33mWARNING: Error parsing dependencies of ipykernel: Expected matching RIGHT_PARENTHESIS for LEFT_PARENTHESIS, after version specifier\n",
      "    matplotlib-inline (<0.2.0appnope,>=0.1.0) ; platform_system == \"Darwin\"\n",
      "                      ~~~~~~~~^\u001b[0m\u001b[33m\n",
      "\u001b[0m"
     ]
    }
   ],
   "source": [
    "!/opt/conda/bin/python -m pip install wordcloud==1.8.2.2\n",
    "%pip install Pillow==8.0.0"
   ]
  },
  {
   "cell_type": "code",
   "execution_count": 3,
   "metadata": {
    "colab": {
     "base_uri": "https://localhost:8080/"
    },
    "id": "1G2sj9wKjNMw",
    "outputId": "ec4d4b41-117a-448d-eaa7-05d110d8dcb7"
   },
   "outputs": [
    {
     "name": "stdout",
     "output_type": "stream",
     "text": [
      "CUDA доступен: False\n",
      "Имя устройства: CPU\n"
     ]
    }
   ],
   "source": [
    "import os\n",
    "import re\n",
    "import warnings\n",
    "\n",
    "from IPython.display import display\n",
    "\n",
    "import matplotlib.pyplot as plt\n",
    "import matplotlib.font_manager as fm\n",
    "import nltk\n",
    "import numpy as np\n",
    "import pandas as pd\n",
    "import seaborn as sns\n",
    "import torch\n",
    "import transformers\n",
    "import wordcloud\n",
    "from datasets import Dataset\n",
    "from nltk.corpus import stopwords as nltk_stopwords\n",
    "from nltk.corpus import wordnet\n",
    "from nltk.stem import WordNetLemmatizer\n",
    "from nltk.tokenize import word_tokenize\n",
    "from sklearn import set_config\n",
    "from sklearn.compose import ColumnTransformer\n",
    "from sklearn.ensemble import RandomForestClassifier\n",
    "from sklearn.feature_extraction.text import TfidfVectorizer\n",
    "from sklearn.linear_model import LogisticRegression\n",
    "from sklearn.metrics import f1_score, confusion_matrix\n",
    "from sklearn.model_selection import RandomizedSearchCV, train_test_split, StratifiedKFold\n",
    "from sklearn.naive_bayes import MultinomialNB\n",
    "from sklearn.pipeline import Pipeline\n",
    "from sklearn.preprocessing import FunctionTransformer\n",
    "from sklearn.svm import LinearSVC\n",
    "from tqdm import notebook\n",
    "from transformers import BertModel, BertTokenizer\n",
    "from wordcloud import WordCloud\n",
    "\n",
    "# Настройка\n",
    "RANDOM_STATE = 42\n",
    "TEST_SIZE = 0.25\n",
    "_model = None\n",
    "_tokenizer = None\n",
    "\n",
    "# Используем GPU, если доступен\n",
    "device = torch.device(\"cuda\" if torch.cuda.is_available() else \"cpu\")\n",
    "print(\"CUDA доступен:\", torch.cuda.is_available())\n",
    "print(\"Имя устройства:\", torch.cuda.get_device_name(0) if torch.cuda.is_available() else \"CPU\")\n"
   ]
  },
  {
   "cell_type": "code",
   "execution_count": 4,
   "metadata": {
    "id": "GlSgziQ5jNMx"
   },
   "outputs": [],
   "source": [
    "# задаем настройки pandas\n",
    "pd.set_option('display.float_format', '{:.4f}'.format)\n",
    "\n",
    "# задаем настройки среды визуализации\n",
    "%config InlineBackend.figure_format = 'jpeg'\n",
    "%matplotlib inline\n",
    "\n",
    "set_config(display=\"diagram\")\n",
    "\n",
    "warnings.filterwarnings('ignore')"
   ]
  },
  {
   "cell_type": "code",
   "execution_count": 5,
   "metadata": {
    "colab": {
     "base_uri": "https://localhost:8080/"
    },
    "id": "cOvXncxrjNMx",
    "outputId": "1a352362-18bd-414e-aa28-d3de3e05cf45",
    "scrolled": true
   },
   "outputs": [
    {
     "name": "stderr",
     "output_type": "stream",
     "text": [
      "[nltk_data] Downloading package omw-1.4 to /home/jovyan/nltk_data...\n",
      "[nltk_data]   Package omw-1.4 is already up-to-date!\n",
      "[nltk_data] Downloading package punkt to /home/jovyan/nltk_data...\n",
      "[nltk_data]   Package punkt is already up-to-date!\n",
      "[nltk_data] Downloading package wordnet to /home/jovyan/nltk_data...\n",
      "[nltk_data]   Package wordnet is already up-to-date!\n",
      "[nltk_data] Downloading package averaged_perceptron_tagger to\n",
      "[nltk_data]     /home/jovyan/nltk_data...\n",
      "[nltk_data]   Package averaged_perceptron_tagger is already up-to-\n",
      "[nltk_data]       date!\n",
      "[nltk_data] Downloading package stopwords to /home/jovyan/nltk_data...\n",
      "[nltk_data]   Package stopwords is already up-to-date!\n",
      "[nltk_data] Downloading package punkt_tab to /home/jovyan/nltk_data...\n",
      "[nltk_data]   Package punkt_tab is already up-to-date!\n",
      "[nltk_data] Downloading package averaged_perceptron_tagger_eng to\n",
      "[nltk_data]     /home/jovyan/nltk_data...\n",
      "[nltk_data]   Package averaged_perceptron_tagger_eng is already up-to-\n",
      "[nltk_data]       date!\n"
     ]
    },
    {
     "data": {
      "text/plain": [
       "True"
      ]
     },
     "execution_count": 5,
     "metadata": {},
     "output_type": "execute_result"
    }
   ],
   "source": [
    "nltk.download('omw-1.4')\n",
    "nltk.download('punkt')\n",
    "nltk.download('wordnet')\n",
    "nltk.download('averaged_perceptron_tagger')\n",
    "nltk.download('stopwords')\n",
    "nltk.download('punkt_tab')\n",
    "nltk.download('averaged_perceptron_tagger_eng')"
   ]
  },
  {
   "cell_type": "markdown",
   "metadata": {
    "id": "rHb7YAxkjNMy"
   },
   "source": [
    "<a id=\"load\"></a>\n",
    "## Обзор данных"
   ]
  },
  {
   "cell_type": "code",
   "execution_count": 6,
   "metadata": {
    "colab": {
     "base_uri": "https://localhost:8080/"
    },
    "id": "0g31pcW-jNMy",
    "outputId": "ae7189bc-23a6-4098-9778-0ea7738c09bc"
   },
   "outputs": [
    {
     "data": {
      "text/plain": [
       "(159292, 2)"
      ]
     },
     "execution_count": 6,
     "metadata": {},
     "output_type": "execute_result"
    }
   ],
   "source": [
    "# загружаем датасеты\n",
    "pth = '/datasets/toxic_comments.csv'\n",
    "pth_alt = r\"C:\\Users\\User\\da_practicum\\local_projects\\12.2 Проект Викишоп\\data\\toxic_comments.csv\"\n",
    "pth_alt_2 = r\"/content/toxic_comments.csv\"\n",
    "\n",
    "if os.path.exists(pth):\n",
    "    raw_data = pd.read_csv(pth, index_col=[0])\n",
    "elif os.path.exists(pth_alt):\n",
    "    raw_data = pd.read_csv(pth_alt, index_col=[0])\n",
    "elif os.path.exists(pth_alt_2):\n",
    "    raw_data = pd.read_csv(pth_alt_2, index_col=[0])\n",
    "else:\n",
    "    print('Something is wrong')\n",
    "    raw_data = None\n",
    "raw_data = raw_data.reset_index(drop=True)\n",
    "raw_data.shape"
   ]
  },
  {
   "cell_type": "code",
   "execution_count": 7,
   "metadata": {
    "id": "AO83PHYmjNMy"
   },
   "outputs": [],
   "source": [
    "# определим функцию для вывода общей информации о датасете\n",
    "def displ_data(data, title='Обзорная информация'):\n",
    "    \"\"\"\n",
    "    Функция для вывода общей информации о датасете\n",
    "    \"\"\"\n",
    "\n",
    "    print(f'----------{title}----------\\n')\n",
    "\n",
    "    display(data.info())\n",
    "\n",
    "    print(f'-------Датафрейм-------\\n')\n",
    "    display(data.head(5))\n",
    "\n",
    "    plt.figure(figsize=(8, 9))\n",
    "    plt.pie(data['toxic'].value_counts(),\n",
    "        labels=['Non-toxic (0)', 'Toxic (1)'],\n",
    "        autopct='%1.1f%%',\n",
    "        startangle=90,\n",
    "        colors=['skyblue', 'salmon'])\n",
    "    plt.title('Баланс классов', fontsize=12)\n",
    "    plt.show()\n",
    "\n",
    "    #определене пропусков\n",
    "    print(f'-------Количество пропусков-------\\n')\n",
    "    print(data.isna().sum())"
   ]
  },
  {
   "cell_type": "code",
   "execution_count": 8,
   "metadata": {
    "colab": {
     "base_uri": "https://localhost:8080/",
     "height": 888
    },
    "id": "rOUvBXV2jNMz",
    "outputId": "2a304481-59d5-4e1b-c0f4-d6c9ba1213bd"
   },
   "outputs": [
    {
     "name": "stdout",
     "output_type": "stream",
     "text": [
      "----------Обзорная информация----------\n",
      "\n",
      "<class 'pandas.core.frame.DataFrame'>\n",
      "RangeIndex: 159292 entries, 0 to 159291\n",
      "Data columns (total 2 columns):\n",
      " #   Column  Non-Null Count   Dtype \n",
      "---  ------  --------------   ----- \n",
      " 0   text    159292 non-null  object\n",
      " 1   toxic   159292 non-null  int64 \n",
      "dtypes: int64(1), object(1)\n",
      "memory usage: 2.4+ MB\n"
     ]
    },
    {
     "data": {
      "text/plain": [
       "None"
      ]
     },
     "metadata": {},
     "output_type": "display_data"
    },
    {
     "name": "stdout",
     "output_type": "stream",
     "text": [
      "-------Датафрейм-------\n",
      "\n"
     ]
    },
    {
     "data": {
      "text/html": [
       "<div>\n",
       "<style scoped>\n",
       "    .dataframe tbody tr th:only-of-type {\n",
       "        vertical-align: middle;\n",
       "    }\n",
       "\n",
       "    .dataframe tbody tr th {\n",
       "        vertical-align: top;\n",
       "    }\n",
       "\n",
       "    .dataframe thead th {\n",
       "        text-align: right;\n",
       "    }\n",
       "</style>\n",
       "<table border=\"1\" class=\"dataframe\">\n",
       "  <thead>\n",
       "    <tr style=\"text-align: right;\">\n",
       "      <th></th>\n",
       "      <th>text</th>\n",
       "      <th>toxic</th>\n",
       "    </tr>\n",
       "  </thead>\n",
       "  <tbody>\n",
       "    <tr>\n",
       "      <th>0</th>\n",
       "      <td>Explanation\\nWhy the edits made under my usern...</td>\n",
       "      <td>0</td>\n",
       "    </tr>\n",
       "    <tr>\n",
       "      <th>1</th>\n",
       "      <td>D'aww! He matches this background colour I'm s...</td>\n",
       "      <td>0</td>\n",
       "    </tr>\n",
       "    <tr>\n",
       "      <th>2</th>\n",
       "      <td>Hey man, I'm really not trying to edit war. It...</td>\n",
       "      <td>0</td>\n",
       "    </tr>\n",
       "    <tr>\n",
       "      <th>3</th>\n",
       "      <td>\"\\nMore\\nI can't make any real suggestions on ...</td>\n",
       "      <td>0</td>\n",
       "    </tr>\n",
       "    <tr>\n",
       "      <th>4</th>\n",
       "      <td>You, sir, are my hero. Any chance you remember...</td>\n",
       "      <td>0</td>\n",
       "    </tr>\n",
       "  </tbody>\n",
       "</table>\n",
       "</div>"
      ],
      "text/plain": [
       "                                                text  toxic\n",
       "0  Explanation\\nWhy the edits made under my usern...      0\n",
       "1  D'aww! He matches this background colour I'm s...      0\n",
       "2  Hey man, I'm really not trying to edit war. It...      0\n",
       "3  \"\\nMore\\nI can't make any real suggestions on ...      0\n",
       "4  You, sir, are my hero. Any chance you remember...      0"
      ]
     },
     "metadata": {},
     "output_type": "display_data"
    },
    {
     "data": {
      "image/jpeg": "[encoded data removed]",
      "text/plain": [
       "<Figure size 576x648 with 1 Axes>"
      ]
     },
     "metadata": {},
     "output_type": "display_data"
    },
    {
     "name": "stdout",
     "output_type": "stream",
     "text": [
      "-------Количество пропусков-------\n",
      "\n",
      "text     0\n",
      "toxic    0\n",
      "dtype: int64\n"
     ]
    }
   ],
   "source": [
    "displ_data(raw_data)"
   ]
  },
  {
   "cell_type": "markdown",
   "metadata": {
    "id": "b5YD3bKUjNMz"
   },
   "source": [
    "- ***Вывод по обзору: в данных наблюдается дисбаланс классов - токсичных комментариев 10%. В моделях будем использовать стратификацию. Пропусков в данных нет.***"
   ]
  },
  {
   "cell_type": "markdown",
   "metadata": {
    "id": "65rS6RoWjNMz"
   },
   "source": [
    "<a id=\"data_preprocessing\"></a>\n",
    "## Предобработка\n",
    "- **Предобработку текста будем делать в пайплайне.**"
   ]
  },
  {
   "cell_type": "code",
   "execution_count": 9,
   "metadata": {
    "id": "5n2nQX-WjNM1"
   },
   "outputs": [],
   "source": [
    "# список стоп слов\n",
    "stopwords = list(set(nltk_stopwords.words('english')))"
   ]
  },
  {
   "cell_type": "code",
   "execution_count": 10,
   "metadata": {
    "id": "Lk6rebEljNMz"
   },
   "outputs": [],
   "source": [
    "# для ускорения работы в тестовом режиме\n",
    "# оставим стратифицированную выборку из 3000 семплов\n",
    "data = (raw_data\n",
    "        .groupby('toxic', group_keys=False)\n",
    "        .apply(lambda x: x.sample(frac=0.02, random_state=RANDOM_STATE)))"
   ]
  },
  {
   "cell_type": "code",
   "execution_count": 11,
   "metadata": {
    "colab": {
     "base_uri": "https://localhost:8080/"
    },
    "id": "XiW9O6f_jNM0",
    "outputId": "d0bab1be-d9a4-4e50-84f2-b51c1695a7b8"
   },
   "outputs": [
    {
     "name": "stdout",
     "output_type": "stream",
     "text": [
      "----------Обзорная информация----------\n",
      "\n",
      "<class 'pandas.core.frame.DataFrame'>\n",
      "Int64Index: 3186 entries, 145800 to 76903\n",
      "Data columns (total 2 columns):\n",
      " #   Column  Non-Null Count  Dtype \n",
      "---  ------  --------------  ----- \n",
      " 0   text    3186 non-null   object\n",
      " 1   toxic   3186 non-null   int64 \n",
      "dtypes: int64(1), object(1)\n",
      "memory usage: 74.7+ KB\n"
     ]
    },
    {
     "data": {
      "text/plain": [
       "None"
      ]
     },
     "metadata": {},
     "output_type": "display_data"
    },
    {
     "name": "stdout",
     "output_type": "stream",
     "text": [
      "-------Датафрейм-------\n",
      "\n"
     ]
    },
    {
     "data": {
      "text/html": [
       "<div>\n",
       "<style scoped>\n",
       "    .dataframe tbody tr th:only-of-type {\n",
       "        vertical-align: middle;\n",
       "    }\n",
       "\n",
       "    .dataframe tbody tr th {\n",
       "        vertical-align: top;\n",
       "    }\n",
       "\n",
       "    .dataframe thead th {\n",
       "        text-align: right;\n",
       "    }\n",
       "</style>\n",
       "<table border=\"1\" class=\"dataframe\">\n",
       "  <thead>\n",
       "    <tr style=\"text-align: right;\">\n",
       "      <th></th>\n",
       "      <th>text</th>\n",
       "      <th>toxic</th>\n",
       "    </tr>\n",
       "  </thead>\n",
       "  <tbody>\n",
       "    <tr>\n",
       "      <th>145800</th>\n",
       "      <td>Press \\n June 2011: Today Show, NBC: Today's M...</td>\n",
       "      <td>0</td>\n",
       "    </tr>\n",
       "    <tr>\n",
       "      <th>41036</th>\n",
       "      <td>Contested deletion \\n\\nThis article should not...</td>\n",
       "      <td>0</td>\n",
       "    </tr>\n",
       "    <tr>\n",
       "      <th>127525</th>\n",
       "      <td>\"\\n  Your latest edits have goen even further ...</td>\n",
       "      <td>0</td>\n",
       "    </tr>\n",
       "    <tr>\n",
       "      <th>5828</th>\n",
       "      <td>\"\\nIt should not be deleted, but fixed. North ...</td>\n",
       "      <td>0</td>\n",
       "    </tr>\n",
       "    <tr>\n",
       "      <th>87746</th>\n",
       "      <td>I'm back... \\n\\n...I haven't found the rusty k...</td>\n",
       "      <td>0</td>\n",
       "    </tr>\n",
       "  </tbody>\n",
       "</table>\n",
       "</div>"
      ],
      "text/plain": [
       "                                                     text  toxic\n",
       "145800  Press \\n June 2011: Today Show, NBC: Today's M...      0\n",
       "41036   Contested deletion \\n\\nThis article should not...      0\n",
       "127525  \"\\n  Your latest edits have goen even further ...      0\n",
       "5828    \"\\nIt should not be deleted, but fixed. North ...      0\n",
       "87746   I'm back... \\n\\n...I haven't found the rusty k...      0"
      ]
     },
     "metadata": {},
     "output_type": "display_data"
    },
    {
     "data": {
      "image/jpeg": "[encoded data removed]",
      "text/plain": [
       "<Figure size 576x648 with 1 Axes>"
      ]
     },
     "metadata": {},
     "output_type": "display_data"
    },
    {
     "name": "stdout",
     "output_type": "stream",
     "text": [
      "-------Количество пропусков-------\n",
      "\n",
      "text     0\n",
      "toxic    0\n",
      "dtype: int64\n"
     ]
    }
   ],
   "source": [
    "displ_data(data)"
   ]
  },
  {
   "cell_type": "markdown",
   "metadata": {
    "id": "1JATiB0wjNMz"
   },
   "source": [
    "### Функции очистки и лемматизации текста"
   ]
  },
  {
   "cell_type": "code",
   "execution_count": 12,
   "metadata": {
    "id": "iR3cNB1GjNM0"
   },
   "outputs": [],
   "source": [
    "def clear_text(text, pattern=r'[^a-zA-Z]'):\n",
    "    \"\"\"\n",
    "    Функция для очистки текста.\n",
    "    Удаляет все символы кроме букв латинского алфавита.\n",
    "    \"\"\"\n",
    "    return \" \".join(re.sub(pattern, ' ', text).split()).lower()"
   ]
  },
  {
   "cell_type": "code",
   "execution_count": 13,
   "metadata": {
    "id": "4rP4hpi1jNM0"
   },
   "outputs": [],
   "source": [
    "def get_wordnet_pos(nltk_pos_tag):\n",
    "    \"\"\"\n",
    "    Функция для определения части речи. Используется в функции лемматизации\n",
    "    \"\"\"\n",
    "    if nltk_pos_tag.startswith('J'):\n",
    "        return wordnet.ADJ\n",
    "    elif nltk_pos_tag.startswith('V'):\n",
    "        return wordnet.VERB\n",
    "    elif nltk_pos_tag.startswith('N'):\n",
    "        return wordnet.NOUN\n",
    "    elif nltk_pos_tag.startswith('R'):\n",
    "        return wordnet.ADV\n",
    "    else:\n",
    "        return wordnet.NOUN"
   ]
  },
  {
   "cell_type": "code",
   "execution_count": 14,
   "metadata": {
    "id": "Wm-vJPXZjNM0"
   },
   "outputs": [],
   "source": [
    "def lemmatize_txt(text):\n",
    "    \"\"\"\n",
    "    Функция для лемматизации текста (строки)\n",
    "    \"\"\"\n",
    "\n",
    "    lemmatizer = WordNetLemmatizer()\n",
    "    tokens = word_tokenize(text)\n",
    "    pos_tags = nltk.pos_tag(tokens)  # [(word, pos_tag), ...]\n",
    "\n",
    "    lemmatized_words = []\n",
    "    for word, tag in pos_tags:\n",
    "        wordnet_pos = get_wordnet_pos(tag)\n",
    "        lemmatized = lemmatizer.lemmatize(word, pos=wordnet_pos)\n",
    "        lemmatized_words.append(lemmatized)\n",
    "\n",
    "    return \" \".join(lemmatized_words)"
   ]
  },
  {
   "cell_type": "code",
   "execution_count": 15,
   "metadata": {
    "id": "Lpq32lV4gx8H"
   },
   "outputs": [],
   "source": [
    "def lemmatize_df(X):\n",
    "    \"\"\"\n",
    "    Функция для лемматизации датафрейма\n",
    "    \"\"\"\n",
    "    if isinstance(X, pd.DataFrame):\n",
    "        X = X.iloc[:, 0]\n",
    "\n",
    "    X_ = X.apply(clear_text)\n",
    "    X_ = X_.apply(lemmatize_txt)\n",
    "\n",
    "    return X_"
   ]
  },
  {
   "cell_type": "markdown",
   "metadata": {},
   "source": [
    "### Облако слов"
   ]
  },
  {
   "cell_type": "code",
   "execution_count": 16,
   "metadata": {},
   "outputs": [],
   "source": [
    "clear_data_toxic = str(lemmatize_df(data.loc[data['toxic']==1]).tolist())\n",
    "clear_data = str(lemmatize_df(data.loc[data['toxic']==0]).tolist())"
   ]
  },
  {
   "cell_type": "code",
   "execution_count": 17,
   "metadata": {},
   "outputs": [],
   "source": [
    "def plot_cloud(wordcloud, title):\n",
    "    \"\"\"\n",
    "    Функция для построения облака слов\n",
    "    \"\"\"\n",
    "    plt.figure(figsize=(10, 7))  \n",
    "    plt.imshow(wordcloud)\n",
    "    plt.title(title, fontsize=17)\n",
    "    plt.axis(\"off\")"
   ]
  },
  {
   "cell_type": "code",
   "execution_count": 18,
   "metadata": {},
   "outputs": [],
   "source": [
    "dejavu_path = fm.findfont(fm.FontProperties(family=\"DejaVu Sans\"))"
   ]
  },
  {
   "cell_type": "code",
   "execution_count": 19,
   "metadata": {
    "scrolled": false
   },
   "outputs": [
    {
     "data": {
      "image/jpeg": "[encoded data removed]",
      "text/plain": [
       "<Figure size 720x504 with 1 Axes>"
      ]
     },
     "metadata": {
      "needs_background": "light"
     },
     "output_type": "display_data"
    },
    {
     "data": {
      "image/jpeg": "[encoded data removed]",
      "text/plain": [
       "<Figure size 720x504 with 1 Axes>"
      ]
     },
     "metadata": {
      "needs_background": "light"
     },
     "output_type": "display_data"
    }
   ],
   "source": [
    "wordcloud = WordCloud(width = 2000, \n",
    "                      height = 1500,\n",
    "                      random_state=RANDOM_STATE, \n",
    "                      background_color='white',\n",
    "                      font_path=dejavu_path,\n",
    "                      margin=20, \n",
    "                      colormap='Blues', \n",
    "                      collocations=False,\n",
    "                      max_words=100,\n",
    "                      stopwords = stopwords).generate(clear_data)\n",
    "\n",
    "wordcloud_toxic = WordCloud(width = 2000, \n",
    "                      height = 1500,\n",
    "                      random_state=RANDOM_STATE, \n",
    "                      background_color='white',\n",
    "                      font_path=dejavu_path,\n",
    "                      margin=20, \n",
    "                      colormap='prism', \n",
    "                      collocations=False,\n",
    "                      max_words=100,\n",
    "                      stopwords = stopwords).generate(clear_data_toxic)\n",
    "\n",
    "\n",
    "plot_cloud(wordcloud, \"Нетоксичное облако\")\n",
    "plot_cloud(wordcloud_toxic, \"Токсичное облако\")"
   ]
  },
  {
   "cell_type": "markdown",
   "metadata": {},
   "source": [
    "- ***Токсичные комментарии не зря получили такую оценку.***"
   ]
  },
  {
   "cell_type": "markdown",
   "metadata": {
    "id": "2PAp0C0u9gq4"
   },
   "source": [
    "### Функции вычисления эмбеддингов BERT"
   ]
  },
  {
   "cell_type": "code",
   "execution_count": 20,
   "metadata": {
    "id": "cvbawFGQgx8H"
   },
   "outputs": [],
   "source": [
    "def load_model(model_name=\"bert-base-uncased\"):\n",
    "    \"\"\"\n",
    "    Функция для загрузки модели и токенайзера\n",
    "    \"\"\"\n",
    "    global _model, _tokenizer\n",
    "\n",
    "    if _model is None or _tokenizer is None:\n",
    "        print(\"Загружаем BERT и токенайзер...\")\n",
    "        try:\n",
    "            _tokenizer = BertTokenizer.from_pretrained(model_name)\n",
    "        except:\n",
    "            _tokenizer = transformers.BertTokenizer(\n",
    "                        vocab_file='/datasets/ds_bert/vocab.txt')\n",
    "\n",
    "        _model = BertModel.from_pretrained(model_name)\n",
    "        _model.to(device)\n",
    "        _model.eval()\n",
    "\n",
    "    return _model, _tokenizer"
   ]
  },
  {
   "cell_type": "code",
   "execution_count": 21,
   "metadata": {
    "id": "9ZP4tEHjgx8I"
   },
   "outputs": [],
   "source": [
    "def calculate_embaddings(model, padded, attention_mask, X):\n",
    "    \"\"\"\n",
    "    Функция для вычисления эмбеддингов\n",
    "    \"\"\"\n",
    "    batch_size = 50\n",
    "    embeddings = []\n",
    "\n",
    "    for i in notebook.tqdm(range(0, padded.shape[0], batch_size)):\n",
    "        # если есть возможность, переносим на GPU\n",
    "        batch_end = min(i + batch_size, padded.shape[0])\n",
    "        batch = torch.LongTensor(padded[i:batch_end]).to(device)\n",
    "        attention_mask_batch = (torch\n",
    "                                .LongTensor(attention_mask[i:batch_end])\n",
    "                                .to(device))\n",
    "\n",
    "        with torch.no_grad():\n",
    "            outputs = model(batch, attention_mask=attention_mask_batch)\n",
    "            cls_embeddings = outputs.pooler_output\n",
    "\n",
    "        embeddings.append(cls_embeddings.cpu().numpy())\n",
    "\n",
    "    # проверка\n",
    "    if len(embeddings) == 0:\n",
    "        return np.zeros((X.shape[0], 768))\n",
    "    embeddings = np.vstack(embeddings)\n",
    "\n",
    "    if embeddings.shape[0] != X.shape[0]:\n",
    "        raise ValueError(f\"Embedding shape mismatch: expected \\\n",
    "         {X.shape[0]} samples, got {embeddings.shape[0]}\")\n",
    "\n",
    "    return embeddings"
   ]
  },
  {
   "cell_type": "code",
   "execution_count": 22,
   "metadata": {
    "id": "c14UD7MBgx8I"
   },
   "outputs": [],
   "source": [
    "def bert_embeddings(X):\n",
    "    \"\"\"\n",
    "    Функция для вычисления эмбеддингов\n",
    "    \"\"\"\n",
    "\n",
    "    # загружаем модель и токенайзер\n",
    "    model, tokenizer = load_model()\n",
    "\n",
    "    # проверка входных данных. приведение к датафрейму\n",
    "    if isinstance(X, pd.Series):\n",
    "        X = pd.DataFrame({'text': X})\n",
    "    elif isinstance(X, pd.DataFrame):\n",
    "        X = X.copy()\n",
    "    else:\n",
    "        return np.zeros((1, 768))\n",
    "\n",
    "    def tokenize_func(df):\n",
    "        \"\"\"\n",
    "        Функция для токенизации текста (строки)\n",
    "        \"\"\"\n",
    "        return tokenizer(df['text'],\n",
    "                            padding='max_length',\n",
    "                            truncation=True,\n",
    "                            max_length=100)\n",
    "\n",
    "    dataset = Dataset.from_pandas(X[['text']])\n",
    "\n",
    "    tokenized_df = dataset.map(tokenize_func, batched=True)\n",
    "    tokenized_df = tokenized_df.remove_columns(['text'])\n",
    "\n",
    "    padded = np.asarray(tokenized_df['input_ids'])\n",
    "    attention_mask = np.asarray(tokenized_df['attention_mask'])\n",
    "\n",
    "    # ввычисляем эмбеддинги\n",
    "    embeddings = calculate_embaddings(model, padded, attention_mask, X)\n",
    "\n",
    "    return embeddings"
   ]
  },
  {
   "cell_type": "markdown",
   "metadata": {
    "id": "U2sQ1-Dzgx8I"
   },
   "source": [
    "<a id=\"model\"></a>\n",
    "## Моделирование"
   ]
  },
  {
   "cell_type": "markdown",
   "metadata": {
    "id": "8M1vvBV68nVF"
   },
   "source": [
    "- **Пропишем пайплайн, функцию подбора гиперпараметров.**"
   ]
  },
  {
   "cell_type": "code",
   "execution_count": 23,
   "metadata": {
    "id": "hdEGrBO4jNM1"
   },
   "outputs": [],
   "source": [
    "def make_pipeline(df, target, tfidf=True, bert=False):\n",
    "\n",
    "    '''\n",
    "    Функция готовит пайплпйн\n",
    "    '''\n",
    "\n",
    "    corpus = df[['text']]\n",
    "    y = df[target]\n",
    "\n",
    "    corpus_train, corpus_test, y_train, y_test = train_test_split(\n",
    "        corpus, y, test_size=TEST_SIZE, stratify=y, random_state=RANDOM_STATE\n",
    "    )\n",
    "\n",
    "    # tfidf - по умолчанию\n",
    "    if tfidf:\n",
    "\n",
    "        # лемматизация текста\n",
    "        corpus_train, corpus_test = (\n",
    "            lemmatize_df(corpus_train),\n",
    "            lemmatize_df(corpus_test)\n",
    "        )\n",
    "\n",
    "        # финальный пайплайн\n",
    "        pipe = Pipeline([\n",
    "            ('tfidf', TfidfVectorizer(stop_words=stopwords,\n",
    "                                      ngram_range=(1, 1),\n",
    "                                      sublinear_tf=True)),\n",
    "            ('models', LogisticRegression(random_state=RANDOM_STATE))\n",
    "        ])\n",
    "\n",
    "    # bert\n",
    "    elif bert:\n",
    "\n",
    "        # вычисляем эмбеддинги\n",
    "        corpus_train, corpus_test = (\n",
    "            bert_embeddings(corpus_train),\n",
    "            bert_embeddings(corpus_test)\n",
    "        )\n",
    "\n",
    "        # финальный пайплайн\n",
    "        pipe = Pipeline(\n",
    "            [('models', LogisticRegression(random_state=RANDOM_STATE))]\n",
    "        )\n",
    "\n",
    "    return pipe, corpus_train, corpus_test, y_train, y_test"
   ]
  },
  {
   "cell_type": "code",
   "execution_count": 24,
   "metadata": {
    "id": "1FvYJbMajNM1"
   },
   "outputs": [],
   "source": [
    "stratified_cv = StratifiedKFold(n_splits=3, shuffle=True, random_state=RANDOM_STATE)\n",
    "\n",
    "def searchCV(pipe, param_grid, corpus_train, y_train, n_jobs):\n",
    "    \"\"\"\n",
    "    Функция для подбора гиперпараметров и выбора модели\n",
    "    \"\"\"\n",
    "    search = RandomizedSearchCV(\n",
    "        pipe,\n",
    "        param_grid,\n",
    "        cv=stratified_cv,\n",
    "        scoring='f1_weighted',\n",
    "        n_jobs=n_jobs,\n",
    "        n_iter=100,\n",
    "        verbose=1,\n",
    "        pre_dispatch='2*n_jobs',\n",
    "        random_state=RANDOM_STATE\n",
    "    )\n",
    "\n",
    "    search.fit(corpus_train, y_train)\n",
    "\n",
    "    return search"
   ]
  },
  {
   "cell_type": "code",
   "execution_count": 25,
   "metadata": {
    "id": "mLSNZr3xgx8J"
   },
   "outputs": [],
   "source": [
    "param_grid_tfidf = [\n",
    "    #LinearSVC\n",
    "    {\n",
    "        'models': [LinearSVC(class_weight='balanced',\n",
    "                             random_state=RANDOM_STATE)],\n",
    "        'models__C': np.logspace(-2, 2, 20).tolist(),\n",
    "        'tfidf__ngram_range': [(1, 1), (1, 2)],\n",
    "        'tfidf__max_df': [0.9, 0.925, 0.95, 0.975, 1.0],\n",
    "        'tfidf__binary': [True, False]\n",
    "    },\n",
    "    #LogisticRegression\n",
    "    {\n",
    "        'models': [LogisticRegression(class_weight='balanced',\n",
    "                                      random_state=RANDOM_STATE,\n",
    "                                      solver='saga')],\n",
    "        'models__C': np.logspace(-2, 2, 20).tolist(),\n",
    "        'tfidf__ngram_range': [(1, 1), (1, 2)],\n",
    "        'tfidf__max_df': [0.9, 0.925, 0.95, 0.975, 1.0],\n",
    "        'tfidf__binary': [True, False]\n",
    "    },\n",
    "    # RandomForest\n",
    "    {\n",
    "        'models': [RandomForestClassifier(class_weight='balanced',\n",
    "                                          random_state=RANDOM_STATE)],\n",
    "        'models__n_estimators': [100, 200, 300],\n",
    "        'models__max_depth': [None, 10, 20, 30],\n",
    "        'models__min_samples_split': [2, 5, 10],\n",
    "        'models__min_samples_leaf': [1, 2, 4],\n",
    "        'tfidf__ngram_range': [(1, 1), (1, 2)],\n",
    "        'tfidf__max_df': [0.9, 0.925, 0.95, 0.975, 1.0],\n",
    "        'tfidf__binary': [True, False]\n",
    "    },\n",
    "    # MultinomialNB\n",
    "    {\n",
    "        'models': [MultinomialNB()],\n",
    "        'models__alpha': np.logspace(-2, 1, 20).tolist(),\n",
    "        'tfidf__ngram_range': [(1, 1), (1, 2)],\n",
    "        'tfidf__max_df': [0.9, 0.925, 0.95, 0.975, 1.0],\n",
    "        'tfidf__binary': [True, False]\n",
    "    }\n",
    "]"
   ]
  },
  {
   "cell_type": "code",
   "execution_count": 40,
   "metadata": {
    "id": "Xr_Mnj7vgx8J"
   },
   "outputs": [],
   "source": [
    "param_grid_bert = [\n",
    "   #LinearSVC\n",
    "    {\n",
    "        'models': [LinearSVC(class_weight='balanced',\n",
    "                             random_state=RANDOM_STATE,\n",
    "                             max_iter=10000)],\n",
    "        'models__C': np.logspace(-2, 2, 20).tolist()\n",
    "    },\n",
    "    #LogisticRegression\n",
    "    {\n",
    "        'models': [LogisticRegression(class_weight='balanced',\n",
    "                                      random_state=RANDOM_STATE,\n",
    "                                      max_iter=1000,\n",
    "                                      solver='saga')],\n",
    "        'models__C': np.logspace(-2, 2, 20).tolist()\n",
    "    },\n",
    "    # RandomForest\n",
    "    {\n",
    "        'models': [RandomForestClassifier(class_weight='balanced',\n",
    "                                          random_state=RANDOM_STATE)],\n",
    "        'models__n_estimators': [100, 200, 300],\n",
    "        'models__max_depth': [None, 10, 20],\n",
    "        'models__min_samples_split': [2, 5, 10],\n",
    "        'models__min_samples_leaf': [1, 2, 4],\n",
    "    }\n",
    "]"
   ]
  },
  {
   "cell_type": "code",
   "execution_count": 27,
   "metadata": {
    "id": "t_XijyTPjNM2"
   },
   "outputs": [],
   "source": [
    "def result_tab(search):\n",
    "    \"\"\"\n",
    "    Функция выводит таблицу с лучшими выбранными моделями и их скорами\n",
    "    \"\"\"\n",
    "    result = pd.DataFrame(search.cv_results_)\n",
    "\n",
    "    result['model_name'] = (result['param_models']\n",
    "                            .apply(lambda x: str(x)\n",
    "                            .split('(')[0]))\n",
    "\n",
    "    best_results = (result[['model_name', 'mean_test_score']]\n",
    "                    .groupby('model_name')\n",
    "                    .agg('max')\n",
    "                    .sort_values('mean_test_score', ascending=False))\n",
    "\n",
    "    best_results = best_results.rename(columns={\n",
    "        'mean_test_score': 'F1'\n",
    "    })\n",
    "\n",
    "    return best_results.abs()"
   ]
  },
  {
   "cell_type": "markdown",
   "metadata": {
    "id": "LtXC36bWgx8J"
   },
   "source": [
    "- ***Пайплайн для TF-IDF***"
   ]
  },
  {
   "cell_type": "code",
   "execution_count": 28,
   "metadata": {
    "colab": {
     "base_uri": "https://localhost:8080/"
    },
    "id": "3lRyxq74jNM2",
    "outputId": "d5c27d8e-d2ec-4656-bc00-387e82d131d3"
   },
   "outputs": [
    {
     "data": {
      "text/plain": [
       "((2389,), (2389,), (797,), (797,))"
      ]
     },
     "execution_count": 28,
     "metadata": {},
     "output_type": "execute_result"
    }
   ],
   "source": [
    "(pipe_tfidf,\n",
    " corpus_train_tfidf,\n",
    " corpus_test_tfidf,\n",
    " y_train_tfidf,\n",
    " y_test_tfidf) = make_pipeline(data,\n",
    "                               'toxic',\n",
    "                               tfidf=True,\n",
    "                               bert=False)\n",
    "(corpus_train_tfidf.shape,\n",
    " y_train_tfidf.shape,\n",
    " corpus_test_tfidf.shape,\n",
    " y_test_tfidf.shape)"
   ]
  },
  {
   "cell_type": "markdown",
   "metadata": {
    "id": "lBED0t7Ogx8K"
   },
   "source": [
    "- ***Пайплайн для BERT***"
   ]
  },
  {
   "cell_type": "code",
   "execution_count": 29,
   "metadata": {
    "colab": {
     "base_uri": "https://localhost:8080/",
     "height": 162,
     "referenced_widgets": [
      "623e8af5529842b69255854235078bfc",
      "561c5c98dced409b98e87bb97a54c438",
      "9fc7c1c4cf2242af8aac112e605da7ec",
      "6e36ecd92d1547589382a016c549594b",
      "45882f58e4c64bcd91a9c5f7a4d9d86f",
      "29c04136285a4e86b80f4db83470c0b6",
      "7bedec54e57843ce9e734a4f0f5552c0",
      "b33969486acc4985b467ff77143d113b",
      "f3284e9db3ef4252bb9ee442b4d2823d",
      "2e30df20067c4260a14b8d30a23293a2",
      "8ded1f37bcb545a08029bf7c7d775603",
      "5421b61686734f6183fb0a167f9cd6d3",
      "82c8ac5eb9f74e64ab576bebf764696c",
      "3f54fad3085141948b574c138d962d89",
      "2343b156a0d247358186a7d4cd7ea8a1",
      "71a6b9025a424ae6aad1eec73c8ef82d",
      "8eae1646c5f945daa49965b778c4e64c",
      "07292b01d7ca4e1886a1cb2758591aa2",
      "8ee82cf12332438ca55d00b26cb115c6",
      "3c42ff4c249944f98cb029e27c86f6a3",
      "ce66c56a8f854a85abf59120047d00d1",
      "fe6a5a29c3c542cfbfe93c7c81a1d276",
      "004ac8495add44be8301b19157724ecb",
      "712ef8f4fc6a426c80f15637551c5292",
      "02758644f5df4292833d2078d15df16c",
      "b14e64f8dbc140ee8c2ea5e2d1a71fc8",
      "194fdc526e0142c8a401722833264b27",
      "bde66a04a379442c817316555aa134e3",
      "f92a04aeadb94668927a5bc954c9ca53",
      "ab431688a1024c609672636009643196",
      "d02bc8f0553c4e31b534ee4d428a5d3e",
      "c289c5e1d2b3427c9c60f4453c6ac2b9",
      "988e966cb9fe4a4f972a1dd60508c6a2",
      "a1042a937d5b4e4f8c3e4e8490cd6c2a",
      "d97c8dc6eab943828663187563738389",
      "568f6af06f30424c80f88c9a565c645f",
      "dda505ac5dd343c988e35b957a0fcc51",
      "1e2d5ce9f84949e58dbbc24f1fe32d0a",
      "370b48075469423daa2045599aded7db",
      "c2967c6b79154153beafd0cea993f0b6",
      "1a05530691384725830efc494be24bf6",
      "8c13bbe89962425bbc1facd2c58516eb",
      "d4cec7272fc14b42a0adbb21452334a4",
      "efb97c80da214c648d2c0240af3b0bba"
     ]
    },
    "id": "nCPtagCCgx8K",
    "outputId": "500c0bc7-0506-4b64-fa74-c6b4460dfcb3"
   },
   "outputs": [
    {
     "name": "stdout",
     "output_type": "stream",
     "text": [
      "Загружаем BERT и токенайзер...\n"
     ]
    },
    {
     "name": "stderr",
     "output_type": "stream",
     "text": [
      "Some weights of the model checkpoint at bert-base-uncased were not used when initializing BertModel: ['cls.predictions.transform.dense.weight', 'cls.predictions.decoder.weight', 'cls.seq_relationship.weight', 'cls.predictions.transform.LayerNorm.bias', 'cls.predictions.bias', 'cls.seq_relationship.bias', 'cls.predictions.transform.LayerNorm.weight', 'cls.predictions.transform.dense.bias']\n",
      "- This IS expected if you are initializing BertModel from the checkpoint of a model trained on another task or with another architecture (e.g. initializing a BertForSequenceClassification model from a BertForPreTraining model).\n",
      "- This IS NOT expected if you are initializing BertModel from the checkpoint of a model that you expect to be exactly identical (initializing a BertForSequenceClassification model from a BertForSequenceClassification model).\n"
     ]
    },
    {
     "data": {
      "application/vnd.jupyter.widget-view+json": {
       "model_id": "8ab32dedd97647a1b43dcb53958ea4d3",
       "version_major": 2,
       "version_minor": 0
      },
      "text/plain": [
       "Map:   0%|          | 0/2389 [00:00<?, ? examples/s]"
      ]
     },
     "metadata": {},
     "output_type": "display_data"
    },
    {
     "data": {
      "application/vnd.jupyter.widget-view+json": {
       "model_id": "09e08c49733e43bcb2c100aa3b6f9207",
       "version_major": 2,
       "version_minor": 0
      },
      "text/plain": [
       "  0%|          | 0/48 [00:00<?, ?it/s]"
      ]
     },
     "metadata": {},
     "output_type": "display_data"
    },
    {
     "data": {
      "application/vnd.jupyter.widget-view+json": {
       "model_id": "44be38e84ded454f9320ddc9765b4f38",
       "version_major": 2,
       "version_minor": 0
      },
      "text/plain": [
       "Map:   0%|          | 0/797 [00:00<?, ? examples/s]"
      ]
     },
     "metadata": {},
     "output_type": "display_data"
    },
    {
     "data": {
      "application/vnd.jupyter.widget-view+json": {
       "model_id": "f5d34451e82b444681738826d0d93cd3",
       "version_major": 2,
       "version_minor": 0
      },
      "text/plain": [
       "  0%|          | 0/16 [00:00<?, ?it/s]"
      ]
     },
     "metadata": {},
     "output_type": "display_data"
    },
    {
     "data": {
      "text/plain": [
       "((2389, 768), (2389,), (797, 768), (797,))"
      ]
     },
     "execution_count": 29,
     "metadata": {},
     "output_type": "execute_result"
    }
   ],
   "source": [
    "(pipe_bert,\n",
    " corpus_train_bert,\n",
    " corpus_test_bert,\n",
    " y_train_bert,\n",
    " y_test_bert) = make_pipeline(data,\n",
    "                              'toxic',\n",
    "                              tfidf=False,\n",
    "                              bert=True)\n",
    "(corpus_train_bert.shape,\n",
    " y_train_bert.shape,\n",
    " corpus_test_bert.shape,\n",
    " y_test_bert.shape)"
   ]
  },
  {
   "cell_type": "markdown",
   "metadata": {
    "id": "_TRAPs4P82lw"
   },
   "source": [
    "### Подбор гиперпараметров моделей и TfidfVectorizer"
   ]
  },
  {
   "cell_type": "code",
   "execution_count": 30,
   "metadata": {
    "colab": {
     "base_uri": "https://localhost:8080/",
     "height": 241
    },
    "id": "LFE383DFjNM2",
    "outputId": "c847c729-57f3-4049-d9e3-8340c885eafd",
    "scrolled": true
   },
   "outputs": [
    {
     "name": "stdout",
     "output_type": "stream",
     "text": [
      "Fitting 3 folds for each of 100 candidates, totalling 300 fits\n",
      "---Таблица результатов---\n"
     ]
    },
    {
     "data": {
      "text/html": [
       "<div>\n",
       "<style scoped>\n",
       "    .dataframe tbody tr th:only-of-type {\n",
       "        vertical-align: middle;\n",
       "    }\n",
       "\n",
       "    .dataframe tbody tr th {\n",
       "        vertical-align: top;\n",
       "    }\n",
       "\n",
       "    .dataframe thead th {\n",
       "        text-align: right;\n",
       "    }\n",
       "</style>\n",
       "<table border=\"1\" class=\"dataframe\">\n",
       "  <thead>\n",
       "    <tr style=\"text-align: right;\">\n",
       "      <th></th>\n",
       "      <th>F1</th>\n",
       "    </tr>\n",
       "    <tr>\n",
       "      <th>model_name</th>\n",
       "      <th></th>\n",
       "    </tr>\n",
       "  </thead>\n",
       "  <tbody>\n",
       "    <tr>\n",
       "      <th>LogisticRegression</th>\n",
       "      <td>0.9325</td>\n",
       "    </tr>\n",
       "    <tr>\n",
       "      <th>LinearSVC</th>\n",
       "      <td>0.9313</td>\n",
       "    </tr>\n",
       "    <tr>\n",
       "      <th>RandomForestClassifier</th>\n",
       "      <td>0.9149</td>\n",
       "    </tr>\n",
       "    <tr>\n",
       "      <th>MultinomialNB</th>\n",
       "      <td>0.9134</td>\n",
       "    </tr>\n",
       "  </tbody>\n",
       "</table>\n",
       "</div>"
      ],
      "text/plain": [
       "                           F1\n",
       "model_name                   \n",
       "LogisticRegression     0.9325\n",
       "LinearSVC              0.9313\n",
       "RandomForestClassifier 0.9149\n",
       "MultinomialNB          0.9134"
      ]
     },
     "execution_count": 30,
     "metadata": {},
     "output_type": "execute_result"
    }
   ],
   "source": [
    "search = searchCV(pipe_tfidf,\n",
    "                  param_grid_tfidf,\n",
    "                  corpus_train_tfidf,\n",
    "                  y_train_tfidf,\n",
    "                  n_jobs=-1)\n",
    "print('---Таблица результатов---')\n",
    "result_tab(search)"
   ]
  },
  {
   "cell_type": "code",
   "execution_count": 49,
   "metadata": {
    "colab": {
     "base_uri": "https://localhost:8080/"
    },
    "id": "EXf3kdhyjNM3",
    "outputId": "20869b13-0ae1-4385-f562-59b4e2a8ec08"
   },
   "outputs": [
    {
     "name": "stdout",
     "output_type": "stream",
     "text": [
      "---Параметры лучшей модели---\n"
     ]
    },
    {
     "data": {
      "text/plain": [
       "{'tfidf__ngram_range': (1, 1),\n",
       " 'tfidf__max_df': 0.95,\n",
       " 'tfidf__binary': False,\n",
       " 'models__C': 3.359818286283781,\n",
       " 'models': LogisticRegression(class_weight='balanced', random_state=42, solver='saga')}"
      ]
     },
     "execution_count": 49,
     "metadata": {},
     "output_type": "execute_result"
    }
   ],
   "source": [
    "print('---Параметры лучшей модели---')\n",
    "search.best_params_"
   ]
  },
  {
   "cell_type": "markdown",
   "metadata": {
    "id": "n57WEuF6gx8V"
   },
   "source": [
    "### Подбор гиперпараметров моделей с BERT"
   ]
  },
  {
   "cell_type": "code",
   "execution_count": 41,
   "metadata": {
    "colab": {
     "base_uri": "https://localhost:8080/",
     "height": 210
    },
    "id": "90O1-jqvgx8V",
    "outputId": "4cfcad63-612a-47a8-d266-b102e08c91dc",
    "scrolled": true
   },
   "outputs": [
    {
     "name": "stdout",
     "output_type": "stream",
     "text": [
      "Fitting 3 folds for each of 100 candidates, totalling 300 fits\n",
      "---Таблица результатов---\n"
     ]
    },
    {
     "data": {
      "text/html": [
       "<div>\n",
       "<style scoped>\n",
       "    .dataframe tbody tr th:only-of-type {\n",
       "        vertical-align: middle;\n",
       "    }\n",
       "\n",
       "    .dataframe tbody tr th {\n",
       "        vertical-align: top;\n",
       "    }\n",
       "\n",
       "    .dataframe thead th {\n",
       "        text-align: right;\n",
       "    }\n",
       "</style>\n",
       "<table border=\"1\" class=\"dataframe\">\n",
       "  <thead>\n",
       "    <tr style=\"text-align: right;\">\n",
       "      <th></th>\n",
       "      <th>F1</th>\n",
       "    </tr>\n",
       "    <tr>\n",
       "      <th>model_name</th>\n",
       "      <th></th>\n",
       "    </tr>\n",
       "  </thead>\n",
       "  <tbody>\n",
       "    <tr>\n",
       "      <th>LogisticRegression</th>\n",
       "      <td>0.9069</td>\n",
       "    </tr>\n",
       "    <tr>\n",
       "      <th>LinearSVC</th>\n",
       "      <td>0.9034</td>\n",
       "    </tr>\n",
       "    <tr>\n",
       "      <th>RandomForestClassifier</th>\n",
       "      <td>0.8907</td>\n",
       "    </tr>\n",
       "  </tbody>\n",
       "</table>\n",
       "</div>"
      ],
      "text/plain": [
       "                           F1\n",
       "model_name                   \n",
       "LogisticRegression     0.9069\n",
       "LinearSVC              0.9034\n",
       "RandomForestClassifier 0.8907"
      ]
     },
     "execution_count": 41,
     "metadata": {},
     "output_type": "execute_result"
    }
   ],
   "source": [
    "search_bert = searchCV(pipe_bert,\n",
    "                       param_grid_bert,\n",
    "                       corpus_train_bert,\n",
    "                       y_train_bert,\n",
    "                       n_jobs=-1)\n",
    "print('---Таблица результатов---')\n",
    "result_tab(search_bert)"
   ]
  },
  {
   "cell_type": "code",
   "execution_count": 42,
   "metadata": {
    "colab": {
     "base_uri": "https://localhost:8080/"
    },
    "id": "IkSmK5KBgx8V",
    "outputId": "c6137731-f672-4551-e084-c0e8a8461ef6",
    "scrolled": true
   },
   "outputs": [
    {
     "name": "stdout",
     "output_type": "stream",
     "text": [
      "---Параметры лучшей модели---\n"
     ]
    },
    {
     "data": {
      "text/plain": [
       "{'models__C': 23.357214690901213,\n",
       " 'models': LogisticRegression(class_weight='balanced', max_iter=1000, random_state=42,\n",
       "                    solver='saga')}"
      ]
     },
     "execution_count": 42,
     "metadata": {},
     "output_type": "execute_result"
    }
   ],
   "source": [
    "print('---Параметры лучшей модели---')\n",
    "search_bert.best_params_"
   ]
  },
  {
   "cell_type": "markdown",
   "metadata": {
    "id": "sAnOuOfBlR92"
   },
   "source": [
    "### F1 лучшей модели на тестовой выборке"
   ]
  },
  {
   "cell_type": "code",
   "execution_count": 53,
   "metadata": {},
   "outputs": [],
   "source": [
    "def best_model_score():\n",
    "    \"\"\"\n",
    "    Функция выбирает лучшую модель по результатам кросс-валидации, вычисляет метрику на тестовой выборке\n",
    "    \"\"\"\n",
    "    if result_tab(search).iat[1, 0] > result_tab(search_bert).iat[1, 0]:\n",
    "        pipe_final_best = search.best_estimator_\n",
    "\n",
    "        display(pipe_final_best.fit(corpus_train_tfidf, y_train_tfidf))\n",
    "\n",
    "        y_pred = pipe_final_best.predict(corpus_test_tfidf)\n",
    "        f1 = f1_score(y_test_tfidf, y_pred, average='weighted')\n",
    "\n",
    "        best_model = str(search.best_estimator_[\"models\"]).split('(')[0]\n",
    "        \n",
    "        print(f'F1 модели {best_model} с TF-IDF на тестовой выборке: {round(f1, 3)}')\n",
    "        y_test = y_test_tfidf\n",
    "    else:\n",
    "        pipe_final_best = search_bert.best_estimator_\n",
    "\n",
    "        pipe_final_best.fit(corpus_train_bert, y_train_bert)\n",
    "\n",
    "        y_pred = pipe_final_best.predict(corpus_test_bert)\n",
    "        f1 = f1_score(y_test_bert, y_pred, average='weighted')\n",
    "\n",
    "        best_model = str(search_bert.best_estimator_[\"models\"]).split('(')[0]\n",
    "        \n",
    "        print(f'F1 модели {best_model} c BERT на тестовой выборке: {round(f1, 3)}')\n",
    "        y_test = y_test_bert\n",
    "    return y_test, y_pred"
   ]
  },
  {
   "cell_type": "code",
   "execution_count": 44,
   "metadata": {},
   "outputs": [
    {
     "data": {
      "text/html": [
       "<style>#sk-container-id-3 {\n",
       "  /* Definition of color scheme common for light and dark mode */\n",
       "  --sklearn-color-text: #000;\n",
       "  --sklearn-color-text-muted: #666;\n",
       "  --sklearn-color-line: gray;\n",
       "  /* Definition of color scheme for unfitted estimators */\n",
       "  --sklearn-color-unfitted-level-0: #fff5e6;\n",
       "  --sklearn-color-unfitted-level-1: #f6e4d2;\n",
       "  --sklearn-color-unfitted-level-2: #ffe0b3;\n",
       "  --sklearn-color-unfitted-level-3: chocolate;\n",
       "  /* Definition of color scheme for fitted estimators */\n",
       "  --sklearn-color-fitted-level-0: #f0f8ff;\n",
       "  --sklearn-color-fitted-level-1: #d4ebff;\n",
       "  --sklearn-color-fitted-level-2: #b3dbfd;\n",
       "  --sklearn-color-fitted-level-3: cornflowerblue;\n",
       "\n",
       "  /* Specific color for light theme */\n",
       "  --sklearn-color-text-on-default-background: var(--sg-text-color, var(--theme-code-foreground, var(--jp-content-font-color1, black)));\n",
       "  --sklearn-color-background: var(--sg-background-color, var(--theme-background, var(--jp-layout-color0, white)));\n",
       "  --sklearn-color-border-box: var(--sg-text-color, var(--theme-code-foreground, var(--jp-content-font-color1, black)));\n",
       "  --sklearn-color-icon: #696969;\n",
       "\n",
       "  @media (prefers-color-scheme: dark) {\n",
       "    /* Redefinition of color scheme for dark theme */\n",
       "    --sklearn-color-text-on-default-background: var(--sg-text-color, var(--theme-code-foreground, var(--jp-content-font-color1, white)));\n",
       "    --sklearn-color-background: var(--sg-background-color, var(--theme-background, var(--jp-layout-color0, #111)));\n",
       "    --sklearn-color-border-box: var(--sg-text-color, var(--theme-code-foreground, var(--jp-content-font-color1, white)));\n",
       "    --sklearn-color-icon: #878787;\n",
       "  }\n",
       "}\n",
       "\n",
       "#sk-container-id-3 {\n",
       "  color: var(--sklearn-color-text);\n",
       "}\n",
       "\n",
       "#sk-container-id-3 pre {\n",
       "  padding: 0;\n",
       "}\n",
       "\n",
       "#sk-container-id-3 input.sk-hidden--visually {\n",
       "  border: 0;\n",
       "  clip: rect(1px 1px 1px 1px);\n",
       "  clip: rect(1px, 1px, 1px, 1px);\n",
       "  height: 1px;\n",
       "  margin: -1px;\n",
       "  overflow: hidden;\n",
       "  padding: 0;\n",
       "  position: absolute;\n",
       "  width: 1px;\n",
       "}\n",
       "\n",
       "#sk-container-id-3 div.sk-dashed-wrapped {\n",
       "  border: 1px dashed var(--sklearn-color-line);\n",
       "  margin: 0 0.4em 0.5em 0.4em;\n",
       "  box-sizing: border-box;\n",
       "  padding-bottom: 0.4em;\n",
       "  background-color: var(--sklearn-color-background);\n",
       "}\n",
       "\n",
       "#sk-container-id-3 div.sk-container {\n",
       "  /* jupyter's `normalize.less` sets `[hidden] { display: none; }`\n",
       "     but bootstrap.min.css set `[hidden] { display: none !important; }`\n",
       "     so we also need the `!important` here to be able to override the\n",
       "     default hidden behavior on the sphinx rendered scikit-learn.org.\n",
       "     See: https://github.com/scikit-learn/scikit-learn/issues/21755 */\n",
       "  display: inline-block !important;\n",
       "  position: relative;\n",
       "}\n",
       "\n",
       "#sk-container-id-3 div.sk-text-repr-fallback {\n",
       "  display: none;\n",
       "}\n",
       "\n",
       "div.sk-parallel-item,\n",
       "div.sk-serial,\n",
       "div.sk-item {\n",
       "  /* draw centered vertical line to link estimators */\n",
       "  background-image: linear-gradient(var(--sklearn-color-text-on-default-background), var(--sklearn-color-text-on-default-background));\n",
       "  background-size: 2px 100%;\n",
       "  background-repeat: no-repeat;\n",
       "  background-position: center center;\n",
       "}\n",
       "\n",
       "/* Parallel-specific style estimator block */\n",
       "\n",
       "#sk-container-id-3 div.sk-parallel-item::after {\n",
       "  content: \"\";\n",
       "  width: 100%;\n",
       "  border-bottom: 2px solid var(--sklearn-color-text-on-default-background);\n",
       "  flex-grow: 1;\n",
       "}\n",
       "\n",
       "#sk-container-id-3 div.sk-parallel {\n",
       "  display: flex;\n",
       "  align-items: stretch;\n",
       "  justify-content: center;\n",
       "  background-color: var(--sklearn-color-background);\n",
       "  position: relative;\n",
       "}\n",
       "\n",
       "#sk-container-id-3 div.sk-parallel-item {\n",
       "  display: flex;\n",
       "  flex-direction: column;\n",
       "}\n",
       "\n",
       "#sk-container-id-3 div.sk-parallel-item:first-child::after {\n",
       "  align-self: flex-end;\n",
       "  width: 50%;\n",
       "}\n",
       "\n",
       "#sk-container-id-3 div.sk-parallel-item:last-child::after {\n",
       "  align-self: flex-start;\n",
       "  width: 50%;\n",
       "}\n",
       "\n",
       "#sk-container-id-3 div.sk-parallel-item:only-child::after {\n",
       "  width: 0;\n",
       "}\n",
       "\n",
       "/* Serial-specific style estimator block */\n",
       "\n",
       "#sk-container-id-3 div.sk-serial {\n",
       "  display: flex;\n",
       "  flex-direction: column;\n",
       "  align-items: center;\n",
       "  background-color: var(--sklearn-color-background);\n",
       "  padding-right: 1em;\n",
       "  padding-left: 1em;\n",
       "}\n",
       "\n",
       "\n",
       "/* Toggleable style: style used for estimator/Pipeline/ColumnTransformer box that is\n",
       "clickable and can be expanded/collapsed.\n",
       "- Pipeline and ColumnTransformer use this feature and define the default style\n",
       "- Estimators will overwrite some part of the style using the `sk-estimator` class\n",
       "*/\n",
       "\n",
       "/* Pipeline and ColumnTransformer style (default) */\n",
       "\n",
       "#sk-container-id-3 div.sk-toggleable {\n",
       "  /* Default theme specific background. It is overwritten whether we have a\n",
       "  specific estimator or a Pipeline/ColumnTransformer */\n",
       "  background-color: var(--sklearn-color-background);\n",
       "}\n",
       "\n",
       "/* Toggleable label */\n",
       "#sk-container-id-3 label.sk-toggleable__label {\n",
       "  cursor: pointer;\n",
       "  display: flex;\n",
       "  width: 100%;\n",
       "  margin-bottom: 0;\n",
       "  padding: 0.5em;\n",
       "  box-sizing: border-box;\n",
       "  text-align: center;\n",
       "  align-items: start;\n",
       "  justify-content: space-between;\n",
       "  gap: 0.5em;\n",
       "}\n",
       "\n",
       "#sk-container-id-3 label.sk-toggleable__label .caption {\n",
       "  font-size: 0.6rem;\n",
       "  font-weight: lighter;\n",
       "  color: var(--sklearn-color-text-muted);\n",
       "}\n",
       "\n",
       "#sk-container-id-3 label.sk-toggleable__label-arrow:before {\n",
       "  /* Arrow on the left of the label */\n",
       "  content: \"▸\";\n",
       "  float: left;\n",
       "  margin-right: 0.25em;\n",
       "  color: var(--sklearn-color-icon);\n",
       "}\n",
       "\n",
       "#sk-container-id-3 label.sk-toggleable__label-arrow:hover:before {\n",
       "  color: var(--sklearn-color-text);\n",
       "}\n",
       "\n",
       "/* Toggleable content - dropdown */\n",
       "\n",
       "#sk-container-id-3 div.sk-toggleable__content {\n",
       "  max-height: 0;\n",
       "  max-width: 0;\n",
       "  overflow: hidden;\n",
       "  text-align: left;\n",
       "  /* unfitted */\n",
       "  background-color: var(--sklearn-color-unfitted-level-0);\n",
       "}\n",
       "\n",
       "#sk-container-id-3 div.sk-toggleable__content.fitted {\n",
       "  /* fitted */\n",
       "  background-color: var(--sklearn-color-fitted-level-0);\n",
       "}\n",
       "\n",
       "#sk-container-id-3 div.sk-toggleable__content pre {\n",
       "  margin: 0.2em;\n",
       "  border-radius: 0.25em;\n",
       "  color: var(--sklearn-color-text);\n",
       "  /* unfitted */\n",
       "  background-color: var(--sklearn-color-unfitted-level-0);\n",
       "}\n",
       "\n",
       "#sk-container-id-3 div.sk-toggleable__content.fitted pre {\n",
       "  /* unfitted */\n",
       "  background-color: var(--sklearn-color-fitted-level-0);\n",
       "}\n",
       "\n",
       "#sk-container-id-3 input.sk-toggleable__control:checked~div.sk-toggleable__content {\n",
       "  /* Expand drop-down */\n",
       "  max-height: 200px;\n",
       "  max-width: 100%;\n",
       "  overflow: auto;\n",
       "}\n",
       "\n",
       "#sk-container-id-3 input.sk-toggleable__control:checked~label.sk-toggleable__label-arrow:before {\n",
       "  content: \"▾\";\n",
       "}\n",
       "\n",
       "/* Pipeline/ColumnTransformer-specific style */\n",
       "\n",
       "#sk-container-id-3 div.sk-label input.sk-toggleable__control:checked~label.sk-toggleable__label {\n",
       "  color: var(--sklearn-color-text);\n",
       "  background-color: var(--sklearn-color-unfitted-level-2);\n",
       "}\n",
       "\n",
       "#sk-container-id-3 div.sk-label.fitted input.sk-toggleable__control:checked~label.sk-toggleable__label {\n",
       "  background-color: var(--sklearn-color-fitted-level-2);\n",
       "}\n",
       "\n",
       "/* Estimator-specific style */\n",
       "\n",
       "/* Colorize estimator box */\n",
       "#sk-container-id-3 div.sk-estimator input.sk-toggleable__control:checked~label.sk-toggleable__label {\n",
       "  /* unfitted */\n",
       "  background-color: var(--sklearn-color-unfitted-level-2);\n",
       "}\n",
       "\n",
       "#sk-container-id-3 div.sk-estimator.fitted input.sk-toggleable__control:checked~label.sk-toggleable__label {\n",
       "  /* fitted */\n",
       "  background-color: var(--sklearn-color-fitted-level-2);\n",
       "}\n",
       "\n",
       "#sk-container-id-3 div.sk-label label.sk-toggleable__label,\n",
       "#sk-container-id-3 div.sk-label label {\n",
       "  /* The background is the default theme color */\n",
       "  color: var(--sklearn-color-text-on-default-background);\n",
       "}\n",
       "\n",
       "/* On hover, darken the color of the background */\n",
       "#sk-container-id-3 div.sk-label:hover label.sk-toggleable__label {\n",
       "  color: var(--sklearn-color-text);\n",
       "  background-color: var(--sklearn-color-unfitted-level-2);\n",
       "}\n",
       "\n",
       "/* Label box, darken color on hover, fitted */\n",
       "#sk-container-id-3 div.sk-label.fitted:hover label.sk-toggleable__label.fitted {\n",
       "  color: var(--sklearn-color-text);\n",
       "  background-color: var(--sklearn-color-fitted-level-2);\n",
       "}\n",
       "\n",
       "/* Estimator label */\n",
       "\n",
       "#sk-container-id-3 div.sk-label label {\n",
       "  font-family: monospace;\n",
       "  font-weight: bold;\n",
       "  display: inline-block;\n",
       "  line-height: 1.2em;\n",
       "}\n",
       "\n",
       "#sk-container-id-3 div.sk-label-container {\n",
       "  text-align: center;\n",
       "}\n",
       "\n",
       "/* Estimator-specific */\n",
       "#sk-container-id-3 div.sk-estimator {\n",
       "  font-family: monospace;\n",
       "  border: 1px dotted var(--sklearn-color-border-box);\n",
       "  border-radius: 0.25em;\n",
       "  box-sizing: border-box;\n",
       "  margin-bottom: 0.5em;\n",
       "  /* unfitted */\n",
       "  background-color: var(--sklearn-color-unfitted-level-0);\n",
       "}\n",
       "\n",
       "#sk-container-id-3 div.sk-estimator.fitted {\n",
       "  /* fitted */\n",
       "  background-color: var(--sklearn-color-fitted-level-0);\n",
       "}\n",
       "\n",
       "/* on hover */\n",
       "#sk-container-id-3 div.sk-estimator:hover {\n",
       "  /* unfitted */\n",
       "  background-color: var(--sklearn-color-unfitted-level-2);\n",
       "}\n",
       "\n",
       "#sk-container-id-3 div.sk-estimator.fitted:hover {\n",
       "  /* fitted */\n",
       "  background-color: var(--sklearn-color-fitted-level-2);\n",
       "}\n",
       "\n",
       "/* Specification for estimator info (e.g. \"i\" and \"?\") */\n",
       "\n",
       "/* Common style for \"i\" and \"?\" */\n",
       "\n",
       ".sk-estimator-doc-link,\n",
       "a:link.sk-estimator-doc-link,\n",
       "a:visited.sk-estimator-doc-link {\n",
       "  float: right;\n",
       "  font-size: smaller;\n",
       "  line-height: 1em;\n",
       "  font-family: monospace;\n",
       "  background-color: var(--sklearn-color-background);\n",
       "  border-radius: 1em;\n",
       "  height: 1em;\n",
       "  width: 1em;\n",
       "  text-decoration: none !important;\n",
       "  margin-left: 0.5em;\n",
       "  text-align: center;\n",
       "  /* unfitted */\n",
       "  border: var(--sklearn-color-unfitted-level-1) 1pt solid;\n",
       "  color: var(--sklearn-color-unfitted-level-1);\n",
       "}\n",
       "\n",
       ".sk-estimator-doc-link.fitted,\n",
       "a:link.sk-estimator-doc-link.fitted,\n",
       "a:visited.sk-estimator-doc-link.fitted {\n",
       "  /* fitted */\n",
       "  border: var(--sklearn-color-fitted-level-1) 1pt solid;\n",
       "  color: var(--sklearn-color-fitted-level-1);\n",
       "}\n",
       "\n",
       "/* On hover */\n",
       "div.sk-estimator:hover .sk-estimator-doc-link:hover,\n",
       ".sk-estimator-doc-link:hover,\n",
       "div.sk-label-container:hover .sk-estimator-doc-link:hover,\n",
       ".sk-estimator-doc-link:hover {\n",
       "  /* unfitted */\n",
       "  background-color: var(--sklearn-color-unfitted-level-3);\n",
       "  color: var(--sklearn-color-background);\n",
       "  text-decoration: none;\n",
       "}\n",
       "\n",
       "div.sk-estimator.fitted:hover .sk-estimator-doc-link.fitted:hover,\n",
       ".sk-estimator-doc-link.fitted:hover,\n",
       "div.sk-label-container:hover .sk-estimator-doc-link.fitted:hover,\n",
       ".sk-estimator-doc-link.fitted:hover {\n",
       "  /* fitted */\n",
       "  background-color: var(--sklearn-color-fitted-level-3);\n",
       "  color: var(--sklearn-color-background);\n",
       "  text-decoration: none;\n",
       "}\n",
       "\n",
       "/* Span, style for the box shown on hovering the info icon */\n",
       ".sk-estimator-doc-link span {\n",
       "  display: none;\n",
       "  z-index: 9999;\n",
       "  position: relative;\n",
       "  font-weight: normal;\n",
       "  right: .2ex;\n",
       "  padding: .5ex;\n",
       "  margin: .5ex;\n",
       "  width: min-content;\n",
       "  min-width: 20ex;\n",
       "  max-width: 50ex;\n",
       "  color: var(--sklearn-color-text);\n",
       "  box-shadow: 2pt 2pt 4pt #999;\n",
       "  /* unfitted */\n",
       "  background: var(--sklearn-color-unfitted-level-0);\n",
       "  border: .5pt solid var(--sklearn-color-unfitted-level-3);\n",
       "}\n",
       "\n",
       ".sk-estimator-doc-link.fitted span {\n",
       "  /* fitted */\n",
       "  background: var(--sklearn-color-fitted-level-0);\n",
       "  border: var(--sklearn-color-fitted-level-3);\n",
       "}\n",
       "\n",
       ".sk-estimator-doc-link:hover span {\n",
       "  display: block;\n",
       "}\n",
       "\n",
       "/* \"?\"-specific style due to the `<a>` HTML tag */\n",
       "\n",
       "#sk-container-id-3 a.estimator_doc_link {\n",
       "  float: right;\n",
       "  font-size: 1rem;\n",
       "  line-height: 1em;\n",
       "  font-family: monospace;\n",
       "  background-color: var(--sklearn-color-background);\n",
       "  border-radius: 1rem;\n",
       "  height: 1rem;\n",
       "  width: 1rem;\n",
       "  text-decoration: none;\n",
       "  /* unfitted */\n",
       "  color: var(--sklearn-color-unfitted-level-1);\n",
       "  border: var(--sklearn-color-unfitted-level-1) 1pt solid;\n",
       "}\n",
       "\n",
       "#sk-container-id-3 a.estimator_doc_link.fitted {\n",
       "  /* fitted */\n",
       "  border: var(--sklearn-color-fitted-level-1) 1pt solid;\n",
       "  color: var(--sklearn-color-fitted-level-1);\n",
       "}\n",
       "\n",
       "/* On hover */\n",
       "#sk-container-id-3 a.estimator_doc_link:hover {\n",
       "  /* unfitted */\n",
       "  background-color: var(--sklearn-color-unfitted-level-3);\n",
       "  color: var(--sklearn-color-background);\n",
       "  text-decoration: none;\n",
       "}\n",
       "\n",
       "#sk-container-id-3 a.estimator_doc_link.fitted:hover {\n",
       "  /* fitted */\n",
       "  background-color: var(--sklearn-color-fitted-level-3);\n",
       "}\n",
       "</style><div id=\"sk-container-id-3\" class=\"sk-top-container\"><div class=\"sk-text-repr-fallback\"><pre>Pipeline(steps=[(&#x27;tfidf&#x27;,\n",
       "                 TfidfVectorizer(max_df=0.95,\n",
       "                                 stop_words=[&#x27;below&#x27;, &#x27;theirs&#x27;, &#x27;herself&#x27;,\n",
       "                                             &#x27;mustn&#x27;, &quot;couldn&#x27;t&quot;, &#x27;did&#x27;, &#x27;don&#x27;,\n",
       "                                             &quot;haven&#x27;t&quot;, &quot;won&#x27;t&quot;, &quot;you&#x27;re&quot;,\n",
       "                                             &quot;i&#x27;ll&quot;, &#x27;same&#x27;, &#x27;couldn&#x27;, &#x27;just&#x27;,\n",
       "                                             &quot;she&#x27;d&quot;, &#x27;ours&#x27;, &#x27;more&#x27;, &#x27;t&#x27;,\n",
       "                                             &#x27;off&#x27;, &#x27;such&#x27;, &#x27;himself&#x27;, &#x27;were&#x27;,\n",
       "                                             &#x27;mightn&#x27;, &#x27;other&#x27;, &#x27;has&#x27;, &#x27;down&#x27;,\n",
       "                                             &#x27;shan&#x27;, &#x27;m&#x27;, &#x27;s&#x27;, &#x27;those&#x27;, ...],\n",
       "                                 sublinear_tf=True)),\n",
       "                (&#x27;models&#x27;,\n",
       "                 LogisticRegression(C=3.359818286283781,\n",
       "                                    class_weight=&#x27;balanced&#x27;, random_state=42,\n",
       "                                    solver=&#x27;saga&#x27;))])</pre><b>In a Jupyter environment, please rerun this cell to show the HTML representation or trust the notebook. <br />On GitHub, the HTML representation is unable to render, please try loading this page with nbviewer.org.</b></div><div class=\"sk-container\" hidden><div class=\"sk-item sk-dashed-wrapped\"><div class=\"sk-label-container\"><div class=\"sk-label fitted sk-toggleable\"><input class=\"sk-toggleable__control sk-hidden--visually\" id=\"sk-estimator-id-7\" type=\"checkbox\" ><label for=\"sk-estimator-id-7\" class=\"sk-toggleable__label fitted sk-toggleable__label-arrow\"><div><div>Pipeline</div></div><div><a class=\"sk-estimator-doc-link fitted\" rel=\"noreferrer\" target=\"_blank\" href=\"https://scikit-learn.org/1.6/modules/generated/sklearn.pipeline.Pipeline.html\">?<span>Documentation for Pipeline</span></a><span class=\"sk-estimator-doc-link fitted\">i<span>Fitted</span></span></div></label><div class=\"sk-toggleable__content fitted\"><pre>Pipeline(steps=[(&#x27;tfidf&#x27;,\n",
       "                 TfidfVectorizer(max_df=0.95,\n",
       "                                 stop_words=[&#x27;below&#x27;, &#x27;theirs&#x27;, &#x27;herself&#x27;,\n",
       "                                             &#x27;mustn&#x27;, &quot;couldn&#x27;t&quot;, &#x27;did&#x27;, &#x27;don&#x27;,\n",
       "                                             &quot;haven&#x27;t&quot;, &quot;won&#x27;t&quot;, &quot;you&#x27;re&quot;,\n",
       "                                             &quot;i&#x27;ll&quot;, &#x27;same&#x27;, &#x27;couldn&#x27;, &#x27;just&#x27;,\n",
       "                                             &quot;she&#x27;d&quot;, &#x27;ours&#x27;, &#x27;more&#x27;, &#x27;t&#x27;,\n",
       "                                             &#x27;off&#x27;, &#x27;such&#x27;, &#x27;himself&#x27;, &#x27;were&#x27;,\n",
       "                                             &#x27;mightn&#x27;, &#x27;other&#x27;, &#x27;has&#x27;, &#x27;down&#x27;,\n",
       "                                             &#x27;shan&#x27;, &#x27;m&#x27;, &#x27;s&#x27;, &#x27;those&#x27;, ...],\n",
       "                                 sublinear_tf=True)),\n",
       "                (&#x27;models&#x27;,\n",
       "                 LogisticRegression(C=3.359818286283781,\n",
       "                                    class_weight=&#x27;balanced&#x27;, random_state=42,\n",
       "                                    solver=&#x27;saga&#x27;))])</pre></div> </div></div><div class=\"sk-serial\"><div class=\"sk-item\"><div class=\"sk-estimator fitted sk-toggleable\"><input class=\"sk-toggleable__control sk-hidden--visually\" id=\"sk-estimator-id-8\" type=\"checkbox\" ><label for=\"sk-estimator-id-8\" class=\"sk-toggleable__label fitted sk-toggleable__label-arrow\"><div><div>TfidfVectorizer</div></div><div><a class=\"sk-estimator-doc-link fitted\" rel=\"noreferrer\" target=\"_blank\" href=\"https://scikit-learn.org/1.6/modules/generated/sklearn.feature_extraction.text.TfidfVectorizer.html\">?<span>Documentation for TfidfVectorizer</span></a></div></label><div class=\"sk-toggleable__content fitted\"><pre>TfidfVectorizer(max_df=0.95,\n",
       "                stop_words=[&#x27;below&#x27;, &#x27;theirs&#x27;, &#x27;herself&#x27;, &#x27;mustn&#x27;, &quot;couldn&#x27;t&quot;,\n",
       "                            &#x27;did&#x27;, &#x27;don&#x27;, &quot;haven&#x27;t&quot;, &quot;won&#x27;t&quot;, &quot;you&#x27;re&quot;, &quot;i&#x27;ll&quot;,\n",
       "                            &#x27;same&#x27;, &#x27;couldn&#x27;, &#x27;just&#x27;, &quot;she&#x27;d&quot;, &#x27;ours&#x27;, &#x27;more&#x27;,\n",
       "                            &#x27;t&#x27;, &#x27;off&#x27;, &#x27;such&#x27;, &#x27;himself&#x27;, &#x27;were&#x27;, &#x27;mightn&#x27;,\n",
       "                            &#x27;other&#x27;, &#x27;has&#x27;, &#x27;down&#x27;, &#x27;shan&#x27;, &#x27;m&#x27;, &#x27;s&#x27;, &#x27;those&#x27;, ...],\n",
       "                sublinear_tf=True)</pre></div> </div></div><div class=\"sk-item\"><div class=\"sk-estimator fitted sk-toggleable\"><input class=\"sk-toggleable__control sk-hidden--visually\" id=\"sk-estimator-id-9\" type=\"checkbox\" ><label for=\"sk-estimator-id-9\" class=\"sk-toggleable__label fitted sk-toggleable__label-arrow\"><div><div>LogisticRegression</div></div><div><a class=\"sk-estimator-doc-link fitted\" rel=\"noreferrer\" target=\"_blank\" href=\"https://scikit-learn.org/1.6/modules/generated/sklearn.linear_model.LogisticRegression.html\">?<span>Documentation for LogisticRegression</span></a></div></label><div class=\"sk-toggleable__content fitted\"><pre>LogisticRegression(C=3.359818286283781, class_weight=&#x27;balanced&#x27;,\n",
       "                   random_state=42, solver=&#x27;saga&#x27;)</pre></div> </div></div></div></div></div></div>"
      ],
      "text/plain": [
       "Pipeline(steps=[('tfidf',\n",
       "                 TfidfVectorizer(max_df=0.95,\n",
       "                                 stop_words=['below', 'theirs', 'herself',\n",
       "                                             'mustn', \"couldn't\", 'did', 'don',\n",
       "                                             \"haven't\", \"won't\", \"you're\",\n",
       "                                             \"i'll\", 'same', 'couldn', 'just',\n",
       "                                             \"she'd\", 'ours', 'more', 't',\n",
       "                                             'off', 'such', 'himself', 'were',\n",
       "                                             'mightn', 'other', 'has', 'down',\n",
       "                                             'shan', 'm', 's', 'those', ...],\n",
       "                                 sublinear_tf=True)),\n",
       "                ('models',\n",
       "                 LogisticRegression(C=3.359818286283781,\n",
       "                                    class_weight='balanced', random_state=42,\n",
       "                                    solver='saga'))])"
      ]
     },
     "metadata": {},
     "output_type": "display_data"
    },
    {
     "name": "stdout",
     "output_type": "stream",
     "text": [
      "F1 модели LogisticRegression с TF-IDF на тестовой выборке: 0.935\n"
     ]
    }
   ],
   "source": [
    "y_test, y_pred = best_model_score()"
   ]
  },
  {
   "cell_type": "markdown",
   "metadata": {
    "id": "iBIACWb1mWhF"
   },
   "source": [
    "### Анализ результатов"
   ]
  },
  {
   "cell_type": "code",
   "execution_count": 50,
   "metadata": {},
   "outputs": [
    {
     "data": {
      "image/jpeg": "[encoded data removed]",
      "text/plain": [
       "<Figure size 432x288 with 2 Axes>"
      ]
     },
     "metadata": {
      "needs_background": "light"
     },
     "output_type": "display_data"
    }
   ],
   "source": [
    "sns.heatmap(confusion_matrix(y_test, y_pred, normalize='true'),\n",
    "            annot=True,\n",
    "            cmap='Greens',\n",
    "            annot_kws={'fontsize': 14})\n",
    "\n",
    "plt.ylabel('Истинные значения')\n",
    "plt.xlabel('Предсказанные значения')\n",
    "plt.title('Матрица ошибок', pad=15)\n",
    "plt.show()"
   ]
  },
  {
   "cell_type": "markdown",
   "metadata": {},
   "source": [
    "***Модель точно предсказывает нейтральные комментарии. В 44% случаев определяет токсичный комментарий как нейтральный. Скорее всего это связанно с дисбалансом классов, и что для теста использовалась не полная выборка.***\n",
    "\n",
    "\n",
    "***В итоге модель LogisticRegression с TF-IDF показала лучший результат на кросс валидации. Опять же это может быть связано с выбором параметров токенизации, недостаточным набором данных для получения точный эмбеддингов у модели с BERT***"
   ]
  },
  {
   "cell_type": "markdown",
   "metadata": {
    "id": "6Z3fT4TSodbk"
   },
   "source": [
    "<a id=\"conclusion\"></a>\n",
    "## Вывод\n",
    "\n",
    "1. **Получены данные с комментариями и целевым признаком - токсичный/нетоксичный этот коментарий. Данные без пропусков, есть дисбаланс классов (токсичных комментариев меньше).**\n",
    "\n",
    "\n",
    "2. **Выбрано 2 пути предобработки текста:**\n",
    "    - **В качестве бейзлайна TF-IDF vectorizer + LogisticRegression. (Проведена очиста текста, лемматизация)**\n",
    "    - **Другой путь - получение эмбеддингов на предобученном BERT + LogisticRegression. (Для получения эмбеддингов текст не обрабатывался)**\n",
    "    \n",
    "\n",
    "3. **Отображены 2 облака слов для токсичного и нейтрального классов.**\n",
    "\n",
    "\n",
    "4. **Проведен подбор гиперпараметров моделей. Результаты на кросс валидации:**"
   ]
  },
  {
   "cell_type": "code",
   "execution_count": 51,
   "metadata": {},
   "outputs": [
    {
     "name": "stdout",
     "output_type": "stream",
     "text": [
      "---F1 score для моделей с TF-IDF---\n"
     ]
    },
    {
     "data": {
      "text/html": [
       "<div>\n",
       "<style scoped>\n",
       "    .dataframe tbody tr th:only-of-type {\n",
       "        vertical-align: middle;\n",
       "    }\n",
       "\n",
       "    .dataframe tbody tr th {\n",
       "        vertical-align: top;\n",
       "    }\n",
       "\n",
       "    .dataframe thead th {\n",
       "        text-align: right;\n",
       "    }\n",
       "</style>\n",
       "<table border=\"1\" class=\"dataframe\">\n",
       "  <thead>\n",
       "    <tr style=\"text-align: right;\">\n",
       "      <th></th>\n",
       "      <th>F1</th>\n",
       "    </tr>\n",
       "    <tr>\n",
       "      <th>model_name</th>\n",
       "      <th></th>\n",
       "    </tr>\n",
       "  </thead>\n",
       "  <tbody>\n",
       "    <tr>\n",
       "      <th>LogisticRegression</th>\n",
       "      <td>0.9325</td>\n",
       "    </tr>\n",
       "    <tr>\n",
       "      <th>LinearSVC</th>\n",
       "      <td>0.9313</td>\n",
       "    </tr>\n",
       "    <tr>\n",
       "      <th>RandomForestClassifier</th>\n",
       "      <td>0.9149</td>\n",
       "    </tr>\n",
       "    <tr>\n",
       "      <th>MultinomialNB</th>\n",
       "      <td>0.9134</td>\n",
       "    </tr>\n",
       "  </tbody>\n",
       "</table>\n",
       "</div>"
      ],
      "text/plain": [
       "                           F1\n",
       "model_name                   \n",
       "LogisticRegression     0.9325\n",
       "LinearSVC              0.9313\n",
       "RandomForestClassifier 0.9149\n",
       "MultinomialNB          0.9134"
      ]
     },
     "execution_count": 51,
     "metadata": {},
     "output_type": "execute_result"
    }
   ],
   "source": [
    "print('---F1 score для моделей с TF-IDF---')\n",
    "result_tab(search)"
   ]
  },
  {
   "cell_type": "code",
   "execution_count": 52,
   "metadata": {},
   "outputs": [
    {
     "name": "stdout",
     "output_type": "stream",
     "text": [
      "---F1 score для моделей с BERT---\n"
     ]
    },
    {
     "data": {
      "text/html": [
       "<div>\n",
       "<style scoped>\n",
       "    .dataframe tbody tr th:only-of-type {\n",
       "        vertical-align: middle;\n",
       "    }\n",
       "\n",
       "    .dataframe tbody tr th {\n",
       "        vertical-align: top;\n",
       "    }\n",
       "\n",
       "    .dataframe thead th {\n",
       "        text-align: right;\n",
       "    }\n",
       "</style>\n",
       "<table border=\"1\" class=\"dataframe\">\n",
       "  <thead>\n",
       "    <tr style=\"text-align: right;\">\n",
       "      <th></th>\n",
       "      <th>F1</th>\n",
       "    </tr>\n",
       "    <tr>\n",
       "      <th>model_name</th>\n",
       "      <th></th>\n",
       "    </tr>\n",
       "  </thead>\n",
       "  <tbody>\n",
       "    <tr>\n",
       "      <th>LogisticRegression</th>\n",
       "      <td>0.9069</td>\n",
       "    </tr>\n",
       "    <tr>\n",
       "      <th>LinearSVC</th>\n",
       "      <td>0.9034</td>\n",
       "    </tr>\n",
       "    <tr>\n",
       "      <th>RandomForestClassifier</th>\n",
       "      <td>0.8907</td>\n",
       "    </tr>\n",
       "  </tbody>\n",
       "</table>\n",
       "</div>"
      ],
      "text/plain": [
       "                           F1\n",
       "model_name                   \n",
       "LogisticRegression     0.9069\n",
       "LinearSVC              0.9034\n",
       "RandomForestClassifier 0.8907"
      ]
     },
     "execution_count": 52,
     "metadata": {},
     "output_type": "execute_result"
    }
   ],
   "source": [
    "print('---F1 score для моделей с BERT---')\n",
    "result_tab(search_bert)"
   ]
  },
  {
   "cell_type": "code",
   "execution_count": 48,
   "metadata": {},
   "outputs": [
    {
     "data": {
      "text/html": [
       "<style>#sk-container-id-4 {\n",
       "  /* Definition of color scheme common for light and dark mode */\n",
       "  --sklearn-color-text: #000;\n",
       "  --sklearn-color-text-muted: #666;\n",
       "  --sklearn-color-line: gray;\n",
       "  /* Definition of color scheme for unfitted estimators */\n",
       "  --sklearn-color-unfitted-level-0: #fff5e6;\n",
       "  --sklearn-color-unfitted-level-1: #f6e4d2;\n",
       "  --sklearn-color-unfitted-level-2: #ffe0b3;\n",
       "  --sklearn-color-unfitted-level-3: chocolate;\n",
       "  /* Definition of color scheme for fitted estimators */\n",
       "  --sklearn-color-fitted-level-0: #f0f8ff;\n",
       "  --sklearn-color-fitted-level-1: #d4ebff;\n",
       "  --sklearn-color-fitted-level-2: #b3dbfd;\n",
       "  --sklearn-color-fitted-level-3: cornflowerblue;\n",
       "\n",
       "  /* Specific color for light theme */\n",
       "  --sklearn-color-text-on-default-background: var(--sg-text-color, var(--theme-code-foreground, var(--jp-content-font-color1, black)));\n",
       "  --sklearn-color-background: var(--sg-background-color, var(--theme-background, var(--jp-layout-color0, white)));\n",
       "  --sklearn-color-border-box: var(--sg-text-color, var(--theme-code-foreground, var(--jp-content-font-color1, black)));\n",
       "  --sklearn-color-icon: #696969;\n",
       "\n",
       "  @media (prefers-color-scheme: dark) {\n",
       "    /* Redefinition of color scheme for dark theme */\n",
       "    --sklearn-color-text-on-default-background: var(--sg-text-color, var(--theme-code-foreground, var(--jp-content-font-color1, white)));\n",
       "    --sklearn-color-background: var(--sg-background-color, var(--theme-background, var(--jp-layout-color0, #111)));\n",
       "    --sklearn-color-border-box: var(--sg-text-color, var(--theme-code-foreground, var(--jp-content-font-color1, white)));\n",
       "    --sklearn-color-icon: #878787;\n",
       "  }\n",
       "}\n",
       "\n",
       "#sk-container-id-4 {\n",
       "  color: var(--sklearn-color-text);\n",
       "}\n",
       "\n",
       "#sk-container-id-4 pre {\n",
       "  padding: 0;\n",
       "}\n",
       "\n",
       "#sk-container-id-4 input.sk-hidden--visually {\n",
       "  border: 0;\n",
       "  clip: rect(1px 1px 1px 1px);\n",
       "  clip: rect(1px, 1px, 1px, 1px);\n",
       "  height: 1px;\n",
       "  margin: -1px;\n",
       "  overflow: hidden;\n",
       "  padding: 0;\n",
       "  position: absolute;\n",
       "  width: 1px;\n",
       "}\n",
       "\n",
       "#sk-container-id-4 div.sk-dashed-wrapped {\n",
       "  border: 1px dashed var(--sklearn-color-line);\n",
       "  margin: 0 0.4em 0.5em 0.4em;\n",
       "  box-sizing: border-box;\n",
       "  padding-bottom: 0.4em;\n",
       "  background-color: var(--sklearn-color-background);\n",
       "}\n",
       "\n",
       "#sk-container-id-4 div.sk-container {\n",
       "  /* jupyter's `normalize.less` sets `[hidden] { display: none; }`\n",
       "     but bootstrap.min.css set `[hidden] { display: none !important; }`\n",
       "     so we also need the `!important` here to be able to override the\n",
       "     default hidden behavior on the sphinx rendered scikit-learn.org.\n",
       "     See: https://github.com/scikit-learn/scikit-learn/issues/21755 */\n",
       "  display: inline-block !important;\n",
       "  position: relative;\n",
       "}\n",
       "\n",
       "#sk-container-id-4 div.sk-text-repr-fallback {\n",
       "  display: none;\n",
       "}\n",
       "\n",
       "div.sk-parallel-item,\n",
       "div.sk-serial,\n",
       "div.sk-item {\n",
       "  /* draw centered vertical line to link estimators */\n",
       "  background-image: linear-gradient(var(--sklearn-color-text-on-default-background), var(--sklearn-color-text-on-default-background));\n",
       "  background-size: 2px 100%;\n",
       "  background-repeat: no-repeat;\n",
       "  background-position: center center;\n",
       "}\n",
       "\n",
       "/* Parallel-specific style estimator block */\n",
       "\n",
       "#sk-container-id-4 div.sk-parallel-item::after {\n",
       "  content: \"\";\n",
       "  width: 100%;\n",
       "  border-bottom: 2px solid var(--sklearn-color-text-on-default-background);\n",
       "  flex-grow: 1;\n",
       "}\n",
       "\n",
       "#sk-container-id-4 div.sk-parallel {\n",
       "  display: flex;\n",
       "  align-items: stretch;\n",
       "  justify-content: center;\n",
       "  background-color: var(--sklearn-color-background);\n",
       "  position: relative;\n",
       "}\n",
       "\n",
       "#sk-container-id-4 div.sk-parallel-item {\n",
       "  display: flex;\n",
       "  flex-direction: column;\n",
       "}\n",
       "\n",
       "#sk-container-id-4 div.sk-parallel-item:first-child::after {\n",
       "  align-self: flex-end;\n",
       "  width: 50%;\n",
       "}\n",
       "\n",
       "#sk-container-id-4 div.sk-parallel-item:last-child::after {\n",
       "  align-self: flex-start;\n",
       "  width: 50%;\n",
       "}\n",
       "\n",
       "#sk-container-id-4 div.sk-parallel-item:only-child::after {\n",
       "  width: 0;\n",
       "}\n",
       "\n",
       "/* Serial-specific style estimator block */\n",
       "\n",
       "#sk-container-id-4 div.sk-serial {\n",
       "  display: flex;\n",
       "  flex-direction: column;\n",
       "  align-items: center;\n",
       "  background-color: var(--sklearn-color-background);\n",
       "  padding-right: 1em;\n",
       "  padding-left: 1em;\n",
       "}\n",
       "\n",
       "\n",
       "/* Toggleable style: style used for estimator/Pipeline/ColumnTransformer box that is\n",
       "clickable and can be expanded/collapsed.\n",
       "- Pipeline and ColumnTransformer use this feature and define the default style\n",
       "- Estimators will overwrite some part of the style using the `sk-estimator` class\n",
       "*/\n",
       "\n",
       "/* Pipeline and ColumnTransformer style (default) */\n",
       "\n",
       "#sk-container-id-4 div.sk-toggleable {\n",
       "  /* Default theme specific background. It is overwritten whether we have a\n",
       "  specific estimator or a Pipeline/ColumnTransformer */\n",
       "  background-color: var(--sklearn-color-background);\n",
       "}\n",
       "\n",
       "/* Toggleable label */\n",
       "#sk-container-id-4 label.sk-toggleable__label {\n",
       "  cursor: pointer;\n",
       "  display: flex;\n",
       "  width: 100%;\n",
       "  margin-bottom: 0;\n",
       "  padding: 0.5em;\n",
       "  box-sizing: border-box;\n",
       "  text-align: center;\n",
       "  align-items: start;\n",
       "  justify-content: space-between;\n",
       "  gap: 0.5em;\n",
       "}\n",
       "\n",
       "#sk-container-id-4 label.sk-toggleable__label .caption {\n",
       "  font-size: 0.6rem;\n",
       "  font-weight: lighter;\n",
       "  color: var(--sklearn-color-text-muted);\n",
       "}\n",
       "\n",
       "#sk-container-id-4 label.sk-toggleable__label-arrow:before {\n",
       "  /* Arrow on the left of the label */\n",
       "  content: \"▸\";\n",
       "  float: left;\n",
       "  margin-right: 0.25em;\n",
       "  color: var(--sklearn-color-icon);\n",
       "}\n",
       "\n",
       "#sk-container-id-4 label.sk-toggleable__label-arrow:hover:before {\n",
       "  color: var(--sklearn-color-text);\n",
       "}\n",
       "\n",
       "/* Toggleable content - dropdown */\n",
       "\n",
       "#sk-container-id-4 div.sk-toggleable__content {\n",
       "  max-height: 0;\n",
       "  max-width: 0;\n",
       "  overflow: hidden;\n",
       "  text-align: left;\n",
       "  /* unfitted */\n",
       "  background-color: var(--sklearn-color-unfitted-level-0);\n",
       "}\n",
       "\n",
       "#sk-container-id-4 div.sk-toggleable__content.fitted {\n",
       "  /* fitted */\n",
       "  background-color: var(--sklearn-color-fitted-level-0);\n",
       "}\n",
       "\n",
       "#sk-container-id-4 div.sk-toggleable__content pre {\n",
       "  margin: 0.2em;\n",
       "  border-radius: 0.25em;\n",
       "  color: var(--sklearn-color-text);\n",
       "  /* unfitted */\n",
       "  background-color: var(--sklearn-color-unfitted-level-0);\n",
       "}\n",
       "\n",
       "#sk-container-id-4 div.sk-toggleable__content.fitted pre {\n",
       "  /* unfitted */\n",
       "  background-color: var(--sklearn-color-fitted-level-0);\n",
       "}\n",
       "\n",
       "#sk-container-id-4 input.sk-toggleable__control:checked~div.sk-toggleable__content {\n",
       "  /* Expand drop-down */\n",
       "  max-height: 200px;\n",
       "  max-width: 100%;\n",
       "  overflow: auto;\n",
       "}\n",
       "\n",
       "#sk-container-id-4 input.sk-toggleable__control:checked~label.sk-toggleable__label-arrow:before {\n",
       "  content: \"▾\";\n",
       "}\n",
       "\n",
       "/* Pipeline/ColumnTransformer-specific style */\n",
       "\n",
       "#sk-container-id-4 div.sk-label input.sk-toggleable__control:checked~label.sk-toggleable__label {\n",
       "  color: var(--sklearn-color-text);\n",
       "  background-color: var(--sklearn-color-unfitted-level-2);\n",
       "}\n",
       "\n",
       "#sk-container-id-4 div.sk-label.fitted input.sk-toggleable__control:checked~label.sk-toggleable__label {\n",
       "  background-color: var(--sklearn-color-fitted-level-2);\n",
       "}\n",
       "\n",
       "/* Estimator-specific style */\n",
       "\n",
       "/* Colorize estimator box */\n",
       "#sk-container-id-4 div.sk-estimator input.sk-toggleable__control:checked~label.sk-toggleable__label {\n",
       "  /* unfitted */\n",
       "  background-color: var(--sklearn-color-unfitted-level-2);\n",
       "}\n",
       "\n",
       "#sk-container-id-4 div.sk-estimator.fitted input.sk-toggleable__control:checked~label.sk-toggleable__label {\n",
       "  /* fitted */\n",
       "  background-color: var(--sklearn-color-fitted-level-2);\n",
       "}\n",
       "\n",
       "#sk-container-id-4 div.sk-label label.sk-toggleable__label,\n",
       "#sk-container-id-4 div.sk-label label {\n",
       "  /* The background is the default theme color */\n",
       "  color: var(--sklearn-color-text-on-default-background);\n",
       "}\n",
       "\n",
       "/* On hover, darken the color of the background */\n",
       "#sk-container-id-4 div.sk-label:hover label.sk-toggleable__label {\n",
       "  color: var(--sklearn-color-text);\n",
       "  background-color: var(--sklearn-color-unfitted-level-2);\n",
       "}\n",
       "\n",
       "/* Label box, darken color on hover, fitted */\n",
       "#sk-container-id-4 div.sk-label.fitted:hover label.sk-toggleable__label.fitted {\n",
       "  color: var(--sklearn-color-text);\n",
       "  background-color: var(--sklearn-color-fitted-level-2);\n",
       "}\n",
       "\n",
       "/* Estimator label */\n",
       "\n",
       "#sk-container-id-4 div.sk-label label {\n",
       "  font-family: monospace;\n",
       "  font-weight: bold;\n",
       "  display: inline-block;\n",
       "  line-height: 1.2em;\n",
       "}\n",
       "\n",
       "#sk-container-id-4 div.sk-label-container {\n",
       "  text-align: center;\n",
       "}\n",
       "\n",
       "/* Estimator-specific */\n",
       "#sk-container-id-4 div.sk-estimator {\n",
       "  font-family: monospace;\n",
       "  border: 1px dotted var(--sklearn-color-border-box);\n",
       "  border-radius: 0.25em;\n",
       "  box-sizing: border-box;\n",
       "  margin-bottom: 0.5em;\n",
       "  /* unfitted */\n",
       "  background-color: var(--sklearn-color-unfitted-level-0);\n",
       "}\n",
       "\n",
       "#sk-container-id-4 div.sk-estimator.fitted {\n",
       "  /* fitted */\n",
       "  background-color: var(--sklearn-color-fitted-level-0);\n",
       "}\n",
       "\n",
       "/* on hover */\n",
       "#sk-container-id-4 div.sk-estimator:hover {\n",
       "  /* unfitted */\n",
       "  background-color: var(--sklearn-color-unfitted-level-2);\n",
       "}\n",
       "\n",
       "#sk-container-id-4 div.sk-estimator.fitted:hover {\n",
       "  /* fitted */\n",
       "  background-color: var(--sklearn-color-fitted-level-2);\n",
       "}\n",
       "\n",
       "/* Specification for estimator info (e.g. \"i\" and \"?\") */\n",
       "\n",
       "/* Common style for \"i\" and \"?\" */\n",
       "\n",
       ".sk-estimator-doc-link,\n",
       "a:link.sk-estimator-doc-link,\n",
       "a:visited.sk-estimator-doc-link {\n",
       "  float: right;\n",
       "  font-size: smaller;\n",
       "  line-height: 1em;\n",
       "  font-family: monospace;\n",
       "  background-color: var(--sklearn-color-background);\n",
       "  border-radius: 1em;\n",
       "  height: 1em;\n",
       "  width: 1em;\n",
       "  text-decoration: none !important;\n",
       "  margin-left: 0.5em;\n",
       "  text-align: center;\n",
       "  /* unfitted */\n",
       "  border: var(--sklearn-color-unfitted-level-1) 1pt solid;\n",
       "  color: var(--sklearn-color-unfitted-level-1);\n",
       "}\n",
       "\n",
       ".sk-estimator-doc-link.fitted,\n",
       "a:link.sk-estimator-doc-link.fitted,\n",
       "a:visited.sk-estimator-doc-link.fitted {\n",
       "  /* fitted */\n",
       "  border: var(--sklearn-color-fitted-level-1) 1pt solid;\n",
       "  color: var(--sklearn-color-fitted-level-1);\n",
       "}\n",
       "\n",
       "/* On hover */\n",
       "div.sk-estimator:hover .sk-estimator-doc-link:hover,\n",
       ".sk-estimator-doc-link:hover,\n",
       "div.sk-label-container:hover .sk-estimator-doc-link:hover,\n",
       ".sk-estimator-doc-link:hover {\n",
       "  /* unfitted */\n",
       "  background-color: var(--sklearn-color-unfitted-level-3);\n",
       "  color: var(--sklearn-color-background);\n",
       "  text-decoration: none;\n",
       "}\n",
       "\n",
       "div.sk-estimator.fitted:hover .sk-estimator-doc-link.fitted:hover,\n",
       ".sk-estimator-doc-link.fitted:hover,\n",
       "div.sk-label-container:hover .sk-estimator-doc-link.fitted:hover,\n",
       ".sk-estimator-doc-link.fitted:hover {\n",
       "  /* fitted */\n",
       "  background-color: var(--sklearn-color-fitted-level-3);\n",
       "  color: var(--sklearn-color-background);\n",
       "  text-decoration: none;\n",
       "}\n",
       "\n",
       "/* Span, style for the box shown on hovering the info icon */\n",
       ".sk-estimator-doc-link span {\n",
       "  display: none;\n",
       "  z-index: 9999;\n",
       "  position: relative;\n",
       "  font-weight: normal;\n",
       "  right: .2ex;\n",
       "  padding: .5ex;\n",
       "  margin: .5ex;\n",
       "  width: min-content;\n",
       "  min-width: 20ex;\n",
       "  max-width: 50ex;\n",
       "  color: var(--sklearn-color-text);\n",
       "  box-shadow: 2pt 2pt 4pt #999;\n",
       "  /* unfitted */\n",
       "  background: var(--sklearn-color-unfitted-level-0);\n",
       "  border: .5pt solid var(--sklearn-color-unfitted-level-3);\n",
       "}\n",
       "\n",
       ".sk-estimator-doc-link.fitted span {\n",
       "  /* fitted */\n",
       "  background: var(--sklearn-color-fitted-level-0);\n",
       "  border: var(--sklearn-color-fitted-level-3);\n",
       "}\n",
       "\n",
       ".sk-estimator-doc-link:hover span {\n",
       "  display: block;\n",
       "}\n",
       "\n",
       "/* \"?\"-specific style due to the `<a>` HTML tag */\n",
       "\n",
       "#sk-container-id-4 a.estimator_doc_link {\n",
       "  float: right;\n",
       "  font-size: 1rem;\n",
       "  line-height: 1em;\n",
       "  font-family: monospace;\n",
       "  background-color: var(--sklearn-color-background);\n",
       "  border-radius: 1rem;\n",
       "  height: 1rem;\n",
       "  width: 1rem;\n",
       "  text-decoration: none;\n",
       "  /* unfitted */\n",
       "  color: var(--sklearn-color-unfitted-level-1);\n",
       "  border: var(--sklearn-color-unfitted-level-1) 1pt solid;\n",
       "}\n",
       "\n",
       "#sk-container-id-4 a.estimator_doc_link.fitted {\n",
       "  /* fitted */\n",
       "  border: var(--sklearn-color-fitted-level-1) 1pt solid;\n",
       "  color: var(--sklearn-color-fitted-level-1);\n",
       "}\n",
       "\n",
       "/* On hover */\n",
       "#sk-container-id-4 a.estimator_doc_link:hover {\n",
       "  /* unfitted */\n",
       "  background-color: var(--sklearn-color-unfitted-level-3);\n",
       "  color: var(--sklearn-color-background);\n",
       "  text-decoration: none;\n",
       "}\n",
       "\n",
       "#sk-container-id-4 a.estimator_doc_link.fitted:hover {\n",
       "  /* fitted */\n",
       "  background-color: var(--sklearn-color-fitted-level-3);\n",
       "}\n",
       "</style><div id=\"sk-container-id-4\" class=\"sk-top-container\"><div class=\"sk-text-repr-fallback\"><pre>Pipeline(steps=[(&#x27;tfidf&#x27;,\n",
       "                 TfidfVectorizer(max_df=0.95,\n",
       "                                 stop_words=[&#x27;below&#x27;, &#x27;theirs&#x27;, &#x27;herself&#x27;,\n",
       "                                             &#x27;mustn&#x27;, &quot;couldn&#x27;t&quot;, &#x27;did&#x27;, &#x27;don&#x27;,\n",
       "                                             &quot;haven&#x27;t&quot;, &quot;won&#x27;t&quot;, &quot;you&#x27;re&quot;,\n",
       "                                             &quot;i&#x27;ll&quot;, &#x27;same&#x27;, &#x27;couldn&#x27;, &#x27;just&#x27;,\n",
       "                                             &quot;she&#x27;d&quot;, &#x27;ours&#x27;, &#x27;more&#x27;, &#x27;t&#x27;,\n",
       "                                             &#x27;off&#x27;, &#x27;such&#x27;, &#x27;himself&#x27;, &#x27;were&#x27;,\n",
       "                                             &#x27;mightn&#x27;, &#x27;other&#x27;, &#x27;has&#x27;, &#x27;down&#x27;,\n",
       "                                             &#x27;shan&#x27;, &#x27;m&#x27;, &#x27;s&#x27;, &#x27;those&#x27;, ...],\n",
       "                                 sublinear_tf=True)),\n",
       "                (&#x27;models&#x27;,\n",
       "                 LogisticRegression(C=3.359818286283781,\n",
       "                                    class_weight=&#x27;balanced&#x27;, random_state=42,\n",
       "                                    solver=&#x27;saga&#x27;))])</pre><b>In a Jupyter environment, please rerun this cell to show the HTML representation or trust the notebook. <br />On GitHub, the HTML representation is unable to render, please try loading this page with nbviewer.org.</b></div><div class=\"sk-container\" hidden><div class=\"sk-item sk-dashed-wrapped\"><div class=\"sk-label-container\"><div class=\"sk-label fitted sk-toggleable\"><input class=\"sk-toggleable__control sk-hidden--visually\" id=\"sk-estimator-id-10\" type=\"checkbox\" ><label for=\"sk-estimator-id-10\" class=\"sk-toggleable__label fitted sk-toggleable__label-arrow\"><div><div>Pipeline</div></div><div><a class=\"sk-estimator-doc-link fitted\" rel=\"noreferrer\" target=\"_blank\" href=\"https://scikit-learn.org/1.6/modules/generated/sklearn.pipeline.Pipeline.html\">?<span>Documentation for Pipeline</span></a><span class=\"sk-estimator-doc-link fitted\">i<span>Fitted</span></span></div></label><div class=\"sk-toggleable__content fitted\"><pre>Pipeline(steps=[(&#x27;tfidf&#x27;,\n",
       "                 TfidfVectorizer(max_df=0.95,\n",
       "                                 stop_words=[&#x27;below&#x27;, &#x27;theirs&#x27;, &#x27;herself&#x27;,\n",
       "                                             &#x27;mustn&#x27;, &quot;couldn&#x27;t&quot;, &#x27;did&#x27;, &#x27;don&#x27;,\n",
       "                                             &quot;haven&#x27;t&quot;, &quot;won&#x27;t&quot;, &quot;you&#x27;re&quot;,\n",
       "                                             &quot;i&#x27;ll&quot;, &#x27;same&#x27;, &#x27;couldn&#x27;, &#x27;just&#x27;,\n",
       "                                             &quot;she&#x27;d&quot;, &#x27;ours&#x27;, &#x27;more&#x27;, &#x27;t&#x27;,\n",
       "                                             &#x27;off&#x27;, &#x27;such&#x27;, &#x27;himself&#x27;, &#x27;were&#x27;,\n",
       "                                             &#x27;mightn&#x27;, &#x27;other&#x27;, &#x27;has&#x27;, &#x27;down&#x27;,\n",
       "                                             &#x27;shan&#x27;, &#x27;m&#x27;, &#x27;s&#x27;, &#x27;those&#x27;, ...],\n",
       "                                 sublinear_tf=True)),\n",
       "                (&#x27;models&#x27;,\n",
       "                 LogisticRegression(C=3.359818286283781,\n",
       "                                    class_weight=&#x27;balanced&#x27;, random_state=42,\n",
       "                                    solver=&#x27;saga&#x27;))])</pre></div> </div></div><div class=\"sk-serial\"><div class=\"sk-item\"><div class=\"sk-estimator fitted sk-toggleable\"><input class=\"sk-toggleable__control sk-hidden--visually\" id=\"sk-estimator-id-11\" type=\"checkbox\" ><label for=\"sk-estimator-id-11\" class=\"sk-toggleable__label fitted sk-toggleable__label-arrow\"><div><div>TfidfVectorizer</div></div><div><a class=\"sk-estimator-doc-link fitted\" rel=\"noreferrer\" target=\"_blank\" href=\"https://scikit-learn.org/1.6/modules/generated/sklearn.feature_extraction.text.TfidfVectorizer.html\">?<span>Documentation for TfidfVectorizer</span></a></div></label><div class=\"sk-toggleable__content fitted\"><pre>TfidfVectorizer(max_df=0.95,\n",
       "                stop_words=[&#x27;below&#x27;, &#x27;theirs&#x27;, &#x27;herself&#x27;, &#x27;mustn&#x27;, &quot;couldn&#x27;t&quot;,\n",
       "                            &#x27;did&#x27;, &#x27;don&#x27;, &quot;haven&#x27;t&quot;, &quot;won&#x27;t&quot;, &quot;you&#x27;re&quot;, &quot;i&#x27;ll&quot;,\n",
       "                            &#x27;same&#x27;, &#x27;couldn&#x27;, &#x27;just&#x27;, &quot;she&#x27;d&quot;, &#x27;ours&#x27;, &#x27;more&#x27;,\n",
       "                            &#x27;t&#x27;, &#x27;off&#x27;, &#x27;such&#x27;, &#x27;himself&#x27;, &#x27;were&#x27;, &#x27;mightn&#x27;,\n",
       "                            &#x27;other&#x27;, &#x27;has&#x27;, &#x27;down&#x27;, &#x27;shan&#x27;, &#x27;m&#x27;, &#x27;s&#x27;, &#x27;those&#x27;, ...],\n",
       "                sublinear_tf=True)</pre></div> </div></div><div class=\"sk-item\"><div class=\"sk-estimator fitted sk-toggleable\"><input class=\"sk-toggleable__control sk-hidden--visually\" id=\"sk-estimator-id-12\" type=\"checkbox\" ><label for=\"sk-estimator-id-12\" class=\"sk-toggleable__label fitted sk-toggleable__label-arrow\"><div><div>LogisticRegression</div></div><div><a class=\"sk-estimator-doc-link fitted\" rel=\"noreferrer\" target=\"_blank\" href=\"https://scikit-learn.org/1.6/modules/generated/sklearn.linear_model.LogisticRegression.html\">?<span>Documentation for LogisticRegression</span></a></div></label><div class=\"sk-toggleable__content fitted\"><pre>LogisticRegression(C=3.359818286283781, class_weight=&#x27;balanced&#x27;,\n",
       "                   random_state=42, solver=&#x27;saga&#x27;)</pre></div> </div></div></div></div></div></div>"
      ],
      "text/plain": [
       "Pipeline(steps=[('tfidf',\n",
       "                 TfidfVectorizer(max_df=0.95,\n",
       "                                 stop_words=['below', 'theirs', 'herself',\n",
       "                                             'mustn', \"couldn't\", 'did', 'don',\n",
       "                                             \"haven't\", \"won't\", \"you're\",\n",
       "                                             \"i'll\", 'same', 'couldn', 'just',\n",
       "                                             \"she'd\", 'ours', 'more', 't',\n",
       "                                             'off', 'such', 'himself', 'were',\n",
       "                                             'mightn', 'other', 'has', 'down',\n",
       "                                             'shan', 'm', 's', 'those', ...],\n",
       "                                 sublinear_tf=True)),\n",
       "                ('models',\n",
       "                 LogisticRegression(C=3.359818286283781,\n",
       "                                    class_weight='balanced', random_state=42,\n",
       "                                    solver='saga'))])"
      ]
     },
     "metadata": {},
     "output_type": "display_data"
    },
    {
     "name": "stdout",
     "output_type": "stream",
     "text": [
      "F1 модели LogisticRegression с TF-IDF на тестовой выборке: 0.935\n"
     ]
    }
   ],
   "source": [
    "y_test, y_pred = best_model_score()"
   ]
  },
  {
   "cell_type": "markdown",
   "metadata": {},
   "source": [
    "5. **F1 мера удовлетворяет условию заказчика >0.75. Модель довольно точно классифицирует нейтральные комментарии. Однако часто ошибается при классификации токсичных комментариев.**\n",
    "\n",
    "\n",
    "6. **Варианты для улучшения модели:**\n",
    "    - ***Обучить модель на большем наборе данных \"как есть\". Займет больше времени, потребуется использование GPU.***\n",
    "    - ***Подобрать более сложную модель вместо логистической регрессии - использовать нейросеть на выходном слое.***\n",
    "    - ***Провести fine-tuning BERT. Это даст самый значительный прирост, однако потребуется еще больше ресурсов, чем в 1 случае.***"
   ]
  },
  {
   "cell_type": "markdown",
   "metadata": {},
   "source": []
  }
 ],
 "metadata": {
  "ExecuteTimeLog": [
   {
    "duration": 36825,
    "start_time": "2025-06-24T20:34:59.266Z"
   },
   {
    "duration": 6378,
    "start_time": "2025-06-24T20:36:00.130Z"
   },
   {
    "duration": 16,
    "start_time": "2025-06-24T20:36:08.672Z"
   },
   {
    "duration": 3223,
    "start_time": "2025-06-24T20:36:10.698Z"
   },
   {
    "duration": 1103,
    "start_time": "2025-06-24T20:36:17.829Z"
   },
   {
    "duration": 15,
    "start_time": "2025-06-24T20:36:23.634Z"
   },
   {
    "duration": 167,
    "start_time": "2025-06-24T20:36:24.951Z"
   },
   {
    "duration": 8,
    "start_time": "2025-06-24T20:36:31.450Z"
   },
   {
    "duration": 31,
    "start_time": "2025-06-24T20:36:32.712Z"
   },
   {
    "duration": 21,
    "start_time": "2025-06-24T20:36:34.248Z"
   },
   {
    "duration": 10,
    "start_time": "2025-06-24T20:36:38.451Z"
   },
   {
    "duration": 3,
    "start_time": "2025-06-24T20:36:41.818Z"
   },
   {
    "duration": 4,
    "start_time": "2025-06-24T20:36:42.618Z"
   },
   {
    "duration": 8,
    "start_time": "2025-06-24T20:36:43.843Z"
   },
   {
    "duration": 12,
    "start_time": "2025-06-24T20:36:51.546Z"
   },
   {
    "duration": 7,
    "start_time": "2025-06-24T20:36:52.321Z"
   },
   {
    "duration": 15,
    "start_time": "2025-06-24T20:36:53.733Z"
   },
   {
    "duration": 6,
    "start_time": "2025-06-24T20:36:55.500Z"
   },
   {
    "duration": 9,
    "start_time": "2025-06-24T20:36:56.637Z"
   },
   {
    "duration": 7,
    "start_time": "2025-06-24T20:36:57.179Z"
   },
   {
    "duration": 6,
    "start_time": "2025-06-24T20:36:58.498Z"
   },
   {
    "duration": 6,
    "start_time": "2025-06-24T20:36:59.508Z"
   },
   {
    "duration": 34587,
    "start_time": "2025-06-24T20:37:01.361Z"
   },
   {
    "duration": 588663,
    "start_time": "2025-06-24T20:37:50.904Z"
   },
   {
    "duration": 13007,
    "start_time": "2025-06-24T20:47:49.511Z"
   },
   {
    "duration": 6672,
    "start_time": "2025-06-24T20:48:02.520Z"
   },
   {
    "duration": 21,
    "start_time": "2025-06-24T20:48:09.194Z"
   },
   {
    "duration": 284,
    "start_time": "2025-06-24T20:48:09.217Z"
   },
   {
    "duration": 1080,
    "start_time": "2025-06-24T20:48:09.504Z"
   },
   {
    "duration": 5,
    "start_time": "2025-06-24T20:48:10.586Z"
   },
   {
    "duration": 205,
    "start_time": "2025-06-24T20:48:10.593Z"
   },
   {
    "duration": 5,
    "start_time": "2025-06-24T20:48:10.800Z"
   },
   {
    "duration": 94,
    "start_time": "2025-06-24T20:48:10.807Z"
   },
   {
    "duration": 14,
    "start_time": "2025-06-24T20:48:10.903Z"
   },
   {
    "duration": 8,
    "start_time": "2025-06-24T20:48:10.919Z"
   },
   {
    "duration": 6,
    "start_time": "2025-06-24T20:48:10.929Z"
   },
   {
    "duration": 20,
    "start_time": "2025-06-24T20:48:10.936Z"
   },
   {
    "duration": 13,
    "start_time": "2025-06-24T20:48:10.961Z"
   },
   {
    "duration": 7,
    "start_time": "2025-06-24T20:48:10.987Z"
   },
   {
    "duration": 11,
    "start_time": "2025-06-24T20:48:10.996Z"
   },
   {
    "duration": 9,
    "start_time": "2025-06-24T20:48:11.009Z"
   },
   {
    "duration": 26,
    "start_time": "2025-06-24T20:48:11.020Z"
   },
   {
    "duration": 15,
    "start_time": "2025-06-24T20:48:11.050Z"
   },
   {
    "duration": 17,
    "start_time": "2025-06-24T20:48:11.068Z"
   },
   {
    "duration": 13,
    "start_time": "2025-06-24T20:48:11.087Z"
   },
   {
    "duration": 8,
    "start_time": "2025-06-24T20:48:11.101Z"
   },
   {
    "duration": 33892,
    "start_time": "2025-06-24T20:48:11.110Z"
   },
   {
    "duration": 969666,
    "start_time": "2025-06-24T20:48:45.004Z"
   },
   {
    "duration": 0,
    "start_time": "2025-06-24T21:04:54.672Z"
   },
   {
    "duration": 0,
    "start_time": "2025-06-24T21:04:54.673Z"
   },
   {
    "duration": 0,
    "start_time": "2025-06-24T21:04:54.674Z"
   },
   {
    "duration": 0,
    "start_time": "2025-06-24T21:04:54.676Z"
   },
   {
    "duration": 0,
    "start_time": "2025-06-24T21:04:54.676Z"
   },
   {
    "duration": 0,
    "start_time": "2025-06-24T21:04:54.677Z"
   },
   {
    "duration": 39,
    "start_time": "2025-06-24T21:05:17.574Z"
   },
   {
    "duration": 16,
    "start_time": "2025-06-24T21:05:18.547Z"
   },
   {
    "duration": 33,
    "start_time": "2025-06-24T21:05:37.717Z"
   },
   {
    "duration": 24,
    "start_time": "2025-06-24T21:05:38.331Z"
   },
   {
    "duration": 12968,
    "start_time": "2025-06-24T21:05:52.705Z"
   },
   {
    "duration": 6058,
    "start_time": "2025-06-24T21:06:05.676Z"
   },
   {
    "duration": 28,
    "start_time": "2025-06-24T21:06:11.743Z"
   },
   {
    "duration": 317,
    "start_time": "2025-06-24T21:06:11.774Z"
   },
   {
    "duration": 1055,
    "start_time": "2025-06-24T21:06:12.093Z"
   },
   {
    "duration": 9,
    "start_time": "2025-06-24T21:06:13.151Z"
   },
   {
    "duration": 183,
    "start_time": "2025-06-24T21:06:13.162Z"
   },
   {
    "duration": 17,
    "start_time": "2025-06-24T21:06:13.355Z"
   },
   {
    "duration": 33,
    "start_time": "2025-06-24T21:06:13.373Z"
   },
   {
    "duration": 13,
    "start_time": "2025-06-24T21:06:13.408Z"
   },
   {
    "duration": 23,
    "start_time": "2025-06-24T21:06:13.422Z"
   },
   {
    "duration": 19,
    "start_time": "2025-06-24T21:06:13.451Z"
   },
   {
    "duration": 5,
    "start_time": "2025-06-24T21:06:13.472Z"
   },
   {
    "duration": 6,
    "start_time": "2025-06-24T21:06:13.480Z"
   },
   {
    "duration": 12,
    "start_time": "2025-06-24T21:06:13.488Z"
   },
   {
    "duration": 8,
    "start_time": "2025-06-24T21:06:13.502Z"
   },
   {
    "duration": 7,
    "start_time": "2025-06-24T21:06:13.511Z"
   },
   {
    "duration": 8,
    "start_time": "2025-06-24T21:06:13.520Z"
   },
   {
    "duration": 11,
    "start_time": "2025-06-24T21:06:13.544Z"
   },
   {
    "duration": 23,
    "start_time": "2025-06-24T21:06:13.556Z"
   },
   {
    "duration": 27,
    "start_time": "2025-06-24T21:06:13.582Z"
   },
   {
    "duration": 23,
    "start_time": "2025-06-24T21:06:13.611Z"
   },
   {
    "duration": 8954,
    "start_time": "2025-06-24T21:06:13.636Z"
   },
   {
    "duration": 6304262,
    "start_time": "2025-06-24T21:06:22.592Z"
   },
   {
    "duration": 101772,
    "start_time": "2025-06-24T22:51:26.856Z"
   },
   {
    "duration": 13,
    "start_time": "2025-06-24T22:53:08.630Z"
   },
   {
    "duration": 565936,
    "start_time": "2025-06-24T22:53:08.648Z"
   },
   {
    "duration": 5,
    "start_time": "2025-06-24T23:02:34.587Z"
   },
   {
    "duration": 334,
    "start_time": "2025-06-24T23:02:34.593Z"
   },
   {
    "duration": 32,
    "start_time": "2025-06-24T23:02:34.928Z"
   },
   {
    "duration": 53,
    "start_time": "2025-06-25T15:39:37.820Z"
   },
   {
    "duration": 3341,
    "start_time": "2025-06-26T19:27:05.424Z"
   },
   {
    "duration": 38461,
    "start_time": "2025-06-26T19:27:12.230Z"
   },
   {
    "duration": 182,
    "start_time": "2025-06-26T19:31:53.242Z"
   },
   {
    "duration": 12295,
    "start_time": "2025-06-26T19:32:37.786Z"
   },
   {
    "duration": 5573,
    "start_time": "2025-06-26T19:32:55.571Z"
   },
   {
    "duration": 15,
    "start_time": "2025-06-26T19:33:10.741Z"
   },
   {
    "duration": 3350,
    "start_time": "2025-06-26T19:33:12.178Z"
   },
   {
    "duration": 897,
    "start_time": "2025-06-26T19:33:18.975Z"
   },
   {
    "duration": 5,
    "start_time": "2025-06-26T19:33:21.308Z"
   },
   {
    "duration": 144,
    "start_time": "2025-06-26T19:33:23.541Z"
   },
   {
    "duration": 4,
    "start_time": "2025-06-26T19:33:34.995Z"
   },
   {
    "duration": 30,
    "start_time": "2025-06-26T19:33:36.270Z"
   },
   {
    "duration": 79,
    "start_time": "2025-06-26T19:33:37.589Z"
   },
   {
    "duration": 390,
    "start_time": "2025-06-26T19:33:49.884Z"
   },
   {
    "duration": 33,
    "start_time": "2025-06-26T19:33:56.969Z"
   },
   {
    "duration": 90,
    "start_time": "2025-06-26T19:33:59.049Z"
   },
   {
    "duration": 31,
    "start_time": "2025-06-26T19:34:06.345Z"
   },
   {
    "duration": 100,
    "start_time": "2025-06-26T19:34:07.940Z"
   },
   {
    "duration": 3,
    "start_time": "2025-06-26T19:37:02.302Z"
   },
   {
    "duration": 4,
    "start_time": "2025-06-26T19:37:02.966Z"
   },
   {
    "duration": 3,
    "start_time": "2025-06-26T19:37:03.604Z"
   },
   {
    "duration": 3,
    "start_time": "2025-06-26T19:37:04.753Z"
   },
   {
    "duration": 4094,
    "start_time": "2025-06-26T19:39:08.610Z"
   },
   {
    "duration": 19,
    "start_time": "2025-06-26T19:39:35.845Z"
   },
   {
    "duration": 12880,
    "start_time": "2025-06-26T19:48:04.057Z"
   },
   {
    "duration": 8,
    "start_time": "2025-06-26T19:50:09.261Z"
   },
   {
    "duration": 10838,
    "start_time": "2025-06-26T19:50:25.785Z"
   },
   {
    "duration": 3,
    "start_time": "2025-06-26T19:50:52.299Z"
   },
   {
    "duration": 27,
    "start_time": "2025-06-26T19:50:54.366Z"
   },
   {
    "duration": 25,
    "start_time": "2025-06-26T19:51:02.865Z"
   },
   {
    "duration": 10476,
    "start_time": "2025-06-26T19:51:16.329Z"
   },
   {
    "duration": 22,
    "start_time": "2025-06-26T19:51:27.840Z"
   },
   {
    "duration": 10471,
    "start_time": "2025-06-26T19:51:49.862Z"
   },
   {
    "duration": 26,
    "start_time": "2025-06-26T19:52:02.400Z"
   },
   {
    "duration": 20,
    "start_time": "2025-06-26T19:53:01.900Z"
   },
   {
    "duration": 38,
    "start_time": "2025-06-26T19:53:16.457Z"
   },
   {
    "duration": 10807,
    "start_time": "2025-06-26T19:53:25.804Z"
   },
   {
    "duration": 5,
    "start_time": "2025-06-26T19:53:37.934Z"
   },
   {
    "duration": 10982,
    "start_time": "2025-06-26T19:54:03.309Z"
   },
   {
    "duration": 32,
    "start_time": "2025-06-26T19:54:16.003Z"
   },
   {
    "duration": 256,
    "start_time": "2025-06-26T19:54:24.962Z"
   },
   {
    "duration": 23,
    "start_time": "2025-06-26T19:57:00.714Z"
   },
   {
    "duration": 7,
    "start_time": "2025-06-26T19:57:32.505Z"
   },
   {
    "duration": 29,
    "start_time": "2025-06-26T19:57:44.214Z"
   },
   {
    "duration": 241,
    "start_time": "2025-06-26T19:58:03.317Z"
   },
   {
    "duration": 253,
    "start_time": "2025-06-26T19:58:55.844Z"
   },
   {
    "duration": 5,
    "start_time": "2025-06-26T20:00:04.263Z"
   },
   {
    "duration": 278,
    "start_time": "2025-06-26T20:01:03.906Z"
   },
   {
    "duration": 22,
    "start_time": "2025-06-26T20:02:19.598Z"
   },
   {
    "duration": 4,
    "start_time": "2025-06-26T20:02:54.303Z"
   },
   {
    "duration": 266,
    "start_time": "2025-06-26T20:03:07.581Z"
   },
   {
    "duration": 7723,
    "start_time": "2025-06-26T20:04:14.974Z"
   },
   {
    "duration": 309,
    "start_time": "2025-06-26T20:04:33.872Z"
   },
   {
    "duration": 6294,
    "start_time": "2025-06-26T20:05:50.972Z"
   },
   {
    "duration": 10,
    "start_time": "2025-06-26T20:05:58.532Z"
   },
   {
    "duration": 293,
    "start_time": "2025-06-26T20:06:10.697Z"
   },
   {
    "duration": 274,
    "start_time": "2025-06-26T20:06:33.163Z"
   },
   {
    "duration": 260,
    "start_time": "2025-06-26T20:06:46.554Z"
   },
   {
    "duration": 11538,
    "start_time": "2025-06-26T20:08:34.432Z"
   },
   {
    "duration": 11,
    "start_time": "2025-06-26T20:08:59.643Z"
   },
   {
    "duration": 309,
    "start_time": "2025-06-26T20:09:13.218Z"
   },
   {
    "duration": 4,
    "start_time": "2025-06-26T20:11:16.779Z"
   },
   {
    "duration": 271,
    "start_time": "2025-06-26T20:11:45.499Z"
   },
   {
    "duration": 4,
    "start_time": "2025-06-26T20:12:25.471Z"
   },
   {
    "duration": 22,
    "start_time": "2025-06-26T20:12:31.408Z"
   },
   {
    "duration": 3118,
    "start_time": "2025-06-26T20:14:20.641Z"
   },
   {
    "duration": 1170,
    "start_time": "2025-06-26T20:16:39.050Z"
   },
   {
    "duration": 717,
    "start_time": "2025-06-26T20:16:56.194Z"
   },
   {
    "duration": 270,
    "start_time": "2025-06-26T20:18:05.274Z"
   },
   {
    "duration": 325,
    "start_time": "2025-06-26T20:18:12.489Z"
   },
   {
    "duration": 313,
    "start_time": "2025-06-26T20:18:24.965Z"
   },
   {
    "duration": 327,
    "start_time": "2025-06-26T20:18:39.355Z"
   },
   {
    "duration": 329,
    "start_time": "2025-06-26T20:21:37.520Z"
   },
   {
    "duration": 279,
    "start_time": "2025-06-26T20:21:42.483Z"
   },
   {
    "duration": 8571,
    "start_time": "2025-06-26T20:22:49.605Z"
   },
   {
    "duration": 8420,
    "start_time": "2025-06-26T20:24:19.492Z"
   },
   {
    "duration": 4024,
    "start_time": "2025-06-26T20:27:03.301Z"
   },
   {
    "duration": 9,
    "start_time": "2025-06-26T20:27:07.327Z"
   },
   {
    "duration": 16,
    "start_time": "2025-06-26T20:27:08.177Z"
   },
   {
    "duration": 324,
    "start_time": "2025-06-26T20:27:08.872Z"
   },
   {
    "duration": 912,
    "start_time": "2025-06-26T20:27:10.686Z"
   },
   {
    "duration": 5,
    "start_time": "2025-06-26T20:27:12.716Z"
   },
   {
    "duration": 169,
    "start_time": "2025-06-26T20:27:14.508Z"
   },
   {
    "duration": 5,
    "start_time": "2025-06-26T20:27:17.013Z"
   },
   {
    "duration": 31,
    "start_time": "2025-06-26T20:27:17.745Z"
   },
   {
    "duration": 92,
    "start_time": "2025-06-26T20:27:19.657Z"
   },
   {
    "duration": 3,
    "start_time": "2025-06-26T20:27:23.270Z"
   },
   {
    "duration": 3,
    "start_time": "2025-06-26T20:27:23.658Z"
   },
   {
    "duration": 3,
    "start_time": "2025-06-26T20:27:24.072Z"
   },
   {
    "duration": 4,
    "start_time": "2025-06-26T20:27:24.507Z"
   },
   {
    "duration": 12266,
    "start_time": "2025-06-26T20:27:26.673Z"
   },
   {
    "duration": 53,
    "start_time": "2025-06-26T20:27:38.941Z"
   },
   {
    "duration": 3,
    "start_time": "2025-06-26T20:27:38.996Z"
   },
   {
    "duration": 5,
    "start_time": "2025-06-26T20:27:39.001Z"
   },
   {
    "duration": 564,
    "start_time": "2025-06-26T20:27:58.818Z"
   },
   {
    "duration": 5,
    "start_time": "2025-06-26T20:29:07.265Z"
   },
   {
    "duration": 691,
    "start_time": "2025-06-26T20:29:21.738Z"
   },
   {
    "duration": 707,
    "start_time": "2025-06-26T20:29:34.343Z"
   },
   {
    "duration": 9271,
    "start_time": "2025-06-26T20:30:58.850Z"
   },
   {
    "duration": 26,
    "start_time": "2025-06-26T20:31:26.112Z"
   },
   {
    "duration": 9017,
    "start_time": "2025-06-26T20:32:19.131Z"
   },
   {
    "duration": 1355,
    "start_time": "2025-06-26T20:33:17.962Z"
   },
   {
    "duration": 824,
    "start_time": "2025-06-26T20:33:31.596Z"
   },
   {
    "duration": 5,
    "start_time": "2025-06-26T20:33:34.607Z"
   },
   {
    "duration": 3,
    "start_time": "2025-06-26T20:33:36.439Z"
   },
   {
    "duration": 4,
    "start_time": "2025-06-26T20:33:37.492Z"
   },
   {
    "duration": 27,
    "start_time": "2025-06-26T20:33:38.696Z"
   },
   {
    "duration": 8349,
    "start_time": "2025-06-26T20:33:48.063Z"
   },
   {
    "duration": 2249,
    "start_time": "2025-06-26T20:34:21.093Z"
   },
   {
    "duration": 3,
    "start_time": "2025-06-26T20:34:48.594Z"
   },
   {
    "duration": 4,
    "start_time": "2025-06-26T20:34:50.123Z"
   },
   {
    "duration": 7314,
    "start_time": "2025-06-26T20:34:51.241Z"
   },
   {
    "duration": 23,
    "start_time": "2025-06-26T20:35:17.790Z"
   },
   {
    "duration": 7132,
    "start_time": "2025-06-26T20:35:22.835Z"
   },
   {
    "duration": 4724,
    "start_time": "2025-06-26T20:37:29.561Z"
   },
   {
    "duration": 4773,
    "start_time": "2025-06-26T20:37:59.010Z"
   },
   {
    "duration": 6,
    "start_time": "2025-06-26T20:38:50.250Z"
   },
   {
    "duration": 4,
    "start_time": "2025-06-26T20:38:50.916Z"
   },
   {
    "duration": 4874,
    "start_time": "2025-06-26T20:38:51.585Z"
   },
   {
    "duration": 4,
    "start_time": "2025-06-26T20:39:06.150Z"
   },
   {
    "duration": 4,
    "start_time": "2025-06-26T20:39:06.960Z"
   },
   {
    "duration": 4758,
    "start_time": "2025-06-26T20:39:07.485Z"
   },
   {
    "duration": 10720,
    "start_time": "2025-06-26T20:39:53.296Z"
   },
   {
    "duration": 4,
    "start_time": "2025-06-26T20:40:36.030Z"
   },
   {
    "duration": 5868,
    "start_time": "2025-06-26T20:40:38.517Z"
   },
   {
    "duration": 5,
    "start_time": "2025-06-26T20:41:21.554Z"
   },
   {
    "duration": 129,
    "start_time": "2025-06-26T20:41:22.096Z"
   },
   {
    "duration": 5,
    "start_time": "2025-06-26T20:41:32.700Z"
   },
   {
    "duration": 140,
    "start_time": "2025-06-26T20:41:33.974Z"
   },
   {
    "duration": 4,
    "start_time": "2025-06-26T20:41:36.390Z"
   },
   {
    "duration": 25,
    "start_time": "2025-06-26T20:41:36.823Z"
   },
   {
    "duration": 107,
    "start_time": "2025-06-26T20:41:38.734Z"
   },
   {
    "duration": 4,
    "start_time": "2025-06-26T20:42:19.401Z"
   },
   {
    "duration": 10336,
    "start_time": "2025-06-26T20:43:28.650Z"
   },
   {
    "duration": 10228,
    "start_time": "2025-06-26T20:43:58.595Z"
   },
   {
    "duration": 4,
    "start_time": "2025-06-26T20:44:22.942Z"
   },
   {
    "duration": 9836,
    "start_time": "2025-06-26T20:44:25.481Z"
   },
   {
    "duration": 28,
    "start_time": "2025-06-26T20:44:39.704Z"
   },
   {
    "duration": 9888,
    "start_time": "2025-06-26T20:45:01.504Z"
   },
   {
    "duration": 10476,
    "start_time": "2025-06-26T20:45:54.877Z"
   },
   {
    "duration": 10624,
    "start_time": "2025-06-26T20:47:15.700Z"
   },
   {
    "duration": 4,
    "start_time": "2025-06-26T20:49:33.486Z"
   },
   {
    "duration": 9,
    "start_time": "2025-06-26T20:49:34.146Z"
   },
   {
    "duration": 6,
    "start_time": "2025-06-26T20:49:35.661Z"
   },
   {
    "duration": 6,
    "start_time": "2025-06-26T20:49:38.159Z"
   },
   {
    "duration": 4,
    "start_time": "2025-06-26T20:49:39.625Z"
   },
   {
    "duration": 7,
    "start_time": "2025-06-26T20:49:40.611Z"
   },
   {
    "duration": 5,
    "start_time": "2025-06-26T20:49:41.327Z"
   },
   {
    "duration": 5,
    "start_time": "2025-06-26T20:49:42.581Z"
   },
   {
    "duration": 10916,
    "start_time": "2025-06-26T20:49:51.960Z"
   },
   {
    "duration": 1013170,
    "start_time": "2025-06-26T20:50:06.570Z"
   },
   {
    "duration": 255233,
    "start_time": "2025-06-26T21:08:01.217Z"
   },
   {
    "duration": 5,
    "start_time": "2025-06-26T21:16:56.817Z"
   },
   {
    "duration": 1866982,
    "start_time": "2025-06-26T21:17:04.494Z"
   },
   {
    "duration": 5,
    "start_time": "2025-06-26T21:48:11.478Z"
   },
   {
    "duration": 7,
    "start_time": "2025-06-26T21:48:11.485Z"
   },
   {
    "duration": 176,
    "start_time": "2025-06-26T21:48:11.494Z"
   },
   {
    "duration": 0,
    "start_time": "2025-06-26T21:48:11.671Z"
   },
   {
    "duration": 0,
    "start_time": "2025-06-26T21:48:11.673Z"
   },
   {
    "duration": 0,
    "start_time": "2025-06-26T21:48:11.674Z"
   },
   {
    "duration": 0,
    "start_time": "2025-06-26T21:48:11.675Z"
   },
   {
    "duration": 6,
    "start_time": "2025-06-26T21:50:55.613Z"
   },
   {
    "duration": 1153,
    "start_time": "2025-06-26T21:50:58.445Z"
   },
   {
    "duration": 296,
    "start_time": "2025-06-26T21:51:59.913Z"
   },
   {
    "duration": 19,
    "start_time": "2025-06-26T21:52:51.574Z"
   },
   {
    "duration": 48,
    "start_time": "2025-06-26T21:54:21.112Z"
   },
   {
    "duration": 6,
    "start_time": "2025-06-26T21:54:38.314Z"
   },
   {
    "duration": 6,
    "start_time": "2025-06-26T21:54:46.892Z"
   },
   {
    "duration": 14,
    "start_time": "2025-06-26T21:57:40.987Z"
   },
   {
    "duration": 5,
    "start_time": "2025-06-26T21:58:25.154Z"
   },
   {
    "duration": 8,
    "start_time": "2025-06-26T21:58:28.749Z"
   },
   {
    "duration": 5,
    "start_time": "2025-06-26T22:00:15.877Z"
   },
   {
    "duration": 4,
    "start_time": "2025-06-26T22:00:16.250Z"
   },
   {
    "duration": 4,
    "start_time": "2025-06-26T22:00:48.887Z"
   },
   {
    "duration": 151639,
    "start_time": "2025-06-26T22:00:53.949Z"
   },
   {
    "duration": 6,
    "start_time": "2025-06-26T22:03:25.651Z"
   },
   {
    "duration": 9,
    "start_time": "2025-06-26T22:03:25.659Z"
   },
   {
    "duration": 5,
    "start_time": "2025-06-26T22:03:38.987Z"
   },
   {
    "duration": 8,
    "start_time": "2025-06-26T22:03:44.842Z"
   },
   {
    "duration": 3878,
    "start_time": "2025-06-26T22:03:45.787Z"
   },
   {
    "duration": 32056,
    "start_time": "2025-06-26T22:04:20.692Z"
   },
   {
    "duration": 4,
    "start_time": "2025-06-26T22:08:14.508Z"
   },
   {
    "duration": 143,
    "start_time": "2025-06-26T22:09:05.085Z"
   },
   {
    "duration": 262,
    "start_time": "2025-06-26T22:09:33.654Z"
   },
   {
    "duration": 280,
    "start_time": "2025-06-26T22:09:45.842Z"
   },
   {
    "duration": 6,
    "start_time": "2025-06-26T22:11:22.187Z"
   },
   {
    "duration": 7,
    "start_time": "2025-06-26T22:11:30.377Z"
   },
   {
    "duration": 14,
    "start_time": "2025-06-26T22:11:51.536Z"
   },
   {
    "duration": 8515,
    "start_time": "2025-06-26T22:12:31.344Z"
   },
   {
    "duration": 5005,
    "start_time": "2025-06-26T22:12:39.861Z"
   },
   {
    "duration": 6735,
    "start_time": "2025-06-26T22:12:44.869Z"
   },
   {
    "duration": 13,
    "start_time": "2025-06-26T22:12:51.606Z"
   },
   {
    "duration": 282,
    "start_time": "2025-06-26T22:12:51.621Z"
   },
   {
    "duration": 948,
    "start_time": "2025-06-26T22:12:51.904Z"
   },
   {
    "duration": 4,
    "start_time": "2025-06-26T22:12:52.854Z"
   },
   {
    "duration": 169,
    "start_time": "2025-06-26T22:12:52.860Z"
   },
   {
    "duration": 9,
    "start_time": "2025-06-26T22:12:53.030Z"
   },
   {
    "duration": 36,
    "start_time": "2025-06-26T22:12:53.042Z"
   },
   {
    "duration": 126,
    "start_time": "2025-06-26T22:12:53.079Z"
   },
   {
    "duration": 4,
    "start_time": "2025-06-26T22:12:53.208Z"
   },
   {
    "duration": 4,
    "start_time": "2025-06-26T22:12:53.213Z"
   },
   {
    "duration": 21,
    "start_time": "2025-06-26T22:12:53.219Z"
   },
   {
    "duration": 15,
    "start_time": "2025-06-26T22:12:53.242Z"
   },
   {
    "duration": 12530,
    "start_time": "2025-06-26T22:12:53.259Z"
   },
   {
    "duration": 4,
    "start_time": "2025-06-26T22:13:05.790Z"
   },
   {
    "duration": 70,
    "start_time": "2025-06-26T22:13:05.795Z"
   },
   {
    "duration": 10257,
    "start_time": "2025-06-26T22:13:05.867Z"
   },
   {
    "duration": 4,
    "start_time": "2025-06-26T22:13:16.126Z"
   },
   {
    "duration": 80,
    "start_time": "2025-06-26T22:13:16.136Z"
   },
   {
    "duration": 9,
    "start_time": "2025-06-26T22:13:16.218Z"
   },
   {
    "duration": 8,
    "start_time": "2025-06-26T22:13:16.228Z"
   },
   {
    "duration": 16,
    "start_time": "2025-06-26T22:13:16.237Z"
   },
   {
    "duration": 8,
    "start_time": "2025-06-26T22:13:16.255Z"
   },
   {
    "duration": 13,
    "start_time": "2025-06-26T22:13:16.265Z"
   },
   {
    "duration": 21,
    "start_time": "2025-06-26T22:13:16.279Z"
   },
   {
    "duration": 10571,
    "start_time": "2025-06-26T22:13:16.304Z"
   },
   {
    "duration": 854282,
    "start_time": "2025-06-26T22:13:26.877Z"
   },
   {
    "duration": 309064,
    "start_time": "2025-06-26T22:27:41.160Z"
   },
   {
    "duration": 13,
    "start_time": "2025-06-26T22:32:50.226Z"
   },
   {
    "duration": 1403983,
    "start_time": "2025-06-26T22:32:50.240Z"
   },
   {
    "duration": 15,
    "start_time": "2025-06-26T22:56:14.225Z"
   },
   {
    "duration": 10,
    "start_time": "2025-06-26T22:56:14.241Z"
   },
   {
    "duration": 243,
    "start_time": "2025-06-26T22:56:14.252Z"
   },
   {
    "duration": 291,
    "start_time": "2025-06-26T22:56:14.497Z"
   },
   {
    "duration": 53,
    "start_time": "2025-06-26T22:56:14.789Z"
   },
   {
    "duration": 35,
    "start_time": "2025-06-26T22:56:14.844Z"
   },
   {
    "duration": 257,
    "start_time": "2025-06-26T22:56:14.881Z"
   },
   {
    "duration": 8500,
    "start_time": "2025-06-27T04:17:21.691Z"
   },
   {
    "duration": 3930,
    "start_time": "2025-06-27T04:17:30.970Z"
   },
   {
    "duration": 6841,
    "start_time": "2025-06-27T04:17:34.903Z"
   },
   {
    "duration": 12,
    "start_time": "2025-06-27T04:17:41.746Z"
   },
   {
    "duration": 254,
    "start_time": "2025-06-27T04:17:41.760Z"
   },
   {
    "duration": 932,
    "start_time": "2025-06-27T04:17:42.015Z"
   },
   {
    "duration": 5,
    "start_time": "2025-06-27T04:17:42.948Z"
   },
   {
    "duration": 164,
    "start_time": "2025-06-27T04:17:42.955Z"
   },
   {
    "duration": 4,
    "start_time": "2025-06-27T04:17:43.121Z"
   },
   {
    "duration": 30,
    "start_time": "2025-06-27T04:17:43.137Z"
   },
   {
    "duration": 113,
    "start_time": "2025-06-27T04:17:43.170Z"
   },
   {
    "duration": 3,
    "start_time": "2025-06-27T04:17:47.931Z"
   },
   {
    "duration": 4,
    "start_time": "2025-06-27T04:17:50.370Z"
   },
   {
    "duration": 4,
    "start_time": "2025-06-27T04:17:50.845Z"
   },
   {
    "duration": 3,
    "start_time": "2025-06-27T04:17:51.487Z"
   },
   {
    "duration": 12354,
    "start_time": "2025-06-27T04:17:53.188Z"
   },
   {
    "duration": 4,
    "start_time": "2025-06-27T04:18:05.544Z"
   },
   {
    "duration": 7,
    "start_time": "2025-06-27T04:18:05.549Z"
   },
   {
    "duration": 10229,
    "start_time": "2025-06-27T04:18:05.558Z"
   },
   {
    "duration": 5,
    "start_time": "2025-06-27T04:18:15.789Z"
   },
   {
    "duration": 22,
    "start_time": "2025-06-27T04:18:15.795Z"
   },
   {
    "duration": 35,
    "start_time": "2025-06-27T04:18:15.819Z"
   },
   {
    "duration": 10,
    "start_time": "2025-06-27T04:18:15.856Z"
   },
   {
    "duration": 37,
    "start_time": "2025-06-27T04:18:15.868Z"
   },
   {
    "duration": 112,
    "start_time": "2025-06-27T04:18:15.906Z"
   },
   {
    "duration": 0,
    "start_time": "2025-06-27T04:18:16.019Z"
   },
   {
    "duration": 0,
    "start_time": "2025-06-27T04:18:16.021Z"
   },
   {
    "duration": 4,
    "start_time": "2025-06-27T04:18:26.787Z"
   },
   {
    "duration": 130,
    "start_time": "2025-06-27T04:18:31.837Z"
   },
   {
    "duration": 5,
    "start_time": "2025-06-27T04:18:32.830Z"
   },
   {
    "duration": 4,
    "start_time": "2025-06-27T04:18:33.947Z"
   },
   {
    "duration": 10447,
    "start_time": "2025-06-27T04:18:40.979Z"
   },
   {
    "duration": 118,
    "start_time": "2025-06-27T04:19:11.975Z"
   },
   {
    "duration": 126,
    "start_time": "2025-06-27T04:19:21.496Z"
   },
   {
    "duration": 61872,
    "start_time": "2025-06-27T04:19:27.680Z"
   },
   {
    "duration": 3,
    "start_time": "2025-06-27T04:20:29.554Z"
   },
   {
    "duration": 3,
    "start_time": "2025-06-27T04:20:35.392Z"
   },
   {
    "duration": 8,
    "start_time": "2025-06-27T04:21:31.957Z"
   },
   {
    "duration": 343,
    "start_time": "2025-06-27T04:22:00.996Z"
   },
   {
    "duration": 10663,
    "start_time": "2025-06-27T04:22:09.655Z"
   },
   {
    "duration": 22,
    "start_time": "2025-06-27T04:22:33.105Z"
   },
   {
    "duration": 7795,
    "start_time": "2025-06-27T04:23:06.275Z"
   },
   {
    "duration": 10629,
    "start_time": "2025-06-27T04:23:27.225Z"
   },
   {
    "duration": 22,
    "start_time": "2025-06-27T04:23:55.162Z"
   },
   {
    "duration": 740,
    "start_time": "2025-06-27T04:24:02.003Z"
   },
   {
    "duration": 8467,
    "start_time": "2025-06-27T04:29:43.239Z"
   },
   {
    "duration": 4020,
    "start_time": "2025-06-27T04:29:51.709Z"
   },
   {
    "duration": 6864,
    "start_time": "2025-06-27T04:29:55.731Z"
   },
   {
    "duration": 13,
    "start_time": "2025-06-27T04:30:02.597Z"
   },
   {
    "duration": 359,
    "start_time": "2025-06-27T04:30:02.612Z"
   },
   {
    "duration": 920,
    "start_time": "2025-06-27T04:30:02.973Z"
   },
   {
    "duration": 6,
    "start_time": "2025-06-27T04:30:03.895Z"
   },
   {
    "duration": 173,
    "start_time": "2025-06-27T04:30:03.902Z"
   },
   {
    "duration": 4,
    "start_time": "2025-06-27T04:30:04.077Z"
   },
   {
    "duration": 112,
    "start_time": "2025-06-27T04:30:04.082Z"
   },
   {
    "duration": 95,
    "start_time": "2025-06-27T04:30:04.196Z"
   },
   {
    "duration": 3,
    "start_time": "2025-06-27T04:30:04.293Z"
   },
   {
    "duration": 26,
    "start_time": "2025-06-27T04:30:04.297Z"
   },
   {
    "duration": 28,
    "start_time": "2025-06-27T04:30:04.326Z"
   },
   {
    "duration": 8,
    "start_time": "2025-06-27T04:30:04.356Z"
   },
   {
    "duration": 12171,
    "start_time": "2025-06-27T04:30:04.366Z"
   },
   {
    "duration": 4,
    "start_time": "2025-06-27T04:30:16.539Z"
   },
   {
    "duration": 5,
    "start_time": "2025-06-27T04:30:16.544Z"
   },
   {
    "duration": 10081,
    "start_time": "2025-06-27T04:30:16.550Z"
   },
   {
    "duration": 6,
    "start_time": "2025-06-27T04:30:26.632Z"
   },
   {
    "duration": 21,
    "start_time": "2025-06-27T04:30:26.639Z"
   },
   {
    "duration": 16,
    "start_time": "2025-06-27T04:30:26.662Z"
   },
   {
    "duration": 70,
    "start_time": "2025-06-27T04:30:26.680Z"
   },
   {
    "duration": 7,
    "start_time": "2025-06-27T04:30:26.752Z"
   },
   {
    "duration": 9,
    "start_time": "2025-06-27T04:30:26.761Z"
   },
   {
    "duration": 6,
    "start_time": "2025-06-27T04:30:26.772Z"
   },
   {
    "duration": 23,
    "start_time": "2025-06-27T04:30:26.780Z"
   },
   {
    "duration": 10381,
    "start_time": "2025-06-27T04:30:26.804Z"
   },
   {
    "duration": 779367,
    "start_time": "2025-06-27T04:30:37.186Z"
   },
   {
    "duration": 219839,
    "start_time": "2025-06-27T04:43:36.555Z"
   },
   {
    "duration": 5,
    "start_time": "2025-06-27T04:47:16.396Z"
   },
   {
    "duration": 1146100,
    "start_time": "2025-06-27T04:47:16.403Z"
   },
   {
    "duration": 5,
    "start_time": "2025-06-27T05:06:22.504Z"
   },
   {
    "duration": 20,
    "start_time": "2025-06-27T05:06:22.511Z"
   },
   {
    "duration": 354,
    "start_time": "2025-06-27T05:06:22.533Z"
   },
   {
    "duration": 289,
    "start_time": "2025-06-27T05:06:22.889Z"
   },
   {
    "duration": 29,
    "start_time": "2025-06-27T05:06:23.180Z"
   },
   {
    "duration": 48,
    "start_time": "2025-06-27T05:06:23.211Z"
   },
   {
    "duration": 358,
    "start_time": "2025-06-27T05:06:23.261Z"
   },
   {
    "duration": 5,
    "start_time": "2025-06-27T05:09:25.046Z"
   },
   {
    "duration": 1842354,
    "start_time": "2025-06-27T05:09:34.911Z"
   },
   {
    "duration": 6,
    "start_time": "2025-06-27T09:36:30.948Z"
   },
   {
    "duration": 6,
    "start_time": "2025-06-27T09:36:38.889Z"
   },
   {
    "duration": 353,
    "start_time": "2025-06-27T09:36:42.629Z"
   },
   {
    "duration": 260,
    "start_time": "2025-06-27T09:36:55.291Z"
   },
   {
    "duration": 30,
    "start_time": "2025-06-27T09:37:01.069Z"
   },
   {
    "duration": 34,
    "start_time": "2025-06-27T09:37:04.757Z"
   },
   {
    "duration": 373,
    "start_time": "2025-06-27T09:37:13.866Z"
   },
   {
    "duration": 5,
    "start_time": "2025-06-27T13:46:17.659Z"
   },
   {
    "duration": 263,
    "start_time": "2025-06-27T13:46:23.409Z"
   },
   {
    "duration": 29,
    "start_time": "2025-06-27T13:51:45.804Z"
   },
   {
    "duration": 33,
    "start_time": "2025-06-27T13:51:48.936Z"
   },
   {
    "duration": 6,
    "start_time": "2025-06-27T13:57:16.364Z"
   }
  ],
  "accelerator": "GPU",
  "colab": {
   "collapsed_sections": [
    "1JATiB0wjNMz",
    "2PAp0C0u9gq4"
   ],
   "gpuType": "T4",
   "provenance": [],
   "toc_visible": true
  },
  "kernelspec": {
   "display_name": "practicum",
   "language": "python",
   "name": "python3"
  },
  "language_info": {
   "codemirror_mode": {
    "name": "ipython",
    "version": 3
   },
   "file_extension": ".py",
   "mimetype": "text/x-python",
   "name": "python",
   "nbconvert_exporter": "python",
   "pygments_lexer": "ipython3",
   "version": "3.9.21"
  },
  "toc": {
   "base_numbering": 1,
   "nav_menu": {},
   "number_sections": true,
   "sideBar": true,
   "skip_h1_title": true,
   "title_cell": "Table of Contents",
   "title_sidebar": "Contents",
   "toc_cell": false,
   "toc_position": {},
   "toc_section_display": true,
   "toc_window_display": false
  },
  "widgets": {
   "application/vnd.jupyter.widget-state+json": {
    "004ac8495add44be8301b19157724ecb": {
     "model_module": "@jupyter-widgets/controls",
     "model_module_version": "1.5.0",
     "model_name": "HBoxModel",
     "state": {
      "_dom_classes": [],
      "_model_module": "@jupyter-widgets/controls",
      "_model_module_version": "1.5.0",
      "_model_name": "HBoxModel",
      "_view_count": null,
      "_view_module": "@jupyter-widgets/controls",
      "_view_module_version": "1.5.0",
      "_view_name": "HBoxView",
      "box_style": "",
      "children": [
       "IPY_MODEL_712ef8f4fc6a426c80f15637551c5292",
       "IPY_MODEL_02758644f5df4292833d2078d15df16c",
       "IPY_MODEL_b14e64f8dbc140ee8c2ea5e2d1a71fc8"
      ],
      "layout": "IPY_MODEL_194fdc526e0142c8a401722833264b27"
     }
    },
    "02758644f5df4292833d2078d15df16c": {
     "model_module": "@jupyter-widgets/controls",
     "model_module_version": "1.5.0",
     "model_name": "FloatProgressModel",
     "state": {
      "_dom_classes": [],
      "_model_module": "@jupyter-widgets/controls",
      "_model_module_version": "1.5.0",
      "_model_name": "FloatProgressModel",
      "_view_count": null,
      "_view_module": "@jupyter-widgets/controls",
      "_view_module_version": "1.5.0",
      "_view_name": "ProgressView",
      "bar_style": "success",
      "description": "",
      "description_tooltip": null,
      "layout": "IPY_MODEL_ab431688a1024c609672636009643196",
      "max": 250,
      "min": 0,
      "orientation": "horizontal",
      "style": "IPY_MODEL_d02bc8f0553c4e31b534ee4d428a5d3e",
      "value": 250
     }
    },
    "07292b01d7ca4e1886a1cb2758591aa2": {
     "model_module": "@jupyter-widgets/controls",
     "model_module_version": "1.5.0",
     "model_name": "DescriptionStyleModel",
     "state": {
      "_model_module": "@jupyter-widgets/controls",
      "_model_module_version": "1.5.0",
      "_model_name": "DescriptionStyleModel",
      "_view_count": null,
      "_view_module": "@jupyter-widgets/base",
      "_view_module_version": "1.2.0",
      "_view_name": "StyleView",
      "description_width": ""
     }
    },
    "194fdc526e0142c8a401722833264b27": {
     "model_module": "@jupyter-widgets/base",
     "model_module_version": "1.2.0",
     "model_name": "LayoutModel",
     "state": {
      "_model_module": "@jupyter-widgets/base",
      "_model_module_version": "1.2.0",
      "_model_name": "LayoutModel",
      "_view_count": null,
      "_view_module": "@jupyter-widgets/base",
      "_view_module_version": "1.2.0",
      "_view_name": "LayoutView",
      "align_content": null,
      "align_items": null,
      "align_self": null,
      "border": null,
      "bottom": null,
      "display": null,
      "flex": null,
      "flex_flow": null,
      "grid_area": null,
      "grid_auto_columns": null,
      "grid_auto_flow": null,
      "grid_auto_rows": null,
      "grid_column": null,
      "grid_gap": null,
      "grid_row": null,
      "grid_template_areas": null,
      "grid_template_columns": null,
      "grid_template_rows": null,
      "height": null,
      "justify_content": null,
      "justify_items": null,
      "left": null,
      "margin": null,
      "max_height": null,
      "max_width": null,
      "min_height": null,
      "min_width": null,
      "object_fit": null,
      "object_position": null,
      "order": null,
      "overflow": null,
      "overflow_x": null,
      "overflow_y": null,
      "padding": null,
      "right": null,
      "top": null,
      "visibility": null,
      "width": null
     }
    },
    "1a05530691384725830efc494be24bf6": {
     "model_module": "@jupyter-widgets/base",
     "model_module_version": "1.2.0",
     "model_name": "LayoutModel",
     "state": {
      "_model_module": "@jupyter-widgets/base",
      "_model_module_version": "1.2.0",
      "_model_name": "LayoutModel",
      "_view_count": null,
      "_view_module": "@jupyter-widgets/base",
      "_view_module_version": "1.2.0",
      "_view_name": "LayoutView",
      "align_content": null,
      "align_items": null,
      "align_self": null,
      "border": null,
      "bottom": null,
      "display": null,
      "flex": null,
      "flex_flow": null,
      "grid_area": null,
      "grid_auto_columns": null,
      "grid_auto_flow": null,
      "grid_auto_rows": null,
      "grid_column": null,
      "grid_gap": null,
      "grid_row": null,
      "grid_template_areas": null,
      "grid_template_columns": null,
      "grid_template_rows": null,
      "height": null,
      "justify_content": null,
      "justify_items": null,
      "left": null,
      "margin": null,
      "max_height": null,
      "max_width": null,
      "min_height": null,
      "min_width": null,
      "object_fit": null,
      "object_position": null,
      "order": null,
      "overflow": null,
      "overflow_x": null,
      "overflow_y": null,
      "padding": null,
      "right": null,
      "top": null,
      "visibility": null,
      "width": null
     }
    },
    "1e2d5ce9f84949e58dbbc24f1fe32d0a": {
     "model_module": "@jupyter-widgets/base",
     "model_module_version": "1.2.0",
     "model_name": "LayoutModel",
     "state": {
      "_model_module": "@jupyter-widgets/base",
      "_model_module_version": "1.2.0",
      "_model_name": "LayoutModel",
      "_view_count": null,
      "_view_module": "@jupyter-widgets/base",
      "_view_module_version": "1.2.0",
      "_view_name": "LayoutView",
      "align_content": null,
      "align_items": null,
      "align_self": null,
      "border": null,
      "bottom": null,
      "display": null,
      "flex": null,
      "flex_flow": null,
      "grid_area": null,
      "grid_auto_columns": null,
      "grid_auto_flow": null,
      "grid_auto_rows": null,
      "grid_column": null,
      "grid_gap": null,
      "grid_row": null,
      "grid_template_areas": null,
      "grid_template_columns": null,
      "grid_template_rows": null,
      "height": null,
      "justify_content": null,
      "justify_items": null,
      "left": null,
      "margin": null,
      "max_height": null,
      "max_width": null,
      "min_height": null,
      "min_width": null,
      "object_fit": null,
      "object_position": null,
      "order": null,
      "overflow": null,
      "overflow_x": null,
      "overflow_y": null,
      "padding": null,
      "right": null,
      "top": null,
      "visibility": null,
      "width": null
     }
    },
    "2343b156a0d247358186a7d4cd7ea8a1": {
     "model_module": "@jupyter-widgets/controls",
     "model_module_version": "1.5.0",
     "model_name": "HTMLModel",
     "state": {
      "_dom_classes": [],
      "_model_module": "@jupyter-widgets/controls",
      "_model_module_version": "1.5.0",
      "_model_name": "HTMLModel",
      "_view_count": null,
      "_view_module": "@jupyter-widgets/controls",
      "_view_module_version": "1.5.0",
      "_view_name": "HTMLView",
      "description": "",
      "description_tooltip": null,
      "layout": "IPY_MODEL_ce66c56a8f854a85abf59120047d00d1",
      "placeholder": "​",
      "style": "IPY_MODEL_fe6a5a29c3c542cfbfe93c7c81a1d276",
      "value": " 15/15 [00:21&lt;00:00,  1.46s/it]"
     }
    },
    "29c04136285a4e86b80f4db83470c0b6": {
     "model_module": "@jupyter-widgets/base",
     "model_module_version": "1.2.0",
     "model_name": "LayoutModel",
     "state": {
      "_model_module": "@jupyter-widgets/base",
      "_model_module_version": "1.2.0",
      "_model_name": "LayoutModel",
      "_view_count": null,
      "_view_module": "@jupyter-widgets/base",
      "_view_module_version": "1.2.0",
      "_view_name": "LayoutView",
      "align_content": null,
      "align_items": null,
      "align_self": null,
      "border": null,
      "bottom": null,
      "display": null,
      "flex": null,
      "flex_flow": null,
      "grid_area": null,
      "grid_auto_columns": null,
      "grid_auto_flow": null,
      "grid_auto_rows": null,
      "grid_column": null,
      "grid_gap": null,
      "grid_row": null,
      "grid_template_areas": null,
      "grid_template_columns": null,
      "grid_template_rows": null,
      "height": null,
      "justify_content": null,
      "justify_items": null,
      "left": null,
      "margin": null,
      "max_height": null,
      "max_width": null,
      "min_height": null,
      "min_width": null,
      "object_fit": null,
      "object_position": null,
      "order": null,
      "overflow": null,
      "overflow_x": null,
      "overflow_y": null,
      "padding": null,
      "right": null,
      "top": null,
      "visibility": null,
      "width": null
     }
    },
    "2e30df20067c4260a14b8d30a23293a2": {
     "model_module": "@jupyter-widgets/base",
     "model_module_version": "1.2.0",
     "model_name": "LayoutModel",
     "state": {
      "_model_module": "@jupyter-widgets/base",
      "_model_module_version": "1.2.0",
      "_model_name": "LayoutModel",
      "_view_count": null,
      "_view_module": "@jupyter-widgets/base",
      "_view_module_version": "1.2.0",
      "_view_name": "LayoutView",
      "align_content": null,
      "align_items": null,
      "align_self": null,
      "border": null,
      "bottom": null,
      "display": null,
      "flex": null,
      "flex_flow": null,
      "grid_area": null,
      "grid_auto_columns": null,
      "grid_auto_flow": null,
      "grid_auto_rows": null,
      "grid_column": null,
      "grid_gap": null,
      "grid_row": null,
      "grid_template_areas": null,
      "grid_template_columns": null,
      "grid_template_rows": null,
      "height": null,
      "justify_content": null,
      "justify_items": null,
      "left": null,
      "margin": null,
      "max_height": null,
      "max_width": null,
      "min_height": null,
      "min_width": null,
      "object_fit": null,
      "object_position": null,
      "order": null,
      "overflow": null,
      "overflow_x": null,
      "overflow_y": null,
      "padding": null,
      "right": null,
      "top": null,
      "visibility": null,
      "width": null
     }
    },
    "370b48075469423daa2045599aded7db": {
     "model_module": "@jupyter-widgets/base",
     "model_module_version": "1.2.0",
     "model_name": "LayoutModel",
     "state": {
      "_model_module": "@jupyter-widgets/base",
      "_model_module_version": "1.2.0",
      "_model_name": "LayoutModel",
      "_view_count": null,
      "_view_module": "@jupyter-widgets/base",
      "_view_module_version": "1.2.0",
      "_view_name": "LayoutView",
      "align_content": null,
      "align_items": null,
      "align_self": null,
      "border": null,
      "bottom": null,
      "display": null,
      "flex": null,
      "flex_flow": null,
      "grid_area": null,
      "grid_auto_columns": null,
      "grid_auto_flow": null,
      "grid_auto_rows": null,
      "grid_column": null,
      "grid_gap": null,
      "grid_row": null,
      "grid_template_areas": null,
      "grid_template_columns": null,
      "grid_template_rows": null,
      "height": null,
      "justify_content": null,
      "justify_items": null,
      "left": null,
      "margin": null,
      "max_height": null,
      "max_width": null,
      "min_height": null,
      "min_width": null,
      "object_fit": null,
      "object_position": null,
      "order": null,
      "overflow": null,
      "overflow_x": null,
      "overflow_y": null,
      "padding": null,
      "right": null,
      "top": null,
      "visibility": null,
      "width": null
     }
    },
    "3c42ff4c249944f98cb029e27c86f6a3": {
     "model_module": "@jupyter-widgets/controls",
     "model_module_version": "1.5.0",
     "model_name": "ProgressStyleModel",
     "state": {
      "_model_module": "@jupyter-widgets/controls",
      "_model_module_version": "1.5.0",
      "_model_name": "ProgressStyleModel",
      "_view_count": null,
      "_view_module": "@jupyter-widgets/base",
      "_view_module_version": "1.2.0",
      "_view_name": "StyleView",
      "bar_color": null,
      "description_width": ""
     }
    },
    "3f54fad3085141948b574c138d962d89": {
     "model_module": "@jupyter-widgets/controls",
     "model_module_version": "1.5.0",
     "model_name": "FloatProgressModel",
     "state": {
      "_dom_classes": [],
      "_model_module": "@jupyter-widgets/controls",
      "_model_module_version": "1.5.0",
      "_model_name": "FloatProgressModel",
      "_view_count": null,
      "_view_module": "@jupyter-widgets/controls",
      "_view_module_version": "1.5.0",
      "_view_name": "ProgressView",
      "bar_style": "success",
      "description": "",
      "description_tooltip": null,
      "layout": "IPY_MODEL_8ee82cf12332438ca55d00b26cb115c6",
      "max": 15,
      "min": 0,
      "orientation": "horizontal",
      "style": "IPY_MODEL_3c42ff4c249944f98cb029e27c86f6a3",
      "value": 15
     }
    },
    "45882f58e4c64bcd91a9c5f7a4d9d86f": {
     "model_module": "@jupyter-widgets/base",
     "model_module_version": "1.2.0",
     "model_name": "LayoutModel",
     "state": {
      "_model_module": "@jupyter-widgets/base",
      "_model_module_version": "1.2.0",
      "_model_name": "LayoutModel",
      "_view_count": null,
      "_view_module": "@jupyter-widgets/base",
      "_view_module_version": "1.2.0",
      "_view_name": "LayoutView",
      "align_content": null,
      "align_items": null,
      "align_self": null,
      "border": null,
      "bottom": null,
      "display": null,
      "flex": null,
      "flex_flow": null,
      "grid_area": null,
      "grid_auto_columns": null,
      "grid_auto_flow": null,
      "grid_auto_rows": null,
      "grid_column": null,
      "grid_gap": null,
      "grid_row": null,
      "grid_template_areas": null,
      "grid_template_columns": null,
      "grid_template_rows": null,
      "height": null,
      "justify_content": null,
      "justify_items": null,
      "left": null,
      "margin": null,
      "max_height": null,
      "max_width": null,
      "min_height": null,
      "min_width": null,
      "object_fit": null,
      "object_position": null,
      "order": null,
      "overflow": null,
      "overflow_x": null,
      "overflow_y": null,
      "padding": null,
      "right": null,
      "top": null,
      "visibility": null,
      "width": null
     }
    },
    "5421b61686734f6183fb0a167f9cd6d3": {
     "model_module": "@jupyter-widgets/controls",
     "model_module_version": "1.5.0",
     "model_name": "HBoxModel",
     "state": {
      "_dom_classes": [],
      "_model_module": "@jupyter-widgets/controls",
      "_model_module_version": "1.5.0",
      "_model_name": "HBoxModel",
      "_view_count": null,
      "_view_module": "@jupyter-widgets/controls",
      "_view_module_version": "1.5.0",
      "_view_name": "HBoxView",
      "box_style": "",
      "children": [
       "IPY_MODEL_82c8ac5eb9f74e64ab576bebf764696c",
       "IPY_MODEL_3f54fad3085141948b574c138d962d89",
       "IPY_MODEL_2343b156a0d247358186a7d4cd7ea8a1"
      ],
      "layout": "IPY_MODEL_71a6b9025a424ae6aad1eec73c8ef82d"
     }
    },
    "561c5c98dced409b98e87bb97a54c438": {
     "model_module": "@jupyter-widgets/controls",
     "model_module_version": "1.5.0",
     "model_name": "HTMLModel",
     "state": {
      "_dom_classes": [],
      "_model_module": "@jupyter-widgets/controls",
      "_model_module_version": "1.5.0",
      "_model_name": "HTMLModel",
      "_view_count": null,
      "_view_module": "@jupyter-widgets/controls",
      "_view_module_version": "1.5.0",
      "_view_name": "HTMLView",
      "description": "",
      "description_tooltip": null,
      "layout": "IPY_MODEL_29c04136285a4e86b80f4db83470c0b6",
      "placeholder": "​",
      "style": "IPY_MODEL_7bedec54e57843ce9e734a4f0f5552c0",
      "value": "Map: 100%"
     }
    },
    "568f6af06f30424c80f88c9a565c645f": {
     "model_module": "@jupyter-widgets/controls",
     "model_module_version": "1.5.0",
     "model_name": "FloatProgressModel",
     "state": {
      "_dom_classes": [],
      "_model_module": "@jupyter-widgets/controls",
      "_model_module_version": "1.5.0",
      "_model_name": "FloatProgressModel",
      "_view_count": null,
      "_view_module": "@jupyter-widgets/controls",
      "_view_module_version": "1.5.0",
      "_view_name": "ProgressView",
      "bar_style": "success",
      "description": "",
      "description_tooltip": null,
      "layout": "IPY_MODEL_1a05530691384725830efc494be24bf6",
      "max": 5,
      "min": 0,
      "orientation": "horizontal",
      "style": "IPY_MODEL_8c13bbe89962425bbc1facd2c58516eb",
      "value": 5
     }
    },
    "623e8af5529842b69255854235078bfc": {
     "model_module": "@jupyter-widgets/controls",
     "model_module_version": "1.5.0",
     "model_name": "HBoxModel",
     "state": {
      "_dom_classes": [],
      "_model_module": "@jupyter-widgets/controls",
      "_model_module_version": "1.5.0",
      "_model_name": "HBoxModel",
      "_view_count": null,
      "_view_module": "@jupyter-widgets/controls",
      "_view_module_version": "1.5.0",
      "_view_name": "HBoxView",
      "box_style": "",
      "children": [
       "IPY_MODEL_561c5c98dced409b98e87bb97a54c438",
       "IPY_MODEL_9fc7c1c4cf2242af8aac112e605da7ec",
       "IPY_MODEL_6e36ecd92d1547589382a016c549594b"
      ],
      "layout": "IPY_MODEL_45882f58e4c64bcd91a9c5f7a4d9d86f"
     }
    },
    "6e36ecd92d1547589382a016c549594b": {
     "model_module": "@jupyter-widgets/controls",
     "model_module_version": "1.5.0",
     "model_name": "HTMLModel",
     "state": {
      "_dom_classes": [],
      "_model_module": "@jupyter-widgets/controls",
      "_model_module_version": "1.5.0",
      "_model_name": "HTMLModel",
      "_view_count": null,
      "_view_module": "@jupyter-widgets/controls",
      "_view_module_version": "1.5.0",
      "_view_name": "HTMLView",
      "description": "",
      "description_tooltip": null,
      "layout": "IPY_MODEL_2e30df20067c4260a14b8d30a23293a2",
      "placeholder": "​",
      "style": "IPY_MODEL_8ded1f37bcb545a08029bf7c7d775603",
      "value": " 750/750 [00:01&lt;00:00, 564.42 examples/s]"
     }
    },
    "712ef8f4fc6a426c80f15637551c5292": {
     "model_module": "@jupyter-widgets/controls",
     "model_module_version": "1.5.0",
     "model_name": "HTMLModel",
     "state": {
      "_dom_classes": [],
      "_model_module": "@jupyter-widgets/controls",
      "_model_module_version": "1.5.0",
      "_model_name": "HTMLModel",
      "_view_count": null,
      "_view_module": "@jupyter-widgets/controls",
      "_view_module_version": "1.5.0",
      "_view_name": "HTMLView",
      "description": "",
      "description_tooltip": null,
      "layout": "IPY_MODEL_bde66a04a379442c817316555aa134e3",
      "placeholder": "​",
      "style": "IPY_MODEL_f92a04aeadb94668927a5bc954c9ca53",
      "value": "Map: 100%"
     }
    },
    "71a6b9025a424ae6aad1eec73c8ef82d": {
     "model_module": "@jupyter-widgets/base",
     "model_module_version": "1.2.0",
     "model_name": "LayoutModel",
     "state": {
      "_model_module": "@jupyter-widgets/base",
      "_model_module_version": "1.2.0",
      "_model_name": "LayoutModel",
      "_view_count": null,
      "_view_module": "@jupyter-widgets/base",
      "_view_module_version": "1.2.0",
      "_view_name": "LayoutView",
      "align_content": null,
      "align_items": null,
      "align_self": null,
      "border": null,
      "bottom": null,
      "display": null,
      "flex": null,
      "flex_flow": null,
      "grid_area": null,
      "grid_auto_columns": null,
      "grid_auto_flow": null,
      "grid_auto_rows": null,
      "grid_column": null,
      "grid_gap": null,
      "grid_row": null,
      "grid_template_areas": null,
      "grid_template_columns": null,
      "grid_template_rows": null,
      "height": null,
      "justify_content": null,
      "justify_items": null,
      "left": null,
      "margin": null,
      "max_height": null,
      "max_width": null,
      "min_height": null,
      "min_width": null,
      "object_fit": null,
      "object_position": null,
      "order": null,
      "overflow": null,
      "overflow_x": null,
      "overflow_y": null,
      "padding": null,
      "right": null,
      "top": null,
      "visibility": null,
      "width": null
     }
    },
    "7bedec54e57843ce9e734a4f0f5552c0": {
     "model_module": "@jupyter-widgets/controls",
     "model_module_version": "1.5.0",
     "model_name": "DescriptionStyleModel",
     "state": {
      "_model_module": "@jupyter-widgets/controls",
      "_model_module_version": "1.5.0",
      "_model_name": "DescriptionStyleModel",
      "_view_count": null,
      "_view_module": "@jupyter-widgets/base",
      "_view_module_version": "1.2.0",
      "_view_name": "StyleView",
      "description_width": ""
     }
    },
    "82c8ac5eb9f74e64ab576bebf764696c": {
     "model_module": "@jupyter-widgets/controls",
     "model_module_version": "1.5.0",
     "model_name": "HTMLModel",
     "state": {
      "_dom_classes": [],
      "_model_module": "@jupyter-widgets/controls",
      "_model_module_version": "1.5.0",
      "_model_name": "HTMLModel",
      "_view_count": null,
      "_view_module": "@jupyter-widgets/controls",
      "_view_module_version": "1.5.0",
      "_view_name": "HTMLView",
      "description": "",
      "description_tooltip": null,
      "layout": "IPY_MODEL_8eae1646c5f945daa49965b778c4e64c",
      "placeholder": "​",
      "style": "IPY_MODEL_07292b01d7ca4e1886a1cb2758591aa2",
      "value": "100%"
     }
    },
    "8c13bbe89962425bbc1facd2c58516eb": {
     "model_module": "@jupyter-widgets/controls",
     "model_module_version": "1.5.0",
     "model_name": "ProgressStyleModel",
     "state": {
      "_model_module": "@jupyter-widgets/controls",
      "_model_module_version": "1.5.0",
      "_model_name": "ProgressStyleModel",
      "_view_count": null,
      "_view_module": "@jupyter-widgets/base",
      "_view_module_version": "1.2.0",
      "_view_name": "StyleView",
      "bar_color": null,
      "description_width": ""
     }
    },
    "8ded1f37bcb545a08029bf7c7d775603": {
     "model_module": "@jupyter-widgets/controls",
     "model_module_version": "1.5.0",
     "model_name": "DescriptionStyleModel",
     "state": {
      "_model_module": "@jupyter-widgets/controls",
      "_model_module_version": "1.5.0",
      "_model_name": "DescriptionStyleModel",
      "_view_count": null,
      "_view_module": "@jupyter-widgets/base",
      "_view_module_version": "1.2.0",
      "_view_name": "StyleView",
      "description_width": ""
     }
    },
    "8eae1646c5f945daa49965b778c4e64c": {
     "model_module": "@jupyter-widgets/base",
     "model_module_version": "1.2.0",
     "model_name": "LayoutModel",
     "state": {
      "_model_module": "@jupyter-widgets/base",
      "_model_module_version": "1.2.0",
      "_model_name": "LayoutModel",
      "_view_count": null,
      "_view_module": "@jupyter-widgets/base",
      "_view_module_version": "1.2.0",
      "_view_name": "LayoutView",
      "align_content": null,
      "align_items": null,
      "align_self": null,
      "border": null,
      "bottom": null,
      "display": null,
      "flex": null,
      "flex_flow": null,
      "grid_area": null,
      "grid_auto_columns": null,
      "grid_auto_flow": null,
      "grid_auto_rows": null,
      "grid_column": null,
      "grid_gap": null,
      "grid_row": null,
      "grid_template_areas": null,
      "grid_template_columns": null,
      "grid_template_rows": null,
      "height": null,
      "justify_content": null,
      "justify_items": null,
      "left": null,
      "margin": null,
      "max_height": null,
      "max_width": null,
      "min_height": null,
      "min_width": null,
      "object_fit": null,
      "object_position": null,
      "order": null,
      "overflow": null,
      "overflow_x": null,
      "overflow_y": null,
      "padding": null,
      "right": null,
      "top": null,
      "visibility": null,
      "width": null
     }
    },
    "8ee82cf12332438ca55d00b26cb115c6": {
     "model_module": "@jupyter-widgets/base",
     "model_module_version": "1.2.0",
     "model_name": "LayoutModel",
     "state": {
      "_model_module": "@jupyter-widgets/base",
      "_model_module_version": "1.2.0",
      "_model_name": "LayoutModel",
      "_view_count": null,
      "_view_module": "@jupyter-widgets/base",
      "_view_module_version": "1.2.0",
      "_view_name": "LayoutView",
      "align_content": null,
      "align_items": null,
      "align_self": null,
      "border": null,
      "bottom": null,
      "display": null,
      "flex": null,
      "flex_flow": null,
      "grid_area": null,
      "grid_auto_columns": null,
      "grid_auto_flow": null,
      "grid_auto_rows": null,
      "grid_column": null,
      "grid_gap": null,
      "grid_row": null,
      "grid_template_areas": null,
      "grid_template_columns": null,
      "grid_template_rows": null,
      "height": null,
      "justify_content": null,
      "justify_items": null,
      "left": null,
      "margin": null,
      "max_height": null,
      "max_width": null,
      "min_height": null,
      "min_width": null,
      "object_fit": null,
      "object_position": null,
      "order": null,
      "overflow": null,
      "overflow_x": null,
      "overflow_y": null,
      "padding": null,
      "right": null,
      "top": null,
      "visibility": null,
      "width": null
     }
    },
    "988e966cb9fe4a4f972a1dd60508c6a2": {
     "model_module": "@jupyter-widgets/controls",
     "model_module_version": "1.5.0",
     "model_name": "DescriptionStyleModel",
     "state": {
      "_model_module": "@jupyter-widgets/controls",
      "_model_module_version": "1.5.0",
      "_model_name": "DescriptionStyleModel",
      "_view_count": null,
      "_view_module": "@jupyter-widgets/base",
      "_view_module_version": "1.2.0",
      "_view_name": "StyleView",
      "description_width": ""
     }
    },
    "9fc7c1c4cf2242af8aac112e605da7ec": {
     "model_module": "@jupyter-widgets/controls",
     "model_module_version": "1.5.0",
     "model_name": "FloatProgressModel",
     "state": {
      "_dom_classes": [],
      "_model_module": "@jupyter-widgets/controls",
      "_model_module_version": "1.5.0",
      "_model_name": "FloatProgressModel",
      "_view_count": null,
      "_view_module": "@jupyter-widgets/controls",
      "_view_module_version": "1.5.0",
      "_view_name": "ProgressView",
      "bar_style": "success",
      "description": "",
      "description_tooltip": null,
      "layout": "IPY_MODEL_b33969486acc4985b467ff77143d113b",
      "max": 750,
      "min": 0,
      "orientation": "horizontal",
      "style": "IPY_MODEL_f3284e9db3ef4252bb9ee442b4d2823d",
      "value": 750
     }
    },
    "a1042a937d5b4e4f8c3e4e8490cd6c2a": {
     "model_module": "@jupyter-widgets/controls",
     "model_module_version": "1.5.0",
     "model_name": "HBoxModel",
     "state": {
      "_dom_classes": [],
      "_model_module": "@jupyter-widgets/controls",
      "_model_module_version": "1.5.0",
      "_model_name": "HBoxModel",
      "_view_count": null,
      "_view_module": "@jupyter-widgets/controls",
      "_view_module_version": "1.5.0",
      "_view_name": "HBoxView",
      "box_style": "",
      "children": [
       "IPY_MODEL_d97c8dc6eab943828663187563738389",
       "IPY_MODEL_568f6af06f30424c80f88c9a565c645f",
       "IPY_MODEL_dda505ac5dd343c988e35b957a0fcc51"
      ],
      "layout": "IPY_MODEL_1e2d5ce9f84949e58dbbc24f1fe32d0a"
     }
    },
    "ab431688a1024c609672636009643196": {
     "model_module": "@jupyter-widgets/base",
     "model_module_version": "1.2.0",
     "model_name": "LayoutModel",
     "state": {
      "_model_module": "@jupyter-widgets/base",
      "_model_module_version": "1.2.0",
      "_model_name": "LayoutModel",
      "_view_count": null,
      "_view_module": "@jupyter-widgets/base",
      "_view_module_version": "1.2.0",
      "_view_name": "LayoutView",
      "align_content": null,
      "align_items": null,
      "align_self": null,
      "border": null,
      "bottom": null,
      "display": null,
      "flex": null,
      "flex_flow": null,
      "grid_area": null,
      "grid_auto_columns": null,
      "grid_auto_flow": null,
      "grid_auto_rows": null,
      "grid_column": null,
      "grid_gap": null,
      "grid_row": null,
      "grid_template_areas": null,
      "grid_template_columns": null,
      "grid_template_rows": null,
      "height": null,
      "justify_content": null,
      "justify_items": null,
      "left": null,
      "margin": null,
      "max_height": null,
      "max_width": null,
      "min_height": null,
      "min_width": null,
      "object_fit": null,
      "object_position": null,
      "order": null,
      "overflow": null,
      "overflow_x": null,
      "overflow_y": null,
      "padding": null,
      "right": null,
      "top": null,
      "visibility": null,
      "width": null
     }
    },
    "b14e64f8dbc140ee8c2ea5e2d1a71fc8": {
     "model_module": "@jupyter-widgets/controls",
     "model_module_version": "1.5.0",
     "model_name": "HTMLModel",
     "state": {
      "_dom_classes": [],
      "_model_module": "@jupyter-widgets/controls",
      "_model_module_version": "1.5.0",
      "_model_name": "HTMLModel",
      "_view_count": null,
      "_view_module": "@jupyter-widgets/controls",
      "_view_module_version": "1.5.0",
      "_view_name": "HTMLView",
      "description": "",
      "description_tooltip": null,
      "layout": "IPY_MODEL_c289c5e1d2b3427c9c60f4453c6ac2b9",
      "placeholder": "​",
      "style": "IPY_MODEL_988e966cb9fe4a4f972a1dd60508c6a2",
      "value": " 250/250 [00:00&lt;00:00, 845.35 examples/s]"
     }
    },
    "b33969486acc4985b467ff77143d113b": {
     "model_module": "@jupyter-widgets/base",
     "model_module_version": "1.2.0",
     "model_name": "LayoutModel",
     "state": {
      "_model_module": "@jupyter-widgets/base",
      "_model_module_version": "1.2.0",
      "_model_name": "LayoutModel",
      "_view_count": null,
      "_view_module": "@jupyter-widgets/base",
      "_view_module_version": "1.2.0",
      "_view_name": "LayoutView",
      "align_content": null,
      "align_items": null,
      "align_self": null,
      "border": null,
      "bottom": null,
      "display": null,
      "flex": null,
      "flex_flow": null,
      "grid_area": null,
      "grid_auto_columns": null,
      "grid_auto_flow": null,
      "grid_auto_rows": null,
      "grid_column": null,
      "grid_gap": null,
      "grid_row": null,
      "grid_template_areas": null,
      "grid_template_columns": null,
      "grid_template_rows": null,
      "height": null,
      "justify_content": null,
      "justify_items": null,
      "left": null,
      "margin": null,
      "max_height": null,
      "max_width": null,
      "min_height": null,
      "min_width": null,
      "object_fit": null,
      "object_position": null,
      "order": null,
      "overflow": null,
      "overflow_x": null,
      "overflow_y": null,
      "padding": null,
      "right": null,
      "top": null,
      "visibility": null,
      "width": null
     }
    },
    "bde66a04a379442c817316555aa134e3": {
     "model_module": "@jupyter-widgets/base",
     "model_module_version": "1.2.0",
     "model_name": "LayoutModel",
     "state": {
      "_model_module": "@jupyter-widgets/base",
      "_model_module_version": "1.2.0",
      "_model_name": "LayoutModel",
      "_view_count": null,
      "_view_module": "@jupyter-widgets/base",
      "_view_module_version": "1.2.0",
      "_view_name": "LayoutView",
      "align_content": null,
      "align_items": null,
      "align_self": null,
      "border": null,
      "bottom": null,
      "display": null,
      "flex": null,
      "flex_flow": null,
      "grid_area": null,
      "grid_auto_columns": null,
      "grid_auto_flow": null,
      "grid_auto_rows": null,
      "grid_column": null,
      "grid_gap": null,
      "grid_row": null,
      "grid_template_areas": null,
      "grid_template_columns": null,
      "grid_template_rows": null,
      "height": null,
      "justify_content": null,
      "justify_items": null,
      "left": null,
      "margin": null,
      "max_height": null,
      "max_width": null,
      "min_height": null,
      "min_width": null,
      "object_fit": null,
      "object_position": null,
      "order": null,
      "overflow": null,
      "overflow_x": null,
      "overflow_y": null,
      "padding": null,
      "right": null,
      "top": null,
      "visibility": null,
      "width": null
     }
    },
    "c289c5e1d2b3427c9c60f4453c6ac2b9": {
     "model_module": "@jupyter-widgets/base",
     "model_module_version": "1.2.0",
     "model_name": "LayoutModel",
     "state": {
      "_model_module": "@jupyter-widgets/base",
      "_model_module_version": "1.2.0",
      "_model_name": "LayoutModel",
      "_view_count": null,
      "_view_module": "@jupyter-widgets/base",
      "_view_module_version": "1.2.0",
      "_view_name": "LayoutView",
      "align_content": null,
      "align_items": null,
      "align_self": null,
      "border": null,
      "bottom": null,
      "display": null,
      "flex": null,
      "flex_flow": null,
      "grid_area": null,
      "grid_auto_columns": null,
      "grid_auto_flow": null,
      "grid_auto_rows": null,
      "grid_column": null,
      "grid_gap": null,
      "grid_row": null,
      "grid_template_areas": null,
      "grid_template_columns": null,
      "grid_template_rows": null,
      "height": null,
      "justify_content": null,
      "justify_items": null,
      "left": null,
      "margin": null,
      "max_height": null,
      "max_width": null,
      "min_height": null,
      "min_width": null,
      "object_fit": null,
      "object_position": null,
      "order": null,
      "overflow": null,
      "overflow_x": null,
      "overflow_y": null,
      "padding": null,
      "right": null,
      "top": null,
      "visibility": null,
      "width": null
     }
    },
    "c2967c6b79154153beafd0cea993f0b6": {
     "model_module": "@jupyter-widgets/controls",
     "model_module_version": "1.5.0",
     "model_name": "DescriptionStyleModel",
     "state": {
      "_model_module": "@jupyter-widgets/controls",
      "_model_module_version": "1.5.0",
      "_model_name": "DescriptionStyleModel",
      "_view_count": null,
      "_view_module": "@jupyter-widgets/base",
      "_view_module_version": "1.2.0",
      "_view_name": "StyleView",
      "description_width": ""
     }
    },
    "ce66c56a8f854a85abf59120047d00d1": {
     "model_module": "@jupyter-widgets/base",
     "model_module_version": "1.2.0",
     "model_name": "LayoutModel",
     "state": {
      "_model_module": "@jupyter-widgets/base",
      "_model_module_version": "1.2.0",
      "_model_name": "LayoutModel",
      "_view_count": null,
      "_view_module": "@jupyter-widgets/base",
      "_view_module_version": "1.2.0",
      "_view_name": "LayoutView",
      "align_content": null,
      "align_items": null,
      "align_self": null,
      "border": null,
      "bottom": null,
      "display": null,
      "flex": null,
      "flex_flow": null,
      "grid_area": null,
      "grid_auto_columns": null,
      "grid_auto_flow": null,
      "grid_auto_rows": null,
      "grid_column": null,
      "grid_gap": null,
      "grid_row": null,
      "grid_template_areas": null,
      "grid_template_columns": null,
      "grid_template_rows": null,
      "height": null,
      "justify_content": null,
      "justify_items": null,
      "left": null,
      "margin": null,
      "max_height": null,
      "max_width": null,
      "min_height": null,
      "min_width": null,
      "object_fit": null,
      "object_position": null,
      "order": null,
      "overflow": null,
      "overflow_x": null,
      "overflow_y": null,
      "padding": null,
      "right": null,
      "top": null,
      "visibility": null,
      "width": null
     }
    },
    "d02bc8f0553c4e31b534ee4d428a5d3e": {
     "model_module": "@jupyter-widgets/controls",
     "model_module_version": "1.5.0",
     "model_name": "ProgressStyleModel",
     "state": {
      "_model_module": "@jupyter-widgets/controls",
      "_model_module_version": "1.5.0",
      "_model_name": "ProgressStyleModel",
      "_view_count": null,
      "_view_module": "@jupyter-widgets/base",
      "_view_module_version": "1.2.0",
      "_view_name": "StyleView",
      "bar_color": null,
      "description_width": ""
     }
    },
    "d4cec7272fc14b42a0adbb21452334a4": {
     "model_module": "@jupyter-widgets/base",
     "model_module_version": "1.2.0",
     "model_name": "LayoutModel",
     "state": {
      "_model_module": "@jupyter-widgets/base",
      "_model_module_version": "1.2.0",
      "_model_name": "LayoutModel",
      "_view_count": null,
      "_view_module": "@jupyter-widgets/base",
      "_view_module_version": "1.2.0",
      "_view_name": "LayoutView",
      "align_content": null,
      "align_items": null,
      "align_self": null,
      "border": null,
      "bottom": null,
      "display": null,
      "flex": null,
      "flex_flow": null,
      "grid_area": null,
      "grid_auto_columns": null,
      "grid_auto_flow": null,
      "grid_auto_rows": null,
      "grid_column": null,
      "grid_gap": null,
      "grid_row": null,
      "grid_template_areas": null,
      "grid_template_columns": null,
      "grid_template_rows": null,
      "height": null,
      "justify_content": null,
      "justify_items": null,
      "left": null,
      "margin": null,
      "max_height": null,
      "max_width": null,
      "min_height": null,
      "min_width": null,
      "object_fit": null,
      "object_position": null,
      "order": null,
      "overflow": null,
      "overflow_x": null,
      "overflow_y": null,
      "padding": null,
      "right": null,
      "top": null,
      "visibility": null,
      "width": null
     }
    },
    "d97c8dc6eab943828663187563738389": {
     "model_module": "@jupyter-widgets/controls",
     "model_module_version": "1.5.0",
     "model_name": "HTMLModel",
     "state": {
      "_dom_classes": [],
      "_model_module": "@jupyter-widgets/controls",
      "_model_module_version": "1.5.0",
      "_model_name": "HTMLModel",
      "_view_count": null,
      "_view_module": "@jupyter-widgets/controls",
      "_view_module_version": "1.5.0",
      "_view_name": "HTMLView",
      "description": "",
      "description_tooltip": null,
      "layout": "IPY_MODEL_370b48075469423daa2045599aded7db",
      "placeholder": "​",
      "style": "IPY_MODEL_c2967c6b79154153beafd0cea993f0b6",
      "value": "100%"
     }
    },
    "dda505ac5dd343c988e35b957a0fcc51": {
     "model_module": "@jupyter-widgets/controls",
     "model_module_version": "1.5.0",
     "model_name": "HTMLModel",
     "state": {
      "_dom_classes": [],
      "_model_module": "@jupyter-widgets/controls",
      "_model_module_version": "1.5.0",
      "_model_name": "HTMLModel",
      "_view_count": null,
      "_view_module": "@jupyter-widgets/controls",
      "_view_module_version": "1.5.0",
      "_view_name": "HTMLView",
      "description": "",
      "description_tooltip": null,
      "layout": "IPY_MODEL_d4cec7272fc14b42a0adbb21452334a4",
      "placeholder": "​",
      "style": "IPY_MODEL_efb97c80da214c648d2c0240af3b0bba",
      "value": " 5/5 [00:07&lt;00:00,  1.47s/it]"
     }
    },
    "efb97c80da214c648d2c0240af3b0bba": {
     "model_module": "@jupyter-widgets/controls",
     "model_module_version": "1.5.0",
     "model_name": "DescriptionStyleModel",
     "state": {
      "_model_module": "@jupyter-widgets/controls",
      "_model_module_version": "1.5.0",
      "_model_name": "DescriptionStyleModel",
      "_view_count": null,
      "_view_module": "@jupyter-widgets/base",
      "_view_module_version": "1.2.0",
      "_view_name": "StyleView",
      "description_width": ""
     }
    },
    "f3284e9db3ef4252bb9ee442b4d2823d": {
     "model_module": "@jupyter-widgets/controls",
     "model_module_version": "1.5.0",
     "model_name": "ProgressStyleModel",
     "state": {
      "_model_module": "@jupyter-widgets/controls",
      "_model_module_version": "1.5.0",
      "_model_name": "ProgressStyleModel",
      "_view_count": null,
      "_view_module": "@jupyter-widgets/base",
      "_view_module_version": "1.2.0",
      "_view_name": "StyleView",
      "bar_color": null,
      "description_width": ""
     }
    },
    "f92a04aeadb94668927a5bc954c9ca53": {
     "model_module": "@jupyter-widgets/controls",
     "model_module_version": "1.5.0",
     "model_name": "DescriptionStyleModel",
     "state": {
      "_model_module": "@jupyter-widgets/controls",
      "_model_module_version": "1.5.0",
      "_model_name": "DescriptionStyleModel",
      "_view_count": null,
      "_view_module": "@jupyter-widgets/base",
      "_view_module_version": "1.2.0",
      "_view_name": "StyleView",
      "description_width": ""
     }
    },
    "fe6a5a29c3c542cfbfe93c7c81a1d276": {
     "model_module": "@jupyter-widgets/controls",
     "model_module_version": "1.5.0",
     "model_name": "DescriptionStyleModel",
     "state": {
      "_model_module": "@jupyter-widgets/controls",
      "_model_module_version": "1.5.0",
      "_model_name": "DescriptionStyleModel",
      "_view_count": null,
      "_view_module": "@jupyter-widgets/base",
      "_view_module_version": "1.2.0",
      "_view_name": "StyleView",
      "description_width": ""
     }
    }
   }
  }
 },
 "nbformat": 4,
 "nbformat_minor": 1
}
